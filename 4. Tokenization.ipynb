{
 "cells": [
  {
   "cell_type": "code",
   "execution_count": null,
   "id": "9364d78c-132b-4af2-ac54-45e5944e8c4b",
   "metadata": {},
   "outputs": [],
   "source": []
  },
  {
   "cell_type": "code",
   "execution_count": 1,
   "id": "bb6e3ba9-a64d-42bf-9de7-aaac8ffd5e76",
   "metadata": {},
   "outputs": [
    {
     "data": {
      "text/plain": [
       "\"Hey there, Ninjas! I'm so excited to tell you about NLP. It's super-cool, isn't it? I've been #learning a lot. Follow @NLP for updates. E-mail me at fake_address@email.com\""
      ]
     },
     "execution_count": 1,
     "metadata": {},
     "output_type": "execute_result"
    }
   ],
   "source": [
    "# Define a sample text for exploration\n",
    "sample_text = \"Hey there, Ninjas! I'm so excited to tell you about NLP. It's super-cool, isn't it? I've been #learning a lot. Follow @NLP for updates. E-mail me at fake_address@email.com\"\n",
    "sample_text"
   ]
  },
  {
   "cell_type": "code",
   "execution_count": 2,
   "id": "9f2dc3a7-553a-450e-b393-9f928afb90c1",
   "metadata": {},
   "outputs": [
    {
     "data": {
      "text/plain": [
       "\"hey there, ninjas! i'm so excited to tell you about nlp. it's super-cool, isn't it? i've been #learning a lot. follow @nlp for updates. e-mail me at fake_address@email.com\""
      ]
     },
     "execution_count": 2,
     "metadata": {},
     "output_type": "execute_result"
    }
   ],
   "source": [
    "# Inspect lowercase text\n",
    "sample_text.lower()"
   ]
  },
  {
   "cell_type": "code",
   "execution_count": 3,
   "id": "f78d343d-5230-4e90-997a-ffd052340b84",
   "metadata": {},
   "outputs": [
    {
     "name": "stdout",
     "output_type": "stream",
     "text": [
      "Whitespace tokens: \n",
      " ['hey', 'there,', 'ninjas!', \"i'm\", 'so', 'excited', 'to', 'tell', 'you', 'about', 'nlp.', \"it's\", 'super-cool,', \"isn't\", 'it?', \"i've\", 'been', '#learning', 'a', 'lot.', 'follow', '@nlp', 'for', 'updates.', 'e-mail', 'me', 'at', 'fake_address@email.com']\n"
     ]
    }
   ],
   "source": [
    "# Whitespace Tokenization\n",
    "whitespace_tokens = sample_text.lower().split()\n",
    "# Print tokens\n",
    "print('Whitespace tokens: \\n',whitespace_tokens)"
   ]
  },
  {
   "cell_type": "code",
   "execution_count": 4,
   "id": "ae756bda-67d8-4a58-baf9-a281625bcf61",
   "metadata": {},
   "outputs": [
    {
     "data": {
      "text/plain": [
       "['hey',\n",
       " 'there,',\n",
       " 'ninjas!',\n",
       " \"i'm\",\n",
       " 'so',\n",
       " 'excited',\n",
       " 'to',\n",
       " 'tell',\n",
       " 'you',\n",
       " 'about']"
      ]
     },
     "execution_count": 4,
     "metadata": {},
     "output_type": "execute_result"
    }
   ],
   "source": [
    "# To more easily see each token, display instead of print\n",
    "whitespace_tokens[:10]"
   ]
  },
  {
   "cell_type": "code",
   "execution_count": 5,
   "id": "de52325d-349b-4c54-905e-207fc608c9d4",
   "metadata": {},
   "outputs": [],
   "source": [
    "# Tokenization with NLTK"
   ]
  },
  {
   "cell_type": "code",
   "execution_count": 10,
   "id": "b1105b0a-0b2b-4021-9567-780034d3b7e8",
   "metadata": {},
   "outputs": [
    {
     "name": "stdout",
     "output_type": "stream",
     "text": [
      "Original text: \n",
      " Hey there, Ninjas! I'm so excited to tell you about NLP. It's super-cool, isn't it? I've been #learning a lot. Follow @NLP for updates. E-mail me at fake_address@email.com \n",
      "\n",
      "\n",
      "Word tokens: \n",
      " ['hey', 'there', ',', 'ninjas', '!', 'i', \"'m\", 'so', 'excited', 'to', 'tell', 'you', 'about', 'nlp', '.', 'it', \"'s\", 'super-cool', ',', 'is', \"n't\", 'it', '?', 'i', \"'ve\", 'been', '#', 'learning', 'a', 'lot', '.', 'follow', '@', 'nlp', 'for', 'updates', '.', 'e-mail', 'me', 'at', 'fake_address', '@', 'email.com']\n"
     ]
    }
   ],
   "source": [
    "from nltk.tokenize import word_tokenize\n",
    "# NLTK's Word Tokenization\n",
    "word_tokens = word_tokenize(sample_text.lower())\n",
    "print(\"Original text: \\n\", sample_text, '\\n\\n')\n",
    "print('Word tokens: \\n', word_tokens)"
   ]
  },
  {
   "cell_type": "code",
   "execution_count": 11,
   "id": "6f30e18e-5645-4860-85a9-b19627f44adc",
   "metadata": {},
   "outputs": [
    {
     "name": "stdout",
     "output_type": "stream",
     "text": [
      "Original text: \n",
      " Hey there, Ninjas! I'm so excited to tell you about NLP. It's super-cool, isn't it? I've been #learning a lot. Follow @NLP for updates. E-mail me at fake_address@email.com \n",
      "\n",
      "\n",
      "Tweet Tokens: \n",
      " ['hey', 'there', ',', 'ninjas', '!', \"i'm\", 'so', 'excited', 'to', 'tell', 'you', 'about', 'nlp', '.', \"it's\", 'super-cool', ',', \"isn't\", 'it', '?', \"i've\", 'been', '#learning', 'a', 'lot', '.', 'follow', '@nlp', 'for', 'updates', '.', 'e-mail', 'me', 'at', 'fake_address@email.com'] \n",
      "\n"
     ]
    }
   ],
   "source": [
    "from nltk.tokenize import TweetTokenizer\n",
    "# NLTK's Tweet Tokenization\n",
    "tweet_tokenizer = TweetTokenizer()\n",
    "tweet_tokens = tweet_tokenizer.tokenize(sample_text.lower())\n",
    "print(\"Original text: \\n\", sample_text, '\\n\\n')\n",
    "print(f\"Tweet Tokens: \\n\", tweet_tokens,'\\n')"
   ]
  },
  {
   "cell_type": "code",
   "execution_count": 12,
   "id": "35367fd3-2386-4956-9569-4fcfe5d1b4a0",
   "metadata": {},
   "outputs": [
    {
     "data": {
      "text/plain": [
       "[('hey', 'there'),\n",
       " ('there', ','),\n",
       " (',', 'ninjas'),\n",
       " ('ninjas', '!'),\n",
       " ('!', \"i'm\"),\n",
       " (\"i'm\", 'so'),\n",
       " ('so', 'excited'),\n",
       " ('excited', 'to'),\n",
       " ('to', 'tell'),\n",
       " ('tell', 'you'),\n",
       " ('you', 'about'),\n",
       " ('about', 'nlp'),\n",
       " ('nlp', '.'),\n",
       " ('.', \"it's\"),\n",
       " (\"it's\", 'super-cool'),\n",
       " ('super-cool', ','),\n",
       " (',', \"isn't\"),\n",
       " (\"isn't\", 'it'),\n",
       " ('it', '?'),\n",
       " ('?', \"i've\"),\n",
       " (\"i've\", 'been'),\n",
       " ('been', '#learning'),\n",
       " ('#learning', 'a'),\n",
       " ('a', 'lot'),\n",
       " ('lot', '.'),\n",
       " ('.', 'follow'),\n",
       " ('follow', '@nlp'),\n",
       " ('@nlp', 'for'),\n",
       " ('for', 'updates'),\n",
       " ('updates', '.'),\n",
       " ('.', 'e-mail'),\n",
       " ('e-mail', 'me'),\n",
       " ('me', 'at'),\n",
       " ('at', 'fake_address@email.com')]"
      ]
     },
     "execution_count": 12,
     "metadata": {},
     "output_type": "execute_result"
    }
   ],
   "source": [
    "from nltk import ngrams\n",
    "# Define bigrams\n",
    "bigrams = ngrams(tweet_tokens, 2)\n",
    "# display bigrams\n",
    "list(bigrams)"
   ]
  },
  {
   "cell_type": "code",
   "execution_count": 13,
   "id": "ff1603a5-8749-4dde-9714-05f28e3a94c2",
   "metadata": {},
   "outputs": [
    {
     "data": {
      "text/plain": [
       "[('hey', 'there', ','),\n",
       " ('there', ',', 'ninjas'),\n",
       " (',', 'ninjas', '!'),\n",
       " ('ninjas', '!', \"i'm\"),\n",
       " ('!', \"i'm\", 'so'),\n",
       " (\"i'm\", 'so', 'excited'),\n",
       " ('so', 'excited', 'to'),\n",
       " ('excited', 'to', 'tell'),\n",
       " ('to', 'tell', 'you'),\n",
       " ('tell', 'you', 'about'),\n",
       " ('you', 'about', 'nlp'),\n",
       " ('about', 'nlp', '.'),\n",
       " ('nlp', '.', \"it's\"),\n",
       " ('.', \"it's\", 'super-cool'),\n",
       " (\"it's\", 'super-cool', ','),\n",
       " ('super-cool', ',', \"isn't\"),\n",
       " (',', \"isn't\", 'it'),\n",
       " (\"isn't\", 'it', '?'),\n",
       " ('it', '?', \"i've\"),\n",
       " ('?', \"i've\", 'been'),\n",
       " (\"i've\", 'been', '#learning'),\n",
       " ('been', '#learning', 'a'),\n",
       " ('#learning', 'a', 'lot'),\n",
       " ('a', 'lot', '.'),\n",
       " ('lot', '.', 'follow'),\n",
       " ('.', 'follow', '@nlp'),\n",
       " ('follow', '@nlp', 'for'),\n",
       " ('@nlp', 'for', 'updates'),\n",
       " ('for', 'updates', '.'),\n",
       " ('updates', '.', 'e-mail'),\n",
       " ('.', 'e-mail', 'me'),\n",
       " ('e-mail', 'me', 'at'),\n",
       " ('me', 'at', 'fake_address@email.com')]"
      ]
     },
     "execution_count": 13,
     "metadata": {},
     "output_type": "execute_result"
    }
   ],
   "source": [
    "# define trigrams\n",
    "trigrams = ngrams(tweet_tokens, 3)\n",
    "# display trigrams\n",
    "list(trigrams)"
   ]
  }
 ],
 "metadata": {
  "kernelspec": {
   "display_name": "Python (dojo-env)",
   "language": "python",
   "name": "dojo-env"
  },
  "language_info": {
   "codemirror_mode": {
    "name": "ipython",
    "version": 3
   },
   "file_extension": ".py",
   "mimetype": "text/x-python",
   "name": "python",
   "nbconvert_exporter": "python",
   "pygments_lexer": "ipython3",
   "version": "3.10.10"
  }
 },
 "nbformat": 4,
 "nbformat_minor": 5
}
