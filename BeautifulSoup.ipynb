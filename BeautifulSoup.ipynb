{
 "cells": [
  {
   "cell_type": "code",
   "execution_count": 1,
   "id": "96011bfb-751c-4dc7-b46c-da384166a008",
   "metadata": {},
   "outputs": [
    {
     "data": {
      "text/plain": [
       "requests.models.Response"
      ]
     },
     "execution_count": 1,
     "metadata": {},
     "output_type": "execute_result"
    }
   ],
   "source": [
    "import requests\n",
    "url = 'https://www.codingdojo.com'\n",
    "response = requests.get(url)\n",
    "type(response)"
   ]
  },
  {
   "cell_type": "code",
   "execution_count": 2,
   "id": "5ea51ae4-8aef-4917-8beb-e5d9a13db825",
   "metadata": {},
   "outputs": [
    {
     "data": {
      "text/plain": [
       "200"
      ]
     },
     "execution_count": 2,
     "metadata": {},
     "output_type": "execute_result"
    }
   ],
   "source": [
    "# Obtain the status code of the response\n",
    "response.status_code"
   ]
  },
  {
   "cell_type": "code",
   "execution_count": 3,
   "id": "be929f7f-c684-476b-aa67-ddb6e8420d94",
   "metadata": {},
   "outputs": [
    {
     "name": "stdout",
     "output_type": "stream",
     "text": [
      "Success!\n"
     ]
    }
   ],
   "source": [
    "# Check if the request was successful\n",
    "if response.status_code == 200:\n",
    "    print(\"Success!\")\n",
    "else:\n",
    "    print(\"An error occurred.\")"
   ]
  },
  {
   "cell_type": "code",
   "execution_count": 4,
   "id": "d9db9b34-2fda-4a00-bc67-b550663ad0f2",
   "metadata": {},
   "outputs": [
    {
     "data": {
      "text/plain": [
       "\"{'Date': 'Fri, 19 Apr 2024 04:57:38 GMT', 'Content-Type': 'text/html; charset=UTF-8', 'Transfer-Enco\""
      ]
     },
     "execution_count": 4,
     "metadata": {},
     "output_type": "execute_result"
    }
   ],
   "source": [
    "# Obtain headers from response (First 100 chars)\n",
    "str(response.headers)[:100]"
   ]
  },
  {
   "cell_type": "code",
   "execution_count": 5,
   "id": "1689d1ce-ba8a-4298-9168-8d567603edb9",
   "metadata": {},
   "outputs": [
    {
     "data": {
      "text/plain": [
       "'https://www.codingdojo.com/'"
      ]
     },
     "execution_count": 5,
     "metadata": {},
     "output_type": "execute_result"
    }
   ],
   "source": [
    "# Obtain final url from response\n",
    "response.url"
   ]
  },
  {
   "cell_type": "code",
   "execution_count": 6,
   "id": "0f5e78c1-f258-4c96-ab82-ef433579fbc1",
   "metadata": {},
   "outputs": [
    {
     "data": {
      "text/plain": [
       "'UTF-8'"
      ]
     },
     "execution_count": 6,
     "metadata": {},
     "output_type": "execute_result"
    }
   ],
   "source": [
    "# Obtain encoding from response\n",
    "response.encoding"
   ]
  },
  {
   "cell_type": "code",
   "execution_count": 7,
   "id": "e47b9ac9-d3d6-44a5-b5e0-6255028c3b71",
   "metadata": {},
   "outputs": [
    {
     "data": {
      "text/plain": [
       "b'<!DOCTYPE html>\\n<html lang=\"en\">\\n    <head>\\n        <title>Coding Dojo - Software Development Coding Bootcamp</title>\\n        <link rel=\"shortcut icon\" href=\"https://cutecdn.codingdojo.com/images/global/cd_profile_icon_favicon.ico\" type=\"image/x-icon\">\\n        <meta charset=\"utf-8\">\\n        <meta http-equiv=\"X-UA-Compatible\" content=\"IE=edge\">\\n        <meta name=\"viewport\" content=\"width=device-width, initial-scale=1 minimum-scale=1.0\">\\n        <meta name=\"description\" property=\"og:description\" '"
      ]
     },
     "execution_count": 7,
     "metadata": {},
     "output_type": "execute_result"
    }
   ],
   "source": [
    "# Obtain content from response\n",
    "response.content[:500]"
   ]
  },
  {
   "cell_type": "code",
   "execution_count": 8,
   "id": "0c1ccab3-8fe0-4b18-8796-bc080f8ebdc6",
   "metadata": {},
   "outputs": [
    {
     "name": "stdout",
     "output_type": "stream",
     "text": [
      "<!DOCTYPE html>\n",
      "<html lang=\"en\">\n",
      " <head>\n",
      "  <title>\n",
      "   Coding Dojo - Software Development Coding Bootcamp\n",
      "  </title>\n",
      "  <link href=\"https://cutecdn.codingdojo.com/images/global/cd_profile_icon_favicon.ico\" rel=\"shortcut icon\" type=\"image/x-icon\"/>\n",
      "  <meta charset=\"utf-8\"/>\n",
      "  <meta content=\"IE=edge\" http-equiv=\"X-UA-Compatible\"/>\n",
      "  <meta content=\"width=device-width, initial-scale=1 minimum-scale=1.0\" name=\"viewport\"/>\n",
      "  <meta content=\"Interested in starting your new career in tech? Learn to code at one of the top coding bootcamps. Build your first website and app in a matter of weeks. We teach Python, Java, .NET, iOS, Javascript and more. Online learning options and scholarships available. Learn more today!\" name=\"description\" property=\"og:description\"/>\n",
      "  <meta content=\"Coding Dojo - Software Development Coding Bootcamp\" name=\"title\" property=\"og:title\"/>\n",
      "  <meta content=\"\" name=\"author\"/>\n",
      "  <link href=\"https://www.codingdojo.com/\" rel=\"canonical\"/>\n",
      "  <link href=\"https://bat.bing\" rel=\"dns-prefetch\"/>\n",
      "  <link href=\"https://a.omappapi.com\" rel=\"dns-prefetch\"/>\n",
      "  <link href=\"https://global.localizecdn.com\" rel=\"dns-prefetch\"/>\n",
      "  <link href=\"https://player.vimeo.com/\" rel=\"dns-prefetch\"/>\n",
      "  <link href=\"https://static.hsappstatic.net\" rel=\"dns-prefetch\"/>\n",
      "  <link href=\"https://www.clarity.ms\" rel=\"dns-prefetch\"/>\n",
      "  <link href=\"https://cdn.codingdojo.com\" rel=\"preconnect\"/>\n",
      "  <link href=\"https://cdn2.codingdojo.com\" rel=\"preconnect\"/>\n",
      "  <link href=\"https://cutecdn.codingdojo.com\" rel=\"preconnect\"/>\n",
      "  <link href=\"https://js.intercomcdn.com\" rel=\"preconnect\"/>\n",
      "  <link href=\"https://metrics.codingdojo.com\" rel=\"preconnect\"/>\n",
      "  <link href=\"https://cdn.codingdojo.com\" rel=\"dns-prefetch\"/>\n",
      "  <link href=\"https://cdn2.codingdojo.com\" rel=\"dns-prefetch\"/>\n",
      "  <link href=\"https://cutecdn.codingdojo.com\" rel=\"dns-prefetch\"/>\n",
      "  <link href=\"https://js.intercomcdn.com\" rel=\"dns-prefetch\"/>\n",
      "  <link href=\"https://metrics.codingdojo.com\" rel=\"dns-prefetch\"/>\n",
      "  <link as=\"font\" href=\"https://c\n"
     ]
    }
   ],
   "source": [
    "# Creating a Soup Object\n",
    "\n",
    "from bs4 import BeautifulSoup\n",
    "# Use BeautifulSoup to parse the HTML content\n",
    "soup = BeautifulSoup(response.content)\n",
    "# Using .prettify() to view the parsed HTML structure in a readable format\n",
    "print(soup.prettify()[:2000])"
   ]
  },
  {
   "cell_type": "code",
   "execution_count": 9,
   "id": "5b1392f2-c2ef-44a5-be06-8c5746673a32",
   "metadata": {},
   "outputs": [
    {
     "data": {
      "text/plain": [
       "<title>Coding Dojo - Software Development Coding Bootcamp</title>"
      ]
     },
     "execution_count": 9,
     "metadata": {},
     "output_type": "execute_result"
    }
   ],
   "source": [
    "## Navigating the Parsed Tree\n",
    "#1 Accessing tags\n",
    "\n",
    "soup.title"
   ]
  },
  {
   "cell_type": "code",
   "execution_count": 10,
   "id": "7c5203c1-4d93-4aec-97d1-96a295f7c06a",
   "metadata": {},
   "outputs": [
    {
     "data": {
      "text/plain": [
       "<head>\n",
       "<title>Coding Dojo - Software Development Coding Bootcamp</title>\n",
       "<link href=\"https://cutecdn.codingdojo.com/images/global/cd_profile_icon_favicon.ico\" rel=\"shortcut icon\" type=\"image/x-icon\"/>\n",
       "<meta charset=\"utf-8\"/>\n",
       "<meta content=\"IE=edge\" http-equiv=\"X-UA-Compatible\"/>\n",
       "<meta content=\"width=device-width, initial-scale=1 minimum-scale=1.0\" name=\"viewport\"/>\n",
       "<meta content=\"Interested in starting your new career in tech? Learn to code at one of the top coding bootcamps. Build your first website and app in a matter of weeks. We teach Python, Java, .NET, iOS, Javascript and more. Online learning options and scholarships available. Learn more today!\" name=\"description\" property=\"og:description\"/>\n",
       "<meta content=\"Coding Dojo - Software Development Coding Bootcamp\" name=\"title\" property=\"og:title\"/>\n",
       "<meta content=\"\" name=\"author\"/>\n",
       "<link href=\"https://www.codingdojo.com/\" rel=\"canonical\"/>\n",
       "<link href=\"https://bat.bing\" rel=\"dns-prefetch\"/>\n",
       "<link href=\"https://a.omappapi.com\" rel=\"dns-prefetch\"/>\n",
       "<link href=\"https://global.localizecdn.com\" rel=\"dns-prefetch\"/>\n",
       "<link href=\"https://player.vimeo.com/\" rel=\"dns-prefetch\"/>\n",
       "<link href=\"https://static.hsappstatic.net\" rel=\"dns-prefetch\"/>\n",
       "<link href=\"https://www.clarity.ms\" rel=\"dns-prefetch\"/>\n",
       "<link href=\"https://cdn.codingdojo.com\" rel=\"preconnect\"/>\n",
       "<link href=\"https://cdn2.codingdojo.com\" rel=\"preconnect\"/>\n",
       "<link href=\"https://cutecdn.codingdojo.com\" rel=\"preconnect\"/>\n",
       "<link href=\"https://js.intercomcdn.com\" rel=\"preconnect\"/>\n",
       "<link href=\"https://metrics.codingdojo.com\" rel=\"preconnect\"/>\n",
       "<link href=\"https://cdn.codingdojo.com\" rel=\"dns-prefetch\"/>\n",
       "<link href=\"https://cdn2.codingdojo.com\" rel=\"dns-prefetch\"/>\n",
       "<link href=\"https://cutecdn.codingdojo.com\" rel=\"dns-prefetch\"/>\n",
       "<link href=\"https://js.intercomcdn.com\" rel=\"dns-prefetch\"/>\n",
       "<link href=\"https://metrics.codingdojo.com\" rel=\"dns-prefetch\"/>\n",
       "<link as=\"font\" href=\"https://cutecdn.codingdojo.com/css/vendors/MyFontsWebfontsKit.min.css\" rel=\"preload\"/>\n",
       "<!-- Google Tag Manager -->\n",
       "<script>(function(w,d,s,l,i){w[l]=w[l]||[];w[l].push({'gtm.start':new Date().getTime(),event:'gtm.js'});var f=d.getElementsByTagName(s)[0],j=d.createElement(s),dl=l!='dataLayer'?'&l='+l:'';j.async=true;j.src='https://metrics.codingdojo.com/gtm.js?id='+i+dl;f.parentNode.insertBefore(j,f);})(window,document,'script','dataLayer','GTM-PPFN88D');</script>\n",
       "<!-- End Google Tag Manager -->\n",
       "<!-- Detect if user has blocked tracking pixels -->\n",
       "<script type=\"text/javascript\">window.addEventListener(\"load\",function(){var e=new Date;e.setTime(e.getTime()+36e5);window.google_tag_manager?(console.log(\"Google Tag Manager is loaded\"),document.cookie=\"is_gtm_blocked=false;expires=\"+e+\";path=/;secure;\"):(console.log(\"Google Tag Manager is not loaded\"),document.cookie=\"is_gtm_blocked=true;expires=\"+e+\";path=/;secure;\")},!1);</script>\n",
       "<!-- eof Detect if user has blocked GTM  -->\n",
       "<!-- Sentry IO-->\n",
       "<script crossorigin=\"anonymous\" integrity=\"sha384-wF7Jc4ZlWVxe/L8Ji3hOIBeTgo/HwFuaeEfjGmS3EXAG7Y+7Kjjr91gJpJtr+PAT\" src=\"https://browser.sentry-cdn.com/5.15.5/bundle.min.js\"></script>\n",
       "<script>let project_environment = \"production\";</script>\n",
       "<script src=\"https://cutecdn.codingdojo.com/js/custom/coding_dojo_sentry_script.js\"></script>\n",
       "<!--End of sentry IO-->\n",
       "<script> var nearest_campus = \"\"; const page = \"home\";</script>\n",
       "<link href=\"https://cdn.codingdojo.com/assets/new_designs/css/minify/latest_optimize_top_home_minify.min.css?v=6.11.1\" media=\"all\" rel=\"stylesheet\"/>\n",
       "<link href=\"https://cdn.codingdojo.com/assets/new_designs/css/minify/latest_optimize_below_home_minify.min.css?v=6.11.1\" media=\"all\" rel=\"stylesheet\"/>\n",
       "<!-- Structured Data Mark-up Schema -->\n",
       "</head>"
      ]
     },
     "execution_count": 10,
     "metadata": {},
     "output_type": "execute_result"
    }
   ],
   "source": [
    "soup.head"
   ]
  },
  {
   "cell_type": "code",
   "execution_count": 11,
   "id": "26835cb8-eac0-4850-8607-1f3426adf539",
   "metadata": {},
   "outputs": [
    {
     "name": "stdout",
     "output_type": "stream",
     "text": [
      "<body class=\"home main-content-wrap\">\n",
      " <!-- Google Tag Manager (noscript) -->\n",
      " <noscript>\n",
      "  <iframe height=\"0\" src=\"https://metrics.codingdojo.com/ns.html?id=GTM-PPFN88D\" style=\"display:none;visibility:hidden\" width=\"0\">\n",
      "  </iframe>\n",
      " </noscript>\n",
      " <!-- End Google Tag Manager (noscript) -->\n",
      " <!-- New Admission Process 2.0 -->\n",
      " <div class=\"header_block home\" id=\"header_box\">\n",
      "  <div class=\"\" id=\"main_nav_container\">\n",
      "   <ul id=\"user_type_list\">\n",
      "    <li>\n",
      "     <span class=\"dropdown_title enterprise\">\n",
      "      For Enterprise\n",
      "     </span>\n",
      "     <div class=\"dropdown_menu\" id=\"enterprise_list\">\n",
      "      <ul>\n",
      "       <li>\n",
      "        <h4>\n",
      "         FOR BUSINESS\n",
      "        </h4>\n",
      "        <div>\n",
      "         <a href=\"/corporate-training\">\n",
      "          Corporate Training\n",
      "         </a>\n",
      "        </div>\n",
      "       </li>\n",
      "      </ul>\n",
      "     </div>\n",
      "    </li>\n",
      "    <li>\n",
      "     <a href=\"https://login.codingdojo.com/\" target=\"_blank\">\n",
      "      Student Login\n",
      "     </a>\n",
      "    </li>\n",
      "   </ul>\n",
      "   <div class=\"main_nav_block\">\n",
      "    <a class=\"cd_logo uses_spr\n"
     ]
    }
   ],
   "source": [
    "print(soup.body.prettify()[:1000])"
   ]
  },
  {
   "cell_type": "code",
   "execution_count": 12,
   "id": "7af9b459-1f54-4a90-92cd-8b21a0ca09fa",
   "metadata": {},
   "outputs": [
    {
     "name": "stdout",
     "output_type": "stream",
     "text": [
      "Coding Dojo - Software Development Coding Bootcamp\n"
     ]
    }
   ],
   "source": [
    "#2 Accessing tag content\n",
    "\n",
    "print(soup.title.text)"
   ]
  },
  {
   "cell_type": "code",
   "execution_count": 14,
   "id": "900b16c3-e77e-48b1-84fe-2278d8d9c2b0",
   "metadata": {},
   "outputs": [
    {
     "data": {
      "text/plain": [
       "'/corporate-training'"
      ]
     },
     "execution_count": 14,
     "metadata": {},
     "output_type": "execute_result"
    }
   ],
   "source": [
    "#3 Access tag attribute\n",
    "\n",
    "soup.a['href']"
   ]
  },
  {
   "cell_type": "code",
   "execution_count": 15,
   "id": "78eb3025-ec37-4a6c-a936-96550459e608",
   "metadata": {},
   "outputs": [
    {
     "data": {
      "text/plain": [
       "8"
      ]
     },
     "execution_count": 15,
     "metadata": {},
     "output_type": "execute_result"
    }
   ],
   "source": [
    "#4 Searching the tree \n",
    "\n",
    "# find all h2 tags\n",
    "found_h2_tags = soup.find_all('h2')\n",
    "len(found_h2_tags)"
   ]
  },
  {
   "cell_type": "code",
   "execution_count": 16,
   "id": "31274d96-b3e3-4d04-a5cc-c1128d91e828",
   "metadata": {},
   "outputs": [
    {
     "data": {
      "text/plain": [
       "[<h2>Learn digital skills to enhance your career path</h2>,\n",
       " <h2>Redefine Possible</h2>,\n",
       " <h2>Discover our Bootcamps</h2>,\n",
       " <h2>Have questions?</h2>,\n",
       " <h2>Frequently Asked Questions</h2>,\n",
       " <h2>Download Our Master Course Packet</h2>,\n",
       " <h2>Redefine Your Possible</h2>,\n",
       " <h2>Reservation complete</h2>]"
      ]
     },
     "execution_count": 16,
     "metadata": {},
     "output_type": "execute_result"
    }
   ],
   "source": [
    "# Displaying the h2 tags\n",
    "found_h2_tags"
   ]
  },
  {
   "cell_type": "markdown",
   "id": "9dfad7a1-29ca-477b-b406-fdb535cd6bb6",
   "metadata": {},
   "source": [
    "**Task**"
   ]
  },
  {
   "cell_type": "markdown",
   "id": "d710f890-659d-4463-bae6-a7f418e1f3a7",
   "metadata": {},
   "source": [
    "Now that we have introduced the basics of requests and BeautifulSoup, we will demonstrate how to extract all of the titles from a website. We will use a simple website that was designed for practicing web scraping. It has fake job listings."
   ]
  },
  {
   "cell_type": "code",
   "execution_count": 18,
   "id": "b5886e09-548b-4e40-9185-78e0330f67f3",
   "metadata": {},
   "outputs": [
    {
     "name": "stdout",
     "output_type": "stream",
     "text": [
      "Success!\n"
     ]
    }
   ],
   "source": [
    "# Make request\n",
    "url = 'https://realpython.github.io/fake-jobs/' \n",
    "response = requests.get(url)\n",
    "# Check if the request was successful\n",
    "if response.status_code == 200:\n",
    "    print(\"Success!\")\n",
    "else:\n",
    "    print(\"An error occurred.\")"
   ]
  },
  {
   "cell_type": "code",
   "execution_count": 19,
   "id": "381ebeb6-33e5-4c43-bc3b-1f9092e7d930",
   "metadata": {},
   "outputs": [
    {
     "name": "stdout",
     "output_type": "stream",
     "text": [
      "<body>\n",
      " <section class=\"section\">\n",
      "  <div class=\"container mb-5\">\n",
      "   <h1 class=\"title is-1\">\n",
      "    Fake Python\n",
      "   </h1>\n",
      "   <p class=\"subtitle is-3\">\n",
      "    Fake Jobs for Your Web Scraping Journey\n",
      "   </p>\n",
      "  </div>\n",
      "  <div class=\"container\">\n",
      "   <div class=\"columns is-multiline\" id=\"ResultsContainer\">\n",
      "    <div class=\"column is-half\">\n",
      "     <div class=\"card\">\n",
      "      <div class=\"card-content\">\n",
      "       <div class=\"media\">\n",
      "        <div class=\"media-left\">\n",
      "         <figure class=\"image is-48x48\">\n",
      "          <img a\n"
     ]
    }
   ],
   "source": [
    "# Create soup object with the response content\n",
    "soup = BeautifulSoup(response.content)\n",
    "# Preview content\n",
    "print(soup.body.prettify()[:500])"
   ]
  },
  {
   "cell_type": "code",
   "execution_count": 20,
   "id": "30ccd8e5-3a8e-49c6-8cea-b8abc27e4462",
   "metadata": {},
   "outputs": [
    {
     "name": "stdout",
     "output_type": "stream",
     "text": [
      "\n",
      "        Fake Python\n",
      "      \n",
      "Senior Python Developer\n",
      "Energy engineer\n",
      "Legal executive\n",
      "Fitness centre manager\n",
      "Product manager\n",
      "Medical technical officer\n",
      "Physiological scientist\n",
      "Textile designer\n",
      "Television floor manager\n",
      "Waste management officer\n",
      "Software Engineer (Python)\n",
      "Interpreter\n",
      "Architect\n",
      "Meteorologist\n",
      "Audiological scientist\n",
      "English as a second language teacher\n",
      "Surgeon\n",
      "Equities trader\n",
      "Newspaper journalist\n",
      "Materials engineer\n",
      "Python Programmer (Entry-Level)\n",
      "Product/process development scientist\n",
      "Scientist, research (maths)\n",
      "Ecologist\n",
      "Materials engineer\n",
      "Historic buildings inspector/conservation officer\n",
      "Data scientist\n",
      "Psychiatrist\n",
      "Structural engineer\n",
      "Immigration officer\n",
      "Python Programmer (Entry-Level)\n",
      "Neurosurgeon\n",
      "Broadcast engineer\n",
      "Make\n",
      "Nurse, adult\n",
      "Air broker\n",
      "Editor, film/video\n",
      "Production assistant, radio\n",
      "Engineer, communications\n",
      "Sales executive\n",
      "Software Developer (Python)\n",
      "Futures trader\n",
      "Tour manager\n",
      "Cytogeneticist\n",
      "Designer, multimedia\n",
      "Trade union research officer\n",
      "Chemist, analytical\n",
      "Programmer, multimedia\n",
      "Engineer, broadcasting (operations)\n",
      "Teacher, primary school\n",
      "Python Developer\n",
      "Manufacturing systems engineer\n",
      "Producer, television/film/video\n",
      "Scientist, forensic\n",
      "Bonds trader\n",
      "Editorial assistant\n",
      "Photographer\n",
      "Retail banker\n",
      "Jewellery designer\n",
      "Ophthalmologist\n",
      "Back-End Web Developer (Python, Django)\n",
      "Licensed conveyancer\n",
      "Futures trader\n",
      "Counselling psychologist\n",
      "Insurance underwriter\n",
      "Engineer, automotive\n",
      "Producer, radio\n",
      "Dispensing optician\n",
      "Designer, fashion/clothing\n",
      "Chartered loss adjuster\n",
      "Back-End Web Developer (Python, Django)\n",
      "Forest/woodland manager\n",
      "Clinical cytogeneticist\n",
      "Print production planner\n",
      "Systems developer\n",
      "Graphic designer\n",
      "Writer\n",
      "Field seismologist\n",
      "Chief Strategy Officer\n",
      "Air cabin crew\n",
      "Python Programmer (Entry-Level)\n",
      "Warden/ranger\n",
      "Sports therapist\n",
      "Arts development officer\n",
      "Printmaker\n",
      "Health and safety adviser\n",
      "Manufacturing systems engineer\n",
      "Programmer, applications\n",
      "Medical physicist\n",
      "Media planner\n",
      "Software Developer (Python)\n",
      "Surveyor, land/geomatics\n",
      "Legal executive\n",
      "Librarian, academic\n",
      "Barrister\n",
      "Museum/gallery exhibitions officer\n",
      "Radiographer, diagnostic\n",
      "Database administrator\n",
      "Furniture designer\n",
      "Ship broker\n"
     ]
    }
   ],
   "source": [
    "# Extract and print all titles\n",
    "for title in soup.find_all(['h1', 'h2']):\n",
    "    print(title.get_text())"
   ]
  }
 ],
 "metadata": {
  "kernelspec": {
   "display_name": "Python (dojo-env)",
   "language": "python",
   "name": "dojo-env"
  },
  "language_info": {
   "codemirror_mode": {
    "name": "ipython",
    "version": 3
   },
   "file_extension": ".py",
   "mimetype": "text/x-python",
   "name": "python",
   "nbconvert_exporter": "python",
   "pygments_lexer": "ipython3",
   "version": "3.10.10"
  }
 },
 "nbformat": 4,
 "nbformat_minor": 5
}
