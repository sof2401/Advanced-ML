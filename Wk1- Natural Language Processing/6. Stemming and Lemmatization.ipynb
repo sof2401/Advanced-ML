{
 "cells": [
  {
   "cell_type": "code",
   "execution_count": 1,
   "id": "2717382a-1f0b-456f-a892-9f055454133e",
   "metadata": {},
   "outputs": [],
   "source": [
    "# Stemming"
   ]
  },
  {
   "cell_type": "code",
   "execution_count": 2,
   "id": "afa7f577-d2f3-4071-bb35-f6ac60721bf1",
   "metadata": {},
   "outputs": [
    {
     "name": "stdout",
     "output_type": "stream",
     "text": [
      "Original Words:\n",
      " ['While', 'running', 'in', 'Central', 'Park,', 'I', 'noticed', 'that', 'the', 'constant', 'buzzing', 'of', 'flies', 'was', 'annoying.', 'However,', 'I', \"couldn't\", 'be', 'too', 'upset', 'as', 'they', 'were', 'likely', 'attracted', 'to', 'the', \"McDonald's\", 'food', 'that', 'someone', 'carelessly', 'dropped.', 'I', 'wondered,', \"'How\", 'can', 'they', 'be', 'so', \"uncaring?'\"] \n",
      "\n",
      "\n",
      "Stemmed Words:\n",
      " ['while', 'run', 'in', 'central', 'park,', 'i', 'notic', 'that', 'the', 'constant', 'buzz', 'of', 'fli', 'wa', 'annoying.', 'however,', 'i', \"couldn't\", 'be', 'too', 'upset', 'as', 'they', 'were', 'like', 'attract', 'to', 'the', \"mcdonald'\", 'food', 'that', 'someon', 'carelessli', 'dropped.', 'i', 'wondered,', \"'how\", 'can', 'they', 'be', 'so', \"uncaring?'\"] \n",
      "\n",
      "\n"
     ]
    }
   ],
   "source": [
    "from nltk.stem import PorterStemmer\n",
    "stemmer = PorterStemmer()\n",
    "# Example text\n",
    "sample_text = \"While running in Central Park, I noticed that the constant buzzing of flies was annoying. However, I couldn't be too upset as they were likely attracted to the McDonald's food that someone carelessly dropped. I wondered, 'How can they be so uncaring?'\"\n",
    "words =  sample_text.split(' ')\n",
    "print(\"Original Words:\\n\", words,'\\n\\n')\n",
    "# Applying stemming\n",
    "stemmed_words = [stemmer.stem(w.lower()) for w in words]\n",
    "print(\"Stemmed Words:\\n\", stemmed_words,'\\n\\n')"
   ]
  },
  {
   "cell_type": "code",
   "execution_count": 3,
   "id": "9fbde899-a4aa-4670-bc4d-2c35d4aa4553",
   "metadata": {},
   "outputs": [],
   "source": [
    "# Lemmatization"
   ]
  },
  {
   "cell_type": "code",
   "execution_count": 4,
   "id": "cedb707e-8568-40f4-8082-fceca2040e38",
   "metadata": {},
   "outputs": [
    {
     "name": "stdout",
     "output_type": "stream",
     "text": [
      "Original Words:\n",
      " ['While', 'running', 'in', 'Central', 'Park,', 'I', 'noticed', 'that', 'the', 'constant', 'buzzing', 'of', 'flies', 'was', 'annoying.', 'However,', 'I', \"couldn't\", 'be', 'too', 'upset', 'as', 'they', 'were', 'likely', 'attracted', 'to', 'the', \"McDonald's\", 'food', 'that', 'someone', 'carelessly', 'dropped.', 'I', 'wondered,', \"'How\", 'can', 'they', 'be', 'so', \"uncaring?'\"] \n",
      "\n",
      "Lemmas:\n",
      " ['while', 'running', 'in', 'central', 'park,', 'i', 'noticed', 'that', 'the', 'constant', 'buzzing', 'of', 'fly', 'wa', 'annoying.', 'however,', 'i', \"couldn't\", 'be', 'too', 'upset', 'a', 'they', 'were', 'likely', 'attracted', 'to', 'the', \"mcdonald's\", 'food', 'that', 'someone', 'carelessly', 'dropped.', 'i', 'wondered,', \"'how\", 'can', 'they', 'be', 'so', \"uncaring?'\"]\n"
     ]
    }
   ],
   "source": [
    "from nltk.stem import WordNetLemmatizer\n",
    "lemmatizer = WordNetLemmatizer()\n",
    "print(\"Original Words:\\n\", words,'\\n')\n",
    "# Lemmatizing example text\n",
    "lemmas = [lemmatizer.lemmatize(w.lower()) for w in words]\n",
    "print(\"Lemmas:\\n\", lemmas)"
   ]
  },
  {
   "cell_type": "code",
   "execution_count": 5,
   "id": "6a37cd48-50e7-451f-a089-cffdb40ca665",
   "metadata": {},
   "outputs": [
    {
     "name": "stdout",
     "output_type": "stream",
     "text": [
      "As a verb: run\n",
      "As a noun: running\n"
     ]
    }
   ],
   "source": [
    "# Lemmatizing 'running' as a verb\n",
    "print(\"As a verb:\", lemmatizer.lemmatize('running', pos='v'))\n",
    "# Lemmatizing 'running' as a noun\n",
    "print(\"As a noun:\", lemmatizer.lemmatize('running', pos='n'))"
   ]
  },
  {
   "cell_type": "code",
   "execution_count": 6,
   "id": "5b456247-59da-41e1-a95f-600c9d065057",
   "metadata": {},
   "outputs": [
    {
     "name": "stdout",
     "output_type": "stream",
     "text": [
      "As default(noun): wa\n",
      "As verb: be\n"
     ]
    }
   ],
   "source": [
    "# Lemmatizing 'was' as default(noun)\n",
    "print(\"As default(noun):\", lemmatizer.lemmatize('was'))\n",
    "# Lemmatizing 'was' as a verb\n",
    "print(\"As verb:\", lemmatizer.lemmatize('was', pos='v'))"
   ]
  }
 ],
 "metadata": {
  "kernelspec": {
   "display_name": "Python (dojo-env)",
   "language": "python",
   "name": "dojo-env"
  },
  "language_info": {
   "codemirror_mode": {
    "name": "ipython",
    "version": 3
   },
   "file_extension": ".py",
   "mimetype": "text/x-python",
   "name": "python",
   "nbconvert_exporter": "python",
   "pygments_lexer": "ipython3",
   "version": "3.10.10"
  }
 },
 "nbformat": 4,
 "nbformat_minor": 5
}
