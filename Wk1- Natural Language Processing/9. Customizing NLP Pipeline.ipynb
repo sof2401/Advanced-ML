{
 "cells": [
  {
   "cell_type": "code",
   "execution_count": 1,
   "id": "e323ff7e-3842-4a15-a2d1-c5ee9d77b0bb",
   "metadata": {},
   "outputs": [],
   "source": [
    "import spacy"
   ]
  },
  {
   "cell_type": "code",
   "execution_count": 2,
   "id": "2798a19c-8577-4f6c-9ca6-17b4fe4453bb",
   "metadata": {},
   "outputs": [],
   "source": [
    "def batch_preprocess_texts(\n",
    "    texts,\n",
    "    nlp=None,\n",
    "    remove_stopwords=True,\n",
    "    remove_punct=True,\n",
    "    use_lemmas=False,\n",
    "    disable=[\"ner\"],\n",
    "    batch_size=50,\n",
    "    n_process=-1,\n",
    "):\n",
    "    \"\"\"Efficiently preprocess a collection of texts using nlp.pipe()\n",
    "\n",
    "    Args:\n",
    "        texts (collection of strings): collection of texts to process (e.g. df['text'])\n",
    "        nlp (spacy pipe), optional): Spacy nlp pipe. Defaults to None; if None, it creates a default 'en_core_web_sm' pipe.\n",
    "        remove_stopwords (bool, optional): Controls stopword removal. Defaults to True.\n",
    "        remove_punct (bool, optional): Controls punctuation removal. Defaults to True.\n",
    "        use_lemmas (bool, optional): lemmatize tokens. Defaults to False.\n",
    "        disable (list of strings, optional): named pipeline elements to disable. Defaults to [\"ner\"]: Used with nlp.pipe(disable=disable)\n",
    "        batch_size (int, optional): Number of texts to process in a batch. Defaults to 50.\n",
    "        n_process (int, optional): Number of CPU processors to use. Defaults to -1 (meaning all CPU cores).\n",
    "\n",
    "    Returns:\n",
    "        list of tokens\n",
    "    \"\"\"\n",
    "    # from tqdm.notebook import tqdm\n",
    "    from tqdm import tqdm\n",
    "\n",
    "    if nlp is None:\n",
    "        nlp = spacy.load(\"en_core_web_sm\")\n",
    "\n",
    "    processed_texts = []\n",
    "\n",
    "    for doc in tqdm(nlp.pipe(texts, disable=disable, batch_size=batch_size, n_process=n_process)):\n",
    "        tokens = []\n",
    "        for token in doc:\n",
    "            # Check if should remove stopwords and if token is stopword\n",
    "            if (remove_stopwords == True) and (token.is_stop == True):\n",
    "                # Continue the loop with the next token\n",
    "                continue\n",
    "\n",
    "            # Check if should remove stopwords and if token is stopword\n",
    "            if (remove_punct == True) and (token.is_punct == True):\n",
    "                continue\n",
    "\n",
    "            # Check if should remove stopwords and if token is stopword\n",
    "            if (remove_punct == True) and (token.is_space == True):\n",
    "                continue\n",
    "\n",
    "            \n",
    "            ## Determine final form of output list of tokens/lemmas\n",
    "            if use_lemmas:\n",
    "                tokens.append(token.lemma_.lower())\n",
    "            else:\n",
    "                tokens.append(token.text.lower())\n",
    "\n",
    "        processed_texts.append(tokens)\n",
    "    return processed_texts"
   ]
  },
  {
   "cell_type": "code",
   "execution_count": 3,
   "id": "f464afff-ca40-4d81-889a-084511896e89",
   "metadata": {},
   "outputs": [
    {
     "data": {
      "text/plain": [
       "\"While running in Central Park, I noticed that the constant buzzing of flies was annoying. I don't like flies, but I couldn't be too upset as they were likely attracted to the McDonald's food that someone carelessly dropped. I wondered, 'How can they be so uncaring?'\""
      ]
     },
     "execution_count": 3,
     "metadata": {},
     "output_type": "execute_result"
    }
   ],
   "source": [
    "# Define sample text\n",
    "sample_text = \"While running in Central Park, I noticed that the constant buzzing of flies was annoying. I don't like flies, but I couldn't be too upset as they were likely attracted to the McDonald's food that someone carelessly dropped. I wondered, 'How can they be so uncaring?'\"\n",
    "sample_text"
   ]
  },
  {
   "cell_type": "code",
   "execution_count": 4,
   "id": "8aa115e9-0344-4c0d-be02-1ead5c8a35d3",
   "metadata": {},
   "outputs": [
    {
     "name": "stderr",
     "output_type": "stream",
     "text": [
      "266it [00:08, 32.54it/s]"
     ]
    },
    {
     "name": "stdout",
     "output_type": "stream",
     "text": [
      "[['w'], ['h'], ['i'], ['l'], ['e'], [], ['r'], ['u'], ['n'], ['n'], ['i'], ['n'], ['g'], [], ['i'], ['n'], [], ['c'], ['e'], ['n'], ['t'], ['r'], ['a'], ['l'], [], ['p'], ['a'], ['r'], ['k'], [], [], ['i'], [], ['n'], ['o'], ['t'], ['i'], ['c'], ['e'], ['d'], [], ['t'], ['h'], ['a'], ['t'], [], ['t'], ['h'], ['e'], [], ['c'], ['o'], ['n'], ['s'], ['t'], ['a'], ['n'], ['t'], [], ['b'], ['u'], ['z'], ['z'], ['i'], ['n'], ['g'], [], ['o'], ['f'], [], ['f'], ['l'], ['i'], ['e'], ['s'], [], ['w'], ['a'], ['s'], [], ['a'], ['n'], ['n'], ['o'], ['y'], ['i'], ['n'], ['g'], [], [], ['i'], [], ['d'], ['o'], ['n'], [], ['t'], [], ['l'], ['i'], ['k'], ['e'], [], ['f'], ['l'], ['i'], ['e'], ['s'], [], [], ['b'], ['u'], ['t'], [], ['i'], [], ['c'], ['o'], ['u'], ['l'], ['d'], ['n'], [], ['t'], [], ['b'], ['e'], [], ['t'], ['o'], ['o'], [], ['u'], ['p'], ['s'], ['e'], ['t'], [], ['a'], ['s'], [], ['t'], ['h'], ['e'], ['y'], [], ['w'], ['e'], ['r'], ['e'], [], ['l'], ['i'], ['k'], ['e'], ['l'], ['y'], [], ['a'], ['t'], ['t'], ['r'], ['a'], ['c'], ['t'], ['e'], ['d'], [], ['t'], ['o'], [], ['t'], ['h'], ['e'], [], ['m'], ['c'], ['d'], ['o'], ['n'], ['a'], ['l'], ['d'], [], ['s'], [], ['f'], ['o'], ['o'], ['d'], [], ['t'], ['h'], ['a'], ['t'], [], ['s'], ['o'], ['m'], ['e'], ['o'], ['n'], ['e'], [], ['c'], ['a'], ['r'], ['e'], ['l'], ['e'], ['s'], ['s'], ['l'], ['y'], [], ['d'], ['r'], ['o'], ['p'], ['p'], ['e'], ['d'], [], [], ['i'], [], ['w'], ['o'], ['n'], ['d'], ['e'], ['r'], ['e'], ['d'], [], [], [], ['h'], ['o'], ['w'], [], ['c'], ['a'], ['n'], [], ['t'], ['h'], ['e'], ['y'], [], ['b'], ['e'], [], ['s'], ['o'], [], ['u'], ['n'], ['c'], ['a'], ['r'], ['i'], ['n'], ['g'], [], []]\n"
     ]
    },
    {
     "name": "stderr",
     "output_type": "stream",
     "text": [
      "\n"
     ]
    }
   ],
   "source": [
    "# Do not remove stopwords\n",
    "tokens_keep_all_stop = batch_preprocess_texts(sample_text, remove_stopwords = False)\n",
    "print(tokens_keep_all_stop)"
   ]
  },
  {
   "cell_type": "code",
   "execution_count": 5,
   "id": "1d7226a7-ee62-4a77-9498-ddf2e9b12f8d",
   "metadata": {},
   "outputs": [
    {
     "name": "stderr",
     "output_type": "stream",
     "text": [
      "266it [00:08, 32.99it/s]"
     ]
    },
    {
     "name": "stdout",
     "output_type": "stream",
     "text": [
      "[['w'], ['h'], [], ['l'], ['e'], [], ['r'], ['u'], ['n'], ['n'], [], ['n'], ['g'], [], [], ['n'], [], ['c'], ['e'], ['n'], ['t'], ['r'], [], ['l'], [], ['p'], [], ['r'], ['k'], [], [], [], [], ['n'], ['o'], ['t'], [], ['c'], ['e'], ['d'], [], ['t'], ['h'], [], ['t'], [], ['t'], ['h'], ['e'], [], ['c'], ['o'], ['n'], ['s'], ['t'], [], ['n'], ['t'], [], ['b'], ['u'], ['z'], ['z'], [], ['n'], ['g'], [], ['o'], ['f'], [], ['f'], ['l'], [], ['e'], ['s'], [], ['w'], [], ['s'], [], [], ['n'], ['n'], ['o'], ['y'], [], ['n'], ['g'], [], [], [], [], ['d'], ['o'], ['n'], [], ['t'], [], ['l'], [], ['k'], ['e'], [], ['f'], ['l'], [], ['e'], ['s'], [], [], ['b'], ['u'], ['t'], [], [], [], ['c'], ['o'], ['u'], ['l'], ['d'], ['n'], [], ['t'], [], ['b'], ['e'], [], ['t'], ['o'], ['o'], [], ['u'], ['p'], ['s'], ['e'], ['t'], [], [], ['s'], [], ['t'], ['h'], ['e'], ['y'], [], ['w'], ['e'], ['r'], ['e'], [], ['l'], [], ['k'], ['e'], ['l'], ['y'], [], [], ['t'], ['t'], ['r'], [], ['c'], ['t'], ['e'], ['d'], [], ['t'], ['o'], [], ['t'], ['h'], ['e'], [], ['m'], ['c'], ['d'], ['o'], ['n'], [], ['l'], ['d'], [], ['s'], [], ['f'], ['o'], ['o'], ['d'], [], ['t'], ['h'], [], ['t'], [], ['s'], ['o'], ['m'], ['e'], ['o'], ['n'], ['e'], [], ['c'], [], ['r'], ['e'], ['l'], ['e'], ['s'], ['s'], ['l'], ['y'], [], ['d'], ['r'], ['o'], ['p'], ['p'], ['e'], ['d'], [], [], [], [], ['w'], ['o'], ['n'], ['d'], ['e'], ['r'], ['e'], ['d'], [], [], [], ['h'], ['o'], ['w'], [], ['c'], [], ['n'], [], ['t'], ['h'], ['e'], ['y'], [], ['b'], ['e'], [], ['s'], ['o'], [], ['u'], ['n'], ['c'], [], ['r'], [], ['n'], ['g'], [], []]\n"
     ]
    },
    {
     "name": "stderr",
     "output_type": "stream",
     "text": [
      "\n"
     ]
    }
   ],
   "source": [
    "# Remove default stopwords\n",
    "tokens_remove_default_stop = batch_preprocess_texts(sample_text)\n",
    "print(tokens_remove_default_stop)"
   ]
  },
  {
   "cell_type": "code",
   "execution_count": 6,
   "id": "23aaeb3e-6a74-4d07-988e-ca99321c29c5",
   "metadata": {},
   "outputs": [
    {
     "data": {
      "text/plain": [
       "[['i'],\n",
       " ['i'],\n",
       " ['i'],\n",
       " ['a'],\n",
       " ['a'],\n",
       " ['i'],\n",
       " ['i'],\n",
       " ['a'],\n",
       " ['a'],\n",
       " ['i'],\n",
       " ['i'],\n",
       " ['a'],\n",
       " ['a'],\n",
       " ['i'],\n",
       " ['i'],\n",
       " ['i'],\n",
       " ['i'],\n",
       " ['i'],\n",
       " ['a'],\n",
       " ['i'],\n",
       " ['a'],\n",
       " ['a'],\n",
       " ['a'],\n",
       " ['a'],\n",
       " ['a'],\n",
       " ['i'],\n",
       " ['a'],\n",
       " ['a'],\n",
       " ['i']]"
      ]
     },
     "execution_count": 6,
     "metadata": {},
     "output_type": "execute_result"
    }
   ],
   "source": [
    "# Looop to find words removed\n",
    "removed_tokens = []\n",
    "for token in tokens_keep_all_stop:\n",
    "    if token not in tokens_remove_default_stop:\n",
    "        removed_tokens.append(token)\n",
    "removed_tokens"
   ]
  },
  {
   "cell_type": "code",
   "execution_count": 7,
   "id": "9f025d14-6f70-4a2b-9927-d44e60d9c0bf",
   "metadata": {},
   "outputs": [
    {
     "data": {
      "text/plain": [
       "{\"'d\",\n",
       " \"'ll\",\n",
       " \"'m\",\n",
       " \"'re\",\n",
       " \"'s\",\n",
       " \"'ve\",\n",
       " 'a',\n",
       " 'about',\n",
       " 'above',\n",
       " 'across',\n",
       " 'after',\n",
       " 'afterwards',\n",
       " 'again',\n",
       " 'against',\n",
       " 'all',\n",
       " 'almost',\n",
       " 'alone',\n",
       " 'along',\n",
       " 'already',\n",
       " 'also',\n",
       " 'although',\n",
       " 'always',\n",
       " 'am',\n",
       " 'among',\n",
       " 'amongst',\n",
       " 'amount',\n",
       " 'an',\n",
       " 'and',\n",
       " 'another',\n",
       " 'any',\n",
       " 'anyhow',\n",
       " 'anyone',\n",
       " 'anything',\n",
       " 'anyway',\n",
       " 'anywhere',\n",
       " 'are',\n",
       " 'around',\n",
       " 'as',\n",
       " 'at',\n",
       " 'back',\n",
       " 'be',\n",
       " 'became',\n",
       " 'because',\n",
       " 'become',\n",
       " 'becomes',\n",
       " 'becoming',\n",
       " 'been',\n",
       " 'before',\n",
       " 'beforehand',\n",
       " 'behind',\n",
       " 'being',\n",
       " 'below',\n",
       " 'beside',\n",
       " 'besides',\n",
       " 'between',\n",
       " 'beyond',\n",
       " 'both',\n",
       " 'bottom',\n",
       " 'but',\n",
       " 'by',\n",
       " 'ca',\n",
       " 'call',\n",
       " 'can',\n",
       " 'cannot',\n",
       " 'could',\n",
       " 'did',\n",
       " 'do',\n",
       " 'does',\n",
       " 'doing',\n",
       " 'done',\n",
       " 'down',\n",
       " 'due',\n",
       " 'during',\n",
       " 'each',\n",
       " 'eight',\n",
       " 'either',\n",
       " 'eleven',\n",
       " 'else',\n",
       " 'elsewhere',\n",
       " 'empty',\n",
       " 'enough',\n",
       " 'even',\n",
       " 'ever',\n",
       " 'every',\n",
       " 'everyone',\n",
       " 'everything',\n",
       " 'everywhere',\n",
       " 'except',\n",
       " 'few',\n",
       " 'fifteen',\n",
       " 'fifty',\n",
       " 'first',\n",
       " 'five',\n",
       " 'for',\n",
       " 'former',\n",
       " 'formerly',\n",
       " 'forty',\n",
       " 'four',\n",
       " 'from',\n",
       " 'front',\n",
       " 'full',\n",
       " 'further',\n",
       " 'get',\n",
       " 'give',\n",
       " 'go',\n",
       " 'had',\n",
       " 'has',\n",
       " 'have',\n",
       " 'he',\n",
       " 'hence',\n",
       " 'her',\n",
       " 'here',\n",
       " 'hereafter',\n",
       " 'hereby',\n",
       " 'herein',\n",
       " 'hereupon',\n",
       " 'hers',\n",
       " 'herself',\n",
       " 'him',\n",
       " 'himself',\n",
       " 'his',\n",
       " 'how',\n",
       " 'however',\n",
       " 'hundred',\n",
       " 'i',\n",
       " 'if',\n",
       " 'in',\n",
       " 'indeed',\n",
       " 'into',\n",
       " 'is',\n",
       " 'it',\n",
       " 'its',\n",
       " 'itself',\n",
       " 'just',\n",
       " 'keep',\n",
       " 'last',\n",
       " 'latter',\n",
       " 'latterly',\n",
       " 'least',\n",
       " 'less',\n",
       " 'made',\n",
       " 'make',\n",
       " 'many',\n",
       " 'may',\n",
       " 'me',\n",
       " 'meanwhile',\n",
       " 'might',\n",
       " 'mine',\n",
       " 'more',\n",
       " 'moreover',\n",
       " 'most',\n",
       " 'mostly',\n",
       " 'move',\n",
       " 'much',\n",
       " 'must',\n",
       " 'my',\n",
       " 'myself',\n",
       " \"n't\",\n",
       " 'name',\n",
       " 'namely',\n",
       " 'neither',\n",
       " 'never',\n",
       " 'nevertheless',\n",
       " 'next',\n",
       " 'nine',\n",
       " 'no',\n",
       " 'nobody',\n",
       " 'none',\n",
       " 'noone',\n",
       " 'nor',\n",
       " 'not',\n",
       " 'nothing',\n",
       " 'now',\n",
       " 'nowhere',\n",
       " 'n‘t',\n",
       " 'n’t',\n",
       " 'of',\n",
       " 'off',\n",
       " 'often',\n",
       " 'on',\n",
       " 'once',\n",
       " 'one',\n",
       " 'only',\n",
       " 'onto',\n",
       " 'or',\n",
       " 'other',\n",
       " 'others',\n",
       " 'otherwise',\n",
       " 'our',\n",
       " 'ours',\n",
       " 'ourselves',\n",
       " 'out',\n",
       " 'over',\n",
       " 'own',\n",
       " 'part',\n",
       " 'per',\n",
       " 'perhaps',\n",
       " 'please',\n",
       " 'put',\n",
       " 'quite',\n",
       " 'rather',\n",
       " 're',\n",
       " 'really',\n",
       " 'regarding',\n",
       " 'same',\n",
       " 'say',\n",
       " 'see',\n",
       " 'seem',\n",
       " 'seemed',\n",
       " 'seeming',\n",
       " 'seems',\n",
       " 'serious',\n",
       " 'several',\n",
       " 'she',\n",
       " 'should',\n",
       " 'show',\n",
       " 'side',\n",
       " 'since',\n",
       " 'six',\n",
       " 'sixty',\n",
       " 'so',\n",
       " 'some',\n",
       " 'somehow',\n",
       " 'someone',\n",
       " 'something',\n",
       " 'sometime',\n",
       " 'sometimes',\n",
       " 'somewhere',\n",
       " 'still',\n",
       " 'such',\n",
       " 'take',\n",
       " 'ten',\n",
       " 'than',\n",
       " 'that',\n",
       " 'the',\n",
       " 'their',\n",
       " 'them',\n",
       " 'themselves',\n",
       " 'then',\n",
       " 'thence',\n",
       " 'there',\n",
       " 'thereafter',\n",
       " 'thereby',\n",
       " 'therefore',\n",
       " 'therein',\n",
       " 'thereupon',\n",
       " 'these',\n",
       " 'they',\n",
       " 'third',\n",
       " 'this',\n",
       " 'those',\n",
       " 'though',\n",
       " 'three',\n",
       " 'through',\n",
       " 'throughout',\n",
       " 'thru',\n",
       " 'thus',\n",
       " 'to',\n",
       " 'together',\n",
       " 'too',\n",
       " 'top',\n",
       " 'toward',\n",
       " 'towards',\n",
       " 'twelve',\n",
       " 'twenty',\n",
       " 'two',\n",
       " 'under',\n",
       " 'unless',\n",
       " 'until',\n",
       " 'up',\n",
       " 'upon',\n",
       " 'us',\n",
       " 'used',\n",
       " 'using',\n",
       " 'various',\n",
       " 'very',\n",
       " 'via',\n",
       " 'was',\n",
       " 'we',\n",
       " 'well',\n",
       " 'were',\n",
       " 'what',\n",
       " 'whatever',\n",
       " 'when',\n",
       " 'whence',\n",
       " 'whenever',\n",
       " 'where',\n",
       " 'whereafter',\n",
       " 'whereas',\n",
       " 'whereby',\n",
       " 'wherein',\n",
       " 'whereupon',\n",
       " 'wherever',\n",
       " 'whether',\n",
       " 'which',\n",
       " 'while',\n",
       " 'whither',\n",
       " 'who',\n",
       " 'whoever',\n",
       " 'whole',\n",
       " 'whom',\n",
       " 'whose',\n",
       " 'why',\n",
       " 'will',\n",
       " 'with',\n",
       " 'within',\n",
       " 'without',\n",
       " 'would',\n",
       " 'yet',\n",
       " 'you',\n",
       " 'your',\n",
       " 'yours',\n",
       " 'yourself',\n",
       " 'yourselves',\n",
       " '‘d',\n",
       " '‘ll',\n",
       " '‘m',\n",
       " '‘re',\n",
       " '‘s',\n",
       " '‘ve',\n",
       " '’d',\n",
       " '’ll',\n",
       " '’m',\n",
       " '’re',\n",
       " '’s',\n",
       " '’ve'}"
      ]
     },
     "execution_count": 7,
     "metadata": {},
     "output_type": "execute_result"
    }
   ],
   "source": [
    "# Define custom nlp pipeline\n",
    "custom_nlp = spacy.load('en_core_web_sm')\n",
    "# Let's start by accessing spaCy's default stopwords\n",
    "spacy_stopwords = custom_nlp.Defaults.stop_words\n",
    "spacy_stopwords"
   ]
  },
  {
   "cell_type": "code",
   "execution_count": 8,
   "id": "448a7c4d-0401-48ba-8ca7-a462380b8ca2",
   "metadata": {},
   "outputs": [
    {
     "data": {
      "text/plain": [
       "326"
      ]
     },
     "execution_count": 8,
     "metadata": {},
     "output_type": "execute_result"
    }
   ],
   "source": [
    "# How many default stopwords?\n",
    "len(spacy_stopwords)"
   ]
  },
  {
   "cell_type": "code",
   "execution_count": 9,
   "id": "16a2f8f0-8d72-4ae7-ba57-2d652197f40e",
   "metadata": {},
   "outputs": [
    {
     "data": {
      "text/plain": [
       "330"
      ]
     },
     "execution_count": 9,
     "metadata": {},
     "output_type": "execute_result"
    }
   ],
   "source": [
    "# We can include additional stopwords by adding them to the default set\n",
    "# Add custom stopwords\n",
    "custom_stopwords = [\"food\", \"likely\",'upset','carelessly']\n",
    "for word in custom_stopwords:\n",
    "    # Add the word to the list of stopwords (for easily tracking stopwords)\n",
    "    custom_nlp.Defaults.stop_words.add(word)\n",
    "    # Set the is_stop attribute for the word in the vocab dict to true. \n",
    "    # this is what will actually determine spacy treating the word as a stop word\n",
    "    custom_nlp.vocab[word].is_stop = True\n",
    "updated_spacy_stopwords = custom_nlp.Defaults.stop_words\n",
    "len(updated_spacy_stopwords)"
   ]
  },
  {
   "cell_type": "code",
   "execution_count": 10,
   "id": "4b65c17f-dcaa-47dd-89dd-8da214da64b5",
   "metadata": {},
   "outputs": [
    {
     "data": {
      "text/plain": [
       "328"
      ]
     },
     "execution_count": 10,
     "metadata": {},
     "output_type": "execute_result"
    }
   ],
   "source": [
    "# Remove stopwords\n",
    "remove_stopwords = [\"but\", \"someone\"]\n",
    "for word in remove_stopwords:\n",
    "    custom_nlp.Defaults.stop_words.discard(word)\n",
    "    # Ensure the words are not recognized as stopwords\n",
    "    custom_nlp.vocab[word].is_stop = False\n",
    "updated_spacy_stopwords = custom_nlp.Defaults.stop_words\n",
    "len(updated_spacy_stopwords)"
   ]
  },
  {
   "cell_type": "code",
   "execution_count": 11,
   "id": "cb7b4d87-3da1-4111-95b0-6ec789f66532",
   "metadata": {},
   "outputs": [
    {
     "name": "stderr",
     "output_type": "stream",
     "text": [
      "266it [00:08, 32.90it/s]"
     ]
    },
    {
     "name": "stdout",
     "output_type": "stream",
     "text": [
      "[['w'], ['h'], [], ['l'], ['e'], [], ['r'], ['u'], ['n'], ['n'], [], ['n'], ['g'], [], [], ['n'], [], ['c'], ['e'], ['n'], ['t'], ['r'], [], ['l'], [], ['p'], [], ['r'], ['k'], [], [], [], [], ['n'], ['o'], ['t'], [], ['c'], ['e'], ['d'], [], ['t'], ['h'], [], ['t'], [], ['t'], ['h'], ['e'], [], ['c'], ['o'], ['n'], ['s'], ['t'], [], ['n'], ['t'], [], ['b'], ['u'], ['z'], ['z'], [], ['n'], ['g'], [], ['o'], ['f'], [], ['f'], ['l'], [], ['e'], ['s'], [], ['w'], [], ['s'], [], [], ['n'], ['n'], ['o'], ['y'], [], ['n'], ['g'], [], [], [], [], ['d'], ['o'], ['n'], [], ['t'], [], ['l'], [], ['k'], ['e'], [], ['f'], ['l'], [], ['e'], ['s'], [], [], ['b'], ['u'], ['t'], [], [], [], ['c'], ['o'], ['u'], ['l'], ['d'], ['n'], [], ['t'], [], ['b'], ['e'], [], ['t'], ['o'], ['o'], [], ['u'], ['p'], ['s'], ['e'], ['t'], [], [], ['s'], [], ['t'], ['h'], ['e'], ['y'], [], ['w'], ['e'], ['r'], ['e'], [], ['l'], [], ['k'], ['e'], ['l'], ['y'], [], [], ['t'], ['t'], ['r'], [], ['c'], ['t'], ['e'], ['d'], [], ['t'], ['o'], [], ['t'], ['h'], ['e'], [], ['m'], ['c'], ['d'], ['o'], ['n'], [], ['l'], ['d'], [], ['s'], [], ['f'], ['o'], ['o'], ['d'], [], ['t'], ['h'], [], ['t'], [], ['s'], ['o'], ['m'], ['e'], ['o'], ['n'], ['e'], [], ['c'], [], ['r'], ['e'], ['l'], ['e'], ['s'], ['s'], ['l'], ['y'], [], ['d'], ['r'], ['o'], ['p'], ['p'], ['e'], ['d'], [], [], [], [], ['w'], ['o'], ['n'], ['d'], ['e'], ['r'], ['e'], ['d'], [], [], [], ['h'], ['o'], ['w'], [], ['c'], [], ['n'], [], ['t'], ['h'], ['e'], ['y'], [], ['b'], ['e'], [], ['s'], ['o'], [], ['u'], ['n'], ['c'], [], ['r'], [], ['n'], ['g'], [], []]\n"
     ]
    },
    {
     "name": "stderr",
     "output_type": "stream",
     "text": [
      "\n"
     ]
    }
   ],
   "source": [
    "# Process text with custom nlp pipeline\n",
    "custom_stopwords_removed = batch_preprocess_texts(sample_text, nlp = custom_nlp)\n",
    "print(custom_stopwords_removed)"
   ]
  },
  {
   "cell_type": "code",
   "execution_count": 12,
   "id": "47293ff7-9989-4778-b206-74680beab8f4",
   "metadata": {},
   "outputs": [
    {
     "ename": "NameError",
     "evalue": "name 'preprocess_texts' is not defined",
     "output_type": "error",
     "traceback": [
      "\u001b[0;31m---------------------------------------------------------------------------\u001b[0m",
      "\u001b[0;31mNameError\u001b[0m                                 Traceback (most recent call last)",
      "Cell \u001b[0;32mIn[12], line 7\u001b[0m\n\u001b[1;32m      5\u001b[0m     special_case \u001b[38;5;241m=\u001b[39m [{\u001b[38;5;124m\"\u001b[39m\u001b[38;5;124mORTH\u001b[39m\u001b[38;5;124m\"\u001b[39m: contraction}]\n\u001b[1;32m      6\u001b[0m     custom_nlp\u001b[38;5;241m.\u001b[39mtokenizer\u001b[38;5;241m.\u001b[39madd_special_case(contraction, special_case)\n\u001b[0;32m----> 7\u001b[0m keep_contractions \u001b[38;5;241m=\u001b[39m \u001b[43mpreprocess_texts\u001b[49m(sample_text, nlp \u001b[38;5;241m=\u001b[39m custom_nlp)\n\u001b[1;32m      8\u001b[0m \u001b[38;5;28mprint\u001b[39m(keep_contractions)\n",
      "\u001b[0;31mNameError\u001b[0m: name 'preprocess_texts' is not defined"
     ]
    }
   ],
   "source": [
    "# List of contractions to keep as single tokens\n",
    "contractions = [\"don't\", \"couldn't\"]\n",
    "# Loop through the contractions list and add special cases\n",
    "for contraction in contractions:\n",
    "    special_case = [{\"ORTH\": contraction}]\n",
    "    custom_nlp.tokenizer.add_special_case(contraction, special_case)\n",
    "keep_contractions = preprocess_texts(sample_text, nlp = custom_nlp)\n",
    "print(keep_contractions)"
   ]
  },
  {
   "cell_type": "code",
   "execution_count": 13,
   "id": "19bbd487-4b32-4772-9961-a51b6e57fc86",
   "metadata": {},
   "outputs": [],
   "source": [
    "def make_custom_nlp(\n",
    "    disable=[\"ner\"],\n",
    "    contractions=[\"don't\", \"can't\", \"couldn't\", \"you'd\", \"I'll\"],\n",
    "    stopwords_to_add=[],\n",
    "    stopwords_to_remove=[],\n",
    "    spacy_model = \"en_core_web_sm\"\n",
    "):\n",
    "    \"\"\"Returns a custom spacy nlp pipeline.\n",
    "    \n",
    "    Args:\n",
    "        disable (list, optional): Names of pipe components to disable. Defaults to [\"ner\"].\n",
    "        contractions (list, optional): List of contractions to add as special cases. Defaults to [\"don't\", \"can't\", \"couldn't\", \"you'd\", \"I'll\"].\n",
    "        stopwords_to_add(list, optional): List of words to set as stopwords (word.is_stop=True)\n",
    "        stopwords_to_remove(list, optional): List of words to remove from stopwords (word.is_stop=False)\n",
    "        spacy_model(string, optional): String to select a spacy language model. (Defaults to \"en_core_web_sm\".)\n",
    "                            Additional Options:  \"en_core_web_md\", \"en_core_web_lg\"; \n",
    "                            (Must first download the model by name in the terminal:\n",
    "                            e.g.  \"python -m spacy download en_core_web_lg\" )\n",
    "            \n",
    "    Returns:\n",
    "        nlp pipeline: spacy pipeline with special cases and updated nlp.Default.stopwords\n",
    "    \"\"\"\n",
    "    # Load the English NLP model\n",
    "    nlp = spacy.load(spacy_model, disable=disable)\n",
    "    \n",
    "    # Adding Special Cases \n",
    "    # Loop through the contractions list and add special cases\n",
    "    for contraction in contractions:\n",
    "        special_case = [{\"ORTH\": contraction}]\n",
    "        nlp.tokenizer.add_special_case(contraction, special_case)\n",
    "    \n",
    "    # Adding stopwords\n",
    "    for word in stopwords_to_add:\n",
    "        # Set the is_stop attribute for the word in the vocab dict to true.\n",
    "        nlp.vocab[\n",
    "            word\n",
    "        ].is_stop = True  # this determines spacy's treatmean of the word as a stop word\n",
    "        # Add the word to the list of stopwords (for easily tracking stopwords)\n",
    "        nlp.Defaults.stop_words.add(word)\n",
    "    \n",
    "    # Removing Stopwords\n",
    "    for word in stopwords_to_remove:\n",
    "        \n",
    "        # Ensure the words are not recognized as stopwords\n",
    "        nlp.vocab[word].is_stop = False\n",
    "        nlp.Defaults.stop_words.discard(word)\n",
    "        \n",
    "    return nlp"
   ]
  },
  {
   "cell_type": "code",
   "execution_count": 14,
   "id": "6d76382e-8149-4c57-9052-18ecdf448f99",
   "metadata": {},
   "outputs": [
    {
     "name": "stderr",
     "output_type": "stream",
     "text": [
      "1it [00:08,  8.15s/it]"
     ]
    },
    {
     "name": "stdout",
     "output_type": "stream",
     "text": [
      "['while', 'running', 'central', 'noticed', 'constant', 'buzzing', 'flies', 'annoying', \"don't\", 'like', 'flies', 'but', 'attracted', 'mcdonald', 'someone', 'dropped', 'wondered', 'uncaring']\n"
     ]
    },
    {
     "name": "stderr",
     "output_type": "stream",
     "text": [
      "\n"
     ]
    }
   ],
   "source": [
    "# Customize the nlp pipeline\n",
    "function_nlp = make_custom_nlp(    \n",
    "    disable=['ner', 'parser'],\n",
    "    contractions=[\"don't\"],\n",
    "    stopwords_to_add=['park'],\n",
    "    stopwords_to_remove=['while'],\n",
    "    spacy_model = \"en_core_web_sm\"\n",
    ")\n",
    "# call preprocessing function with custom nlp pipeline\n",
    "tokens = batch_preprocess_texts([sample_text], nlp = function_nlp)\n",
    "print(tokens[0])"
   ]
  }
 ],
 "metadata": {
  "kernelspec": {
   "display_name": "Python (dojo-env)",
   "language": "python",
   "name": "dojo-env"
  },
  "language_info": {
   "codemirror_mode": {
    "name": "ipython",
    "version": 3
   },
   "file_extension": ".py",
   "mimetype": "text/x-python",
   "name": "python",
   "nbconvert_exporter": "python",
   "pygments_lexer": "ipython3",
   "version": "3.10.10"
  }
 },
 "nbformat": 4,
 "nbformat_minor": 5
}
