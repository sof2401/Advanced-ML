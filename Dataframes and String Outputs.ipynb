{
 "cells": [
  {
   "cell_type": "code",
   "execution_count": 1,
   "id": "a0084b19-d92b-43c6-8e76-0230340f2bfe",
   "metadata": {},
   "outputs": [],
   "source": [
    "# Import standard packages\n",
    "import pandas as pd\n",
    "import numpy as np\n",
    "import matplotlib.pyplot as plt\n",
    "import seaborn as sns\n",
    "pd.set_option('display.max_columns',100)"
   ]
  },
  {
   "cell_type": "code",
   "execution_count": 2,
   "id": "4e99275a-2e40-4001-be44-8720e778978d",
   "metadata": {},
   "outputs": [
    {
     "data": {
      "text/html": [
       "<div>\n",
       "<style scoped>\n",
       "    .dataframe tbody tr th:only-of-type {\n",
       "        vertical-align: middle;\n",
       "    }\n",
       "\n",
       "    .dataframe tbody tr th {\n",
       "        vertical-align: top;\n",
       "    }\n",
       "\n",
       "    .dataframe thead th {\n",
       "        text-align: right;\n",
       "    }\n",
       "</style>\n",
       "<table border=\"1\" class=\"dataframe\">\n",
       "  <thead>\n",
       "    <tr style=\"text-align: right;\">\n",
       "      <th></th>\n",
       "      <th>SalePrice</th>\n",
       "      <th>Living Area Sqft</th>\n",
       "      <th>Lot Frontage</th>\n",
       "      <th>Bldg Type</th>\n",
       "      <th>Bedroom</th>\n",
       "      <th>Total Full Baths</th>\n",
       "      <th>MS Zoning</th>\n",
       "      <th>Street</th>\n",
       "      <th>Alley</th>\n",
       "      <th>Utilities</th>\n",
       "    </tr>\n",
       "    <tr>\n",
       "      <th>PID</th>\n",
       "      <th></th>\n",
       "      <th></th>\n",
       "      <th></th>\n",
       "      <th></th>\n",
       "      <th></th>\n",
       "      <th></th>\n",
       "      <th></th>\n",
       "      <th></th>\n",
       "      <th></th>\n",
       "      <th></th>\n",
       "    </tr>\n",
       "  </thead>\n",
       "  <tbody>\n",
       "    <tr>\n",
       "      <th>907227090</th>\n",
       "      <td>119900.0</td>\n",
       "      <td>864.0</td>\n",
       "      <td>60.0</td>\n",
       "      <td>1Fam</td>\n",
       "      <td>3</td>\n",
       "      <td>1.0</td>\n",
       "      <td>RL</td>\n",
       "      <td>Pave</td>\n",
       "      <td>NaN</td>\n",
       "      <td>AllPub</td>\n",
       "    </tr>\n",
       "    <tr>\n",
       "      <th>527108010</th>\n",
       "      <td>320000.0</td>\n",
       "      <td>2462.0</td>\n",
       "      <td>134.0</td>\n",
       "      <td>1Fam</td>\n",
       "      <td>4</td>\n",
       "      <td>3.0</td>\n",
       "      <td>RL</td>\n",
       "      <td>Pave</td>\n",
       "      <td>NaN</td>\n",
       "      <td>AllPub</td>\n",
       "    </tr>\n",
       "    <tr>\n",
       "      <th>534275170</th>\n",
       "      <td>151500.0</td>\n",
       "      <td>958.0</td>\n",
       "      <td>NaN</td>\n",
       "      <td>1Fam</td>\n",
       "      <td>2</td>\n",
       "      <td>1.0</td>\n",
       "      <td>RL</td>\n",
       "      <td>Pave</td>\n",
       "      <td>NaN</td>\n",
       "      <td>AllPub</td>\n",
       "    </tr>\n",
       "    <tr>\n",
       "      <th>528104050</th>\n",
       "      <td>385000.0</td>\n",
       "      <td>2084.0</td>\n",
       "      <td>114.0</td>\n",
       "      <td>1Fam</td>\n",
       "      <td>2</td>\n",
       "      <td>3.0</td>\n",
       "      <td>RL</td>\n",
       "      <td>Pave</td>\n",
       "      <td>NaN</td>\n",
       "      <td>AllPub</td>\n",
       "    </tr>\n",
       "    <tr>\n",
       "      <th>533206070</th>\n",
       "      <td>193800.0</td>\n",
       "      <td>1565.0</td>\n",
       "      <td>32.0</td>\n",
       "      <td>TwnhsE</td>\n",
       "      <td>2</td>\n",
       "      <td>3.0</td>\n",
       "      <td>FV</td>\n",
       "      <td>Pave</td>\n",
       "      <td>Pave</td>\n",
       "      <td>AllPub</td>\n",
       "    </tr>\n",
       "  </tbody>\n",
       "</table>\n",
       "</div>"
      ],
      "text/plain": [
       "           SalePrice  Living Area Sqft  Lot Frontage Bldg Type  Bedroom  \\\n",
       "PID                                                                       \n",
       "907227090   119900.0             864.0          60.0      1Fam        3   \n",
       "527108010   320000.0            2462.0         134.0      1Fam        4   \n",
       "534275170   151500.0             958.0           NaN      1Fam        2   \n",
       "528104050   385000.0            2084.0         114.0      1Fam        2   \n",
       "533206070   193800.0            1565.0          32.0    TwnhsE        2   \n",
       "\n",
       "           Total Full Baths MS Zoning Street Alley Utilities  \n",
       "PID                                                           \n",
       "907227090               1.0        RL   Pave   NaN    AllPub  \n",
       "527108010               3.0        RL   Pave   NaN    AllPub  \n",
       "534275170               1.0        RL   Pave   NaN    AllPub  \n",
       "528104050               3.0        RL   Pave   NaN    AllPub  \n",
       "533206070               3.0        FV   Pave  Pave    AllPub  "
      ]
     },
     "execution_count": 2,
     "metadata": {},
     "output_type": "execute_result"
    }
   ],
   "source": [
    "# Load data \n",
    "fpath =  \"Data/ames-housing-dojo-for-ml.csv\"\n",
    "df = pd.read_csv(fpath)\n",
    "df = df.set_index(\"PID\")\n",
    "# Define columns to use\n",
    "columns_to_use = columns_to_use = ['SalePrice', 'Living Area Sqft', 'Lot Frontage', 'Bldg Type', 'Bedroom','Total Full Baths','MS Zoning','Street', 'Alley','Utilities']\n",
    "df = df[columns_to_use]\n",
    "df.head()"
   ]
  },
  {
   "cell_type": "code",
   "execution_count": 3,
   "id": "3896aaa7-1fde-4f27-a4f0-38ab1bcf5ad9",
   "metadata": {},
   "outputs": [],
   "source": [
    "# Select columns to use\n",
    "columns_to_use = ['SalePrice', 'Living Area Sqft', 'Lot Frontage', 'Bldg Type', 'Bedroom',\n",
    "                      'Total Full Baths','MS Zoning','Street', \n",
    "                      'Alley','Utilities']\n",
    "# Functionizing the load data from above for .py file\n",
    "def load_data():\n",
    "    fpath =  \"Data/ames-housing-dojo-for-ml.csv\"\n",
    "    df = pd.read_csv(fpath)\n",
    "    df = df.set_index(\"PID\")\n",
    "    df = df[columns_to_use]\n",
    "    return df"
   ]
  },
  {
   "cell_type": "code",
   "execution_count": 4,
   "id": "09b718dd-6981-4a19-8091-ce9f96ea1eed",
   "metadata": {},
   "outputs": [
    {
     "data": {
      "text/html": [
       "<div>\n",
       "<style scoped>\n",
       "    .dataframe tbody tr th:only-of-type {\n",
       "        vertical-align: middle;\n",
       "    }\n",
       "\n",
       "    .dataframe tbody tr th {\n",
       "        vertical-align: top;\n",
       "    }\n",
       "\n",
       "    .dataframe thead th {\n",
       "        text-align: right;\n",
       "    }\n",
       "</style>\n",
       "<table border=\"1\" class=\"dataframe\">\n",
       "  <thead>\n",
       "    <tr style=\"text-align: right;\">\n",
       "      <th></th>\n",
       "      <th>SalePrice</th>\n",
       "      <th>Living Area Sqft</th>\n",
       "      <th>Lot Frontage</th>\n",
       "      <th>Bldg Type</th>\n",
       "      <th>Bedroom</th>\n",
       "      <th>Total Full Baths</th>\n",
       "      <th>MS Zoning</th>\n",
       "      <th>Street</th>\n",
       "      <th>Alley</th>\n",
       "      <th>Utilities</th>\n",
       "    </tr>\n",
       "    <tr>\n",
       "      <th>PID</th>\n",
       "      <th></th>\n",
       "      <th></th>\n",
       "      <th></th>\n",
       "      <th></th>\n",
       "      <th></th>\n",
       "      <th></th>\n",
       "      <th></th>\n",
       "      <th></th>\n",
       "      <th></th>\n",
       "      <th></th>\n",
       "    </tr>\n",
       "  </thead>\n",
       "  <tbody>\n",
       "    <tr>\n",
       "      <th>907227090</th>\n",
       "      <td>119900.0</td>\n",
       "      <td>864.0</td>\n",
       "      <td>60.0</td>\n",
       "      <td>1Fam</td>\n",
       "      <td>3</td>\n",
       "      <td>1.0</td>\n",
       "      <td>RL</td>\n",
       "      <td>Pave</td>\n",
       "      <td>NaN</td>\n",
       "      <td>AllPub</td>\n",
       "    </tr>\n",
       "    <tr>\n",
       "      <th>527108010</th>\n",
       "      <td>320000.0</td>\n",
       "      <td>2462.0</td>\n",
       "      <td>134.0</td>\n",
       "      <td>1Fam</td>\n",
       "      <td>4</td>\n",
       "      <td>3.0</td>\n",
       "      <td>RL</td>\n",
       "      <td>Pave</td>\n",
       "      <td>NaN</td>\n",
       "      <td>AllPub</td>\n",
       "    </tr>\n",
       "    <tr>\n",
       "      <th>534275170</th>\n",
       "      <td>151500.0</td>\n",
       "      <td>958.0</td>\n",
       "      <td>NaN</td>\n",
       "      <td>1Fam</td>\n",
       "      <td>2</td>\n",
       "      <td>1.0</td>\n",
       "      <td>RL</td>\n",
       "      <td>Pave</td>\n",
       "      <td>NaN</td>\n",
       "      <td>AllPub</td>\n",
       "    </tr>\n",
       "    <tr>\n",
       "      <th>528104050</th>\n",
       "      <td>385000.0</td>\n",
       "      <td>2084.0</td>\n",
       "      <td>114.0</td>\n",
       "      <td>1Fam</td>\n",
       "      <td>2</td>\n",
       "      <td>3.0</td>\n",
       "      <td>RL</td>\n",
       "      <td>Pave</td>\n",
       "      <td>NaN</td>\n",
       "      <td>AllPub</td>\n",
       "    </tr>\n",
       "    <tr>\n",
       "      <th>533206070</th>\n",
       "      <td>193800.0</td>\n",
       "      <td>1565.0</td>\n",
       "      <td>32.0</td>\n",
       "      <td>TwnhsE</td>\n",
       "      <td>2</td>\n",
       "      <td>3.0</td>\n",
       "      <td>FV</td>\n",
       "      <td>Pave</td>\n",
       "      <td>Pave</td>\n",
       "      <td>AllPub</td>\n",
       "    </tr>\n",
       "  </tbody>\n",
       "</table>\n",
       "</div>"
      ],
      "text/plain": [
       "           SalePrice  Living Area Sqft  Lot Frontage Bldg Type  Bedroom  \\\n",
       "PID                                                                       \n",
       "907227090   119900.0             864.0          60.0      1Fam        3   \n",
       "527108010   320000.0            2462.0         134.0      1Fam        4   \n",
       "534275170   151500.0             958.0           NaN      1Fam        2   \n",
       "528104050   385000.0            2084.0         114.0      1Fam        2   \n",
       "533206070   193800.0            1565.0          32.0    TwnhsE        2   \n",
       "\n",
       "           Total Full Baths MS Zoning Street Alley Utilities  \n",
       "PID                                                           \n",
       "907227090               1.0        RL   Pave   NaN    AllPub  \n",
       "527108010               3.0        RL   Pave   NaN    AllPub  \n",
       "534275170               1.0        RL   Pave   NaN    AllPub  \n",
       "528104050               3.0        RL   Pave   NaN    AllPub  \n",
       "533206070               3.0        FV   Pave  Pave    AllPub  "
      ]
     },
     "execution_count": 4,
     "metadata": {},
     "output_type": "execute_result"
    }
   ],
   "source": [
    "# Verify the function works as expected\n",
    "df = load_data()\n",
    "df.head()"
   ]
  },
  {
   "cell_type": "code",
   "execution_count": 5,
   "id": "a1ce0db6-caba-4e4a-a218-1cd940a8e6de",
   "metadata": {},
   "outputs": [
    {
     "data": {
      "text/html": [
       "<div>\n",
       "<style scoped>\n",
       "    .dataframe tbody tr th:only-of-type {\n",
       "        vertical-align: middle;\n",
       "    }\n",
       "\n",
       "    .dataframe tbody tr th {\n",
       "        vertical-align: top;\n",
       "    }\n",
       "\n",
       "    .dataframe thead th {\n",
       "        text-align: right;\n",
       "    }\n",
       "</style>\n",
       "<table border=\"1\" class=\"dataframe\">\n",
       "  <thead>\n",
       "    <tr style=\"text-align: right;\">\n",
       "      <th></th>\n",
       "      <th>SalePrice</th>\n",
       "      <th>Living Area Sqft</th>\n",
       "      <th>Lot Frontage</th>\n",
       "      <th>Bedroom</th>\n",
       "      <th>Total Full Baths</th>\n",
       "    </tr>\n",
       "  </thead>\n",
       "  <tbody>\n",
       "    <tr>\n",
       "      <th>count</th>\n",
       "      <td>2930.00</td>\n",
       "      <td>2930.00</td>\n",
       "      <td>2440.00</td>\n",
       "      <td>2930.00</td>\n",
       "      <td>2928.00</td>\n",
       "    </tr>\n",
       "    <tr>\n",
       "      <th>mean</th>\n",
       "      <td>180825.07</td>\n",
       "      <td>1499.69</td>\n",
       "      <td>69.22</td>\n",
       "      <td>2.85</td>\n",
       "      <td>2.00</td>\n",
       "    </tr>\n",
       "    <tr>\n",
       "      <th>std</th>\n",
       "      <td>79878.22</td>\n",
       "      <td>505.51</td>\n",
       "      <td>23.37</td>\n",
       "      <td>0.83</td>\n",
       "      <td>0.75</td>\n",
       "    </tr>\n",
       "    <tr>\n",
       "      <th>min</th>\n",
       "      <td>12789.00</td>\n",
       "      <td>334.00</td>\n",
       "      <td>21.00</td>\n",
       "      <td>0.00</td>\n",
       "      <td>0.00</td>\n",
       "    </tr>\n",
       "    <tr>\n",
       "      <th>25%</th>\n",
       "      <td>129500.00</td>\n",
       "      <td>1126.00</td>\n",
       "      <td>58.00</td>\n",
       "      <td>2.00</td>\n",
       "      <td>1.00</td>\n",
       "    </tr>\n",
       "    <tr>\n",
       "      <th>50%</th>\n",
       "      <td>160000.00</td>\n",
       "      <td>1442.00</td>\n",
       "      <td>68.00</td>\n",
       "      <td>3.00</td>\n",
       "      <td>2.00</td>\n",
       "    </tr>\n",
       "    <tr>\n",
       "      <th>75%</th>\n",
       "      <td>213500.00</td>\n",
       "      <td>1742.75</td>\n",
       "      <td>80.00</td>\n",
       "      <td>3.00</td>\n",
       "      <td>2.00</td>\n",
       "    </tr>\n",
       "    <tr>\n",
       "      <th>max</th>\n",
       "      <td>755000.00</td>\n",
       "      <td>5642.00</td>\n",
       "      <td>313.00</td>\n",
       "      <td>8.00</td>\n",
       "      <td>6.00</td>\n",
       "    </tr>\n",
       "  </tbody>\n",
       "</table>\n",
       "</div>"
      ],
      "text/plain": [
       "       SalePrice  Living Area Sqft  Lot Frontage  Bedroom  Total Full Baths\n",
       "count    2930.00           2930.00       2440.00  2930.00           2928.00\n",
       "mean   180825.07           1499.69         69.22     2.85              2.00\n",
       "std     79878.22            505.51         23.37     0.83              0.75\n",
       "min     12789.00            334.00         21.00     0.00              0.00\n",
       "25%    129500.00           1126.00         58.00     2.00              1.00\n",
       "50%    160000.00           1442.00         68.00     3.00              2.00\n",
       "75%    213500.00           1742.75         80.00     3.00              2.00\n",
       "max    755000.00           5642.00        313.00     8.00              6.00"
      ]
     },
     "execution_count": 5,
     "metadata": {},
     "output_type": "execute_result"
    }
   ],
   "source": [
    "# Obtain summary statistics\n",
    "df.describe().round(2)"
   ]
  },
  {
   "cell_type": "code",
   "execution_count": 6,
   "id": "c29dc081-79e1-49ff-aa6c-0c8c88c402c1",
   "metadata": {},
   "outputs": [
    {
     "name": "stdout",
     "output_type": "stream",
     "text": [
      "<class 'pandas.core.frame.DataFrame'>\n",
      "Int64Index: 2930 entries, 907227090 to 902201120\n",
      "Data columns (total 10 columns):\n",
      " #   Column            Non-Null Count  Dtype  \n",
      "---  ------            --------------  -----  \n",
      " 0   SalePrice         2930 non-null   float64\n",
      " 1   Living Area Sqft  2930 non-null   float64\n",
      " 2   Lot Frontage      2440 non-null   float64\n",
      " 3   Bldg Type         2930 non-null   object \n",
      " 4   Bedroom           2930 non-null   int64  \n",
      " 5   Total Full Baths  2928 non-null   float64\n",
      " 6   MS Zoning         2930 non-null   object \n",
      " 7   Street            2930 non-null   object \n",
      " 8   Alley             198 non-null    object \n",
      " 9   Utilities         2930 non-null   object \n",
      "dtypes: float64(4), int64(1), object(5)\n",
      "memory usage: 251.8+ KB\n"
     ]
    }
   ],
   "source": [
    "# In our notebook we can use df.info() to output our summary info into our console (direclty below the cell)\n",
    "df.info()"
   ]
  },
  {
   "cell_type": "code",
   "execution_count": 7,
   "id": "ab121795-7b33-4f6b-90f4-693f34503cca",
   "metadata": {},
   "outputs": [
    {
     "data": {
      "text/plain": [
       "\"<class 'pandas.core.frame.DataFrame'>\\nInt64Index: 2930 entries, 907227090 to 902201120\\nData columns (total 10 columns):\\n #   Column            Non-Null Count  Dtype  \\n---  ------            --------------  -----  \\n 0   SalePrice         2930 non-null   float64\\n 1   Living Area Sqft  2930 non-null   float64\\n 2   Lot Frontage      2440 non-null   float64\\n 3   Bldg Type         2930 non-null   object \\n 4   Bedroom           2930 non-null   int64  \\n 5   Total Full Baths  2928 non-null   float64\\n 6   MS Zoning         2930 non-null   object \\n 7   Street            2930 non-null   object \\n 8   Alley             198 non-null    object \\n 9   Utilities         2930 non-null   object \\ndtypes: float64(4), int64(1), object(5)\\nmemory usage: 251.8+ KB\\n\""
      ]
     },
     "execution_count": 7,
     "metadata": {},
     "output_type": "execute_result"
    }
   ],
   "source": [
    "# Display .info()\n",
    "# In order to display output on our app, we first need to capture it. \n",
    "# We can use an IO buffer to capture the output, then we will use the getvalue() argument to retrive it\n",
    "from io import StringIO\n",
    "# Create a string buffer to capture the content\n",
    "buffer = StringIO()\n",
    "# Write the info into the buffer\n",
    "df.info(buf=buffer)\n",
    "# Retrieve the content from the buffer\n",
    "summary_info = buffer.getvalue()\n",
    "# What the output looks like in the console\n",
    "summary_info"
   ]
  },
  {
   "cell_type": "code",
   "execution_count": 8,
   "id": "9a213c91-8853-4979-bba2-355ab0fa7201",
   "metadata": {},
   "outputs": [
    {
     "data": {
      "text/plain": [
       "SalePrice              0\n",
       "Living Area Sqft       0\n",
       "Lot Frontage         490\n",
       "Bldg Type              0\n",
       "Bedroom                0\n",
       "Total Full Baths       2\n",
       "MS Zoning              0\n",
       "Street                 0\n",
       "Alley               2732\n",
       "Utilities              0\n",
       "dtype: int64"
      ]
     },
     "execution_count": 8,
     "metadata": {},
     "output_type": "execute_result"
    }
   ],
   "source": [
    "# Displaying null values\n",
    "nulls =df.isna().sum()\n",
    "nulls"
   ]
  },
  {
   "cell_type": "code",
   "execution_count": 9,
   "id": "3da33b32-321e-4c9b-8663-4719b597ab64",
   "metadata": {},
   "outputs": [
    {
     "data": {
      "text/plain": [
       "pandas.core.series.Series"
      ]
     },
     "execution_count": 9,
     "metadata": {},
     "output_type": "execute_result"
    }
   ],
   "source": [
    "# Check data type\n",
    "type(nulls)"
   ]
  },
  {
   "cell_type": "code",
   "execution_count": 10,
   "id": "270fe70c-3dd9-499c-b450-d92999055325",
   "metadata": {},
   "outputs": [
    {
     "data": {
      "image/png": "[encoded data removed]",
      "text/plain": [
       "<Figure size 640x480 with 1 Axes>"
      ]
     },
     "metadata": {},
     "output_type": "display_data"
    }
   ],
   "source": [
    "# Histogram\n",
    "sns.histplot(data = df, x = 'SalePrice');"
   ]
  },
  {
   "cell_type": "code",
   "execution_count": 11,
   "id": "e8f1ab7c-98fd-41ea-9caa-4d878281cf23",
   "metadata": {},
   "outputs": [],
   "source": [
    "# Function for returning a histogram fig\n",
    "def plot_hist(df, column):\n",
    "    fig, ax = plt.subplots()\n",
    "    sns.histplot(data = df, x = column)\n",
    "    return fig"
   ]
  },
  {
   "cell_type": "code",
   "execution_count": 12,
   "id": "7880cee8-17af-4286-afc4-661976f2d796",
   "metadata": {},
   "outputs": [
    {
     "data": {
      "image/png": "[encoded data removed]",
      "text/plain": [
       "<Figure size 640x480 with 1 Axes>"
      ]
     },
     "metadata": {},
     "output_type": "display_data"
    }
   ],
   "source": [
    "# Test the function\n",
    "fig = plot_hist(df, 'SalePrice')"
   ]
  },
  {
   "cell_type": "code",
   "execution_count": 14,
   "id": "28d0e4c7-6bb1-4ef4-ba74-34bb3ac793ef",
   "metadata": {},
   "outputs": [],
   "source": [
    "# Revisiting original custom function for exploring categorical values\n",
    "# Original from LP week 4\n",
    "def explore_categorical(df, x, fillna = True, placeholder = 'MISSING',\n",
    "                        figsize = (6,4), order = None):\n",
    " \n",
    "  # Make a copy of the dataframe and fillna \n",
    "  temp_df = df.copy()\n",
    "  # Before filling nulls, save null value counts and percent for printing \n",
    "  null_count = temp_df[x].isna().sum()\n",
    "  null_perc = null_count/len(temp_df)* 100\n",
    "  # fillna with placeholder\n",
    "  if fillna == True:\n",
    "    temp_df[x] = temp_df[x].fillna(placeholder)\n",
    "  # Create figure with desired figsize\n",
    "  fig, ax = plt.subplots(figsize=figsize)\n",
    "  # Plotting a count plot \n",
    "  sns.countplot(data=temp_df, x=x, ax=ax, order=order)\n",
    "  # Rotate Tick Labels for long names\n",
    "  ax.set_xticklabels(ax.get_xticklabels(), rotation=45, ha='right')\n",
    "  # Add a title with the feature name included\n",
    "  ax.set_title(f\"Column: {x}\")\n",
    "  \n",
    "  # Fix layout and show plot (before print statements)\n",
    "  fig.tight_layout()\n",
    "  plt.show()\n",
    "      \n",
    "  # Print null value info\n",
    "  print(f\"- NaN's Found: {null_count} ({round(null_perc,2)}%)\")\n",
    "  # Print cardinality info\n",
    "  nunique = temp_df[x].nunique()\n",
    "  print(f\"- Unique Values: {nunique}\")\n",
    "  # First find value counts of feature\n",
    "  val_counts = temp_df[x].value_counts(dropna=False)\n",
    "  # Define the most common value\n",
    "  most_common_val = val_counts.index[0]\n",
    "  # Define the frequency of the most common value\n",
    "  freq = val_counts.values[0]\n",
    "  # Calculate the percentage of the most common value\n",
    "  perc_most_common = freq / len(temp_df) * 100\n",
    "  # Print the results\n",
    "  print(f\"- Most common value: '{most_common_val}' occurs {freq} times ({round(perc_most_common,2)}%)\")\n",
    "  # print message if quasi-constant or constant (most common val more than 98% of data)\n",
    "  if perc_most_common > 98:\n",
    "    print(f\"\\n- [!] Warning: '{x}' is a constant or quasi-constant feature and should be dropped.\")\n",
    "  else:\n",
    "    print(\"- Not constant or quasi-constant.\")\n",
    "  return fig, ax"
   ]
  },
  {
   "cell_type": "code",
   "execution_count": 15,
   "id": "ea0c2b38-db25-461b-8a80-c758e4b8360d",
   "metadata": {},
   "outputs": [
    {
     "data": {
      "image/png": "[encoded data removed]",
      "text/plain": [
       "<Figure size 600x400 with 1 Axes>"
      ]
     },
     "metadata": {},
     "output_type": "display_data"
    },
    {
     "name": "stdout",
     "output_type": "stream",
     "text": [
      "- NaN's Found: 2732 (93.24%)\n",
      "- Unique Values: 3\n",
      "- Most common value: 'MISSING' occurs 2732 times (93.24%)\n",
      "- Not constant or quasi-constant.\n"
     ]
    }
   ],
   "source": [
    "# Review function output\n",
    "explore_categorical(df, 'Alley');"
   ]
  },
  {
   "cell_type": "code",
   "execution_count": 16,
   "id": "cc169448-13da-46e1-86ed-d9afb92db7d7",
   "metadata": {},
   "outputs": [
    {
     "data": {
      "image/png": "[encoded data removed]",
      "text/plain": [
       "<Figure size 600x400 with 1 Axes>"
      ]
     },
     "metadata": {},
     "output_type": "display_data"
    },
    {
     "name": "stdout",
     "output_type": "stream",
     "text": [
      "- NaN's Found: 2732 (93.24%)\n",
      "- Unique Values: 3\n",
      "- Most common value: 'MISSING' occurs 2732 times (93.24%)\n",
      "- Not constant or quasi-constant.\n"
     ]
    }
   ],
   "source": [
    "# Save the output of the function\n",
    "fig, ax = explore_categorical(df, 'Alley')"
   ]
  },
  {
   "cell_type": "code",
   "execution_count": 18,
   "id": "69c8c55e-93fc-4844-8381-e536fd675406",
   "metadata": {},
   "outputs": [],
   "source": [
    "def explore_numeric(df, x, figsize=(6,5) ):\n",
    "  # Making our figure with gridspec for subplots\n",
    "  gridspec = {'height_ratios':[0.7,0.3]}\n",
    "  fig, axes = plt.subplots(nrows=2, figsize=figsize,\n",
    "                           sharex=True, gridspec_kw=gridspec)\n",
    "  # Histogram on Top\n",
    "  sns.histplot(data=df, x=x, ax=axes[0])\n",
    "  # Boxplot on Bottom\n",
    "  sns.boxplot(data=df, x=x, ax=axes[1])\n",
    "  ## Adding a title\n",
    "  axes[0].set_title(f\"Column: {x}\")\n",
    "  ## Adjusting subplots to best fill Figure\n",
    "  fig.tight_layout()\n",
    "  \n",
    "  # Ensure plot is shown before message\n",
    "  plt.show()\n",
    "  ## Print message with info on the count and % of null values\n",
    "  null_count = df[x].isna().sum()\n",
    "  null_perc = null_count/len(df)* 100\n",
    "  print(f\"- NaN's Found: {null_count} ({round(null_perc,2)}%)\")\n",
    "  return fig"
   ]
  },
  {
   "cell_type": "code",
   "execution_count": 19,
   "id": "67c257e7-9d89-4271-b2fd-7db15b4570c4",
   "metadata": {},
   "outputs": [
    {
     "data": {
      "image/png": "[encoded data removed]",
      "text/plain": [
       "<Figure size 600x500 with 2 Axes>"
      ]
     },
     "metadata": {},
     "output_type": "display_data"
    },
    {
     "name": "stdout",
     "output_type": "stream",
     "text": [
      "- NaN's Found: 490 (16.72%)\n"
     ]
    }
   ],
   "source": [
    "# Review output\n",
    "fig = explore_numeric(df, 'Lot Frontage')"
   ]
  },
  {
   "cell_type": "code",
   "execution_count": 20,
   "id": "05ca22c2-8fce-4918-b941-f64af9ca4e70",
   "metadata": {},
   "outputs": [
    {
     "data": {
      "image/png": "[encoded data removed]",
      "text/plain": [
       "<Figure size 600x400 with 1 Axes>"
      ]
     },
     "metadata": {},
     "output_type": "display_data"
    }
   ],
   "source": [
    "# Try a categorical column to test conditional statement\n",
    "column = 'Alley'\n",
    "if df[column].dtype == 'object':\n",
    "    fig = explore_categorical(df, column)\n",
    "else:\n",
    "    fig = explore_numeric(df, column)"
   ]
  },
  {
   "cell_type": "code",
   "execution_count": 21,
   "id": "f184325d-c41c-4596-81e6-ba6102109469",
   "metadata": {},
   "outputs": [
    {
     "data": {
      "image/png": "[encoded data removed]",
      "text/plain": [
       "<Figure size 600x500 with 2 Axes>"
      ]
     },
     "metadata": {},
     "output_type": "display_data"
    },
    {
     "name": "stdout",
     "output_type": "stream",
     "text": [
      "- NaN's Found: 490 (16.72%)\n"
     ]
    }
   ],
   "source": [
    "# Try a numeric column to test conditional statement\n",
    "column = 'Lot Frontage'\n",
    "if df[column].dtype == 'object':\n",
    "    fig = explore_categorical(df, column)\n",
    "else:\n",
    "    fig = explore_numeric(df, column)"
   ]
  },
  {
   "cell_type": "code",
   "execution_count": 22,
   "id": "161fc832-1c05-479b-b8fd-56fffeca89fa",
   "metadata": {},
   "outputs": [
    {
     "data": {
      "text/plain": [
       "['SalePrice',\n",
       " 'Living Area Sqft',\n",
       " 'Lot Frontage',\n",
       " 'Bldg Type',\n",
       " 'Bedroom',\n",
       " 'Total Full Baths',\n",
       " 'MS Zoning',\n",
       " 'Street',\n",
       " 'Alley',\n",
       " 'Utilities']"
      ]
     },
     "execution_count": 22,
     "metadata": {},
     "output_type": "execute_result"
    }
   ],
   "source": [
    "# Check list of columns\n",
    "columns_to_use"
   ]
  },
  {
   "cell_type": "code",
   "execution_count": null,
   "id": "d346834a-fd17-4a22-8265-bb0a3d3ee366",
   "metadata": {},
   "outputs": [],
   "source": []
  }
 ],
 "metadata": {
  "kernelspec": {
   "display_name": "Python (dojo-env)",
   "language": "python",
   "name": "dojo-env"
  },
  "language_info": {
   "codemirror_mode": {
    "name": "ipython",
    "version": 3
   },
   "file_extension": ".py",
   "mimetype": "text/x-python",
   "name": "python",
   "nbconvert_exporter": "python",
   "pygments_lexer": "ipython3",
   "version": "3.10.10"
  }
 },
 "nbformat": 4,
 "nbformat_minor": 5
}
