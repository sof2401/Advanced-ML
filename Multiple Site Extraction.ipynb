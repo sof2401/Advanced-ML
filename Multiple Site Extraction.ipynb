{
 "cells": [
  {
   "cell_type": "code",
   "execution_count": 1,
   "id": "ae4a2c6c-9ba9-4c4b-bcec-9164daf79bc2",
   "metadata": {},
   "outputs": [],
   "source": [
    "import pandas as pd\n",
    "import requests\n",
    "from bs4 import BeautifulSoup"
   ]
  },
  {
   "cell_type": "code",
   "execution_count": 2,
   "id": "bea555e6-b54a-400a-bc03-761d3a542297",
   "metadata": {},
   "outputs": [
    {
     "data": {
      "text/html": [
       "<div>\n",
       "<style scoped>\n",
       "    .dataframe tbody tr th:only-of-type {\n",
       "        vertical-align: middle;\n",
       "    }\n",
       "\n",
       "    .dataframe tbody tr th {\n",
       "        vertical-align: top;\n",
       "    }\n",
       "\n",
       "    .dataframe thead th {\n",
       "        text-align: right;\n",
       "    }\n",
       "</style>\n",
       "<table border=\"1\" class=\"dataframe\">\n",
       "  <thead>\n",
       "    <tr style=\"text-align: right;\">\n",
       "      <th></th>\n",
       "      <th>Title</th>\n",
       "      <th>Company</th>\n",
       "      <th>Location</th>\n",
       "      <th>Date Posted</th>\n",
       "      <th>Learn Link</th>\n",
       "      <th>Apply Link</th>\n",
       "    </tr>\n",
       "  </thead>\n",
       "  <tbody>\n",
       "    <tr>\n",
       "      <th>0</th>\n",
       "      <td>Senior Python Developer</td>\n",
       "      <td>Payne, Roberts and Davis</td>\n",
       "      <td>Stewartbury, AA</td>\n",
       "      <td>2021-04-08</td>\n",
       "      <td>https://www.realpython.com</td>\n",
       "      <td>https://realpython.github.io/fake-jobs/jobs/se...</td>\n",
       "    </tr>\n",
       "    <tr>\n",
       "      <th>1</th>\n",
       "      <td>Energy engineer</td>\n",
       "      <td>Vasquez-Davidson</td>\n",
       "      <td>Christopherville, AA</td>\n",
       "      <td>2021-04-08</td>\n",
       "      <td>https://www.realpython.com</td>\n",
       "      <td>https://realpython.github.io/fake-jobs/jobs/en...</td>\n",
       "    </tr>\n",
       "    <tr>\n",
       "      <th>2</th>\n",
       "      <td>Legal executive</td>\n",
       "      <td>Jackson, Chambers and Levy</td>\n",
       "      <td>Port Ericaburgh, AA</td>\n",
       "      <td>2021-04-08</td>\n",
       "      <td>https://www.realpython.com</td>\n",
       "      <td>https://realpython.github.io/fake-jobs/jobs/le...</td>\n",
       "    </tr>\n",
       "    <tr>\n",
       "      <th>3</th>\n",
       "      <td>Fitness centre manager</td>\n",
       "      <td>Savage-Bradley</td>\n",
       "      <td>East Seanview, AP</td>\n",
       "      <td>2021-04-08</td>\n",
       "      <td>https://www.realpython.com</td>\n",
       "      <td>https://realpython.github.io/fake-jobs/jobs/fi...</td>\n",
       "    </tr>\n",
       "    <tr>\n",
       "      <th>4</th>\n",
       "      <td>Product manager</td>\n",
       "      <td>Ramirez Inc</td>\n",
       "      <td>North Jamieview, AP</td>\n",
       "      <td>2021-04-08</td>\n",
       "      <td>https://www.realpython.com</td>\n",
       "      <td>https://realpython.github.io/fake-jobs/jobs/pr...</td>\n",
       "    </tr>\n",
       "  </tbody>\n",
       "</table>\n",
       "</div>"
      ],
      "text/plain": [
       "                     Title                     Company              Location  \\\n",
       "0  Senior Python Developer    Payne, Roberts and Davis       Stewartbury, AA   \n",
       "1          Energy engineer            Vasquez-Davidson  Christopherville, AA   \n",
       "2          Legal executive  Jackson, Chambers and Levy   Port Ericaburgh, AA   \n",
       "3   Fitness centre manager              Savage-Bradley     East Seanview, AP   \n",
       "4          Product manager                 Ramirez Inc   North Jamieview, AP   \n",
       "\n",
       "  Date Posted                  Learn Link  \\\n",
       "0  2021-04-08  https://www.realpython.com   \n",
       "1  2021-04-08  https://www.realpython.com   \n",
       "2  2021-04-08  https://www.realpython.com   \n",
       "3  2021-04-08  https://www.realpython.com   \n",
       "4  2021-04-08  https://www.realpython.com   \n",
       "\n",
       "                                          Apply Link  \n",
       "0  https://realpython.github.io/fake-jobs/jobs/se...  \n",
       "1  https://realpython.github.io/fake-jobs/jobs/en...  \n",
       "2  https://realpython.github.io/fake-jobs/jobs/le...  \n",
       "3  https://realpython.github.io/fake-jobs/jobs/fi...  \n",
       "4  https://realpython.github.io/fake-jobs/jobs/pr...  "
      ]
     },
     "execution_count": 2,
     "metadata": {},
     "output_type": "execute_result"
    }
   ],
   "source": [
    "# Load csv using your path\n",
    "jobs_df = pd.read_csv('Data/fake-job-listings-scraped.csv')\n",
    "jobs_df.head()"
   ]
  },
  {
   "cell_type": "code",
   "execution_count": 3,
   "id": "e8530167-93e6-4178-93fc-23cfc43c85c6",
   "metadata": {},
   "outputs": [
    {
     "data": {
      "text/plain": [
       "0    https://realpython.github.io/fake-jobs/jobs/se...\n",
       "1    https://realpython.github.io/fake-jobs/jobs/en...\n",
       "2    https://realpython.github.io/fake-jobs/jobs/le...\n",
       "3    https://realpython.github.io/fake-jobs/jobs/fi...\n",
       "4    https://realpython.github.io/fake-jobs/jobs/pr...\n",
       "Name: Apply Link, dtype: object"
      ]
     },
     "execution_count": 3,
     "metadata": {},
     "output_type": "execute_result"
    }
   ],
   "source": [
    "# Getting list links \n",
    "links = jobs_df['Apply Link']\n",
    "links[0:5]"
   ]
  },
  {
   "cell_type": "code",
   "execution_count": 4,
   "id": "6e9012b1-21aa-4af2-9170-4fe997cee4cf",
   "metadata": {},
   "outputs": [
    {
     "data": {
      "text/plain": [
       "'https://realpython.github.io/fake-jobs/jobs/senior-python-developer-0.html'"
      ]
     },
     "execution_count": 4,
     "metadata": {},
     "output_type": "execute_result"
    }
   ],
   "source": [
    "# Slicing a test link\n",
    "link = links[0]\n",
    "link"
   ]
  },
  {
   "cell_type": "code",
   "execution_count": 5,
   "id": "2ce6e24e-2f09-4779-bfee-a83751d472fa",
   "metadata": {},
   "outputs": [],
   "source": [
    "# Get the job page's response\n",
    "import time\n",
    "\n",
    "response = requests.get(link)\n",
    "time.sleep(2)"
   ]
  },
  {
   "cell_type": "code",
   "execution_count": 9,
   "id": "c473a9a0-3c28-46e6-8c4c-3094748b582f",
   "metadata": {},
   "outputs": [
    {
     "name": "stdout",
     "output_type": "stream",
     "text": [
      "<!DOCTYPE html>\n",
      "<html>\n",
      " <head>\n",
      "  <meta charset=\"utf-8\"/>\n",
      "  <meta content=\"width=device-width, initial-scale=1\" name=\"viewport\"/>\n",
      "  <title>\n",
      "   Fake Python\n",
      "  </title>\n",
      "  <link href=\"https://cdn.jsdelivr.net/npm/bulma@0.9.2/css/bulma.min.css\" rel=\"stylesheet\"/>\n",
      " </head>\n",
      " <body>\n",
      "  <section class=\"section\">\n",
      "   <div class=\"container mb-5\">\n",
      "    <h1 class=\"title is-1\">\n",
      "     Fake Python\n",
      "    </h1>\n",
      "    <p class=\"subtitle is-3\">\n",
      "     Fake Jobs for Your Web Scraping Journey\n",
      "    </p>\n",
      "   </div>\n",
      "   <div class=\"container\">\n",
      "    <div class=\"columns is-multiline\" id=\"ResultsContainer\">\n",
      "     <div class=\"box\">\n",
      "      <h1 class=\"title is-2\">\n",
      "       Senior Python Developer\n",
      "      </h1>\n",
      "      <h2 class=\"subtitle is-4 company\">\n",
      "       Payne, Roberts and Davis\n",
      "      </h2>\n",
      "      <div class=\"content\">\n",
      "       <p>\n",
      "        Professional asset web application environmentally friendly detail-oriented asset. Coordinate educational dashboard agile employ growth opportunity. Company programs CSS explore role. Html educational\n"
     ]
    }
   ],
   "source": [
    "#Save response.content as a BeautifulSoup Object\n",
    "soup = BeautifulSoup(response.content)\n",
    "# Preview the result\n",
    "print(soup.prettify()[:1000])"
   ]
  },
  {
   "cell_type": "code",
   "execution_count": 13,
   "id": "313b54ce-cd13-4495-8902-11dee9699278",
   "metadata": {},
   "outputs": [
    {
     "data": {
      "text/html": [
       "<!DOCTYPE html>\n",
       "<html>\n",
       "<head>\n",
       "<meta charset=\"utf-8\"/>\n",
       "<meta content=\"width=device-width, initial-scale=1\" name=\"viewport\"/>\n",
       "<title>Fake Python</title>\n",
       "<link href=\"https://cdn.jsdelivr.net/npm/bulma@0.9.2/css/bulma.min.css\" rel=\"stylesheet\"/>\n",
       "</head>\n",
       "<body>\n",
       "<section class=\"section\">\n",
       "<div class=\"container mb-5\">\n",
       "<h1 class=\"title is-1\">\n",
       "        Fake Python\n",
       "      </h1>\n",
       "<p class=\"subtitle is-3\">\n",
       "        Fake Jobs for Your Web Scraping Journey\n",
       "      </p>\n",
       "</div>\n",
       "<div class=\"container\">\n",
       "<div class=\"columns is-multiline\" id=\"ResultsContainer\">\n",
       "<div class=\"box\">\n",
       "<h1 class=\"title is-2\">Senior Python Developer</h1>\n",
       "<h2 class=\"subtitle is-4 company\">Payne, Roberts and Davis</h2>\n",
       "<div class=\"content\">\n",
       "<p>Professional asset web application environmentally friendly detail-oriented asset. Coordinate educational dashboard agile employ growth opportunity. Company programs CSS explore role. Html educational grit web application. Oversea SCRUM talented support. Web Application fast-growing communities inclusive programs job CSS. Css discussions growth opportunity explore open-minded oversee. Css Python environmentally friendly collaborate inclusive role. Django no experience oversee dashboard environmentally friendly willing to learn programs. Programs open-minded programs asset.</p>\n",
       "<p id=\"location\"><strong>Location:</strong> Stewartbury, AA</p>\n",
       "<p id=\"date\"><strong>Posted:</strong> 2021-04-08</p>\n",
       "</div>\n",
       "</div>\n",
       "</div>\n",
       "</div>\n",
       "</section>\n",
       "</body>\n",
       "</html>\n"
      ],
      "text/plain": [
       "<IPython.core.display.HTML object>"
      ]
     },
     "execution_count": 13,
     "metadata": {},
     "output_type": "execute_result"
    }
   ],
   "source": [
    "from IPython.display import HTML\n",
    "#visualizing the page\n",
    "HTML(str(soup))"
   ]
  },
  {
   "cell_type": "code",
   "execution_count": 15,
   "id": "d520b1f4-d2f1-4a3d-adab-da444e43d69c",
   "metadata": {},
   "outputs": [
    {
     "data": {
      "text/plain": [
       "4"
      ]
     },
     "execution_count": 15,
     "metadata": {},
     "output_type": "execute_result"
    }
   ],
   "source": [
    "#Find paragraph tags\n",
    "p_tags = soup.find_all('p')\n",
    "len(p_tags)"
   ]
  },
  {
   "cell_type": "code",
   "execution_count": 16,
   "id": "b00c4027-dee7-4fb5-9dd2-96849d66f3d4",
   "metadata": {},
   "outputs": [
    {
     "data": {
      "text/plain": [
       "[<p class=\"subtitle is-3\">\n",
       "         Fake Jobs for Your Web Scraping Journey\n",
       "       </p>,\n",
       " <p>Professional asset web application environmentally friendly detail-oriented asset. Coordinate educational dashboard agile employ growth opportunity. Company programs CSS explore role. Html educational grit web application. Oversea SCRUM talented support. Web Application fast-growing communities inclusive programs job CSS. Css discussions growth opportunity explore open-minded oversee. Css Python environmentally friendly collaborate inclusive role. Django no experience oversee dashboard environmentally friendly willing to learn programs. Programs open-minded programs asset.</p>,\n",
       " <p id=\"location\"><strong>Location:</strong> Stewartbury, AA</p>,\n",
       " <p id=\"date\"><strong>Posted:</strong> 2021-04-08</p>]"
      ]
     },
     "execution_count": 16,
     "metadata": {},
     "output_type": "execute_result"
    }
   ],
   "source": [
    "# Inspect the p-tags\n",
    "p_tags"
   ]
  },
  {
   "cell_type": "code",
   "execution_count": 18,
   "id": "635429e4-8389-4e94-9614-035f10956340",
   "metadata": {},
   "outputs": [
    {
     "data": {
      "text/plain": [
       "1"
      ]
     },
     "execution_count": 18,
     "metadata": {},
     "output_type": "execute_result"
    }
   ],
   "source": [
    "#Finding paragraphs with no id or class\n",
    "p_tags = soup.find_all('p',{'id':\"\",'class':''})\n",
    "len(p_tags)"
   ]
  },
  {
   "cell_type": "code",
   "execution_count": 19,
   "id": "89e40189-ecce-45bd-b9cf-9a8dc4f78d8c",
   "metadata": {},
   "outputs": [
    {
     "data": {
      "text/plain": [
       "<p>Professional asset web application environmentally friendly detail-oriented asset. Coordinate educational dashboard agile employ growth opportunity. Company programs CSS explore role. Html educational grit web application. Oversea SCRUM talented support. Web Application fast-growing communities inclusive programs job CSS. Css discussions growth opportunity explore open-minded oversee. Css Python environmentally friendly collaborate inclusive role. Django no experience oversee dashboard environmentally friendly willing to learn programs. Programs open-minded programs asset.</p>"
      ]
     },
     "execution_count": 19,
     "metadata": {},
     "output_type": "execute_result"
    }
   ],
   "source": [
    "# Confirm the information is the job description\n",
    "p_tags[0]"
   ]
  },
  {
   "cell_type": "code",
   "execution_count": 20,
   "id": "075d262b-e39d-41df-8aa3-4ec4bb2dca70",
   "metadata": {},
   "outputs": [
    {
     "data": {
      "text/plain": [
       "'Professional asset web application environmentally friendly detail-oriented asset. Coordinate educational dashboard agile employ growth opportunity. Company programs CSS explore role. Html educational grit web application. Oversea SCRUM talented support. Web Application fast-growing communities inclusive programs job CSS. Css discussions growth opportunity explore open-minded oversee. Css Python environmentally friendly collaborate inclusive role. Django no experience oversee dashboard environmentally friendly willing to learn programs. Programs open-minded programs asset.'"
      ]
     },
     "execution_count": 20,
     "metadata": {},
     "output_type": "execute_result"
    }
   ],
   "source": [
    "job_details = p_tags[0].text\n",
    "job_details"
   ]
  },
  {
   "cell_type": "code",
   "execution_count": 21,
   "id": "5c3d1164-df19-4b7d-a41b-bb72db1eb01e",
   "metadata": {},
   "outputs": [
    {
     "data": {
      "text/plain": [
       "['Professional asset web application environmentally friendly detail-oriented asset. Coordinate educational dashboard agile employ growth opportunity. Company programs CSS explore role. Html educational grit web application. Oversea SCRUM talented support. Web Application fast-growing communities inclusive programs job CSS. Css discussions growth opportunity explore open-minded oversee. Css Python environmentally friendly collaborate inclusive role. Django no experience oversee dashboard environmentally friendly willing to learn programs. Programs open-minded programs asset.',\n",
       " 'Party prevent live. Quickly candidate change although. Together type music hospital. Every speech support time operation wear often.',\n",
       " 'Administration even relate head color. Staff beyond chair recently and off. Own available buy country store build before. Already against which continue. Look road article quickly. International big employee determine positive go Congress. Level others record hospital employee toward like.',\n",
       " 'Tv program actually race tonight themselves true power. Study economy night actually score from. Name care several. Good explain grow water plant perform resource. Security stock ball organization recognize civil. Pm her then nothing increase.',\n",
       " 'Traditional page a although for study anyone. Could yourself plan base rise would. Wear individual about add senior woman. Partner couple part cup few read consider. Take however ball ever laugh society technology. President stage population boy.']"
      ]
     },
     "execution_count": 21,
     "metadata": {},
     "output_type": "execute_result"
    }
   ],
   "source": [
    "import time\n",
    "# Links to retreive\n",
    "links = jobs_df['Apply Link']\n",
    "\n",
    "# Empty list for saving details\n",
    "job_details_list = []\n",
    "\n",
    "for link in links:\n",
    "    try:\n",
    "        response = requests.get(link)\n",
    "        # 1-sec pause \n",
    "        time.sleep(1)\n",
    "\n",
    "        # Make the soup and find the p-tag\n",
    "        soup = BeautifulSoup(response.content)\n",
    "        p_tag = soup.find_all('p',{'id':\"\",'class':''})\n",
    "\n",
    "        # Appending the job details\n",
    "        job_details_list.append(p_tag[0].text)\n",
    "\n",
    "\n",
    "    except:\n",
    "        print(f\"Something went wrong with {link}. Status code: {response.status_code}\")\n",
    "        # Appending a null value for the job \n",
    "        job_details_list.append(pd.NA)\n",
    "        \n",
    "        \n",
    "\n",
    "job_details_list[:5]"
   ]
  },
  {
   "cell_type": "code",
   "execution_count": 22,
   "id": "566527d4-8bf5-4766-aab0-640142f6d755",
   "metadata": {},
   "outputs": [
    {
     "data": {
      "text/html": [
       "<div>\n",
       "<style scoped>\n",
       "    .dataframe tbody tr th:only-of-type {\n",
       "        vertical-align: middle;\n",
       "    }\n",
       "\n",
       "    .dataframe tbody tr th {\n",
       "        vertical-align: top;\n",
       "    }\n",
       "\n",
       "    .dataframe thead th {\n",
       "        text-align: right;\n",
       "    }\n",
       "</style>\n",
       "<table border=\"1\" class=\"dataframe\">\n",
       "  <thead>\n",
       "    <tr style=\"text-align: right;\">\n",
       "      <th></th>\n",
       "      <th>Title</th>\n",
       "      <th>Company</th>\n",
       "      <th>Location</th>\n",
       "      <th>Date Posted</th>\n",
       "      <th>Learn Link</th>\n",
       "      <th>Apply Link</th>\n",
       "      <th>Details</th>\n",
       "    </tr>\n",
       "  </thead>\n",
       "  <tbody>\n",
       "    <tr>\n",
       "      <th>0</th>\n",
       "      <td>Senior Python Developer</td>\n",
       "      <td>Payne, Roberts and Davis</td>\n",
       "      <td>Stewartbury, AA</td>\n",
       "      <td>2021-04-08</td>\n",
       "      <td>https://www.realpython.com</td>\n",
       "      <td>https://realpython.github.io/fake-jobs/jobs/se...</td>\n",
       "      <td>Professional asset web application environment...</td>\n",
       "    </tr>\n",
       "    <tr>\n",
       "      <th>1</th>\n",
       "      <td>Energy engineer</td>\n",
       "      <td>Vasquez-Davidson</td>\n",
       "      <td>Christopherville, AA</td>\n",
       "      <td>2021-04-08</td>\n",
       "      <td>https://www.realpython.com</td>\n",
       "      <td>https://realpython.github.io/fake-jobs/jobs/en...</td>\n",
       "      <td>Party prevent live. Quickly candidate change a...</td>\n",
       "    </tr>\n",
       "    <tr>\n",
       "      <th>2</th>\n",
       "      <td>Legal executive</td>\n",
       "      <td>Jackson, Chambers and Levy</td>\n",
       "      <td>Port Ericaburgh, AA</td>\n",
       "      <td>2021-04-08</td>\n",
       "      <td>https://www.realpython.com</td>\n",
       "      <td>https://realpython.github.io/fake-jobs/jobs/le...</td>\n",
       "      <td>Administration even relate head color. Staff b...</td>\n",
       "    </tr>\n",
       "    <tr>\n",
       "      <th>3</th>\n",
       "      <td>Fitness centre manager</td>\n",
       "      <td>Savage-Bradley</td>\n",
       "      <td>East Seanview, AP</td>\n",
       "      <td>2021-04-08</td>\n",
       "      <td>https://www.realpython.com</td>\n",
       "      <td>https://realpython.github.io/fake-jobs/jobs/fi...</td>\n",
       "      <td>Tv program actually race tonight themselves tr...</td>\n",
       "    </tr>\n",
       "    <tr>\n",
       "      <th>4</th>\n",
       "      <td>Product manager</td>\n",
       "      <td>Ramirez Inc</td>\n",
       "      <td>North Jamieview, AP</td>\n",
       "      <td>2021-04-08</td>\n",
       "      <td>https://www.realpython.com</td>\n",
       "      <td>https://realpython.github.io/fake-jobs/jobs/pr...</td>\n",
       "      <td>Traditional page a although for study anyone. ...</td>\n",
       "    </tr>\n",
       "  </tbody>\n",
       "</table>\n",
       "</div>"
      ],
      "text/plain": [
       "                     Title                     Company              Location  \\\n",
       "0  Senior Python Developer    Payne, Roberts and Davis       Stewartbury, AA   \n",
       "1          Energy engineer            Vasquez-Davidson  Christopherville, AA   \n",
       "2          Legal executive  Jackson, Chambers and Levy   Port Ericaburgh, AA   \n",
       "3   Fitness centre manager              Savage-Bradley     East Seanview, AP   \n",
       "4          Product manager                 Ramirez Inc   North Jamieview, AP   \n",
       "\n",
       "  Date Posted                  Learn Link  \\\n",
       "0  2021-04-08  https://www.realpython.com   \n",
       "1  2021-04-08  https://www.realpython.com   \n",
       "2  2021-04-08  https://www.realpython.com   \n",
       "3  2021-04-08  https://www.realpython.com   \n",
       "4  2021-04-08  https://www.realpython.com   \n",
       "\n",
       "                                          Apply Link  \\\n",
       "0  https://realpython.github.io/fake-jobs/jobs/se...   \n",
       "1  https://realpython.github.io/fake-jobs/jobs/en...   \n",
       "2  https://realpython.github.io/fake-jobs/jobs/le...   \n",
       "3  https://realpython.github.io/fake-jobs/jobs/fi...   \n",
       "4  https://realpython.github.io/fake-jobs/jobs/pr...   \n",
       "\n",
       "                                             Details  \n",
       "0  Professional asset web application environment...  \n",
       "1  Party prevent live. Quickly candidate change a...  \n",
       "2  Administration even relate head color. Staff b...  \n",
       "3  Tv program actually race tonight themselves tr...  \n",
       "4  Traditional page a although for study anyone. ...  "
      ]
     },
     "execution_count": 22,
     "metadata": {},
     "output_type": "execute_result"
    }
   ],
   "source": [
    "# Adding the job details to the dataframe\n",
    "jobs_df['Details'] = job_details_list\n",
    "jobs_df.head()"
   ]
  },
  {
   "cell_type": "code",
   "execution_count": 27,
   "id": "73a79eb0-77cf-4f5f-8721-eece2597807a",
   "metadata": {},
   "outputs": [],
   "source": [
    "jobs_df.to_csv(\"Data/fake-job-listings-scraped-v2.csv\", index=False)"
   ]
  },
  {
   "cell_type": "code",
   "execution_count": null,
   "id": "ed3cfd5a-f540-4109-b340-8069ad8cc13d",
   "metadata": {},
   "outputs": [],
   "source": []
  }
 ],
 "metadata": {
  "kernelspec": {
   "display_name": "Python (dojo-env)",
   "language": "python",
   "name": "dojo-env"
  },
  "language_info": {
   "codemirror_mode": {
    "name": "ipython",
    "version": 3
   },
   "file_extension": ".py",
   "mimetype": "text/x-python",
   "name": "python",
   "nbconvert_exporter": "python",
   "pygments_lexer": "ipython3",
   "version": "3.10.10"
  }
 },
 "nbformat": 4,
 "nbformat_minor": 5
}
