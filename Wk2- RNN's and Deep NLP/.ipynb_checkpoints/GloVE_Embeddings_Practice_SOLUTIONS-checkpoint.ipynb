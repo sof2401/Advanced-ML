{
 "cells": [
  {
   "cell_type": "markdown",
   "id": "9e72a1a3-424b-41e5-bea9-40bf58e86526",
   "metadata": {},
   "source": [
    "<table style=\"background-color: rgb(13,32,76); border-radius: 10px\">\r\n",
    "\t<thead>\r\n",
    "\t\t<tr>\r\n",
    "\t\t\t<th colspan=\"2\" style=\"border: hidden; vertical-align: top;\" width=\"15%\"><img src=\"https://assets.codingdojo.com/boomyeah2015/codingdojo/curriculum/content/chapter/1674755226__Icons_400px_Practice Assignment.png\">\r\n",
    "\t\t\t</th>\r\n",
    "\t\t\t<th style=\"border: hidden;\">\r\n",
    "\t\t\t\t<h1 style=\"color: white;\">GloVe Embeddings (Practice)</h1>\r\n",
    "\t\t\t</th>\r\n",
    "\t\t</tr>\r\n",
    "\t</thead>\r\n",
    "</table>\r\n",
    "<p>This practice assignment will reinforce important learning objectives from the previous lesson(s), and allow you to take on more challenging core assignments, preparing you for graduation.<br></p>\r\n",
    "<p>Practice and tinker with this assignment until you're comfortable performing each of the tasks. Then, be sure to submit your output as described in the steps below.</p>\r\n",
    "<hr>\r\n",
    "<h2>GloVe Embeddings</h2>\r\n",
    "<h4>Instructions</h4>\r\n",
    "<p>\r\n",
    "</p>\r\n",
    "<h1><span style=\"color: rgb(80, 80, 80); font-size: 14px; font-weight: normal;\">Work with the Yelp restaurant data from the previous lessons. You should already have saved it, but <a href=\"https://drive.google.com/file/d/1Q0eWuSXPJg6lYofPfdrUf18zcFvljJqL/view?usp=sharing\" target=\"_blank\">here</a> it is for reference.</span></h1>\r\n",
    "<p><br></p>\r\n",
    "<ul><li>Make a Gensim KeyedVectors object using the GloVe.6B.300d.text file from: <a href=\"https://nlp.stanford.edu/projects/glove/\">https://nlp.stanford.edu/projects/glove/</a>.  Note that this file was included in the glove3b.zip that we downloaded in the previous lesson.</li><li>Explore the KeyedVector object<ul><li>How many words are included?</li><li>Output the vector for the word \"explore\"</li><li>What is the shape of the word vector array for a single word?</li><li>Find the top 10 words that are similar to \"explore\" based on their vectors</li></ul></li><li>Build and train sequence vectorizer with an output sequence length of 400. Our solution used the custom make_text_vectorizaton_layer with default arguments, but feel free to explore!</li><li>Create an embedding matrix for the vocabulary words from the sequence vectorizer by looping through each word in the vocabulary and combining it with its associated GloVe vector</li><li>Create a Keras embedding layer using the embedding matrix, set the \"trainable\" argument to \"False\"<ul><li>Use embedding dimensions to match the GloVe file (300)</li></ul></li><li>Define a function to build an RNN model using the GloVe embedding layer you created in the previous step<ul><li>Choose any variation of an LSTM or GRU model you wish to try</li></ul></li><li>Build, fit, and evaluate the model</li></ul>\r\n",
    "<p>Solution</p>\r\n",
    "<p><br></p>\r\n",
    "<p><br></p>"
   ]
  },
  {
   "cell_type": "code",
   "execution_count": 1,
   "id": "1dff37b7-94af-4679-9fbd-3b567e65f0bf",
   "metadata": {},
   "outputs": [],
   "source": [
    "import tensorflow as tf\n",
    "import numpy as np\n",
    "\n",
    "# Then Set Random Seeds\n",
    "tf.keras.utils.set_random_seed(42)\n",
    "tf.random.set_seed(42)\n",
    "np.random.seed(42)\n",
    "\n",
    "# Then run the Enable Deterministic Operations Function\n",
    "tf.config.experimental.enable_op_determinism()"
   ]
  },
  {
   "cell_type": "code",
   "execution_count": 2,
   "id": "883e7930-36a4-40e2-ac2d-fea2de8ca7cd",
   "metadata": {},
   "outputs": [],
   "source": [
    "import pandas as pd\n",
    "from tensorflow.keras.layers import TextVectorization\n",
    "from tensorflow.keras import layers\n",
    "from tensorflow.keras import optimizers\n",
    "from tensorflow.keras.layers import Embedding\n",
    "\n",
    "from imblearn.under_sampling import RandomUnderSampler\n",
    "from sklearn.preprocessing import LabelEncoder\n",
    "\n",
    "from sklearn import set_config\n",
    "set_config(transform_output='pandas')\n",
    "\n",
    "pd.set_option('display.max_colwidth', 250)"
   ]
  },
  {
   "cell_type": "code",
   "execution_count": 3,
   "id": "11d1ee45-01f8-4741-8a61-7d37698920be",
   "metadata": {},
   "outputs": [],
   "source": [
    "# You could access this function from a .py file instead of loading it here!\n",
    "from pprint import pprint\n",
    "def make_text_vectorization_layer(train_ds,  max_tokens=None, \n",
    "                                  split='whitespace',\n",
    "                                  standardize=\"lower_and_strip_punctuation\",\n",
    "                                  output_mode=\"int\",\n",
    "                                  output_sequence_length=None,\n",
    "                                  ngrams=None, pad_to_max_tokens=False,\n",
    "                                  verbose=True,\n",
    "                                  **kwargs,\n",
    "                                 ):\n",
    "\n",
    "\n",
    "    # Build the text vectorization layer\n",
    "    text_vectorizer = tf.keras.layers.TextVectorization(\n",
    "        max_tokens=max_tokens,\n",
    "        standardize=standardize, \n",
    "        output_mode=output_mode,\n",
    "        output_sequence_length=output_sequence_length,\n",
    "        **kwargs\n",
    "    )\n",
    "\n",
    "    # Get just the text from the training data\n",
    "    if isinstance(train_ds, (np.ndarray, list, tuple, pd.Series)):\n",
    "        ds_texts = train_ds\n",
    "    else:\n",
    "        try:\n",
    "            ds_texts = train_ds.map(lambda x, y: x )\n",
    "        except:\n",
    "            ds_texts = train_ds\n",
    "            \n",
    "    # Fit the layer on the training texts\n",
    "    text_vectorizer.adapt(ds_texts)\n",
    "    \n",
    "    \n",
    "    if verbose:\n",
    "        # Print the params\n",
    "        print( \"\\ntf.keras.layers.TextVectorization(\" )\n",
    "        config = text_vectorizer.get_config()\n",
    "        pprint(config,indent=4)\n",
    "        print(\")\")\n",
    "               \n",
    "    # SAVING VOCAB FOR LATER\n",
    "    # Getting list of vocab \n",
    "    vocab = text_vectorizer.get_vocabulary()\n",
    "    # Save dictionaries to look up words from ints \n",
    "    int_to_str  = {idx:word for idx, word in enumerate(vocab)}\n",
    "    \n",
    "    return text_vectorizer, int_to_str\n"
   ]
  },
  {
   "cell_type": "code",
   "execution_count": 4,
   "id": "099dfa03-8e62-4a6c-860e-1e23dfcff1dc",
   "metadata": {},
   "outputs": [],
   "source": [
    "## PREVIOUS CLASSIFICATION_METRICS FUNCTION FROM INTRO TO ML\n",
    "from sklearn.metrics import classification_report, ConfusionMatrixDisplay\n",
    "import matplotlib.pyplot as plt\n",
    "import numpy as np\n",
    "def classification_metrics(y_true, y_pred, label='',\n",
    "                           output_dict=False, figsize=(8,4),\n",
    "                           normalize='true', cmap='Blues',\n",
    "                           colorbar=False,values_format=\".2f\"):\n",
    "    \"\"\"Modified version of classification metrics function from Intro to Machine Learning.\n",
    "    Updates:\n",
    "    - Reversed raw counts confusion matrix cmap  (so darker==more).\n",
    "    - Added arg for normalized confusion matrix values_format\n",
    "    \"\"\"\n",
    "    # Get the classification report\n",
    "    report = classification_report(y_true, y_pred)\n",
    "    \n",
    "    ## Print header and report\n",
    "    header = \"-\"*70\n",
    "    print(header, f\" Classification Metrics: {label}\", header, sep='\\n')\n",
    "    print(report)\n",
    "    \n",
    "    ## CONFUSION MATRICES SUBPLOTS\n",
    "    fig, axes = plt.subplots(ncols=2, figsize=figsize)\n",
    "    \n",
    "    # Create a confusion matrix  of raw counts (left subplot)\n",
    "    ConfusionMatrixDisplay.from_predictions(y_true, y_pred,\n",
    "                                            normalize=None, \n",
    "                                            cmap='gist_gray_r',# Updated cmap\n",
    "                                            values_format=\"d\", \n",
    "                                            colorbar=colorbar,\n",
    "                                            ax = axes[0]);\n",
    "    axes[0].set_title(\"Raw Counts\")\n",
    "    \n",
    "    # Create a confusion matrix with the data with normalize argument \n",
    "    ConfusionMatrixDisplay.from_predictions(y_true, y_pred,\n",
    "                                            normalize=normalize,\n",
    "                                            cmap=cmap, \n",
    "                                            values_format=values_format, #New arg\n",
    "                                            colorbar=colorbar,\n",
    "                                            ax = axes[1]);\n",
    "    axes[1].set_title(\"Normalized Confusion Matrix\")\n",
    "    \n",
    "    # Adjust layout and show figure\n",
    "    fig.tight_layout()\n",
    "    plt.show()\n",
    "    \n",
    "    # Return dictionary of classification_report\n",
    "    if output_dict==True:\n",
    "        report_dict = classification_report(y_true, y_pred, output_dict=True)\n",
    "        return report_dict"
   ]
  },
  {
   "cell_type": "code",
   "execution_count": 5,
   "id": "a5773282-24eb-4340-befd-83cd35c93315",
   "metadata": {},
   "outputs": [],
   "source": [
    "def evaluate_classification_network(model, \n",
    "                                    X_train=None, y_train=None, \n",
    "                                    X_test=None, y_test=None,\n",
    "                                    history=None, history_figsize=(6,6),\n",
    "                                    figsize=(6,4), normalize='true',\n",
    "                                    output_dict = False,\n",
    "                                    cmap_train='Blues',\n",
    "                                    cmap_test=\"Reds\",\n",
    "                                    values_format=\".2f\", \n",
    "                                    colorbar=False):\n",
    "    \"\"\"Evaluates a neural network classification task using either\n",
    "    separate X and y arrays or a tensorflow Dataset\n",
    "    \n",
    "    Data Args:\n",
    "        X_train (array, or Dataset)\n",
    "        y_train (array, or None if using a Dataset\n",
    "        X_test (array, or Dataset)\n",
    "        y_test (array, or None if using a Dataset)\n",
    "        history (history object)\n",
    "        \"\"\"\n",
    "    # Plot history, if provided\n",
    "    if history is not None:\n",
    "        plot_history(history, figsize=history_figsize)\n",
    "    ## Adding a Print Header\n",
    "    print(\"\\n\"+'='*80)\n",
    "    print('- Evaluating Network...')\n",
    "    print('='*80)\n",
    "    ## TRAINING DATA EVALUATION\n",
    "    # check if X_train was provided\n",
    "    if X_train is not None:\n",
    "        ## Check if X_train is a dataset\n",
    "        if hasattr(X_train,'map'):\n",
    "            # If it IS a Datset:\n",
    "            # extract y_train and y_train_pred with helper function\n",
    "            y_train, y_train_pred = get_true_pred_labels(model, X_train)\n",
    "        else:\n",
    "            # Get predictions for training data\n",
    "            y_train_pred = model.predict(X_train)\n",
    "        ## Pass both y-vars through helper compatibility function\n",
    "        y_train = convert_y_to_sklearn_classes(y_train)\n",
    "        y_train_pred = convert_y_to_sklearn_classes(y_train_pred)\n",
    "        \n",
    "        # Call the helper function to obtain regression metrics for training data\n",
    "        results_train = classification_metrics(y_train, y_train_pred, \n",
    "                                         output_dict=True, figsize=figsize,\n",
    "                                             colorbar=colorbar, cmap=cmap_train,\n",
    "                                               values_format=values_format,\n",
    "                                         label='Training Data')\n",
    "        \n",
    "        ## Run model.evaluate         \n",
    "        print(\"\\n- Evaluating Training Data:\")\n",
    "        print(model.evaluate(X_train, return_dict=True))\n",
    "    \n",
    "    # If no X_train, then save empty list for results_train\n",
    "    else:\n",
    "        results_train = []\n",
    "    ## TEST DATA EVALUATION\n",
    "    # check if X_test was provided\n",
    "    if X_test is not None:\n",
    "        ## Check if X_train is a dataset\n",
    "        if hasattr(X_test,'map'):\n",
    "            # If it IS a Datset:\n",
    "            # extract y_train and y_train_pred with helper function\n",
    "            y_test, y_test_pred = get_true_pred_labels(model, X_test)\n",
    "        else:\n",
    "            # Get predictions for training data\n",
    "            y_test_pred = model.predict(X_test)\n",
    "        ## Pass both y-vars through helper compatibility function\n",
    "        y_test = convert_y_to_sklearn_classes(y_test)\n",
    "        y_test_pred = convert_y_to_sklearn_classes(y_test_pred)\n",
    "        \n",
    "        # Call the helper function to obtain regression metrics for training data\n",
    "        results_test = classification_metrics(y_test, y_test_pred, \n",
    "                                         output_dict=True, figsize=figsize,\n",
    "                                             colorbar=colorbar, cmap=cmap_test,\n",
    "                                              values_format=values_format,\n",
    "                                         label='Test Data')\n",
    "        \n",
    "        ## Run model.evaluate         \n",
    "        print(\"\\n- Evaluating Test Data:\")\n",
    "        print(model.evaluate(X_test, return_dict=True))\n",
    "      \n",
    "    # If no X_test, then save empty list for results_test\n",
    "    else:\n",
    "        results_test = []\n",
    "      \n",
    "    # Store results in a dictionary\n",
    "    results_dict = {'train':results_train,\n",
    "                    'test': results_test}\n",
    "    if output_dict == True:\n",
    "        return results_dict"
   ]
  },
  {
   "cell_type": "code",
   "execution_count": 6,
   "id": "cf896d88-3780-4f37-9303-af1e0116f105",
   "metadata": {},
   "outputs": [],
   "source": [
    "def plot_history(history,figsize=(6,8)):\n",
    "    # Get a unique list of metrics \n",
    "    all_metrics = np.unique([k.replace('val_','') for k in history.history.keys()])\n",
    "    # Plot each metric\n",
    "    n_plots = len(all_metrics)\n",
    "    fig, axes = plt.subplots(nrows=n_plots, figsize=figsize)\n",
    "    axes = axes.flatten()\n",
    "    # Loop through metric names add get an index for the axes\n",
    "    for i, metric in enumerate(all_metrics):\n",
    "        # Get the epochs and metric values\n",
    "        epochs = history.epoch\n",
    "        score = history.history[metric]\n",
    "        # Plot the training results\n",
    "        axes[i].plot(epochs, score, label=metric, marker='.')\n",
    "        # Plot val results (if they exist)\n",
    "        try:\n",
    "            val_score = history.history[f\"val_{metric}\"]\n",
    "            axes[i].plot(epochs, val_score, label=f\"val_{metric}\",marker='.')\n",
    "        except:\n",
    "            pass\n",
    "        finally:\n",
    "            axes[i].legend()\n",
    "            axes[i].set(title=metric, xlabel=\"Epoch\",ylabel=metric)\n",
    "    # Adjust subplots and show\n",
    "    fig.tight_layout()\n",
    "    plt.show()"
   ]
  },
  {
   "cell_type": "code",
   "execution_count": 7,
   "id": "e0fd97dd-3f85-4030-b57e-6c821b5d245d",
   "metadata": {},
   "outputs": [],
   "source": [
    "def convert_y_to_sklearn_classes(y, verbose=False):\n",
    "    # If already one-dimension\n",
    "    if np.ndim(y)==1:\n",
    "        if verbose:\n",
    "            print(\"- y is 1D, using it as-is.\")\n",
    "        return y\n",
    "        \n",
    "    # If 2 dimensions with more than 1 column:\n",
    "    elif y.shape[1]>1:\n",
    "        if verbose:\n",
    "            print(\"- y is 2D with >1 column. Using argmax for metrics.\")   \n",
    "        return np.argmax(y, axis=1)\n",
    "    \n",
    "    else:\n",
    "        if verbose:\n",
    "            print(\"y is 2D with 1 column. Using round for metrics.\")\n",
    "        return np.round(y).flatten().astype(int)"
   ]
  },
  {
   "cell_type": "code",
   "execution_count": 8,
   "id": "00e2eb1d-ad02-493a-a644-a86f2d3e1fbf",
   "metadata": {},
   "outputs": [],
   "source": [
    "def get_true_pred_labels(model,ds):\n",
    "    \"\"\"Gets the labels and predicted probabilities from a Tensorflow model and Dataset object.\n",
    "    Adapted from source: https://stackoverflow.com/questions/66386561/keras-classification-report-accuracy-is-different-between-model-predict-accurac\n",
    "    \"\"\"\n",
    "    y_true = []\n",
    "    y_pred_probs = []\n",
    "    \n",
    "    # Loop through the dataset as a numpy iterator\n",
    "    for images, labels in ds.as_numpy_iterator():\n",
    "        \n",
    "        # Get prediction with batch_size=1\n",
    "        y_probs = model.predict(images, batch_size=1, verbose=0)\n",
    "        # Combine previous labels/preds with new labels/preds\n",
    "        y_true.extend(labels)\n",
    "        y_pred_probs.extend(y_probs)\n",
    "    ## Convert the lists to arrays\n",
    "    y_true = np.array(y_true)\n",
    "    y_pred_probs = np.array(y_pred_probs)\n",
    "    \n",
    "    return y_true, y_pred_probs"
   ]
  },
  {
   "cell_type": "markdown",
   "id": "5e4644ce-9e94-4470-9f60-76243c10adac",
   "metadata": {},
   "source": [
    "# Create and Explore Keyed Vectors Object"
   ]
  },
  {
   "cell_type": "code",
   "execution_count": 9,
   "id": "64db8b3f-bca8-484f-88b2-b770127403e5",
   "metadata": {},
   "outputs": [],
   "source": [
    "from gensim.models import KeyedVectors\n",
    "\n",
    "# Load GloVe vectors into a gensim model\n",
    "glove_model = KeyedVectors.load_word2vec_format(\"GloVe2/glove.6B.300d.txt\", binary=False, no_header=True)"
   ]
  },
  {
   "cell_type": "code",
   "execution_count": 10,
   "id": "4e1e074e-b015-4788-811a-654de6e1fe7c",
   "metadata": {},
   "outputs": [
    {
     "data": {
      "text/plain": [
       "400000"
      ]
     },
     "execution_count": 10,
     "metadata": {},
     "output_type": "execute_result"
    }
   ],
   "source": [
    "# How many words are included?\n",
    "len(glove_model)"
   ]
  },
  {
   "cell_type": "code",
   "execution_count": 11,
   "id": "fb4f45ae-979d-489e-9286-69b33e1516f5",
   "metadata": {},
   "outputs": [
    {
     "data": {
      "text/plain": [
       "array([-3.7632e-01, -8.3171e-02, -5.4273e-01, -1.8057e-01,  1.0441e-01,\n",
       "        2.5691e-02, -2.3151e-01, -5.2861e-01,  3.4421e-01, -1.2153e+00,\n",
       "        6.3857e-02, -9.4788e-02,  1.1429e-03, -1.0277e-01, -3.6178e-01,\n",
       "       -3.8062e-01,  2.5355e-02,  7.6779e-02,  1.5174e-01,  3.9350e-01,\n",
       "       -2.6153e-01,  5.0544e-01, -1.8084e-01,  3.1431e-01, -1.1805e-02,\n",
       "       -3.2982e-01,  2.1250e-01,  9.6717e-02, -4.1366e-01,  3.5591e-01,\n",
       "        6.4419e-01,  1.9732e-02,  7.2001e-02, -4.5671e-01, -3.3544e-02,\n",
       "        5.0811e-01,  2.1295e-01,  1.8652e-01,  8.7259e-02,  2.6147e-02,\n",
       "        1.2163e-01,  5.4725e-01, -7.9931e-02,  3.1370e-01, -1.6159e-01,\n",
       "        1.8158e-01,  1.3763e-01,  2.7857e-01, -2.7582e-01, -3.2082e-01,\n",
       "        4.9341e-01, -1.5069e-01,  6.7678e-02, -3.8612e-01,  3.1652e-01,\n",
       "        2.4390e-01, -6.3029e-02,  6.2480e-01, -1.4214e-01,  1.0654e-01,\n",
       "        4.1776e-03,  3.3195e-01,  4.0198e-01, -9.1901e-02,  5.3655e-01,\n",
       "        5.8561e-01,  1.7356e-02, -9.8689e-02, -4.6342e-01,  9.8689e-02,\n",
       "        2.1515e-01, -2.4567e-01,  4.6226e-01,  5.4255e-01,  3.7074e-01,\n",
       "       -2.1210e-01, -3.3702e-01,  2.5717e-01,  7.1194e-01, -5.2845e-01,\n",
       "        6.8321e-02, -3.9824e-01, -2.2903e-03, -1.6285e-01, -2.5196e-01,\n",
       "        1.1543e-01,  2.7756e-01,  2.0935e-02,  2.9280e-01, -1.5516e-01,\n",
       "       -4.7587e-01,  3.1289e-01,  2.4219e-02, -3.2518e-02, -1.9139e-01,\n",
       "       -1.5896e-01, -3.4546e-02, -9.3998e-02,  3.2050e-01, -9.6030e-01,\n",
       "       -5.8636e-01, -4.2479e-02, -5.4642e-01, -1.2179e-02,  4.1020e-03,\n",
       "        5.3760e-01,  5.1866e-02, -5.0532e-02,  2.4817e-01, -1.4484e-01,\n",
       "        7.0230e-01, -7.7251e-01, -2.4905e-01, -5.4356e-02,  8.5367e-02,\n",
       "        2.4308e-02,  6.3791e-01,  3.6525e-01,  5.9166e-01,  6.1744e-01,\n",
       "       -2.9750e-02, -6.4703e-02, -2.5467e-01, -3.3750e-01, -4.5338e-01,\n",
       "       -8.6116e-02,  1.3631e-01,  4.0814e-01, -3.9956e-01, -2.7242e-01,\n",
       "        4.4765e-01, -6.9066e-01, -2.6995e-01, -3.0846e-02, -2.7390e-01,\n",
       "        8.1033e-02, -5.7710e-01,  1.6280e-01, -6.2115e-01, -1.9084e-01,\n",
       "        1.3844e-01, -5.8720e-01,  1.2846e-02, -9.5804e-02, -1.8627e-01,\n",
       "        7.6434e-02, -3.3317e-01,  2.0607e-03, -7.3114e-01,  1.0981e-01,\n",
       "       -3.4042e-01,  1.0766e-01,  5.5431e-01, -5.4755e-02,  4.8316e-01,\n",
       "       -5.7751e-01, -4.3664e-01,  5.3434e-02, -4.6485e-01, -5.4957e-01,\n",
       "        3.8713e-01, -1.8634e-01, -1.3309e-01,  1.0033e-01,  2.4378e-01,\n",
       "       -1.4496e-01,  1.4638e-01,  3.1578e-01, -1.3643e-02,  1.2014e-01,\n",
       "       -3.7275e-02, -3.3748e-01, -2.4214e-01, -3.5537e-03,  1.6341e-01,\n",
       "        3.0426e-01, -2.3860e-01, -1.5505e-01, -6.0637e-01, -8.0038e-02,\n",
       "       -3.9210e-01, -7.4154e-02,  4.3053e-02,  1.8521e-01,  1.9401e-01,\n",
       "       -5.6123e-02,  2.0686e-02,  4.0230e-01, -8.0025e-02, -1.0347e-01,\n",
       "       -3.8523e-01,  2.8949e-01, -1.4921e-01,  1.3716e-01,  1.4253e-01,\n",
       "       -1.5307e-01,  1.9261e-01,  4.0881e-01, -5.1526e-01, -7.9313e-02,\n",
       "        2.4884e-01,  1.2562e-01, -4.6108e-01,  3.3366e-01, -4.3460e-02,\n",
       "       -4.8914e-02,  1.0972e-01,  2.3622e-01,  3.1681e-02,  1.6229e-01,\n",
       "       -2.1492e-02, -1.6038e-01,  3.1036e-01,  4.5613e-01, -4.6231e-01,\n",
       "        2.3853e-02,  5.8797e-01,  5.3735e-01,  2.1493e-01,  3.0117e-01,\n",
       "        6.7495e-01, -1.8384e-01, -4.1106e-01,  2.0916e-01,  7.8813e-03,\n",
       "       -9.8446e-02, -2.1112e-02,  2.2169e-02, -5.5887e-01, -1.8148e-01,\n",
       "       -2.0995e-01,  3.6828e-01, -2.3492e-01,  3.1594e-01, -9.4332e-02,\n",
       "        5.0385e-01, -1.2478e-01, -1.5955e-01, -3.7593e-01, -7.5568e-01,\n",
       "       -3.1928e-03,  2.8375e-01,  1.6379e-01,  1.5964e-01, -5.0509e-01,\n",
       "        7.1855e-02, -2.3229e-01,  1.4939e-01,  1.1400e-02,  3.3638e-01,\n",
       "       -1.7604e-01, -3.3501e-02,  3.6175e-01, -1.2927e-02, -2.8346e-01,\n",
       "        3.4999e-01, -1.9900e-01, -9.5043e-03, -4.9453e-01,  6.0552e-01,\n",
       "        3.8123e-01, -7.2041e-01,  2.3237e-01, -7.5546e-01,  4.9538e-01,\n",
       "       -1.7617e-01, -4.3489e-01,  2.2409e-02, -7.6283e-02, -2.2727e-02,\n",
       "       -1.2573e-01,  2.0742e-02,  4.7573e-01,  7.8429e-02,  2.5824e-01,\n",
       "        3.8255e-02, -1.2039e+00, -2.7857e-01,  8.5233e-01, -5.6035e-01,\n",
       "       -4.1599e-01, -3.5418e-01, -1.0325e-01, -7.4598e-02, -4.1358e-01,\n",
       "       -7.6232e-01, -3.2875e-01,  4.1690e-01,  4.1940e-01, -7.6672e-03,\n",
       "       -6.1923e-01, -2.3741e-01, -1.4937e-01, -2.4114e-01, -2.5689e-01,\n",
       "        6.3914e-02, -3.3479e-02,  4.0400e-01,  1.0301e-01,  3.6190e-01],\n",
       "      dtype=float32)"
      ]
     },
     "execution_count": 11,
     "metadata": {},
     "output_type": "execute_result"
    }
   ],
   "source": [
    "# You can now use `glove_model` to access individual word vectors, similar to a dictionary\n",
    "vector = glove_model['explore']\n",
    "vector"
   ]
  },
  {
   "cell_type": "code",
   "execution_count": 12,
   "id": "eb5fc787-11bd-460f-affc-a236ccdd20a6",
   "metadata": {},
   "outputs": [
    {
     "data": {
      "text/plain": [
       "(300,)"
      ]
     },
     "execution_count": 12,
     "metadata": {},
     "output_type": "execute_result"
    }
   ],
   "source": [
    "# shape of vector for a single word\n",
    "vector.shape"
   ]
  },
  {
   "cell_type": "code",
   "execution_count": 13,
   "id": "4cb62fb2-15b9-40d7-821c-330a40b65955",
   "metadata": {},
   "outputs": [
    {
     "data": {
      "text/plain": [
       "[('exploring', 0.8333841562271118),\n",
       " ('explored', 0.6792457103729248),\n",
       " ('possibilities', 0.6162793040275574),\n",
       " ('ways', 0.5818804502487183),\n",
       " ('exploration', 0.577148973941803),\n",
       " ('examine', 0.5751627683639526),\n",
       " ('develop', 0.563709557056427),\n",
       " ('discuss', 0.5340580344200134),\n",
       " ('explores', 0.5253989100456238),\n",
       " ('opportunities', 0.5125430822372437)]"
      ]
     },
     "execution_count": 13,
     "metadata": {},
     "output_type": "execute_result"
    }
   ],
   "source": [
    "# Find similar words\n",
    "glove_model.most_similar('explore', topn=10)"
   ]
  },
  {
   "cell_type": "markdown",
   "id": "563add24-435d-4c5b-af82-1a48150a42f4",
   "metadata": {},
   "source": [
    "# Build and Train a sequence vectorizer"
   ]
  },
  {
   "cell_type": "code",
   "execution_count": 14,
   "id": "c9726f52-b19b-4433-98f4-fb64a0092a41",
   "metadata": {},
   "outputs": [
    {
     "data": {
      "text/plain": [
       "array([0, 1, 2], dtype=int64)"
      ]
     },
     "execution_count": 14,
     "metadata": {},
     "output_type": "execute_result"
    }
   ],
   "source": [
    "# Load Data from your path\n",
    "df = pd.read_csv(\"Data/yelp-restaurant-reviews-CA-2015-2018.csv.gz\", index_col = 'date', parse_dates=['date'])\n",
    "## Remove any non-english reivews\n",
    "df = df.loc[ df['language']=='en'].copy()\n",
    "# Keep only 1,3,5 star reviews\n",
    "df = df.loc[ df['stars'].isin([1,3,5])]\n",
    "# Take a smaller subset\n",
    "df = df.loc['2018']\n",
    "# Set the index\n",
    "df = df.set_index('review_id')\n",
    "# We will split on each space, and then get the length\n",
    "df['sequence_length'] =df['text'].map( lambda x: len(x.split(\" \")))\n",
    "# Define a filter to identify reviews less than 400 words\n",
    "filter_short = df['sequence_length']< 400\n",
    "# Keep short reviews (<400 words)\n",
    "df=  df.loc[filter_short]\n",
    "# Use RUS to reduce n to match minority group\n",
    "sampler = RandomUnderSampler(random_state=42)\n",
    "df_ml,  _ = sampler.fit_resample(df, df['stars'])\n",
    "df_ml['stars'].value_counts()\n",
    "# Define X\n",
    "X = df_ml['text'].values\n",
    "# Create a map for targets\n",
    "target_map = {1:0,\n",
    "              3:1,\n",
    "              5:2}\n",
    "# Define y and apply the target_map\n",
    "y = df_ml['stars'].map(target_map)\n",
    "\n",
    "# Define classes variable\n",
    "classes = y.unique()\n",
    "classes"
   ]
  },
  {
   "cell_type": "code",
   "execution_count": 15,
   "id": "f23b22a8-8987-460a-b53f-8b7b4a89b872",
   "metadata": {},
   "outputs": [],
   "source": [
    "# Convert to Dataset Object\n",
    "ds = tf.data.Dataset.from_tensor_slices((X, y))\n",
    "# Shuffle dataset\n",
    "ds = ds.shuffle(buffer_size=len(ds),reshuffle_each_iteration=False)"
   ]
  },
  {
   "cell_type": "code",
   "execution_count": 16,
   "id": "862d9ab1-ae45-410e-8722-b4f4e171c5de",
   "metadata": {},
   "outputs": [
    {
     "name": "stdout",
     "output_type": "stream",
     "text": [
      "    - train:\t3880 samples \t(122 batches)\n",
      "    - val:  \t1108 samples \t(35 batches)\n",
      "    - test: \t556 samples \t(18 batches)\n"
     ]
    }
   ],
   "source": [
    "# Set the ratio of the train, validation, test split\n",
    "split_train = .7\n",
    "split_val =  .2\n",
    "split_test =  1 -( split_train + split_val )\n",
    "# Calculate the number of samples for training and validation data \n",
    "n_train_samples =  int(len(ds) * split_train)\n",
    "n_val_samples = int(len(ds) * split_val)\n",
    "n_test_samples = len(ds) -(n_train_samples + n_val_samples)\n",
    "# Set the batch size\n",
    "BATCH_SIZE =32\n",
    "import math\n",
    "# math.ceil will round up\n",
    "# How many batches? \n",
    "n_train_batches = math.ceil(n_train_samples/BATCH_SIZE)\n",
    "n_val_batches = math.ceil(n_val_samples/BATCH_SIZE)\n",
    "n_test_batches = math.ceil(n_test_samples/BATCH_SIZE)\n",
    "print(f\"    - train:\\t{n_train_samples} samples \\t({n_train_batches} batches)\")\n",
    "print(f\"    - val:  \\t{n_val_samples} samples \\t({n_val_batches} batches)\")\n",
    "print(f\"    - test: \\t{n_test_samples} samples \\t({n_test_batches} batches)\")"
   ]
  },
  {
   "cell_type": "code",
   "execution_count": 17,
   "id": "b8d55e09-599b-4017-81b8-3f601e420243",
   "metadata": {},
   "outputs": [],
   "source": [
    "# Use take and skip to define each set\n",
    "train_ds = ds.take(n_train_samples).batch(batch_size=BATCH_SIZE)\n",
    "# Skip over the training batches and take the validation batches\n",
    "val_ds = ds.skip(n_train_samples).take(n_val_samples).batch(batch_size=BATCH_SIZE)\n",
    "# Skipver the train and validation batches, the remaining are the test batches\n",
    "test_ds = ds.skip(n_train_samples + n_val_samples).batch(batch_size=BATCH_SIZE)"
   ]
  },
  {
   "cell_type": "code",
   "execution_count": 18,
   "id": "c8c670af-f347-4047-896d-fa7e0160510d",
   "metadata": {},
   "outputs": [
    {
     "name": "stdout",
     "output_type": "stream",
     "text": [
      " There are 122 training batches.\n",
      " There are 35 validation batches.\n",
      " There are 18 testing batches.\n"
     ]
    }
   ],
   "source": [
    "# Confirm the number of batches in each\n",
    "print (f' There are {len(train_ds)} training batches.')\n",
    "print (f' There are {len(val_ds)} validation batches.')\n",
    "print (f' There are {len(test_ds)} testing batches.')"
   ]
  },
  {
   "cell_type": "code",
   "execution_count": 19,
   "id": "2dbec201-b00c-47f2-8033-de29b70d787c",
   "metadata": {},
   "outputs": [
    {
     "name": "stdout",
     "output_type": "stream",
     "text": [
      "\n",
      "tf.keras.layers.TextVectorization(\n",
      "{   'batch_input_shape': (None,),\n",
      "    'dtype': 'string',\n",
      "    'encoding': 'utf-8',\n",
      "    'idf_weights': None,\n",
      "    'max_tokens': None,\n",
      "    'name': 'text_vectorization',\n",
      "    'ngrams': None,\n",
      "    'output_mode': 'int',\n",
      "    'output_sequence_length': 400,\n",
      "    'pad_to_max_tokens': False,\n",
      "    'ragged': False,\n",
      "    'sparse': False,\n",
      "    'split': 'whitespace',\n",
      "    'standardize': 'lower_and_strip_punctuation',\n",
      "    'trainable': True,\n",
      "    'vocabulary': None,\n",
      "    'vocabulary_size': 13461}\n",
      ")\n"
     ]
    }
   ],
   "source": [
    "# Define sequence length as a variable for future use\n",
    "SEQUENCE_LENGTH = 400\n",
    "# Define vectorizer layer. Use the custom function to build and fit the vectorizer before using it in model\n",
    "sequence_vectorizer, vocab_lookup = make_text_vectorization_layer(train_ds, output_mode='int', output_sequence_length = SEQUENCE_LENGTH, verbose=True)"
   ]
  },
  {
   "cell_type": "code",
   "execution_count": 20,
   "id": "25115fb8-d0da-4ced-9e74-b93582f7c9ef",
   "metadata": {},
   "outputs": [],
   "source": [
    "vocab_size = len(sequence_vectorizer.get_vocabulary())  # Assuming `seq_vectorizer` is your TextVectorization layer\n",
    "embedding_dim = 300  # use 300 for this glove model"
   ]
  },
  {
   "cell_type": "code",
   "execution_count": 21,
   "id": "57a6f18e-28d6-411c-a28b-6f92dc547b64",
   "metadata": {},
   "outputs": [],
   "source": [
    "# Initialize an empty matrix to hold the word embeddings\n",
    "embedding_matrix = np.zeros((vocab_size, embedding_dim))\n",
    "\n",
    "# Loop to get each word from vocabulary and get its pre-trained vector from GloVe model\n",
    "for i, word in enumerate(sequence_vectorizer.get_vocabulary()):\n",
    "    try:\n",
    "        embedding_matrix[i] = glove_model[word]\n",
    "    except KeyError:\n",
    "        # If the word is not in the GloVe vocabulary, skip it\n",
    "        pass"
   ]
  },
  {
   "cell_type": "code",
   "execution_count": 22,
   "id": "318871f1-418e-4c66-ada6-e5df7bfedf0a",
   "metadata": {},
   "outputs": [],
   "source": [
    "from tensorflow.keras.layers import Embedding\n",
    "# Create the embedding layer using the embedding matrix\n",
    "glove_embedding_layer = Embedding(input_dim=vocab_size,\n",
    "                            output_dim=embedding_dim,\n",
    "                            embeddings_initializer=tf.keras.initializers.Constant(embedding_matrix),\n",
    "                            trainable=False,  # Set trainable=False to keep the embeddings fixed\n",
    "                            input_length=SEQUENCE_LENGTH)"
   ]
  },
  {
   "cell_type": "markdown",
   "id": "5e663bf8-a895-4aef-9ede-5af29ebdaff9",
   "metadata": {},
   "source": [
    "# Build an RNN using the glove_embedding layer--the model is up to you!\n"
   ]
  },
  {
   "cell_type": "code",
   "execution_count": 23,
   "id": "6a456a4f-372b-4642-b2d6-34c2421ff3f8",
   "metadata": {},
   "outputs": [],
   "source": [
    "from tensorflow.keras.models import Sequential\n",
    "from tensorflow.keras import layers, optimizers, regularizers\n",
    "\n",
    "def build_model_glove(text_vectorization_layer, glove_embedding_layer):\n",
    "    \n",
    "    MAX_TOKENS = text_vectorization_layer.vocabulary_size()\n",
    "        \n",
    "    model = Sequential([\n",
    "        text_vectorization_layer,\n",
    "        glove_embedding_layer])\n",
    "        \n",
    "    # Bidirectional GRU layer\n",
    "    model.add(layers.Bidirectional(tf.keras.layers.GRU(128, return_sequences=True, dropout=0.2)))\n",
    "\n",
    "    # Pooling layer\n",
    "    model.add(layers.GlobalMaxPooling1D())\n",
    "    \n",
    "    # Output layer\n",
    "    model.add(layers.Dense(len(classes), activation='softmax'))\n",
    "\n",
    "    # Define the optimizer\n",
    "    optimizer = optimizers.legacy.Adam(learning_rate=0.01)\n",
    "    # Compile the model\n",
    "    model.compile(optimizer=optimizer,  \n",
    "                  loss='sparse_categorical_crossentropy', metrics=['accuracy'])\n",
    "    model.summary()\n",
    "    return model"
   ]
  },
  {
   "cell_type": "code",
   "execution_count": 24,
   "id": "94283e04-e3ba-4750-81c2-53d7528f3384",
   "metadata": {},
   "outputs": [],
   "source": [
    "# using restore_best_weights = False \n",
    "def get_callbacks(patience=3, monitor='val_accuracy'):\n",
    "    early_stop = tf.keras.callbacks.EarlyStopping(patience=patience, monitor=monitor, restore_best_weights=False)\n",
    "    return [early_stop]"
   ]
  },
  {
   "cell_type": "code",
   "execution_count": 25,
   "id": "5c59de3c-534f-4435-bc99-9639ba653b47",
   "metadata": {},
   "outputs": [
    {
     "name": "stdout",
     "output_type": "stream",
     "text": [
      "Model: \"sequential\"\n",
      "_________________________________________________________________\n",
      " Layer (type)                Output Shape              Param #   \n",
      "=================================================================\n",
      " text_vectorization (TextVec  (None, 400)              0         \n",
      " torization)                                                     \n",
      "                                                                 \n",
      " embedding (Embedding)       (None, 400, 300)          4038300   \n",
      "                                                                 \n",
      " bidirectional (Bidirectiona  (None, 400, 256)         330240    \n",
      " l)                                                              \n",
      "                                                                 \n",
      " global_max_pooling1d (Globa  (None, 256)              0         \n",
      " lMaxPooling1D)                                                  \n",
      "                                                                 \n",
      " dense (Dense)               (None, 3)                 771       \n",
      "                                                                 \n",
      "=================================================================\n",
      "Total params: 4,369,311\n",
      "Trainable params: 331,011\n",
      "Non-trainable params: 4,038,300\n",
      "_________________________________________________________________\n",
      "Epoch 1/100\n",
      "122/122 [==============================] - 88s 688ms/step - loss: 0.6655 - accuracy: 0.7049 - val_loss: 0.5310 - val_accuracy: 0.7626\n",
      "Epoch 2/100\n",
      "122/122 [==============================] - 95s 777ms/step - loss: 0.3888 - accuracy: 0.8345 - val_loss: 0.6007 - val_accuracy: 0.7581\n",
      "Epoch 3/100\n",
      "122/122 [==============================] - 116s 951ms/step - loss: 0.3378 - accuracy: 0.8621 - val_loss: 0.7462 - val_accuracy: 0.7301\n",
      "Epoch 4/100\n",
      "122/122 [==============================] - 120s 987ms/step - loss: 0.2618 - accuracy: 0.8974 - val_loss: 0.5906 - val_accuracy: 0.7915\n",
      "Epoch 5/100\n",
      "122/122 [==============================] - 125s 1s/step - loss: 0.1873 - accuracy: 0.9258 - val_loss: 0.6078 - val_accuracy: 0.7906\n",
      "Epoch 6/100\n",
      "122/122 [==============================] - 130s 1s/step - loss: 0.1692 - accuracy: 0.9309 - val_loss: 0.6253 - val_accuracy: 0.7960\n",
      "Epoch 7/100\n",
      "122/122 [==============================] - 134s 1s/step - loss: 0.2203 - accuracy: 0.9149 - val_loss: 0.7461 - val_accuracy: 0.7753\n",
      "Epoch 8/100\n",
      "122/122 [==============================] - 139s 1s/step - loss: 0.1726 - accuracy: 0.9327 - val_loss: 0.6907 - val_accuracy: 0.7825\n",
      "Epoch 9/100\n",
      "122/122 [==============================] - 129s 1s/step - loss: 0.1289 - accuracy: 0.9544 - val_loss: 1.0300 - val_accuracy: 0.7446\n"
     ]
    },
    {
     "data": {
      "image/png": "[encoded data removed]",
      "text/plain": [
       "<Figure size 600x600 with 2 Axes>"
      ]
     },
     "metadata": {},
     "output_type": "display_data"
    },
    {
     "name": "stdout",
     "output_type": "stream",
     "text": [
      "\n",
      "================================================================================\n",
      "- Evaluating Network...\n",
      "================================================================================\n",
      "----------------------------------------------------------------------\n",
      " Classification Metrics: Training Data\n",
      "----------------------------------------------------------------------\n",
      "              precision    recall  f1-score   support\n",
      "\n",
      "           0       1.00      0.86      0.92      1274\n",
      "           1       0.82      1.00      0.90      1283\n",
      "           2       1.00      0.92      0.96      1323\n",
      "\n",
      "    accuracy                           0.93      3880\n",
      "   macro avg       0.94      0.93      0.93      3880\n",
      "weighted avg       0.94      0.93      0.93      3880\n",
      "\n"
     ]
    },
    {
     "data": {
      "image/png": "[encoded data removed]",
      "text/plain": [
       "<Figure size 600x400 with 2 Axes>"
      ]
     },
     "metadata": {},
     "output_type": "display_data"
    },
    {
     "name": "stdout",
     "output_type": "stream",
     "text": [
      "\n",
      "- Evaluating Training Data:\n",
      "122/122 [==============================] - 24s 196ms/step - loss: 0.1743 - accuracy: 0.9263\n",
      "{'loss': 0.17431703209877014, 'accuracy': 0.9262886643409729}\n",
      "----------------------------------------------------------------------\n",
      " Classification Metrics: Test Data\n",
      "----------------------------------------------------------------------\n",
      "              precision    recall  f1-score   support\n",
      "\n",
      "           0       0.88      0.63      0.73       195\n",
      "           1       0.60      0.87      0.71       191\n",
      "           2       0.93      0.75      0.83       170\n",
      "\n",
      "    accuracy                           0.75       556\n",
      "   macro avg       0.80      0.75      0.76       556\n",
      "weighted avg       0.80      0.75      0.75       556\n",
      "\n"
     ]
    },
    {
     "data": {
      "image/png": "[encoded data removed]",
      "text/plain": [
       "<Figure size 600x400 with 2 Axes>"
      ]
     },
     "metadata": {},
     "output_type": "display_data"
    },
    {
     "name": "stdout",
     "output_type": "stream",
     "text": [
      "\n",
      "- Evaluating Test Data:\n",
      "18/18 [==============================] - 3s 177ms/step - loss: 1.0139 - accuracy: 0.7500\n",
      "{'loss': 1.0138806104660034, 'accuracy': 0.75}\n"
     ]
    }
   ],
   "source": [
    "# Build the model\n",
    "\n",
    "baseline_model = build_model_glove(sequence_vectorizer,glove_embedding_layer)\n",
    "\n",
    "EPOCHS = 100\n",
    "# Fit the mdoel\n",
    "history = baseline_model.fit(\n",
    "    train_ds,\n",
    "    epochs=EPOCHS,\n",
    "    validation_data=val_ds,\n",
    "    callbacks=get_callbacks(),\n",
    ")\n",
    "# Evaluate the mdoel\n",
    "results = evaluate_classification_network(\n",
    "    baseline_model, X_train=train_ds, \n",
    "    X_test=test_ds, history=history,\n",
    ");"
   ]
  },
  {
   "cell_type": "code",
   "execution_count": null,
   "id": "f3aa7104-78e0-48c2-a58a-a5816592fe3a",
   "metadata": {},
   "outputs": [],
   "source": []
  }
 ],
 "metadata": {
  "kernelspec": {
   "display_name": "Python 3 (ipykernel)",
   "language": "python",
   "name": "python3"
  },
  "language_info": {
   "codemirror_mode": {
    "name": "ipython",
    "version": 3
   },
   "file_extension": ".py",
   "mimetype": "text/x-python",
   "name": "python",
   "nbconvert_exporter": "python",
   "pygments_lexer": "ipython3",
   "version": "3.10.10"
  },
  "widgets": {
   "application/vnd.jupyter.widget-state+json": {
    "state": {},
    "version_major": 2,
    "version_minor": 0
   }
  }
 },
 "nbformat": 4,
 "nbformat_minor": 5
}
