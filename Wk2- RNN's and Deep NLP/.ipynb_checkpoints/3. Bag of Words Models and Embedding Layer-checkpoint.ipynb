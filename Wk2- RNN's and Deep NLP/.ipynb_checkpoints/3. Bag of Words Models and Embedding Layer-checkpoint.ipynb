{
  "cells": [
    {
      "cell_type": "code",
      "source": [
        "import tensorflow as tf\n",
        "import numpy as np\n",
        "# Then Set Random Seeds\n",
        "tf.keras.utils.set_random_seed(42)\n",
        "tf.random.set_seed(42)\n",
        "np.random.seed(42)\n",
        "# Then run the Enable Deterministic Operations Function\n",
        "tf.config.experimental.enable_op_determinism()"
      ],
      "metadata": {
        "id": "Ou76bC6PcyKF"
      },
      "id": "Ou76bC6PcyKF",
      "execution_count": 44,
      "outputs": []
    },
    {
      "cell_type": "code",
      "source": [
        "import pandas as pd\n",
        "from tensorflow.keras.layers import TextVectorization\n",
        "from tensorflow.keras import layers\n",
        "from tensorflow.keras import optimizers\n",
        "from imblearn.under_sampling import RandomUnderSampler\n",
        "from sklearn import set_config\n",
        "set_config(transform_output='pandas')\n",
        "pd.set_option('display.max_colwidth', 250)"
      ],
      "metadata": {
        "id": "RGIcjmPdc1x1"
      },
      "id": "RGIcjmPdc1x1",
      "execution_count": 45,
      "outputs": []
    },
    {
      "cell_type": "code",
      "source": [
        "# Load the autoreload extension\n",
        "%load_ext autoreload\n",
        "%autoreload 2\n",
        "\n",
        "import custom_functions as fn"
      ],
      "metadata": {
        "colab": {
          "base_uri": "https://localhost:8080/"
        },
        "id": "l13QhVEOdAio",
        "outputId": "d7cb197f-c189-40fe-8edd-25fb4d465ff2"
      },
      "id": "l13QhVEOdAio",
      "execution_count": 46,
      "outputs": [
        {
          "output_type": "stream",
          "name": "stdout",
          "text": [
            "The autoreload extension is already loaded. To reload it, use:\n",
            "  %reload_ext autoreload\n"
          ]
        }
      ]
    },
    {
      "cell_type": "code",
      "source": [
        "# Load Data from your path\n",
        "df = pd.read_csv(\"/content/yelp-restaurant-reviews-CA-2015-2018.csv.gz\", index_col = 'date', parse_dates=['date'])\n",
        "## Remove any non-english reivews\n",
        "df = df.loc[ df['language']=='en'].copy()\n",
        "# Keep only 1,3,5 star reviews\n",
        "df = df.loc[ df['stars'].isin([1,3,5])]\n",
        "# Take a smaller subset\n",
        "df = df.loc['2018']\n",
        "# Set the index\n",
        "df = df.set_index('review_id')\n",
        "df.info()\n",
        "df.head(2)"
      ],
      "metadata": {
        "id": "6JZ5uDu2dCzw",
        "colab": {
          "base_uri": "https://localhost:8080/",
          "height": 392
        },
        "outputId": "76fd0907-ee27-473d-c4ca-041e27ee9cef"
      },
      "id": "6JZ5uDu2dCzw",
      "execution_count": 47,
      "outputs": [
        {
          "output_type": "stream",
          "name": "stdout",
          "text": [
            "<class 'pandas.core.frame.DataFrame'>\n",
            "Index: 17317 entries, Ebl0LmHkLsQk9hP0rBm3GA to Fbzo2Z8CfH8naCbEPPhREw\n",
            "Data columns (total 4 columns):\n",
            " #   Column       Non-Null Count  Dtype \n",
            "---  ------       --------------  ----- \n",
            " 0   business_id  17317 non-null  object\n",
            " 1   text         17317 non-null  object\n",
            " 2   stars        17317 non-null  int64 \n",
            " 3   language     17317 non-null  object\n",
            "dtypes: int64(1), object(3)\n",
            "memory usage: 676.4+ KB\n"
          ]
        },
        {
          "output_type": "execute_result",
          "data": {
            "text/plain": [
              "                                   business_id  \\\n",
              "review_id                                        \n",
              "Ebl0LmHkLsQk9hP0rBm3GA  KSYONgGtrK0nKXfroB-bwg   \n",
              "DBa7PNBoBGJMc2qXXl4pRA  54oLdsGU9B8HxFTqCCqV-A   \n",
              "\n",
              "                                                                                                                                                                                                                                                                             text  \\\n",
              "review_id                                                                                                                                                                                                                                                                           \n",
              "Ebl0LmHkLsQk9hP0rBm3GA  Ate here twice and had both atmosphere and great tapas. The Jamon plate, bravas, Spanish omelette, stuffed date, pork, Brussels sprouts, wine and amazing pear dessert...I could go on and on. If visiting, Please make a reservation as soon as you a...   \n",
              "DBa7PNBoBGJMc2qXXl4pRA             My boyfriend and I got recommended this place by a SB local! We were just amazed! Everything from the look and feel of the place to the appetizer to the main dish, the dessert and the service was just perfect! Our food was just amazing!!!   \n",
              "\n",
              "                        stars language  \n",
              "review_id                               \n",
              "Ebl0LmHkLsQk9hP0rBm3GA      5       en  \n",
              "DBa7PNBoBGJMc2qXXl4pRA      5       en  "
            ],
            "text/html": [
              "\n",
              "  <div id=\"df-ab6690e8-be7f-4448-930e-2f2e08ca7ce4\" class=\"colab-df-container\">\n",
              "    <div>\n",
              "<style scoped>\n",
              "    .dataframe tbody tr th:only-of-type {\n",
              "        vertical-align: middle;\n",
              "    }\n",
              "\n",
              "    .dataframe tbody tr th {\n",
              "        vertical-align: top;\n",
              "    }\n",
              "\n",
              "    .dataframe thead th {\n",
              "        text-align: right;\n",
              "    }\n",
              "</style>\n",
              "<table border=\"1\" class=\"dataframe\">\n",
              "  <thead>\n",
              "    <tr style=\"text-align: right;\">\n",
              "      <th></th>\n",
              "      <th>business_id</th>\n",
              "      <th>text</th>\n",
              "      <th>stars</th>\n",
              "      <th>language</th>\n",
              "    </tr>\n",
              "    <tr>\n",
              "      <th>review_id</th>\n",
              "      <th></th>\n",
              "      <th></th>\n",
              "      <th></th>\n",
              "      <th></th>\n",
              "    </tr>\n",
              "  </thead>\n",
              "  <tbody>\n",
              "    <tr>\n",
              "      <th>Ebl0LmHkLsQk9hP0rBm3GA</th>\n",
              "      <td>KSYONgGtrK0nKXfroB-bwg</td>\n",
              "      <td>Ate here twice and had both atmosphere and great tapas. The Jamon plate, bravas, Spanish omelette, stuffed date, pork, Brussels sprouts, wine and amazing pear dessert...I could go on and on. If visiting, Please make a reservation as soon as you a...</td>\n",
              "      <td>5</td>\n",
              "      <td>en</td>\n",
              "    </tr>\n",
              "    <tr>\n",
              "      <th>DBa7PNBoBGJMc2qXXl4pRA</th>\n",
              "      <td>54oLdsGU9B8HxFTqCCqV-A</td>\n",
              "      <td>My boyfriend and I got recommended this place by a SB local! We were just amazed! Everything from the look and feel of the place to the appetizer to the main dish, the dessert and the service was just perfect! Our food was just amazing!!!</td>\n",
              "      <td>5</td>\n",
              "      <td>en</td>\n",
              "    </tr>\n",
              "  </tbody>\n",
              "</table>\n",
              "</div>\n",
              "    <div class=\"colab-df-buttons\">\n",
              "\n",
              "  <div class=\"colab-df-container\">\n",
              "    <button class=\"colab-df-convert\" onclick=\"convertToInteractive('df-ab6690e8-be7f-4448-930e-2f2e08ca7ce4')\"\n",
              "            title=\"Convert this dataframe to an interactive table.\"\n",
              "            style=\"display:none;\">\n",
              "\n",
              "  <svg xmlns=\"http://www.w3.org/2000/svg\" height=\"24px\" viewBox=\"0 -960 960 960\">\n",
              "    <path d=\"M120-120v-720h720v720H120Zm60-500h600v-160H180v160Zm220 220h160v-160H400v160Zm0 220h160v-160H400v160ZM180-400h160v-160H180v160Zm440 0h160v-160H620v160ZM180-180h160v-160H180v160Zm440 0h160v-160H620v160Z\"/>\n",
              "  </svg>\n",
              "    </button>\n",
              "\n",
              "  <style>\n",
              "    .colab-df-container {\n",
              "      display:flex;\n",
              "      gap: 12px;\n",
              "    }\n",
              "\n",
              "    .colab-df-convert {\n",
              "      background-color: #E8F0FE;\n",
              "      border: none;\n",
              "      border-radius: 50%;\n",
              "      cursor: pointer;\n",
              "      display: none;\n",
              "      fill: #1967D2;\n",
              "      height: 32px;\n",
              "      padding: 0 0 0 0;\n",
              "      width: 32px;\n",
              "    }\n",
              "\n",
              "    .colab-df-convert:hover {\n",
              "      background-color: #E2EBFA;\n",
              "      box-shadow: 0px 1px 2px rgba(60, 64, 67, 0.3), 0px 1px 3px 1px rgba(60, 64, 67, 0.15);\n",
              "      fill: #174EA6;\n",
              "    }\n",
              "\n",
              "    .colab-df-buttons div {\n",
              "      margin-bottom: 4px;\n",
              "    }\n",
              "\n",
              "    [theme=dark] .colab-df-convert {\n",
              "      background-color: #3B4455;\n",
              "      fill: #D2E3FC;\n",
              "    }\n",
              "\n",
              "    [theme=dark] .colab-df-convert:hover {\n",
              "      background-color: #434B5C;\n",
              "      box-shadow: 0px 1px 3px 1px rgba(0, 0, 0, 0.15);\n",
              "      filter: drop-shadow(0px 1px 2px rgba(0, 0, 0, 0.3));\n",
              "      fill: #FFFFFF;\n",
              "    }\n",
              "  </style>\n",
              "\n",
              "    <script>\n",
              "      const buttonEl =\n",
              "        document.querySelector('#df-ab6690e8-be7f-4448-930e-2f2e08ca7ce4 button.colab-df-convert');\n",
              "      buttonEl.style.display =\n",
              "        google.colab.kernel.accessAllowed ? 'block' : 'none';\n",
              "\n",
              "      async function convertToInteractive(key) {\n",
              "        const element = document.querySelector('#df-ab6690e8-be7f-4448-930e-2f2e08ca7ce4');\n",
              "        const dataTable =\n",
              "          await google.colab.kernel.invokeFunction('convertToInteractive',\n",
              "                                                    [key], {});\n",
              "        if (!dataTable) return;\n",
              "\n",
              "        const docLinkHtml = 'Like what you see? Visit the ' +\n",
              "          '<a target=\"_blank\" href=https://colab.research.google.com/notebooks/data_table.ipynb>data table notebook</a>'\n",
              "          + ' to learn more about interactive tables.';\n",
              "        element.innerHTML = '';\n",
              "        dataTable['output_type'] = 'display_data';\n",
              "        await google.colab.output.renderOutput(dataTable, element);\n",
              "        const docLink = document.createElement('div');\n",
              "        docLink.innerHTML = docLinkHtml;\n",
              "        element.appendChild(docLink);\n",
              "      }\n",
              "    </script>\n",
              "  </div>\n",
              "\n",
              "\n",
              "<div id=\"df-ea8aed34-1cbd-44bb-9322-44a544743596\">\n",
              "  <button class=\"colab-df-quickchart\" onclick=\"quickchart('df-ea8aed34-1cbd-44bb-9322-44a544743596')\"\n",
              "            title=\"Suggest charts\"\n",
              "            style=\"display:none;\">\n",
              "\n",
              "<svg xmlns=\"http://www.w3.org/2000/svg\" height=\"24px\"viewBox=\"0 0 24 24\"\n",
              "     width=\"24px\">\n",
              "    <g>\n",
              "        <path d=\"M19 3H5c-1.1 0-2 .9-2 2v14c0 1.1.9 2 2 2h14c1.1 0 2-.9 2-2V5c0-1.1-.9-2-2-2zM9 17H7v-7h2v7zm4 0h-2V7h2v10zm4 0h-2v-4h2v4z\"/>\n",
              "    </g>\n",
              "</svg>\n",
              "  </button>\n",
              "\n",
              "<style>\n",
              "  .colab-df-quickchart {\n",
              "      --bg-color: #E8F0FE;\n",
              "      --fill-color: #1967D2;\n",
              "      --hover-bg-color: #E2EBFA;\n",
              "      --hover-fill-color: #174EA6;\n",
              "      --disabled-fill-color: #AAA;\n",
              "      --disabled-bg-color: #DDD;\n",
              "  }\n",
              "\n",
              "  [theme=dark] .colab-df-quickchart {\n",
              "      --bg-color: #3B4455;\n",
              "      --fill-color: #D2E3FC;\n",
              "      --hover-bg-color: #434B5C;\n",
              "      --hover-fill-color: #FFFFFF;\n",
              "      --disabled-bg-color: #3B4455;\n",
              "      --disabled-fill-color: #666;\n",
              "  }\n",
              "\n",
              "  .colab-df-quickchart {\n",
              "    background-color: var(--bg-color);\n",
              "    border: none;\n",
              "    border-radius: 50%;\n",
              "    cursor: pointer;\n",
              "    display: none;\n",
              "    fill: var(--fill-color);\n",
              "    height: 32px;\n",
              "    padding: 0;\n",
              "    width: 32px;\n",
              "  }\n",
              "\n",
              "  .colab-df-quickchart:hover {\n",
              "    background-color: var(--hover-bg-color);\n",
              "    box-shadow: 0 1px 2px rgba(60, 64, 67, 0.3), 0 1px 3px 1px rgba(60, 64, 67, 0.15);\n",
              "    fill: var(--button-hover-fill-color);\n",
              "  }\n",
              "\n",
              "  .colab-df-quickchart-complete:disabled,\n",
              "  .colab-df-quickchart-complete:disabled:hover {\n",
              "    background-color: var(--disabled-bg-color);\n",
              "    fill: var(--disabled-fill-color);\n",
              "    box-shadow: none;\n",
              "  }\n",
              "\n",
              "  .colab-df-spinner {\n",
              "    border: 2px solid var(--fill-color);\n",
              "    border-color: transparent;\n",
              "    border-bottom-color: var(--fill-color);\n",
              "    animation:\n",
              "      spin 1s steps(1) infinite;\n",
              "  }\n",
              "\n",
              "  @keyframes spin {\n",
              "    0% {\n",
              "      border-color: transparent;\n",
              "      border-bottom-color: var(--fill-color);\n",
              "      border-left-color: var(--fill-color);\n",
              "    }\n",
              "    20% {\n",
              "      border-color: transparent;\n",
              "      border-left-color: var(--fill-color);\n",
              "      border-top-color: var(--fill-color);\n",
              "    }\n",
              "    30% {\n",
              "      border-color: transparent;\n",
              "      border-left-color: var(--fill-color);\n",
              "      border-top-color: var(--fill-color);\n",
              "      border-right-color: var(--fill-color);\n",
              "    }\n",
              "    40% {\n",
              "      border-color: transparent;\n",
              "      border-right-color: var(--fill-color);\n",
              "      border-top-color: var(--fill-color);\n",
              "    }\n",
              "    60% {\n",
              "      border-color: transparent;\n",
              "      border-right-color: var(--fill-color);\n",
              "    }\n",
              "    80% {\n",
              "      border-color: transparent;\n",
              "      border-right-color: var(--fill-color);\n",
              "      border-bottom-color: var(--fill-color);\n",
              "    }\n",
              "    90% {\n",
              "      border-color: transparent;\n",
              "      border-bottom-color: var(--fill-color);\n",
              "    }\n",
              "  }\n",
              "</style>\n",
              "\n",
              "  <script>\n",
              "    async function quickchart(key) {\n",
              "      const quickchartButtonEl =\n",
              "        document.querySelector('#' + key + ' button');\n",
              "      quickchartButtonEl.disabled = true;  // To prevent multiple clicks.\n",
              "      quickchartButtonEl.classList.add('colab-df-spinner');\n",
              "      try {\n",
              "        const charts = await google.colab.kernel.invokeFunction(\n",
              "            'suggestCharts', [key], {});\n",
              "      } catch (error) {\n",
              "        console.error('Error during call to suggestCharts:', error);\n",
              "      }\n",
              "      quickchartButtonEl.classList.remove('colab-df-spinner');\n",
              "      quickchartButtonEl.classList.add('colab-df-quickchart-complete');\n",
              "    }\n",
              "    (() => {\n",
              "      let quickchartButtonEl =\n",
              "        document.querySelector('#df-ea8aed34-1cbd-44bb-9322-44a544743596 button');\n",
              "      quickchartButtonEl.style.display =\n",
              "        google.colab.kernel.accessAllowed ? 'block' : 'none';\n",
              "    })();\n",
              "  </script>\n",
              "</div>\n",
              "\n",
              "    </div>\n",
              "  </div>\n"
            ],
            "application/vnd.google.colaboratory.intrinsic+json": {
              "type": "dataframe",
              "variable_name": "df",
              "summary": "{\n  \"name\": \"df\",\n  \"rows\": 17317,\n  \"fields\": [\n    {\n      \"column\": \"review_id\",\n      \"properties\": {\n        \"dtype\": \"string\",\n        \"num_unique_values\": 17317,\n        \"samples\": [\n          \"nQZhPkNDTSc9IRppUfEiag\",\n          \"b4z-O8y7RNNN6j54XwSESw\",\n          \"ygX4U5Irzj69ufMr3yu8QA\"\n        ],\n        \"semantic_type\": \"\",\n        \"description\": \"\"\n      }\n    },\n    {\n      \"column\": \"business_id\",\n      \"properties\": {\n        \"dtype\": \"category\",\n        \"num_unique_values\": 696,\n        \"samples\": [\n          \"3tvi-OJ_-iK1ecjzSaH-oA\",\n          \"XHxAIQR-QAz6j1RMaz_J1A\",\n          \"GpESl2dXOH8rxs0pAbIyAw\"\n        ],\n        \"semantic_type\": \"\",\n        \"description\": \"\"\n      }\n    },\n    {\n      \"column\": \"text\",\n      \"properties\": {\n        \"dtype\": \"string\",\n        \"num_unique_values\": 17292,\n        \"samples\": [\n          \"My wife came up to Cold Spring Tavern because they said they have great Tri-Tip sandwiches on weekends. The sandwich didn't disappoint with a side of beer and the cold air kept our beers cold. This is somewhat off the beaten path, but it's no secret. There's plenty of people passing by and getting great food. Wanted to actually eat in the restaurant, but it was over an hour wait, so we opted for the sandwiches outside which was good too. I will definitely come back to Cold Spring Tavern. Just love the atmosphere...a lot of people enjoying good food!\",\n          \"Beautiful venue, but over cooked food, poor and slow service. This is really depressing as I want them to succeed, but there are serious issues.  So sad.\",\n          \"What can I say but our stay here was magical. We had no issues with our rooms or pool, or grounds. \\nEverything was nothing short of perfect.\\nThe spa was amazing- the massages were relaxing I wanted to sleep afterwards.\\nThe spa is also open for guests without a massage/spa appointment and are welcome to use the whirlpool, steam room and showers.\\n\\nThe pools are big enough so even if there is a crowd, you still have your own space to swim around.\\nThe cabanas are well kept and attended, the bar in the lobby is amazing.\\nThey offer tar wipes in the rooms-- and warnings throughout the resort that natural tar is found on the rocks and shore and can stick to shoes or feet.\\nNot too bad I only got a gum size one on my slipper.\\nThe rooms are well-appointed and room service is GREAT! Of course the prices are steep but the food is great and well presented. Breakfast is always what we got and it was flavorful.\\nWould stay here and would recommend if you're on the fence from other reviews.\"\n        ],\n        \"semantic_type\": \"\",\n        \"description\": \"\"\n      }\n    },\n    {\n      \"column\": \"stars\",\n      \"properties\": {\n        \"dtype\": \"number\",\n        \"std\": 1,\n        \"min\": 1,\n        \"max\": 5,\n        \"num_unique_values\": 3,\n        \"samples\": [\n          5,\n          1,\n          3\n        ],\n        \"semantic_type\": \"\",\n        \"description\": \"\"\n      }\n    },\n    {\n      \"column\": \"language\",\n      \"properties\": {\n        \"dtype\": \"category\",\n        \"num_unique_values\": 1,\n        \"samples\": [\n          \"en\"\n        ],\n        \"semantic_type\": \"\",\n        \"description\": \"\"\n      }\n    }\n  ]\n}"
            }
          },
          "metadata": {},
          "execution_count": 47
        }
      ]
    },
    {
      "cell_type": "code",
      "source": [
        "df['sequence_length'] =df['text'].map( lambda x: len(x.split(\" \")))\n",
        "df.head()"
      ],
      "metadata": {
        "id": "uopRJgwgdmev",
        "colab": {
          "base_uri": "https://localhost:8080/",
          "height": 411
        },
        "outputId": "e3f514f9-690a-40d2-84ed-1f13500527d9"
      },
      "id": "uopRJgwgdmev",
      "execution_count": 48,
      "outputs": [
        {
          "output_type": "execute_result",
          "data": {
            "text/plain": [
              "                                   business_id  \\\n",
              "review_id                                        \n",
              "Ebl0LmHkLsQk9hP0rBm3GA  KSYONgGtrK0nKXfroB-bwg   \n",
              "DBa7PNBoBGJMc2qXXl4pRA  54oLdsGU9B8HxFTqCCqV-A   \n",
              "BMfEah7vUKUvQeUTCR34iQ  omnCKxL0f_akh0eYeJxjDg   \n",
              "hCBnvLjQ18P-j_6XdC6Vqg  6kPHr6gZaU9732ptn9gJrA   \n",
              "SCmr3Z6qBnMd_D42YJxElA  QLHgjBHBoeIUoEvIPvjHnw   \n",
              "\n",
              "                                                                                                                                                                                                                                                                             text  \\\n",
              "review_id                                                                                                                                                                                                                                                                           \n",
              "Ebl0LmHkLsQk9hP0rBm3GA  Ate here twice and had both atmosphere and great tapas. The Jamon plate, bravas, Spanish omelette, stuffed date, pork, Brussels sprouts, wine and amazing pear dessert...I could go on and on. If visiting, Please make a reservation as soon as you a...   \n",
              "DBa7PNBoBGJMc2qXXl4pRA             My boyfriend and I got recommended this place by a SB local! We were just amazed! Everything from the look and feel of the place to the appetizer to the main dish, the dessert and the service was just perfect! Our food was just amazing!!!   \n",
              "BMfEah7vUKUvQeUTCR34iQ  I had no expectations being a first time customer, however it didn't live up to the expectations. It being a busy night I'm surprised they did not have enough bartenders at the bar. It also made it hard not knowing who was a bartender and on top ...   \n",
              "hCBnvLjQ18P-j_6XdC6Vqg  It was a pleasant surprise walking into this restaurant from the customer service to the food. If you're ever staying at the Hampton Inns and looking for great tasting Mexican food at walking distance check out El Pollo RICO. I ordered 1/4 of chi...   \n",
              "SCmr3Z6qBnMd_D42YJxElA  Everything we had today at Mesa Burger was great.  Super friendly staff here.  Fries and onion rings were delivered hot!  Ask for some ranch on the side.\\n\\nBoth Mesa Burgers we ordered were cooked perfectly.  One turkey, the other beef.  Both ta...   \n",
              "\n",
              "                        stars language  sequence_length  \n",
              "review_id                                                \n",
              "Ebl0LmHkLsQk9hP0rBm3GA      5       en               67  \n",
              "DBa7PNBoBGJMc2qXXl4pRA      5       en               45  \n",
              "BMfEah7vUKUvQeUTCR34iQ      1       en               67  \n",
              "hCBnvLjQ18P-j_6XdC6Vqg      5       en               75  \n",
              "SCmr3Z6qBnMd_D42YJxElA      5       en              137  "
            ],
            "text/html": [
              "\n",
              "  <div id=\"df-73e6457b-ad22-44b2-b5b6-d6e0de3a0c3c\" class=\"colab-df-container\">\n",
              "    <div>\n",
              "<style scoped>\n",
              "    .dataframe tbody tr th:only-of-type {\n",
              "        vertical-align: middle;\n",
              "    }\n",
              "\n",
              "    .dataframe tbody tr th {\n",
              "        vertical-align: top;\n",
              "    }\n",
              "\n",
              "    .dataframe thead th {\n",
              "        text-align: right;\n",
              "    }\n",
              "</style>\n",
              "<table border=\"1\" class=\"dataframe\">\n",
              "  <thead>\n",
              "    <tr style=\"text-align: right;\">\n",
              "      <th></th>\n",
              "      <th>business_id</th>\n",
              "      <th>text</th>\n",
              "      <th>stars</th>\n",
              "      <th>language</th>\n",
              "      <th>sequence_length</th>\n",
              "    </tr>\n",
              "    <tr>\n",
              "      <th>review_id</th>\n",
              "      <th></th>\n",
              "      <th></th>\n",
              "      <th></th>\n",
              "      <th></th>\n",
              "      <th></th>\n",
              "    </tr>\n",
              "  </thead>\n",
              "  <tbody>\n",
              "    <tr>\n",
              "      <th>Ebl0LmHkLsQk9hP0rBm3GA</th>\n",
              "      <td>KSYONgGtrK0nKXfroB-bwg</td>\n",
              "      <td>Ate here twice and had both atmosphere and great tapas. The Jamon plate, bravas, Spanish omelette, stuffed date, pork, Brussels sprouts, wine and amazing pear dessert...I could go on and on. If visiting, Please make a reservation as soon as you a...</td>\n",
              "      <td>5</td>\n",
              "      <td>en</td>\n",
              "      <td>67</td>\n",
              "    </tr>\n",
              "    <tr>\n",
              "      <th>DBa7PNBoBGJMc2qXXl4pRA</th>\n",
              "      <td>54oLdsGU9B8HxFTqCCqV-A</td>\n",
              "      <td>My boyfriend and I got recommended this place by a SB local! We were just amazed! Everything from the look and feel of the place to the appetizer to the main dish, the dessert and the service was just perfect! Our food was just amazing!!!</td>\n",
              "      <td>5</td>\n",
              "      <td>en</td>\n",
              "      <td>45</td>\n",
              "    </tr>\n",
              "    <tr>\n",
              "      <th>BMfEah7vUKUvQeUTCR34iQ</th>\n",
              "      <td>omnCKxL0f_akh0eYeJxjDg</td>\n",
              "      <td>I had no expectations being a first time customer, however it didn't live up to the expectations. It being a busy night I'm surprised they did not have enough bartenders at the bar. It also made it hard not knowing who was a bartender and on top ...</td>\n",
              "      <td>1</td>\n",
              "      <td>en</td>\n",
              "      <td>67</td>\n",
              "    </tr>\n",
              "    <tr>\n",
              "      <th>hCBnvLjQ18P-j_6XdC6Vqg</th>\n",
              "      <td>6kPHr6gZaU9732ptn9gJrA</td>\n",
              "      <td>It was a pleasant surprise walking into this restaurant from the customer service to the food. If you're ever staying at the Hampton Inns and looking for great tasting Mexican food at walking distance check out El Pollo RICO. I ordered 1/4 of chi...</td>\n",
              "      <td>5</td>\n",
              "      <td>en</td>\n",
              "      <td>75</td>\n",
              "    </tr>\n",
              "    <tr>\n",
              "      <th>SCmr3Z6qBnMd_D42YJxElA</th>\n",
              "      <td>QLHgjBHBoeIUoEvIPvjHnw</td>\n",
              "      <td>Everything we had today at Mesa Burger was great.  Super friendly staff here.  Fries and onion rings were delivered hot!  Ask for some ranch on the side.\\n\\nBoth Mesa Burgers we ordered were cooked perfectly.  One turkey, the other beef.  Both ta...</td>\n",
              "      <td>5</td>\n",
              "      <td>en</td>\n",
              "      <td>137</td>\n",
              "    </tr>\n",
              "  </tbody>\n",
              "</table>\n",
              "</div>\n",
              "    <div class=\"colab-df-buttons\">\n",
              "\n",
              "  <div class=\"colab-df-container\">\n",
              "    <button class=\"colab-df-convert\" onclick=\"convertToInteractive('df-73e6457b-ad22-44b2-b5b6-d6e0de3a0c3c')\"\n",
              "            title=\"Convert this dataframe to an interactive table.\"\n",
              "            style=\"display:none;\">\n",
              "\n",
              "  <svg xmlns=\"http://www.w3.org/2000/svg\" height=\"24px\" viewBox=\"0 -960 960 960\">\n",
              "    <path d=\"M120-120v-720h720v720H120Zm60-500h600v-160H180v160Zm220 220h160v-160H400v160Zm0 220h160v-160H400v160ZM180-400h160v-160H180v160Zm440 0h160v-160H620v160ZM180-180h160v-160H180v160Zm440 0h160v-160H620v160Z\"/>\n",
              "  </svg>\n",
              "    </button>\n",
              "\n",
              "  <style>\n",
              "    .colab-df-container {\n",
              "      display:flex;\n",
              "      gap: 12px;\n",
              "    }\n",
              "\n",
              "    .colab-df-convert {\n",
              "      background-color: #E8F0FE;\n",
              "      border: none;\n",
              "      border-radius: 50%;\n",
              "      cursor: pointer;\n",
              "      display: none;\n",
              "      fill: #1967D2;\n",
              "      height: 32px;\n",
              "      padding: 0 0 0 0;\n",
              "      width: 32px;\n",
              "    }\n",
              "\n",
              "    .colab-df-convert:hover {\n",
              "      background-color: #E2EBFA;\n",
              "      box-shadow: 0px 1px 2px rgba(60, 64, 67, 0.3), 0px 1px 3px 1px rgba(60, 64, 67, 0.15);\n",
              "      fill: #174EA6;\n",
              "    }\n",
              "\n",
              "    .colab-df-buttons div {\n",
              "      margin-bottom: 4px;\n",
              "    }\n",
              "\n",
              "    [theme=dark] .colab-df-convert {\n",
              "      background-color: #3B4455;\n",
              "      fill: #D2E3FC;\n",
              "    }\n",
              "\n",
              "    [theme=dark] .colab-df-convert:hover {\n",
              "      background-color: #434B5C;\n",
              "      box-shadow: 0px 1px 3px 1px rgba(0, 0, 0, 0.15);\n",
              "      filter: drop-shadow(0px 1px 2px rgba(0, 0, 0, 0.3));\n",
              "      fill: #FFFFFF;\n",
              "    }\n",
              "  </style>\n",
              "\n",
              "    <script>\n",
              "      const buttonEl =\n",
              "        document.querySelector('#df-73e6457b-ad22-44b2-b5b6-d6e0de3a0c3c button.colab-df-convert');\n",
              "      buttonEl.style.display =\n",
              "        google.colab.kernel.accessAllowed ? 'block' : 'none';\n",
              "\n",
              "      async function convertToInteractive(key) {\n",
              "        const element = document.querySelector('#df-73e6457b-ad22-44b2-b5b6-d6e0de3a0c3c');\n",
              "        const dataTable =\n",
              "          await google.colab.kernel.invokeFunction('convertToInteractive',\n",
              "                                                    [key], {});\n",
              "        if (!dataTable) return;\n",
              "\n",
              "        const docLinkHtml = 'Like what you see? Visit the ' +\n",
              "          '<a target=\"_blank\" href=https://colab.research.google.com/notebooks/data_table.ipynb>data table notebook</a>'\n",
              "          + ' to learn more about interactive tables.';\n",
              "        element.innerHTML = '';\n",
              "        dataTable['output_type'] = 'display_data';\n",
              "        await google.colab.output.renderOutput(dataTable, element);\n",
              "        const docLink = document.createElement('div');\n",
              "        docLink.innerHTML = docLinkHtml;\n",
              "        element.appendChild(docLink);\n",
              "      }\n",
              "    </script>\n",
              "  </div>\n",
              "\n",
              "\n",
              "<div id=\"df-f2d0dec3-b588-4fbc-bc91-0aabc46c7557\">\n",
              "  <button class=\"colab-df-quickchart\" onclick=\"quickchart('df-f2d0dec3-b588-4fbc-bc91-0aabc46c7557')\"\n",
              "            title=\"Suggest charts\"\n",
              "            style=\"display:none;\">\n",
              "\n",
              "<svg xmlns=\"http://www.w3.org/2000/svg\" height=\"24px\"viewBox=\"0 0 24 24\"\n",
              "     width=\"24px\">\n",
              "    <g>\n",
              "        <path d=\"M19 3H5c-1.1 0-2 .9-2 2v14c0 1.1.9 2 2 2h14c1.1 0 2-.9 2-2V5c0-1.1-.9-2-2-2zM9 17H7v-7h2v7zm4 0h-2V7h2v10zm4 0h-2v-4h2v4z\"/>\n",
              "    </g>\n",
              "</svg>\n",
              "  </button>\n",
              "\n",
              "<style>\n",
              "  .colab-df-quickchart {\n",
              "      --bg-color: #E8F0FE;\n",
              "      --fill-color: #1967D2;\n",
              "      --hover-bg-color: #E2EBFA;\n",
              "      --hover-fill-color: #174EA6;\n",
              "      --disabled-fill-color: #AAA;\n",
              "      --disabled-bg-color: #DDD;\n",
              "  }\n",
              "\n",
              "  [theme=dark] .colab-df-quickchart {\n",
              "      --bg-color: #3B4455;\n",
              "      --fill-color: #D2E3FC;\n",
              "      --hover-bg-color: #434B5C;\n",
              "      --hover-fill-color: #FFFFFF;\n",
              "      --disabled-bg-color: #3B4455;\n",
              "      --disabled-fill-color: #666;\n",
              "  }\n",
              "\n",
              "  .colab-df-quickchart {\n",
              "    background-color: var(--bg-color);\n",
              "    border: none;\n",
              "    border-radius: 50%;\n",
              "    cursor: pointer;\n",
              "    display: none;\n",
              "    fill: var(--fill-color);\n",
              "    height: 32px;\n",
              "    padding: 0;\n",
              "    width: 32px;\n",
              "  }\n",
              "\n",
              "  .colab-df-quickchart:hover {\n",
              "    background-color: var(--hover-bg-color);\n",
              "    box-shadow: 0 1px 2px rgba(60, 64, 67, 0.3), 0 1px 3px 1px rgba(60, 64, 67, 0.15);\n",
              "    fill: var(--button-hover-fill-color);\n",
              "  }\n",
              "\n",
              "  .colab-df-quickchart-complete:disabled,\n",
              "  .colab-df-quickchart-complete:disabled:hover {\n",
              "    background-color: var(--disabled-bg-color);\n",
              "    fill: var(--disabled-fill-color);\n",
              "    box-shadow: none;\n",
              "  }\n",
              "\n",
              "  .colab-df-spinner {\n",
              "    border: 2px solid var(--fill-color);\n",
              "    border-color: transparent;\n",
              "    border-bottom-color: var(--fill-color);\n",
              "    animation:\n",
              "      spin 1s steps(1) infinite;\n",
              "  }\n",
              "\n",
              "  @keyframes spin {\n",
              "    0% {\n",
              "      border-color: transparent;\n",
              "      border-bottom-color: var(--fill-color);\n",
              "      border-left-color: var(--fill-color);\n",
              "    }\n",
              "    20% {\n",
              "      border-color: transparent;\n",
              "      border-left-color: var(--fill-color);\n",
              "      border-top-color: var(--fill-color);\n",
              "    }\n",
              "    30% {\n",
              "      border-color: transparent;\n",
              "      border-left-color: var(--fill-color);\n",
              "      border-top-color: var(--fill-color);\n",
              "      border-right-color: var(--fill-color);\n",
              "    }\n",
              "    40% {\n",
              "      border-color: transparent;\n",
              "      border-right-color: var(--fill-color);\n",
              "      border-top-color: var(--fill-color);\n",
              "    }\n",
              "    60% {\n",
              "      border-color: transparent;\n",
              "      border-right-color: var(--fill-color);\n",
              "    }\n",
              "    80% {\n",
              "      border-color: transparent;\n",
              "      border-right-color: var(--fill-color);\n",
              "      border-bottom-color: var(--fill-color);\n",
              "    }\n",
              "    90% {\n",
              "      border-color: transparent;\n",
              "      border-bottom-color: var(--fill-color);\n",
              "    }\n",
              "  }\n",
              "</style>\n",
              "\n",
              "  <script>\n",
              "    async function quickchart(key) {\n",
              "      const quickchartButtonEl =\n",
              "        document.querySelector('#' + key + ' button');\n",
              "      quickchartButtonEl.disabled = true;  // To prevent multiple clicks.\n",
              "      quickchartButtonEl.classList.add('colab-df-spinner');\n",
              "      try {\n",
              "        const charts = await google.colab.kernel.invokeFunction(\n",
              "            'suggestCharts', [key], {});\n",
              "      } catch (error) {\n",
              "        console.error('Error during call to suggestCharts:', error);\n",
              "      }\n",
              "      quickchartButtonEl.classList.remove('colab-df-spinner');\n",
              "      quickchartButtonEl.classList.add('colab-df-quickchart-complete');\n",
              "    }\n",
              "    (() => {\n",
              "      let quickchartButtonEl =\n",
              "        document.querySelector('#df-f2d0dec3-b588-4fbc-bc91-0aabc46c7557 button');\n",
              "      quickchartButtonEl.style.display =\n",
              "        google.colab.kernel.accessAllowed ? 'block' : 'none';\n",
              "    })();\n",
              "  </script>\n",
              "</div>\n",
              "\n",
              "    </div>\n",
              "  </div>\n"
            ],
            "application/vnd.google.colaboratory.intrinsic+json": {
              "type": "dataframe",
              "variable_name": "df",
              "summary": "{\n  \"name\": \"df\",\n  \"rows\": 17317,\n  \"fields\": [\n    {\n      \"column\": \"review_id\",\n      \"properties\": {\n        \"dtype\": \"string\",\n        \"num_unique_values\": 17317,\n        \"samples\": [\n          \"nQZhPkNDTSc9IRppUfEiag\",\n          \"b4z-O8y7RNNN6j54XwSESw\",\n          \"ygX4U5Irzj69ufMr3yu8QA\"\n        ],\n        \"semantic_type\": \"\",\n        \"description\": \"\"\n      }\n    },\n    {\n      \"column\": \"business_id\",\n      \"properties\": {\n        \"dtype\": \"category\",\n        \"num_unique_values\": 696,\n        \"samples\": [\n          \"3tvi-OJ_-iK1ecjzSaH-oA\",\n          \"XHxAIQR-QAz6j1RMaz_J1A\",\n          \"GpESl2dXOH8rxs0pAbIyAw\"\n        ],\n        \"semantic_type\": \"\",\n        \"description\": \"\"\n      }\n    },\n    {\n      \"column\": \"text\",\n      \"properties\": {\n        \"dtype\": \"string\",\n        \"num_unique_values\": 17292,\n        \"samples\": [\n          \"My wife came up to Cold Spring Tavern because they said they have great Tri-Tip sandwiches on weekends. The sandwich didn't disappoint with a side of beer and the cold air kept our beers cold. This is somewhat off the beaten path, but it's no secret. There's plenty of people passing by and getting great food. Wanted to actually eat in the restaurant, but it was over an hour wait, so we opted for the sandwiches outside which was good too. I will definitely come back to Cold Spring Tavern. Just love the atmosphere...a lot of people enjoying good food!\",\n          \"Beautiful venue, but over cooked food, poor and slow service. This is really depressing as I want them to succeed, but there are serious issues.  So sad.\",\n          \"What can I say but our stay here was magical. We had no issues with our rooms or pool, or grounds. \\nEverything was nothing short of perfect.\\nThe spa was amazing- the massages were relaxing I wanted to sleep afterwards.\\nThe spa is also open for guests without a massage/spa appointment and are welcome to use the whirlpool, steam room and showers.\\n\\nThe pools are big enough so even if there is a crowd, you still have your own space to swim around.\\nThe cabanas are well kept and attended, the bar in the lobby is amazing.\\nThey offer tar wipes in the rooms-- and warnings throughout the resort that natural tar is found on the rocks and shore and can stick to shoes or feet.\\nNot too bad I only got a gum size one on my slipper.\\nThe rooms are well-appointed and room service is GREAT! Of course the prices are steep but the food is great and well presented. Breakfast is always what we got and it was flavorful.\\nWould stay here and would recommend if you're on the fence from other reviews.\"\n        ],\n        \"semantic_type\": \"\",\n        \"description\": \"\"\n      }\n    },\n    {\n      \"column\": \"stars\",\n      \"properties\": {\n        \"dtype\": \"number\",\n        \"std\": 1,\n        \"min\": 1,\n        \"max\": 5,\n        \"num_unique_values\": 3,\n        \"samples\": [\n          5,\n          1,\n          3\n        ],\n        \"semantic_type\": \"\",\n        \"description\": \"\"\n      }\n    },\n    {\n      \"column\": \"language\",\n      \"properties\": {\n        \"dtype\": \"category\",\n        \"num_unique_values\": 1,\n        \"samples\": [\n          \"en\"\n        ],\n        \"semantic_type\": \"\",\n        \"description\": \"\"\n      }\n    },\n    {\n      \"column\": \"sequence_length\",\n      \"properties\": {\n        \"dtype\": \"number\",\n        \"std\": 76,\n        \"min\": 6,\n        \"max\": 1006,\n        \"num_unique_values\": 496,\n        \"samples\": [\n          615\n        ],\n        \"semantic_type\": \"\",\n        \"description\": \"\"\n      }\n    }\n  ]\n}"
            }
          },
          "metadata": {},
          "execution_count": 48
        }
      ]
    },
    {
      "cell_type": "code",
      "source": [
        "df['sequence_length'].describe()"
      ],
      "metadata": {
        "id": "NYGDkEhHdqgj",
        "colab": {
          "base_uri": "https://localhost:8080/"
        },
        "outputId": "b63328ac-112e-46f7-9b1e-6cce93e10078"
      },
      "id": "NYGDkEhHdqgj",
      "execution_count": 49,
      "outputs": [
        {
          "output_type": "execute_result",
          "data": {
            "text/plain": [
              "count    17317.000000\n",
              "mean        81.066178\n",
              "std         76.381545\n",
              "min          6.000000\n",
              "25%         33.000000\n",
              "50%         58.000000\n",
              "75%        101.000000\n",
              "max       1006.000000\n",
              "Name: sequence_length, dtype: float64"
            ]
          },
          "metadata": {},
          "execution_count": 49
        }
      ]
    },
    {
      "cell_type": "code",
      "source": [
        "# Make histogram of sequence lengths\n",
        "ax = df['sequence_length'].hist(bins = 'auto')\n",
        "ax.set_xlabel('Word Count')\n",
        "ax.set_ylabel('Number of Reviews')\n",
        "ax.set_title('Distribution of Sequence Lengths');"
      ],
      "metadata": {
        "id": "AIzuyK48dvKP",
        "colab": {
          "base_uri": "https://localhost:8080/",
          "height": 472
        },
        "outputId": "bfea7a3a-c142-4a43-be22-a049551abe09"
      },
      "id": "AIzuyK48dvKP",
      "execution_count": 50,
      "outputs": [
        {
          "output_type": "display_data",
          "data": {
            "text/plain": [
              "<Figure size 640x480 with 1 Axes>"
            ],
            "image/png": "[encoded data removed]"
          },
          "metadata": {}
        }
      ]
    },
    {
      "cell_type": "code",
      "source": [
        "# Define a filter to identify reviews less than 400 words\n",
        "filter_short = df['sequence_length']< 400\n",
        "print(f'Number of reviews >400 words is: {len(df) - filter_short.sum()}')"
      ],
      "metadata": {
        "id": "NGKbCImKdy8q",
        "colab": {
          "base_uri": "https://localhost:8080/"
        },
        "outputId": "600a9c11-e599-449e-d090-74133781cd85"
      },
      "id": "NGKbCImKdy8q",
      "execution_count": 51,
      "outputs": [
        {
          "output_type": "stream",
          "name": "stdout",
          "text": [
            "Number of reviews >400 words is: 149\n"
          ]
        }
      ]
    },
    {
      "cell_type": "code",
      "source": [
        "# Keep short reviews (<400 words)\n",
        "df=  df.loc[filter_short]\n",
        "df.info()\n",
        "df.head(2)"
      ],
      "metadata": {
        "id": "9zP-tKMWdx7k",
        "colab": {
          "base_uri": "https://localhost:8080/",
          "height": 427
        },
        "outputId": "bdb1bc1c-3ca8-4e4e-f1d3-f4f3eccbcfa4"
      },
      "id": "9zP-tKMWdx7k",
      "execution_count": 52,
      "outputs": [
        {
          "output_type": "stream",
          "name": "stdout",
          "text": [
            "<class 'pandas.core.frame.DataFrame'>\n",
            "Index: 17168 entries, Ebl0LmHkLsQk9hP0rBm3GA to Fbzo2Z8CfH8naCbEPPhREw\n",
            "Data columns (total 5 columns):\n",
            " #   Column           Non-Null Count  Dtype \n",
            "---  ------           --------------  ----- \n",
            " 0   business_id      17168 non-null  object\n",
            " 1   text             17168 non-null  object\n",
            " 2   stars            17168 non-null  int64 \n",
            " 3   language         17168 non-null  object\n",
            " 4   sequence_length  17168 non-null  int64 \n",
            "dtypes: int64(2), object(3)\n",
            "memory usage: 804.8+ KB\n"
          ]
        },
        {
          "output_type": "execute_result",
          "data": {
            "text/plain": [
              "                                   business_id  \\\n",
              "review_id                                        \n",
              "Ebl0LmHkLsQk9hP0rBm3GA  KSYONgGtrK0nKXfroB-bwg   \n",
              "DBa7PNBoBGJMc2qXXl4pRA  54oLdsGU9B8HxFTqCCqV-A   \n",
              "\n",
              "                                                                                                                                                                                                                                                                             text  \\\n",
              "review_id                                                                                                                                                                                                                                                                           \n",
              "Ebl0LmHkLsQk9hP0rBm3GA  Ate here twice and had both atmosphere and great tapas. The Jamon plate, bravas, Spanish omelette, stuffed date, pork, Brussels sprouts, wine and amazing pear dessert...I could go on and on. If visiting, Please make a reservation as soon as you a...   \n",
              "DBa7PNBoBGJMc2qXXl4pRA             My boyfriend and I got recommended this place by a SB local! We were just amazed! Everything from the look and feel of the place to the appetizer to the main dish, the dessert and the service was just perfect! Our food was just amazing!!!   \n",
              "\n",
              "                        stars language  sequence_length  \n",
              "review_id                                                \n",
              "Ebl0LmHkLsQk9hP0rBm3GA      5       en               67  \n",
              "DBa7PNBoBGJMc2qXXl4pRA      5       en               45  "
            ],
            "text/html": [
              "\n",
              "  <div id=\"df-9b8a6068-6e1e-4974-b5ea-7f1e41884c75\" class=\"colab-df-container\">\n",
              "    <div>\n",
              "<style scoped>\n",
              "    .dataframe tbody tr th:only-of-type {\n",
              "        vertical-align: middle;\n",
              "    }\n",
              "\n",
              "    .dataframe tbody tr th {\n",
              "        vertical-align: top;\n",
              "    }\n",
              "\n",
              "    .dataframe thead th {\n",
              "        text-align: right;\n",
              "    }\n",
              "</style>\n",
              "<table border=\"1\" class=\"dataframe\">\n",
              "  <thead>\n",
              "    <tr style=\"text-align: right;\">\n",
              "      <th></th>\n",
              "      <th>business_id</th>\n",
              "      <th>text</th>\n",
              "      <th>stars</th>\n",
              "      <th>language</th>\n",
              "      <th>sequence_length</th>\n",
              "    </tr>\n",
              "    <tr>\n",
              "      <th>review_id</th>\n",
              "      <th></th>\n",
              "      <th></th>\n",
              "      <th></th>\n",
              "      <th></th>\n",
              "      <th></th>\n",
              "    </tr>\n",
              "  </thead>\n",
              "  <tbody>\n",
              "    <tr>\n",
              "      <th>Ebl0LmHkLsQk9hP0rBm3GA</th>\n",
              "      <td>KSYONgGtrK0nKXfroB-bwg</td>\n",
              "      <td>Ate here twice and had both atmosphere and great tapas. The Jamon plate, bravas, Spanish omelette, stuffed date, pork, Brussels sprouts, wine and amazing pear dessert...I could go on and on. If visiting, Please make a reservation as soon as you a...</td>\n",
              "      <td>5</td>\n",
              "      <td>en</td>\n",
              "      <td>67</td>\n",
              "    </tr>\n",
              "    <tr>\n",
              "      <th>DBa7PNBoBGJMc2qXXl4pRA</th>\n",
              "      <td>54oLdsGU9B8HxFTqCCqV-A</td>\n",
              "      <td>My boyfriend and I got recommended this place by a SB local! We were just amazed! Everything from the look and feel of the place to the appetizer to the main dish, the dessert and the service was just perfect! Our food was just amazing!!!</td>\n",
              "      <td>5</td>\n",
              "      <td>en</td>\n",
              "      <td>45</td>\n",
              "    </tr>\n",
              "  </tbody>\n",
              "</table>\n",
              "</div>\n",
              "    <div class=\"colab-df-buttons\">\n",
              "\n",
              "  <div class=\"colab-df-container\">\n",
              "    <button class=\"colab-df-convert\" onclick=\"convertToInteractive('df-9b8a6068-6e1e-4974-b5ea-7f1e41884c75')\"\n",
              "            title=\"Convert this dataframe to an interactive table.\"\n",
              "            style=\"display:none;\">\n",
              "\n",
              "  <svg xmlns=\"http://www.w3.org/2000/svg\" height=\"24px\" viewBox=\"0 -960 960 960\">\n",
              "    <path d=\"M120-120v-720h720v720H120Zm60-500h600v-160H180v160Zm220 220h160v-160H400v160Zm0 220h160v-160H400v160ZM180-400h160v-160H180v160Zm440 0h160v-160H620v160ZM180-180h160v-160H180v160Zm440 0h160v-160H620v160Z\"/>\n",
              "  </svg>\n",
              "    </button>\n",
              "\n",
              "  <style>\n",
              "    .colab-df-container {\n",
              "      display:flex;\n",
              "      gap: 12px;\n",
              "    }\n",
              "\n",
              "    .colab-df-convert {\n",
              "      background-color: #E8F0FE;\n",
              "      border: none;\n",
              "      border-radius: 50%;\n",
              "      cursor: pointer;\n",
              "      display: none;\n",
              "      fill: #1967D2;\n",
              "      height: 32px;\n",
              "      padding: 0 0 0 0;\n",
              "      width: 32px;\n",
              "    }\n",
              "\n",
              "    .colab-df-convert:hover {\n",
              "      background-color: #E2EBFA;\n",
              "      box-shadow: 0px 1px 2px rgba(60, 64, 67, 0.3), 0px 1px 3px 1px rgba(60, 64, 67, 0.15);\n",
              "      fill: #174EA6;\n",
              "    }\n",
              "\n",
              "    .colab-df-buttons div {\n",
              "      margin-bottom: 4px;\n",
              "    }\n",
              "\n",
              "    [theme=dark] .colab-df-convert {\n",
              "      background-color: #3B4455;\n",
              "      fill: #D2E3FC;\n",
              "    }\n",
              "\n",
              "    [theme=dark] .colab-df-convert:hover {\n",
              "      background-color: #434B5C;\n",
              "      box-shadow: 0px 1px 3px 1px rgba(0, 0, 0, 0.15);\n",
              "      filter: drop-shadow(0px 1px 2px rgba(0, 0, 0, 0.3));\n",
              "      fill: #FFFFFF;\n",
              "    }\n",
              "  </style>\n",
              "\n",
              "    <script>\n",
              "      const buttonEl =\n",
              "        document.querySelector('#df-9b8a6068-6e1e-4974-b5ea-7f1e41884c75 button.colab-df-convert');\n",
              "      buttonEl.style.display =\n",
              "        google.colab.kernel.accessAllowed ? 'block' : 'none';\n",
              "\n",
              "      async function convertToInteractive(key) {\n",
              "        const element = document.querySelector('#df-9b8a6068-6e1e-4974-b5ea-7f1e41884c75');\n",
              "        const dataTable =\n",
              "          await google.colab.kernel.invokeFunction('convertToInteractive',\n",
              "                                                    [key], {});\n",
              "        if (!dataTable) return;\n",
              "\n",
              "        const docLinkHtml = 'Like what you see? Visit the ' +\n",
              "          '<a target=\"_blank\" href=https://colab.research.google.com/notebooks/data_table.ipynb>data table notebook</a>'\n",
              "          + ' to learn more about interactive tables.';\n",
              "        element.innerHTML = '';\n",
              "        dataTable['output_type'] = 'display_data';\n",
              "        await google.colab.output.renderOutput(dataTable, element);\n",
              "        const docLink = document.createElement('div');\n",
              "        docLink.innerHTML = docLinkHtml;\n",
              "        element.appendChild(docLink);\n",
              "      }\n",
              "    </script>\n",
              "  </div>\n",
              "\n",
              "\n",
              "<div id=\"df-57d3ceaa-1a0d-4b78-9b68-67d38b12bac1\">\n",
              "  <button class=\"colab-df-quickchart\" onclick=\"quickchart('df-57d3ceaa-1a0d-4b78-9b68-67d38b12bac1')\"\n",
              "            title=\"Suggest charts\"\n",
              "            style=\"display:none;\">\n",
              "\n",
              "<svg xmlns=\"http://www.w3.org/2000/svg\" height=\"24px\"viewBox=\"0 0 24 24\"\n",
              "     width=\"24px\">\n",
              "    <g>\n",
              "        <path d=\"M19 3H5c-1.1 0-2 .9-2 2v14c0 1.1.9 2 2 2h14c1.1 0 2-.9 2-2V5c0-1.1-.9-2-2-2zM9 17H7v-7h2v7zm4 0h-2V7h2v10zm4 0h-2v-4h2v4z\"/>\n",
              "    </g>\n",
              "</svg>\n",
              "  </button>\n",
              "\n",
              "<style>\n",
              "  .colab-df-quickchart {\n",
              "      --bg-color: #E8F0FE;\n",
              "      --fill-color: #1967D2;\n",
              "      --hover-bg-color: #E2EBFA;\n",
              "      --hover-fill-color: #174EA6;\n",
              "      --disabled-fill-color: #AAA;\n",
              "      --disabled-bg-color: #DDD;\n",
              "  }\n",
              "\n",
              "  [theme=dark] .colab-df-quickchart {\n",
              "      --bg-color: #3B4455;\n",
              "      --fill-color: #D2E3FC;\n",
              "      --hover-bg-color: #434B5C;\n",
              "      --hover-fill-color: #FFFFFF;\n",
              "      --disabled-bg-color: #3B4455;\n",
              "      --disabled-fill-color: #666;\n",
              "  }\n",
              "\n",
              "  .colab-df-quickchart {\n",
              "    background-color: var(--bg-color);\n",
              "    border: none;\n",
              "    border-radius: 50%;\n",
              "    cursor: pointer;\n",
              "    display: none;\n",
              "    fill: var(--fill-color);\n",
              "    height: 32px;\n",
              "    padding: 0;\n",
              "    width: 32px;\n",
              "  }\n",
              "\n",
              "  .colab-df-quickchart:hover {\n",
              "    background-color: var(--hover-bg-color);\n",
              "    box-shadow: 0 1px 2px rgba(60, 64, 67, 0.3), 0 1px 3px 1px rgba(60, 64, 67, 0.15);\n",
              "    fill: var(--button-hover-fill-color);\n",
              "  }\n",
              "\n",
              "  .colab-df-quickchart-complete:disabled,\n",
              "  .colab-df-quickchart-complete:disabled:hover {\n",
              "    background-color: var(--disabled-bg-color);\n",
              "    fill: var(--disabled-fill-color);\n",
              "    box-shadow: none;\n",
              "  }\n",
              "\n",
              "  .colab-df-spinner {\n",
              "    border: 2px solid var(--fill-color);\n",
              "    border-color: transparent;\n",
              "    border-bottom-color: var(--fill-color);\n",
              "    animation:\n",
              "      spin 1s steps(1) infinite;\n",
              "  }\n",
              "\n",
              "  @keyframes spin {\n",
              "    0% {\n",
              "      border-color: transparent;\n",
              "      border-bottom-color: var(--fill-color);\n",
              "      border-left-color: var(--fill-color);\n",
              "    }\n",
              "    20% {\n",
              "      border-color: transparent;\n",
              "      border-left-color: var(--fill-color);\n",
              "      border-top-color: var(--fill-color);\n",
              "    }\n",
              "    30% {\n",
              "      border-color: transparent;\n",
              "      border-left-color: var(--fill-color);\n",
              "      border-top-color: var(--fill-color);\n",
              "      border-right-color: var(--fill-color);\n",
              "    }\n",
              "    40% {\n",
              "      border-color: transparent;\n",
              "      border-right-color: var(--fill-color);\n",
              "      border-top-color: var(--fill-color);\n",
              "    }\n",
              "    60% {\n",
              "      border-color: transparent;\n",
              "      border-right-color: var(--fill-color);\n",
              "    }\n",
              "    80% {\n",
              "      border-color: transparent;\n",
              "      border-right-color: var(--fill-color);\n",
              "      border-bottom-color: var(--fill-color);\n",
              "    }\n",
              "    90% {\n",
              "      border-color: transparent;\n",
              "      border-bottom-color: var(--fill-color);\n",
              "    }\n",
              "  }\n",
              "</style>\n",
              "\n",
              "  <script>\n",
              "    async function quickchart(key) {\n",
              "      const quickchartButtonEl =\n",
              "        document.querySelector('#' + key + ' button');\n",
              "      quickchartButtonEl.disabled = true;  // To prevent multiple clicks.\n",
              "      quickchartButtonEl.classList.add('colab-df-spinner');\n",
              "      try {\n",
              "        const charts = await google.colab.kernel.invokeFunction(\n",
              "            'suggestCharts', [key], {});\n",
              "      } catch (error) {\n",
              "        console.error('Error during call to suggestCharts:', error);\n",
              "      }\n",
              "      quickchartButtonEl.classList.remove('colab-df-spinner');\n",
              "      quickchartButtonEl.classList.add('colab-df-quickchart-complete');\n",
              "    }\n",
              "    (() => {\n",
              "      let quickchartButtonEl =\n",
              "        document.querySelector('#df-57d3ceaa-1a0d-4b78-9b68-67d38b12bac1 button');\n",
              "      quickchartButtonEl.style.display =\n",
              "        google.colab.kernel.accessAllowed ? 'block' : 'none';\n",
              "    })();\n",
              "  </script>\n",
              "</div>\n",
              "\n",
              "    </div>\n",
              "  </div>\n"
            ],
            "application/vnd.google.colaboratory.intrinsic+json": {
              "type": "dataframe",
              "variable_name": "df",
              "summary": "{\n  \"name\": \"df\",\n  \"rows\": 17168,\n  \"fields\": [\n    {\n      \"column\": \"review_id\",\n      \"properties\": {\n        \"dtype\": \"string\",\n        \"num_unique_values\": 17168,\n        \"samples\": [\n          \"KzUE9h7GnRRveRlsVkLMtQ\",\n          \"f6vnjlRl99pV9490q7RFYw\",\n          \"YBT-TLkZtGYJkXH7ouiTzQ\"\n        ],\n        \"semantic_type\": \"\",\n        \"description\": \"\"\n      }\n    },\n    {\n      \"column\": \"business_id\",\n      \"properties\": {\n        \"dtype\": \"category\",\n        \"num_unique_values\": 695,\n        \"samples\": [\n          \"-FRHYI6doGCjIsXiKHkUqw\",\n          \"6aUb_f9C7a2oOxaIfRGSdA\",\n          \"B1yPXzIIJrLWyTcE4jsYuQ\"\n        ],\n        \"semantic_type\": \"\",\n        \"description\": \"\"\n      }\n    },\n    {\n      \"column\": \"text\",\n      \"properties\": {\n        \"dtype\": \"string\",\n        \"num_unique_values\": 17143,\n        \"samples\": [\n          \"Went here on a busy Saturday for lunch. Line was long, about at 20 minute wait but it was SO WORTH IT. You must must must try the fresh tortillas and can't go wrong with any of the specials. The chile rellano was the best I've ever had. Also despite the line, there was ample seating and service was quick considering it was all made to order. Just make sure to bring cash!\",\n          \"This review is mostly about the food.\\n\\nBefore getting to that, I should say - the service is impeccable and the views are awesome. So if that has a big factor in your decision making(and it should - sometimes ambiance is more important than the food); then this place hits the mark.\\n\\nFood wise - first big red flag - half of its main courses aren't fish. We're talking about a seafood restaurant on the beach. As for the courses - we had scallops and pork belly - the pork belly tasted old. Like it had been braised 3 days before and pan fried to order. You get this kind of finish from pork or most meats when they linger beyond a day or two. \\n\\nOur two mains were seabass and scallops. Both were solid dishes. Not terrible, but not memorable or even that great. It's like they were striving for mediocre and they hit it soundly. Nothing technically wrong with either dish. The fish was cooked correctly. Sides were reasonable. Portions were ok. It just didn't sing and at a price of 100 bucks between two people; you just expected more. \\n\\nAt the end of the day; would I come back? No. Solidly no. But that doesn't make it a bad place depending on what you are looking for.\",\n          \"Newly renovated, this place is an awesome spot to bring the family. The outside patio is huge and has lots of games for the littles. Try the French dip - it is deeelish!!!\"\n        ],\n        \"semantic_type\": \"\",\n        \"description\": \"\"\n      }\n    },\n    {\n      \"column\": \"stars\",\n      \"properties\": {\n        \"dtype\": \"number\",\n        \"std\": 1,\n        \"min\": 1,\n        \"max\": 5,\n        \"num_unique_values\": 3,\n        \"samples\": [\n          5,\n          1,\n          3\n        ],\n        \"semantic_type\": \"\",\n        \"description\": \"\"\n      }\n    },\n    {\n      \"column\": \"language\",\n      \"properties\": {\n        \"dtype\": \"category\",\n        \"num_unique_values\": 1,\n        \"samples\": [\n          \"en\"\n        ],\n        \"semantic_type\": \"\",\n        \"description\": \"\"\n      }\n    },\n    {\n      \"column\": \"sequence_length\",\n      \"properties\": {\n        \"dtype\": \"number\",\n        \"std\": 62,\n        \"min\": 6,\n        \"max\": 397,\n        \"num_unique_values\": 376,\n        \"samples\": [\n          381\n        ],\n        \"semantic_type\": \"\",\n        \"description\": \"\"\n      }\n    }\n  ]\n}"
            }
          },
          "metadata": {},
          "execution_count": 52
        }
      ]
    },
    {
      "cell_type": "code",
      "source": [
        "# Check class balance\n",
        "df['stars'].value_counts()"
      ],
      "metadata": {
        "id": "u77j0C_Vd5ng",
        "colab": {
          "base_uri": "https://localhost:8080/"
        },
        "outputId": "1d83b711-25a0-482c-b223-f3e6057c7cc8"
      },
      "id": "u77j0C_Vd5ng",
      "execution_count": 53,
      "outputs": [
        {
          "output_type": "execute_result",
          "data": {
            "text/plain": [
              "5    12963\n",
              "1     2357\n",
              "3     1848\n",
              "Name: stars, dtype: int64"
            ]
          },
          "metadata": {},
          "execution_count": 53
        }
      ]
    },
    {
      "cell_type": "code",
      "source": [
        "# Use RUS to reduce n to match minority group\n",
        "sampler = RandomUnderSampler(random_state=42)\n",
        "df_ml,  _ = sampler.fit_resample(df, df['stars'])\n",
        "df_ml['stars'].value_counts()"
      ],
      "metadata": {
        "id": "dfX_nVFMd8bs",
        "colab": {
          "base_uri": "https://localhost:8080/"
        },
        "outputId": "a88d018f-03bf-4136-bbd4-0e2e1fdccbbd"
      },
      "id": "dfX_nVFMd8bs",
      "execution_count": 54,
      "outputs": [
        {
          "output_type": "execute_result",
          "data": {
            "text/plain": [
              "1    1848\n",
              "3    1848\n",
              "5    1848\n",
              "Name: stars, dtype: int64"
            ]
          },
          "metadata": {},
          "execution_count": 54
        }
      ]
    },
    {
      "cell_type": "code",
      "source": [
        "# Define X\n",
        "X = df_ml['text'].values\n",
        "# Create a map for targets\n",
        "target_map = {1:0,\n",
        "              3:1,\n",
        "              5:2}\n",
        "# DEfine y and apply the target_map\n",
        "y = df_ml['stars'].map(target_map)\n",
        "y.value_counts()"
      ],
      "metadata": {
        "id": "ZnCTSAwXd_Dn",
        "colab": {
          "base_uri": "https://localhost:8080/"
        },
        "outputId": "334a3b0f-8c03-452d-fa25-50bb9b214af2"
      },
      "id": "ZnCTSAwXd_Dn",
      "execution_count": 55,
      "outputs": [
        {
          "output_type": "execute_result",
          "data": {
            "text/plain": [
              "0    1848\n",
              "1    1848\n",
              "2    1848\n",
              "Name: stars, dtype: int64"
            ]
          },
          "metadata": {},
          "execution_count": 55
        }
      ]
    },
    {
      "cell_type": "code",
      "source": [
        "# Define classes variable\n",
        "classes = y.unique()\n",
        "classes"
      ],
      "metadata": {
        "id": "UQigfy0KeBzE",
        "colab": {
          "base_uri": "https://localhost:8080/"
        },
        "outputId": "93863299-3786-487d-d3e3-f19d2499e892"
      },
      "id": "UQigfy0KeBzE",
      "execution_count": 56,
      "outputs": [
        {
          "output_type": "execute_result",
          "data": {
            "text/plain": [
              "array([0, 1, 2])"
            ]
          },
          "metadata": {},
          "execution_count": 56
        }
      ]
    },
    {
      "cell_type": "code",
      "source": [
        "# Convert to Dataset Object\n",
        "ds = tf.data.Dataset.from_tensor_slices((X, y))\n",
        "# Shuffle dataset\n",
        "ds = ds.shuffle(buffer_size=len(ds),reshuffle_each_iteration=False)"
      ],
      "metadata": {
        "id": "4P2YtI9FeEG_"
      },
      "id": "4P2YtI9FeEG_",
      "execution_count": 57,
      "outputs": []
    },
    {
      "cell_type": "code",
      "source": [
        "# Set the ratio of the train, validation, test split\n",
        "split_train = .7\n",
        "split_val =  .2\n",
        "split_test =  1 -( split_train + split_val )\n",
        "# Calculate the number of samples for training and validation data\n",
        "n_train_samples =  int(len(ds) * split_train)\n",
        "n_val_samples = int(len(ds) * split_val)\n",
        "n_test_samples = len(ds) -(n_train_samples + n_val_samples)"
      ],
      "metadata": {
        "id": "mCI9reD0eGk_"
      },
      "id": "mCI9reD0eGk_",
      "execution_count": 58,
      "outputs": []
    },
    {
      "cell_type": "code",
      "source": [
        "import math\n",
        "BATCH_SIZE =32\n",
        "import math\n",
        "# math.ceil will round up\n",
        "# How many batches?\n",
        "n_train_batches = math.ceil(n_train_samples/BATCH_SIZE)\n",
        "n_val_batches = math.ceil(n_val_samples/BATCH_SIZE)\n",
        "n_test_batches = math.ceil(n_test_samples/BATCH_SIZE)\n",
        "print(f\"    - train:\\t{n_train_samples} samples \\t({n_train_batches} batches)\")\n",
        "print(f\"    - val:  \\t{n_val_samples} samples \\t({n_val_batches} batches)\")\n",
        "print(f\"    - test: \\t{n_test_samples} samples \\t({n_test_batches} batches)\")"
      ],
      "metadata": {
        "id": "X3O4K7lVeI7I",
        "colab": {
          "base_uri": "https://localhost:8080/"
        },
        "outputId": "33a88a91-9349-4c47-97e0-bc24d247aa8a"
      },
      "id": "X3O4K7lVeI7I",
      "execution_count": 59,
      "outputs": [
        {
          "output_type": "stream",
          "name": "stdout",
          "text": [
            "    - train:\t3880 samples \t(122 batches)\n",
            "    - val:  \t1108 samples \t(35 batches)\n",
            "    - test: \t556 samples \t(18 batches)\n"
          ]
        }
      ]
    },
    {
      "cell_type": "code",
      "source": [
        "# Use take and skip to define each set\n",
        "train_ds = ds.take(n_train_samples).batch(batch_size=BATCH_SIZE)\n",
        "# Skip over the training batches and take the validation batches\n",
        "val_ds = ds.skip(n_train_samples).take(n_val_samples).batch(batch_size=BATCH_SIZE)\n",
        "# Skipver the train and validation batches, the remaining are the test batches\n",
        "test_ds = ds.skip(n_train_samples + n_val_samples).batch(batch_size=BATCH_SIZE)"
      ],
      "metadata": {
        "id": "a_i1p3NmeMNL"
      },
      "id": "a_i1p3NmeMNL",
      "execution_count": 60,
      "outputs": []
    },
    {
      "cell_type": "code",
      "source": [
        "len(train_ds)"
      ],
      "metadata": {
        "id": "J5RWUCJkeOqF",
        "colab": {
          "base_uri": "https://localhost:8080/"
        },
        "outputId": "2f5fe20e-51e7-48cb-ef71-7ed5d944a379"
      },
      "id": "J5RWUCJkeOqF",
      "execution_count": 61,
      "outputs": [
        {
          "output_type": "execute_result",
          "data": {
            "text/plain": [
              "122"
            ]
          },
          "metadata": {},
          "execution_count": 61
        }
      ]
    },
    {
      "cell_type": "code",
      "source": [
        "from pprint import pprint\n",
        "def make_text_vectorization_layer(train_ds,  max_tokens=None,\n",
        "                                  split='whitespace',\n",
        "                                  standardize=\"lower_and_strip_punctuation\",\n",
        "                                  output_mode=\"int\",\n",
        "                                  output_sequence_length=None,\n",
        "                                  ngrams=None, pad_to_max_tokens=False,\n",
        "                                  verbose=True,\n",
        "                                  **kwargs,\n",
        "                                 ):\n",
        "    # Build the text vectorization layer\n",
        "    text_vectorizer = tf.keras.layers.TextVectorization(\n",
        "        max_tokens=max_tokens,\n",
        "        standardize=standardize,\n",
        "        output_mode=output_mode,\n",
        "        output_sequence_length=output_sequence_length,\n",
        "        **kwargs\n",
        "    )\n",
        "    # Get just the text from the training data\n",
        "    if isinstance(train_ds, (np.ndarray, list, tuple, pd.Series)):\n",
        "        ds_texts = train_ds\n",
        "    else:\n",
        "        try:\n",
        "            ds_texts = train_ds.map(lambda x, y: x )\n",
        "        except:\n",
        "            ds_texts = train_ds\n",
        "\n",
        "    # Fit the layer on the training texts\n",
        "    text_vectorizer.adapt(ds_texts)\n",
        "\n",
        "\n",
        "    if verbose:\n",
        "        # Print the params\n",
        "        print( \"\\ntf.keras.layers.TextVectorization(\" )\n",
        "        config = text_vectorizer.get_config()\n",
        "        pprint(config,indent=4)\n",
        "        print(\")\")\n",
        "\n",
        "    # SAVING VOCAB FOR LATER\n",
        "    # Getting list of vocab\n",
        "    vocab = text_vectorizer.get_vocabulary()\n",
        "    # Save dictionaries to look up words from ints\n",
        "    int_to_str  = {idx:word for idx, word in enumerate(vocab)}\n",
        "\n",
        "    return text_vectorizer, int_to_str"
      ],
      "metadata": {
        "id": "qUGVWVzceP_3"
      },
      "id": "qUGVWVzceP_3",
      "execution_count": 62,
      "outputs": []
    },
    {
      "cell_type": "code",
      "source": [
        "def evaluate_classification_network(model,\n",
        "                                    X_train=None, y_train=None,\n",
        "                                    X_test=None, y_test=None,\n",
        "                                    history=None, history_figsize=(6,6),\n",
        "                                    figsize=(6,4), normalize='true',\n",
        "                                    output_dict = False,\n",
        "                                    cmap_train='Blues',\n",
        "                                    cmap_test=\"Reds\",\n",
        "                                    values_format=\".2f\",\n",
        "                                    colorbar=False):\n",
        "    \"\"\"Evaluates a neural network classification task using either\n",
        "    separate X and y arrays or a tensorflow Dataset\n",
        "\n",
        "    Data Args:\n",
        "        X_train (array, or Dataset)\n",
        "        y_train (array, or None if using a Dataset\n",
        "        X_test (array, or Dataset)\n",
        "        y_test (array, or None if using a Dataset)\n",
        "        history (history object)\n",
        "        \"\"\"\n",
        "    # Plot history, if provided\n",
        "    if history is not None:\n",
        "        plot_history(history, figsize=history_figsize)\n",
        "    ## Adding a Print Header\n",
        "    print(\"\\n\"+'='*80)\n",
        "    print('- Evaluating Network...')\n",
        "    print('='*80)\n",
        "    ## TRAINING DATA EVALUATION\n",
        "    # check if X_train was provided\n",
        "    if X_train is not None:\n",
        "        ## Check if X_train is a dataset\n",
        "        if hasattr(X_train,'map'):\n",
        "            # If it IS a Datset:\n",
        "            # extract y_train and y_train_pred with helper function\n",
        "            y_train, y_train_pred = get_true_pred_labels(model, X_train)\n",
        "        else:\n",
        "            # Get predictions for training data\n",
        "            y_train_pred = model.predict(X_train)\n",
        "        ## Pass both y-vars through helper compatibility function\n",
        "        y_train = convert_y_to_sklearn_classes(y_train)\n",
        "        y_train_pred = convert_y_to_sklearn_classes(y_train_pred)\n",
        "\n",
        "        # Call the helper function to obtain regression metrics for training data\n",
        "        results_train = classification_metrics(y_train, y_train_pred,\n",
        "                                         output_dict=True, figsize=figsize,\n",
        "                                             colorbar=colorbar, cmap=cmap_train,\n",
        "                                               values_format=values_format,\n",
        "                                         label='Training Data')\n",
        "\n",
        "        ## Run model.evaluate\n",
        "        print(\"\\n- Evaluating Training Data:\")\n",
        "        print(model.evaluate(X_train, return_dict=True))\n",
        "\n",
        "    # If no X_train, then save empty list for results_train\n",
        "    else:\n",
        "        results_train = []\n",
        "    ## TEST DATA EVALUATION\n",
        "    # check if X_test was provided\n",
        "    if X_test is not None:\n",
        "        ## Check if X_train is a dataset\n",
        "        if hasattr(X_test,'map'):\n",
        "            # If it IS a Datset:\n",
        "            # extract y_train and y_train_pred with helper function\n",
        "            y_test, y_test_pred = get_true_pred_labels(model, X_test)\n",
        "        else:\n",
        "            # Get predictions for training data\n",
        "            y_test_pred = model.predict(X_test)\n",
        "        ## Pass both y-vars through helper compatibility function\n",
        "        y_test = convert_y_to_sklearn_classes(y_test)\n",
        "        y_test_pred = convert_y_to_sklearn_classes(y_test_pred)\n",
        "\n",
        "        # Call the helper function to obtain regression metrics for training data\n",
        "        results_test = classification_metrics(y_test, y_test_pred,\n",
        "                                         output_dict=True, figsize=figsize,\n",
        "                                             colorbar=colorbar, cmap=cmap_test,\n",
        "                                              values_format=values_format,\n",
        "                                         label='Test Data')\n",
        "\n",
        "        ## Run model.evaluate\n",
        "        print(\"\\n- Evaluating Test Data:\")\n",
        "        print(model.evaluate(X_test, return_dict=True))\n",
        "\n",
        "    # If no X_test, then save empty list for results_test\n",
        "    else:\n",
        "        results_test = []\n",
        "\n",
        "    # Store results in a dictionary\n",
        "    results_dict = {'train':results_train,\n",
        "                    'test': results_test}\n",
        "    if output_dict == True:\n",
        "        return results_dict"
      ],
      "metadata": {
        "id": "vigU6SkqmGDL"
      },
      "id": "vigU6SkqmGDL",
      "execution_count": 63,
      "outputs": []
    },
    {
      "cell_type": "code",
      "source": [
        "# Define vectorizer layer. Use the custom function to build and fit the vectorizer before using it in model\n",
        "count_vectorizer, count_lookup = make_text_vectorization_layer(train_ds, output_mode='count',\n",
        "                                                                        verbose=True)"
      ],
      "metadata": {
        "id": "EiiM_OrAeSD1",
        "colab": {
          "base_uri": "https://localhost:8080/"
        },
        "outputId": "8edb2643-ea8c-4645-e360-6048a5a7daa6"
      },
      "id": "EiiM_OrAeSD1",
      "execution_count": 64,
      "outputs": [
        {
          "output_type": "stream",
          "name": "stdout",
          "text": [
            "\n",
            "tf.keras.layers.TextVectorization(\n",
            "{   'batch_input_shape': (None,),\n",
            "    'dtype': 'string',\n",
            "    'encoding': 'utf-8',\n",
            "    'idf_weights': None,\n",
            "    'max_tokens': None,\n",
            "    'name': 'text_vectorization_1',\n",
            "    'ngrams': None,\n",
            "    'output_mode': 'count',\n",
            "    'output_sequence_length': None,\n",
            "    'pad_to_max_tokens': False,\n",
            "    'ragged': False,\n",
            "    'sparse': False,\n",
            "    'split': 'whitespace',\n",
            "    'standardize': 'lower_and_strip_punctuation',\n",
            "    'trainable': True,\n",
            "    'vocabulary': None,\n",
            "    'vocabulary_size': 13460}\n",
            ")\n"
          ]
        }
      ]
    },
    {
      "cell_type": "code",
      "source": [
        "# Check the size of the vocabulary\n",
        "len(count_vectorizer.get_vocabulary())"
      ],
      "metadata": {
        "id": "LjlgPod2eUHu",
        "colab": {
          "base_uri": "https://localhost:8080/"
        },
        "outputId": "145a485a-e111-4c7a-ba75-955d63c317e7"
      },
      "id": "LjlgPod2eUHu",
      "execution_count": 65,
      "outputs": [
        {
          "output_type": "execute_result",
          "data": {
            "text/plain": [
              "13460"
            ]
          },
          "metadata": {},
          "execution_count": 65
        }
      ]
    },
    {
      "cell_type": "code",
      "source": [
        "from tensorflow.keras import layers, optimizers, regularizers\n",
        "def build_bow_model(text_vectorization_layer, name=None):\n",
        "    # Build model with pre-trained text_vectorization layer\n",
        "    bow_model = tf.keras.models.Sequential([\n",
        "        text_vectorization_layer], name=name)\n",
        "\n",
        "    # Add layers\n",
        "    bow_model.add(layers.Dense(32, activation='relu')),\n",
        "    # Output layers\n",
        "    bow_model.add(layers.Dense(len(classes), activation='softmax'))\n",
        "    # Compile model\n",
        "    bow_model.compile(\n",
        "        loss=tf.keras.losses.SparseCategoricalCrossentropy(),\n",
        "        optimizer = optimizers.legacy.Adam(),\n",
        "        metrics=['accuracy']\n",
        "    )\n",
        "\n",
        "    bow_model.summary()\n",
        "    return bow_model"
      ],
      "metadata": {
        "id": "tVqMrYlweWXt"
      },
      "id": "tVqMrYlweWXt",
      "execution_count": 66,
      "outputs": []
    },
    {
      "cell_type": "code",
      "source": [
        "# Code below is from Week 4 of Intermediate Machine Learning\n",
        "def get_callbacks(patience=3, monitor='val_accuracy'):\n",
        "    early_stop = tf.keras.callbacks.EarlyStopping(patience=patience, monitor=monitor)\n",
        "    return [early_stop]"
      ],
      "metadata": {
        "id": "M22k0YqMeZip"
      },
      "id": "M22k0YqMeZip",
      "execution_count": 67,
      "outputs": []
    },
    {
      "cell_type": "code",
      "source": [
        "# Build the model with the adapted TextVectorizer\n",
        "bow_model = build_bow_model(count_vectorizer, name=\"BoW-Counts\")\n",
        "# How many epochs?\n",
        "EPOCHS = 30\n",
        "# Fit the model with callbacks and save history\n",
        "history = bow_model.fit(\n",
        "    train_ds,\n",
        "    epochs=EPOCHS,callbacks=get_callbacks(),\n",
        "    validation_data=val_ds)\n",
        "# Evaluate the model with a custom function\n",
        "fn.evaluate_classification_network(\n",
        "    bow_model, X_train=train_ds,\n",
        "    X_test=test_ds, history=history\n",
        ");"
      ],
      "metadata": {
        "colab": {
          "base_uri": "https://localhost:8080/",
          "height": 680
        },
        "id": "beLfzONfebiY",
        "outputId": "92b8394d-8438-4ac9-eb7a-c576d7200390"
      },
      "id": "beLfzONfebiY",
      "execution_count": 68,
      "outputs": [
        {
          "output_type": "stream",
          "name": "stdout",
          "text": [
            "Model: \"BoW-Counts\"\n",
            "_________________________________________________________________\n",
            " Layer (type)                Output Shape              Param #   \n",
            "=================================================================\n",
            " text_vectorization_1 (Text  (None, 13460)             0         \n",
            " Vectorization)                                                  \n",
            "                                                                 \n",
            " dense_4 (Dense)             (None, 32)                430752    \n",
            "                                                                 \n",
            " dense_5 (Dense)             (None, 3)                 99        \n",
            "                                                                 \n",
            "=================================================================\n",
            "Total params: 430851 (1.64 MB)\n",
            "Trainable params: 430851 (1.64 MB)\n",
            "Non-trainable params: 0 (0.00 Byte)\n",
            "_________________________________________________________________\n",
            "Epoch 1/30\n",
            "122/122 [==============================] - 2s 10ms/step - loss: 0.6942 - accuracy: 0.7402 - val_loss: 0.5081 - val_accuracy: 0.7987\n",
            "Epoch 2/30\n",
            "122/122 [==============================] - 1s 8ms/step - loss: 0.2927 - accuracy: 0.9134 - val_loss: 0.4488 - val_accuracy: 0.8177\n",
            "Epoch 3/30\n",
            "122/122 [==============================] - 1s 8ms/step - loss: 0.1608 - accuracy: 0.9611 - val_loss: 0.4788 - val_accuracy: 0.8114\n",
            "Epoch 4/30\n",
            "122/122 [==============================] - 1s 8ms/step - loss: 0.0941 - accuracy: 0.9845 - val_loss: 0.4820 - val_accuracy: 0.8114\n",
            "Epoch 5/30\n",
            "122/122 [==============================] - 1s 11ms/step - loss: 0.0595 - accuracy: 0.9936 - val_loss: 0.5017 - val_accuracy: 0.8114\n"
          ]
        },
        {
          "output_type": "error",
          "ename": "AttributeError",
          "evalue": "module 'custom_functions' has no attribute 'evaluate_classification_network'",
          "traceback": [
            "\u001b[0;31m---------------------------------------------------------------------------\u001b[0m",
            "\u001b[0;31mAttributeError\u001b[0m                            Traceback (most recent call last)",
            "\u001b[0;32m<ipython-input-68-c7b5f41c3c2c>\u001b[0m in \u001b[0;36m<cell line: 11>\u001b[0;34m()\u001b[0m\n\u001b[1;32m      9\u001b[0m     validation_data=val_ds)\n\u001b[1;32m     10\u001b[0m \u001b[0;31m# Evaluate the model with a custom function\u001b[0m\u001b[0;34m\u001b[0m\u001b[0;34m\u001b[0m\u001b[0m\n\u001b[0;32m---> 11\u001b[0;31m fn.evaluate_classification_network(\n\u001b[0m\u001b[1;32m     12\u001b[0m     \u001b[0mbow_model\u001b[0m\u001b[0;34m,\u001b[0m \u001b[0mX_train\u001b[0m\u001b[0;34m=\u001b[0m\u001b[0mtrain_ds\u001b[0m\u001b[0;34m,\u001b[0m\u001b[0;34m\u001b[0m\u001b[0;34m\u001b[0m\u001b[0m\n\u001b[1;32m     13\u001b[0m     \u001b[0mX_test\u001b[0m\u001b[0;34m=\u001b[0m\u001b[0mtest_ds\u001b[0m\u001b[0;34m,\u001b[0m \u001b[0mhistory\u001b[0m\u001b[0;34m=\u001b[0m\u001b[0mhistory\u001b[0m\u001b[0;34m\u001b[0m\u001b[0;34m\u001b[0m\u001b[0m\n",
            "\u001b[0;31mAttributeError\u001b[0m: module 'custom_functions' has no attribute 'evaluate_classification_network'"
          ]
        }
      ]
    },
    {
      "cell_type": "code",
      "source": [
        "# Programmatically define size of vocab from vectorization layer\n",
        "VOCAB_SIZE = sequence_vectorizer.vocabulary_size()\n",
        "VOCAB_SIZE"
      ],
      "metadata": {
        "colab": {
          "base_uri": "https://localhost:8080/",
          "height": 180
        },
        "id": "3lycXJ0J-_6i",
        "outputId": "09dc4a47-282e-46c2-f9b5-dc8e2c236d7b"
      },
      "id": "3lycXJ0J-_6i",
      "execution_count": 74,
      "outputs": [
        {
          "output_type": "error",
          "ename": "NameError",
          "evalue": "name 'sequence_vectorizer' is not defined",
          "traceback": [
            "\u001b[0;31m---------------------------------------------------------------------------\u001b[0m",
            "\u001b[0;31mNameError\u001b[0m                                 Traceback (most recent call last)",
            "\u001b[0;32m<ipython-input-74-cd5a1b8a39d0>\u001b[0m in \u001b[0;36m<cell line: 2>\u001b[0;34m()\u001b[0m\n\u001b[1;32m      1\u001b[0m \u001b[0;31m# Programmatically define size of vocab from vectorization layer\u001b[0m\u001b[0;34m\u001b[0m\u001b[0;34m\u001b[0m\u001b[0m\n\u001b[0;32m----> 2\u001b[0;31m \u001b[0mVOCAB_SIZE\u001b[0m \u001b[0;34m=\u001b[0m \u001b[0msequence_vectorizer\u001b[0m\u001b[0;34m.\u001b[0m\u001b[0mvocabulary_size\u001b[0m\u001b[0;34m(\u001b[0m\u001b[0;34m)\u001b[0m\u001b[0;34m\u001b[0m\u001b[0;34m\u001b[0m\u001b[0m\n\u001b[0m\u001b[1;32m      3\u001b[0m \u001b[0mVOCAB_SIZE\u001b[0m\u001b[0;34m\u001b[0m\u001b[0;34m\u001b[0m\u001b[0m\n",
            "\u001b[0;31mNameError\u001b[0m: name 'sequence_vectorizer' is not defined"
          ]
        }
      ]
    },
    {
      "cell_type": "code",
      "source": [
        "SEQUENCE_LENGTH = 400\n",
        "SEQUENCE_LENGTH"
      ],
      "metadata": {
        "id": "RpGaWs19edkj",
        "colab": {
          "base_uri": "https://localhost:8080/"
        },
        "outputId": "ad35d465-4cd3-43a5-824f-1462f35d8535"
      },
      "id": "RpGaWs19edkj",
      "execution_count": 69,
      "outputs": [
        {
          "output_type": "execute_result",
          "data": {
            "text/plain": [
              "400"
            ]
          },
          "metadata": {},
          "execution_count": 69
        }
      ]
    },
    {
      "cell_type": "code",
      "source": [
        "# Define output dimension\n",
        "EMBED_DIM = 100\n",
        "EMBED_DIM"
      ],
      "metadata": {
        "colab": {
          "base_uri": "https://localhost:8080/"
        },
        "id": "xyDvqkbx-uVr",
        "outputId": "b73e0fca-9196-4673-bb16-bd9f13ca073d"
      },
      "id": "xyDvqkbx-uVr",
      "execution_count": 70,
      "outputs": [
        {
          "output_type": "execute_result",
          "data": {
            "text/plain": [
              "100"
            ]
          },
          "metadata": {},
          "execution_count": 70
        }
      ]
    },
    {
      "cell_type": "code",
      "source": [
        "# Defining an embedding layer\n",
        "embedding_layer = layers.Embedding(input_dim=VOCAB_SIZE,\n",
        "                                  output_dim=EMBED_DIM,\n",
        "                                  input_length=SEQUENCE_LENGTH)"
      ],
      "metadata": {
        "id": "bdNWrxPn-yB0"
      },
      "id": "bdNWrxPn-yB0",
      "execution_count": 73,
      "outputs": []
    }
  ],
  "metadata": {
    "colab": {
      "provenance": []
    },
    "language_info": {
      "name": "python"
    },
    "kernelspec": {
      "name": "python3",
      "display_name": "Python 3"
    }
  },
  "nbformat": 4,
  "nbformat_minor": 5
}