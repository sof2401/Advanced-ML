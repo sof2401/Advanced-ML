{
 "cells": [
  {
   "cell_type": "code",
   "execution_count": 1,
   "id": "41af3b29-00ac-4e71-8292-4734e290c4e2",
   "metadata": {},
   "outputs": [
    {
     "name": "stdout",
     "output_type": "stream",
     "text": [
      "{'data': {'filtered': 'data/yelp-reviews-filtered.csv',\n",
      "          'ml': {'label_encoder': 'data/label-encoder.joblib',\n",
      "                 'target_lookup': 'data/target-lookup-dict.joblib',\n",
      "                 'test': 'data/testing-data.joblib',\n",
      "                 'train': 'data/training-data.joblib'},\n",
      "          'processed': 'data/yelp-reviews-tokenized.joblib',\n",
      "          'tf': {'test_tf': 'data/testing_tf', 'train_tf': 'data/training_tf'}},\n",
      " 'eda': {'scattertext': 'eda/scattertext.html',\n",
      "         'wordclouds-lemmas': 'eda/wordclouds-lemmas.png',\n",
      "         'wordclouds-raw': 'eda/wordclouds-raw-text.png'},\n",
      " 'models': {'gru': 'models/tf/',\n",
      "            'nb': 'models/nb-pipe.joblib',\n",
      "            'rf': 'models/rf-pipe.joblib'}}\n"
     ]
    }
   ],
   "source": [
    "from pprint import pprint\n",
    "FPATHS = dict(\n",
    "    data={\n",
    "        \"filtered\":  \"data/yelp-reviews-filtered.csv\",\n",
    "        \"processed\": \"data/yelp-reviews-tokenized.joblib\",\n",
    "        \"ml\": {\n",
    "            \"train\": \"data/training-data.joblib\",  \n",
    "            \"test\": \"data/testing-data.joblib\",\n",
    "            \n",
    "            \"label_encoder\":\"data/label-encoder.joblib\",\n",
    "            'target_lookup':\"data/target-lookup-dict.joblib\",\n",
    "            \n",
    "        },\n",
    "        \"tf\": {\n",
    "            \"train_tf\": \"data/training_tf\",  \n",
    "            \"test_tf\": \"data/testing_tf\", \n",
    "         },           \n",
    "    },\n",
    "    models={\n",
    "        \"rf\": \"models/rf-pipe.joblib\", \n",
    "        \"nb\": \"models/nb-pipe.joblib\", \n",
    "        \"gru\": \"models/tf/\"\n",
    "    },\n",
    "    eda = {\n",
    "        \"scattertext\": \"eda/scattertext.html\",\n",
    "        \"wordclouds-raw\": \"eda/wordclouds-raw-text.png\",\n",
    "        'wordclouds-lemmas':\"eda/wordclouds-lemmas.png\",\n",
    "    }\n",
    ")\n",
    "pprint(FPATHS)"
   ]
  },
  {
   "cell_type": "code",
   "execution_count": 2,
   "id": "f6ddc2cf-0f0b-455a-b953-4bc47f097512",
   "metadata": {},
   "outputs": [],
   "source": [
    "# Save the filepaths in a config folder\n",
    "import os, json\n",
    "os.makedirs('config/', exist_ok=True)\n",
    "FPATHS_FILE = 'config/filepaths.json'\n",
    "with open(FPATHS_FILE, 'w') as f:\n",
    "    json.dump(FPATHS, f)"
   ]
  },
  {
   "cell_type": "code",
   "execution_count": null,
   "id": "72eca11e-61d9-4a68-ad14-6d0f3047cda6",
   "metadata": {},
   "outputs": [],
   "source": [
    "import pandas as pd\n",
    "import joblib\n",
    "import matplotlib.pyplot as plt\n",
    "import matplotlib as mpl\n",
    "import seaborn as sns\n",
    "import numpy as np\n",
    "from imblearn.under_sampling import RandomUnderSampler\n",
    "import spacy\n",
    "from sklearn.model_selection import train_test_split\n",
    "from sklearn.pipeline import Pipeline\n",
    "from sklearn.feature_extraction.text import CountVectorizer, TfidfVectorizer\n",
    "from sklearn.ensemble import RandomForestClassifier\n",
    "from sklearn.naive_bayes import MultinomialNB\n",
    "from sklearn import metrics\n",
    "from sklearn.metrics import ConfusionMatrixDisplay, classification_report\n",
    "import tensorflow as tf\n",
    "# Increase column width\n",
    "pd.set_option('display.max_colwidth', 250)\n",
    "import tensorflow as tf"
   ]
  },
  {
   "cell_type": "code",
   "execution_count": null,
   "id": "ba049d96-50f9-4ea7-b439-92e73af43228",
   "metadata": {},
   "outputs": [],
   "source": []
  }
 ],
 "metadata": {
  "kernelspec": {
   "display_name": "Python (dojo-env)",
   "language": "python",
   "name": "dojo-env"
  },
  "language_info": {
   "codemirror_mode": {
    "name": "ipython",
    "version": 3
   },
   "file_extension": ".py",
   "mimetype": "text/x-python",
   "name": "python",
   "nbconvert_exporter": "python",
   "pygments_lexer": "ipython3",
   "version": "3.10.10"
  }
 },
 "nbformat": 4,
 "nbformat_minor": 5
}
