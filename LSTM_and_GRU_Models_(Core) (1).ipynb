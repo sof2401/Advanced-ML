{
  "cells": [
    {
      "cell_type": "markdown",
      "id": "53e7a0a3-fc17-4032-81ff-95355a9ad601",
      "metadata": {
        "id": "53e7a0a3-fc17-4032-81ff-95355a9ad601"
      },
      "source": [
        "# Imports"
      ]
    },
    {
      "cell_type": "code",
      "execution_count": 55,
      "id": "1cc0758f-b0fd-4167-8b7a-3dc05b9f85cc",
      "metadata": {
        "id": "1cc0758f-b0fd-4167-8b7a-3dc05b9f85cc"
      },
      "outputs": [],
      "source": [
        "import tensorflow as tf\n",
        "import pandas as pd\n",
        "import matplotlib.pyplot as plt\n",
        "import seaborn as sns\n",
        "import numpy as np\n",
        "from sklearn.model_selection import train_test_split\n",
        "from sklearn.pipeline import make_pipeline, Pipeline\n",
        "from sklearn.model_selection import GridSearchCV\n",
        "from imblearn.under_sampling import RandomUnderSampler\n",
        "from tensorflow.keras.models import Sequential\n",
        "from tensorflow.keras import layers, optimizers, regularizers\n",
        "from sklearn.preprocessing import LabelEncoder\n",
        "\n",
        "# Then Set Random Seeds\n",
        "tf.keras.utils.set_random_seed(42)\n",
        "tf.random.set_seed(42)\n",
        "np.random.seed(42)\n",
        "\n",
        "# Then run the Enable Deterministic Operations Function\n",
        "tf.config.experimental.enable_op_determinism()"
      ]
    },
    {
      "cell_type": "code",
      "execution_count": 56,
      "id": "b6f0e4c3-ef39-486b-9b04-74a5854884c4",
      "metadata": {
        "id": "b6f0e4c3-ef39-486b-9b04-74a5854884c4"
      },
      "outputs": [],
      "source": [
        "def build_lstm_model(text_vectorization_layer, classes):\n",
        "    # Define sequential model with pre-trained vectorization layer and *new* embedding layer\n",
        "    lstm_model = Sequential([\n",
        "        text_vectorization_layer,\n",
        "        layers.Embedding(input_dim=VOCAB_SIZE,\n",
        "                         output_dim=EMBED_DIM,\n",
        "                         input_length=SEQUENCE_LENGTH)\n",
        "    ])\n",
        "\n",
        "    # Add *new* LSTM layer\n",
        "    lstm_model.add(layers.LSTM(128))\n",
        "    # Add output layer\n",
        "    lstm_model.add(layers.Dense(len(classes), activation='softmax'))\n",
        "\n",
        "    # Compile the model\n",
        "    lstm_model.compile(optimizer=optimizers.Adam(learning_rate=0.01),\n",
        "                       loss='sparse_categorical_crossentropy',\n",
        "                       metrics=['accuracy'])\n",
        "\n",
        "    lstm_model.summary()\n",
        "    return lstm_model"
      ]
    },
    {
      "cell_type": "code",
      "source": [
        "# Include callbacks\n",
        "def get_callbacks(patience=3, monitor='val_accuracy'):\n",
        "    early_stop = tf.keras.callbacks.EarlyStopping(patience=patience, monitor=monitor)\n",
        "    return [early_stop]"
      ],
      "metadata": {
        "id": "_TiuAWlnoIOX"
      },
      "id": "_TiuAWlnoIOX",
      "execution_count": 57,
      "outputs": []
    },
    {
      "cell_type": "code",
      "source": [
        "def evaluate_classification_network(model,\n",
        "                                    X_train=None, y_train=None,\n",
        "                                    X_test=None, y_test=None,\n",
        "                                    history=None, history_figsize=(6,6),\n",
        "                                    figsize=(6,4), normalize='true',\n",
        "                                    output_dict = False,\n",
        "                                    cmap_train='Blues',\n",
        "                                    cmap_test=\"Reds\",\n",
        "                                    values_format=\".2f\",\n",
        "                                    colorbar=False):\n",
        "    \"\"\"Evaluates a neural network classification task using either\n",
        "    separate X and y arrays or a tensorflow Dataset\n",
        "\n",
        "    Data Args:\n",
        "        X_train (array, or Dataset)\n",
        "        y_train (array, or None if using a Dataset\n",
        "        X_test (array, or Dataset)\n",
        "        y_test (array, or None if using a Dataset)\n",
        "        history (history object)\n",
        "        \"\"\"\n",
        "    # Plot history, if provided\n",
        "    if history is not None:\n",
        "        plot_history(history, figsize=history_figsize)\n",
        "    ## Adding a Print Header\n",
        "    print(\"\\n\"+'='*80)\n",
        "    print('- Evaluating Network...')\n",
        "    print('='*80)\n",
        "    ## TRAINING DATA EVALUATION\n",
        "    # check if X_train was provided\n",
        "    if X_train is not None:\n",
        "        ## Check if X_train is a dataset\n",
        "        if hasattr(X_train,'map'):\n",
        "            # If it IS a Datset:\n",
        "            # extract y_train and y_train_pred with helper function\n",
        "            y_train, y_train_pred = get_true_pred_labels(model, X_train)\n",
        "        else:\n",
        "            # Get predictions for training data\n",
        "            y_train_pred = model.predict(X_train)\n",
        "        ## Pass both y-vars through helper compatibility function\n",
        "        y_train = convert_y_to_sklearn_classes(y_train)\n",
        "        y_train_pred = convert_y_to_sklearn_classes(y_train_pred)\n",
        "\n",
        "        # Call the helper function to obtain regression metrics for training data\n",
        "        results_train = classification_metrics(y_train, y_train_pred,\n",
        "                                         output_dict=True, figsize=figsize,\n",
        "                                             colorbar=colorbar, cmap=cmap_train,\n",
        "                                               values_format=values_format,\n",
        "                                         label='Training Data')\n",
        "\n",
        "        ## Run model.evaluate\n",
        "        print(\"\\n- Evaluating Training Data:\")\n",
        "        print(model.evaluate(X_train, return_dict=True))\n",
        "\n",
        "    # If no X_train, then save empty list for results_train\n",
        "    else:\n",
        "        results_train = []\n",
        "    ## TEST DATA EVALUATION\n",
        "    # check if X_test was provided\n",
        "    if X_test is not None:\n",
        "        ## Check if X_train is a dataset\n",
        "        if hasattr(X_test,'map'):\n",
        "            # If it IS a Datset:\n",
        "            # extract y_train and y_train_pred with helper function\n",
        "            y_test, y_test_pred = get_true_pred_labels(model, X_test)\n",
        "        else:\n",
        "            # Get predictions for training data\n",
        "            y_test_pred = model.predict(X_test)\n",
        "        ## Pass both y-vars through helper compatibility function\n",
        "        y_test = convert_y_to_sklearn_classes(y_test)\n",
        "        y_test_pred = convert_y_to_sklearn_classes(y_test_pred)\n",
        "\n",
        "        # Call the helper function to obtain regression metrics for training data\n",
        "        results_test = classification_metrics(y_test, y_test_pred,\n",
        "                                         output_dict=True, figsize=figsize,\n",
        "                                             colorbar=colorbar, cmap=cmap_test,\n",
        "                                              values_format=values_format,\n",
        "                                         label='Test Data')\n",
        "\n",
        "        ## Run model.evaluate\n",
        "        print(\"\\n- Evaluating Test Data:\")\n",
        "        print(model.evaluate(X_test, return_dict=True))\n",
        "\n",
        "    # If no X_test, then save empty list for results_test\n",
        "    else:\n",
        "        results_test = []\n",
        "\n",
        "    # Store results in a dictionary\n",
        "    results_dict = {'train':results_train,\n",
        "                    'test': results_test}\n",
        "    if output_dict == True:\n",
        "        return results_dict"
      ],
      "metadata": {
        "id": "IVv1o3p2vP6N"
      },
      "id": "IVv1o3p2vP6N",
      "execution_count": 58,
      "outputs": []
    },
    {
      "cell_type": "code",
      "source": [
        "def plot_history(history,figsize=(6,8)):\n",
        "    # Get a unique list of metrics\n",
        "    all_metrics = np.unique([k.replace('val_','') for k in history.history.keys()])\n",
        "    # Plot each metric\n",
        "    n_plots = len(all_metrics)\n",
        "    fig, axes = plt.subplots(nrows=n_plots, figsize=figsize)\n",
        "    axes = axes.flatten()\n",
        "    # Loop through metric names add get an index for the axes\n",
        "    for i, metric in enumerate(all_metrics):\n",
        "        # Get the epochs and metric values\n",
        "        epochs = history.epoch\n",
        "        score = history.history[metric]\n",
        "        # Plot the training results\n",
        "        axes[i].plot(epochs, score, label=metric, marker='.')\n",
        "        # Plot val results (if they exist)\n",
        "        try:\n",
        "            val_score = history.history[f\"val_{metric}\"]\n",
        "            axes[i].plot(epochs, val_score, label=f\"val_{metric}\",marker='.')\n",
        "        except:\n",
        "            pass\n",
        "        finally:\n",
        "            axes[i].legend()\n",
        "            axes[i].set(title=metric, xlabel=\"Epoch\",ylabel=metric)\n",
        "    # Adjust subplots and show\n",
        "    fig.tight_layout()\n",
        "    plt.show()"
      ],
      "metadata": {
        "id": "5pykhzE-xjg4"
      },
      "id": "5pykhzE-xjg4",
      "execution_count": 83,
      "outputs": []
    },
    {
      "cell_type": "code",
      "source": [
        "def get_true_pred_labels(model,ds):\n",
        "    \"\"\"Gets the labels and predicted probabilities from a Tensorflow model and Dataset object.\n",
        "    Adapted from source: https://stackoverflow.com/questions/66386561/keras-classification-report-accuracy-is-different-between-model-predict-accurac\n",
        "    \"\"\"\n",
        "    y_true = []\n",
        "    y_pred_probs = []\n",
        "\n",
        "    # Loop through the dataset as a numpy iterator\n",
        "    for images, labels in ds.as_numpy_iterator():\n",
        "\n",
        "        # Get prediction with batch_size=1\n",
        "        y_probs = model.predict(images, batch_size=1, verbose=0)\n",
        "        # Combine previous labels/preds with new labels/preds\n",
        "        y_true.extend(labels)\n",
        "        y_pred_probs.extend(y_probs)\n",
        "    ## Convert the lists to arrays\n",
        "    y_true = np.array(y_true)\n",
        "    y_pred_probs = np.array(y_pred_probs)\n",
        "\n",
        "    return y_true, y_pred_probs"
      ],
      "metadata": {
        "id": "cTUu4w3NylrL"
      },
      "id": "cTUu4w3NylrL",
      "execution_count": 85,
      "outputs": []
    },
    {
      "cell_type": "code",
      "source": [
        "def convert_y_to_sklearn_classes(y, verbose=False):\n",
        "    # If already one-dimension\n",
        "    if np.ndim(y)==1:\n",
        "        if verbose:\n",
        "            print(\"- y is 1D, using it as-is.\")\n",
        "        return y\n",
        "\n",
        "    # If 2 dimensions with more than 1 column:\n",
        "    elif y.shape[1]>1:\n",
        "        if verbose:\n",
        "            print(\"- y is 2D with >1 column. Using argmax for metrics.\")\n",
        "        return np.argmax(y, axis=1)\n",
        "\n",
        "    else:\n",
        "        if verbose:\n",
        "            print(\"y is 2D with 1 column. Using round for metrics.\")\n",
        "        return np.round(y).flatten().astype(int)"
      ],
      "metadata": {
        "id": "Mtpoi5m90lYb"
      },
      "id": "Mtpoi5m90lYb",
      "execution_count": 89,
      "outputs": []
    },
    {
      "cell_type": "code",
      "source": [
        "def classification_metrics(y_true, y_pred, label='',\n",
        "                           output_dict=False, figsize=(8,4),\n",
        "                           normalize='true', cmap='Blues',\n",
        "                           colorbar=False,values_format=\".2f\"):\n",
        "    \"\"\"Modified version of classification metrics function from Intro to Machine Learning.\n",
        "    Updates:\n",
        "    - Reversed raw counts confusion matrix cmap  (so darker==more).\n",
        "    - Added arg for normalized confusion matrix values_format\n",
        "    \"\"\"\n",
        "    # Get the classification report\n",
        "    report = classification_report(y_true, y_pred)\n",
        "\n",
        "    ## Print header and report\n",
        "    header = \"-\"*70\n",
        "    print(header, f\" Classification Metrics: {label}\", header, sep='\\n')\n",
        "    print(report)\n",
        "\n",
        "    ## CONFUSION MATRICES SUBPLOTS\n",
        "    fig, axes = plt.subplots(ncols=2, figsize=figsize)\n",
        "\n",
        "    # Create a confusion matrix  of raw counts (left subplot)\n",
        "    ConfusionMatrixDisplay.from_predictions(y_true, y_pred,\n",
        "                                            normalize=None,\n",
        "                                            cmap='gist_gray_r',# Updated cmap\n",
        "                                            values_format=\"d\",\n",
        "                                            colorbar=colorbar,\n",
        "                                            ax = axes[0]);\n",
        "    axes[0].set_title(\"Raw Counts\")\n",
        "\n",
        "    # Create a confusion matrix with the data with normalize argument\n",
        "    ConfusionMatrixDisplay.from_predictions(y_true, y_pred,\n",
        "                                            normalize=normalize,\n",
        "                                            cmap=cmap,\n",
        "                                            values_format=values_format, #New arg\n",
        "                                            colorbar=colorbar,\n",
        "                                            ax = axes[1]);\n",
        "    axes[1].set_title(\"Normalized Confusion Matrix\")\n",
        "\n",
        "    # Adjust layout and show figure\n",
        "    fig.tight_layout()\n",
        "    plt.show()\n",
        "\n",
        "    # Return dictionary of classification_report\n",
        "    if output_dict==True:\n",
        "        report_dict = classification_report(y_true, y_pred, output_dict=True)\n",
        "        return report_dict"
      ],
      "metadata": {
        "id": "U1bU8uWm3kKx"
      },
      "id": "U1bU8uWm3kKx",
      "execution_count": 90,
      "outputs": []
    },
    {
      "cell_type": "markdown",
      "id": "8db78f96-82f5-4571-8c9b-ca08d47429cd",
      "metadata": {
        "id": "8db78f96-82f5-4571-8c9b-ca08d47429cd"
      },
      "source": [
        "# Dataset Prep"
      ]
    },
    {
      "cell_type": "code",
      "execution_count": 59,
      "id": "647db9d3-6ee4-428a-98f8-75261d996009",
      "metadata": {
        "colab": {
          "base_uri": "https://localhost:8080/",
          "height": 238
        },
        "id": "647db9d3-6ee4-428a-98f8-75261d996009",
        "outputId": "226a6355-5c17-44d6-aca8-50d28d401db8"
      },
      "outputs": [
        {
          "output_type": "execute_result",
          "data": {
            "text/plain": [
              "                                                      text author\n",
              "id                                                               \n",
              "id26305  This process, however, afforded me no means of...    EAP\n",
              "id17569  It never once occurred to me that the fumbling...    HPL\n",
              "id11008  In his left hand was a gold snuff box, from wh...    EAP\n",
              "id27763  How lovely is spring As we looked from Windsor...    MWS\n",
              "id12958  Finding nothing else, not even gold, the Super...    HPL"
            ],
            "text/html": [
              "\n",
              "  <div id=\"df-509fd056-d2fa-4a73-b4d3-0dddd7fa823c\" class=\"colab-df-container\">\n",
              "    <div>\n",
              "<style scoped>\n",
              "    .dataframe tbody tr th:only-of-type {\n",
              "        vertical-align: middle;\n",
              "    }\n",
              "\n",
              "    .dataframe tbody tr th {\n",
              "        vertical-align: top;\n",
              "    }\n",
              "\n",
              "    .dataframe thead th {\n",
              "        text-align: right;\n",
              "    }\n",
              "</style>\n",
              "<table border=\"1\" class=\"dataframe\">\n",
              "  <thead>\n",
              "    <tr style=\"text-align: right;\">\n",
              "      <th></th>\n",
              "      <th>text</th>\n",
              "      <th>author</th>\n",
              "    </tr>\n",
              "    <tr>\n",
              "      <th>id</th>\n",
              "      <th></th>\n",
              "      <th></th>\n",
              "    </tr>\n",
              "  </thead>\n",
              "  <tbody>\n",
              "    <tr>\n",
              "      <th>id26305</th>\n",
              "      <td>This process, however, afforded me no means of...</td>\n",
              "      <td>EAP</td>\n",
              "    </tr>\n",
              "    <tr>\n",
              "      <th>id17569</th>\n",
              "      <td>It never once occurred to me that the fumbling...</td>\n",
              "      <td>HPL</td>\n",
              "    </tr>\n",
              "    <tr>\n",
              "      <th>id11008</th>\n",
              "      <td>In his left hand was a gold snuff box, from wh...</td>\n",
              "      <td>EAP</td>\n",
              "    </tr>\n",
              "    <tr>\n",
              "      <th>id27763</th>\n",
              "      <td>How lovely is spring As we looked from Windsor...</td>\n",
              "      <td>MWS</td>\n",
              "    </tr>\n",
              "    <tr>\n",
              "      <th>id12958</th>\n",
              "      <td>Finding nothing else, not even gold, the Super...</td>\n",
              "      <td>HPL</td>\n",
              "    </tr>\n",
              "  </tbody>\n",
              "</table>\n",
              "</div>\n",
              "    <div class=\"colab-df-buttons\">\n",
              "\n",
              "  <div class=\"colab-df-container\">\n",
              "    <button class=\"colab-df-convert\" onclick=\"convertToInteractive('df-509fd056-d2fa-4a73-b4d3-0dddd7fa823c')\"\n",
              "            title=\"Convert this dataframe to an interactive table.\"\n",
              "            style=\"display:none;\">\n",
              "\n",
              "  <svg xmlns=\"http://www.w3.org/2000/svg\" height=\"24px\" viewBox=\"0 -960 960 960\">\n",
              "    <path d=\"M120-120v-720h720v720H120Zm60-500h600v-160H180v160Zm220 220h160v-160H400v160Zm0 220h160v-160H400v160ZM180-400h160v-160H180v160Zm440 0h160v-160H620v160ZM180-180h160v-160H180v160Zm440 0h160v-160H620v160Z\"/>\n",
              "  </svg>\n",
              "    </button>\n",
              "\n",
              "  <style>\n",
              "    .colab-df-container {\n",
              "      display:flex;\n",
              "      gap: 12px;\n",
              "    }\n",
              "\n",
              "    .colab-df-convert {\n",
              "      background-color: #E8F0FE;\n",
              "      border: none;\n",
              "      border-radius: 50%;\n",
              "      cursor: pointer;\n",
              "      display: none;\n",
              "      fill: #1967D2;\n",
              "      height: 32px;\n",
              "      padding: 0 0 0 0;\n",
              "      width: 32px;\n",
              "    }\n",
              "\n",
              "    .colab-df-convert:hover {\n",
              "      background-color: #E2EBFA;\n",
              "      box-shadow: 0px 1px 2px rgba(60, 64, 67, 0.3), 0px 1px 3px 1px rgba(60, 64, 67, 0.15);\n",
              "      fill: #174EA6;\n",
              "    }\n",
              "\n",
              "    .colab-df-buttons div {\n",
              "      margin-bottom: 4px;\n",
              "    }\n",
              "\n",
              "    [theme=dark] .colab-df-convert {\n",
              "      background-color: #3B4455;\n",
              "      fill: #D2E3FC;\n",
              "    }\n",
              "\n",
              "    [theme=dark] .colab-df-convert:hover {\n",
              "      background-color: #434B5C;\n",
              "      box-shadow: 0px 1px 3px 1px rgba(0, 0, 0, 0.15);\n",
              "      filter: drop-shadow(0px 1px 2px rgba(0, 0, 0, 0.3));\n",
              "      fill: #FFFFFF;\n",
              "    }\n",
              "  </style>\n",
              "\n",
              "    <script>\n",
              "      const buttonEl =\n",
              "        document.querySelector('#df-509fd056-d2fa-4a73-b4d3-0dddd7fa823c button.colab-df-convert');\n",
              "      buttonEl.style.display =\n",
              "        google.colab.kernel.accessAllowed ? 'block' : 'none';\n",
              "\n",
              "      async function convertToInteractive(key) {\n",
              "        const element = document.querySelector('#df-509fd056-d2fa-4a73-b4d3-0dddd7fa823c');\n",
              "        const dataTable =\n",
              "          await google.colab.kernel.invokeFunction('convertToInteractive',\n",
              "                                                    [key], {});\n",
              "        if (!dataTable) return;\n",
              "\n",
              "        const docLinkHtml = 'Like what you see? Visit the ' +\n",
              "          '<a target=\"_blank\" href=https://colab.research.google.com/notebooks/data_table.ipynb>data table notebook</a>'\n",
              "          + ' to learn more about interactive tables.';\n",
              "        element.innerHTML = '';\n",
              "        dataTable['output_type'] = 'display_data';\n",
              "        await google.colab.output.renderOutput(dataTable, element);\n",
              "        const docLink = document.createElement('div');\n",
              "        docLink.innerHTML = docLinkHtml;\n",
              "        element.appendChild(docLink);\n",
              "      }\n",
              "    </script>\n",
              "  </div>\n",
              "\n",
              "\n",
              "<div id=\"df-79f3b459-0cea-4425-b1e7-4a0a6220a31c\">\n",
              "  <button class=\"colab-df-quickchart\" onclick=\"quickchart('df-79f3b459-0cea-4425-b1e7-4a0a6220a31c')\"\n",
              "            title=\"Suggest charts\"\n",
              "            style=\"display:none;\">\n",
              "\n",
              "<svg xmlns=\"http://www.w3.org/2000/svg\" height=\"24px\"viewBox=\"0 0 24 24\"\n",
              "     width=\"24px\">\n",
              "    <g>\n",
              "        <path d=\"M19 3H5c-1.1 0-2 .9-2 2v14c0 1.1.9 2 2 2h14c1.1 0 2-.9 2-2V5c0-1.1-.9-2-2-2zM9 17H7v-7h2v7zm4 0h-2V7h2v10zm4 0h-2v-4h2v4z\"/>\n",
              "    </g>\n",
              "</svg>\n",
              "  </button>\n",
              "\n",
              "<style>\n",
              "  .colab-df-quickchart {\n",
              "      --bg-color: #E8F0FE;\n",
              "      --fill-color: #1967D2;\n",
              "      --hover-bg-color: #E2EBFA;\n",
              "      --hover-fill-color: #174EA6;\n",
              "      --disabled-fill-color: #AAA;\n",
              "      --disabled-bg-color: #DDD;\n",
              "  }\n",
              "\n",
              "  [theme=dark] .colab-df-quickchart {\n",
              "      --bg-color: #3B4455;\n",
              "      --fill-color: #D2E3FC;\n",
              "      --hover-bg-color: #434B5C;\n",
              "      --hover-fill-color: #FFFFFF;\n",
              "      --disabled-bg-color: #3B4455;\n",
              "      --disabled-fill-color: #666;\n",
              "  }\n",
              "\n",
              "  .colab-df-quickchart {\n",
              "    background-color: var(--bg-color);\n",
              "    border: none;\n",
              "    border-radius: 50%;\n",
              "    cursor: pointer;\n",
              "    display: none;\n",
              "    fill: var(--fill-color);\n",
              "    height: 32px;\n",
              "    padding: 0;\n",
              "    width: 32px;\n",
              "  }\n",
              "\n",
              "  .colab-df-quickchart:hover {\n",
              "    background-color: var(--hover-bg-color);\n",
              "    box-shadow: 0 1px 2px rgba(60, 64, 67, 0.3), 0 1px 3px 1px rgba(60, 64, 67, 0.15);\n",
              "    fill: var(--button-hover-fill-color);\n",
              "  }\n",
              "\n",
              "  .colab-df-quickchart-complete:disabled,\n",
              "  .colab-df-quickchart-complete:disabled:hover {\n",
              "    background-color: var(--disabled-bg-color);\n",
              "    fill: var(--disabled-fill-color);\n",
              "    box-shadow: none;\n",
              "  }\n",
              "\n",
              "  .colab-df-spinner {\n",
              "    border: 2px solid var(--fill-color);\n",
              "    border-color: transparent;\n",
              "    border-bottom-color: var(--fill-color);\n",
              "    animation:\n",
              "      spin 1s steps(1) infinite;\n",
              "  }\n",
              "\n",
              "  @keyframes spin {\n",
              "    0% {\n",
              "      border-color: transparent;\n",
              "      border-bottom-color: var(--fill-color);\n",
              "      border-left-color: var(--fill-color);\n",
              "    }\n",
              "    20% {\n",
              "      border-color: transparent;\n",
              "      border-left-color: var(--fill-color);\n",
              "      border-top-color: var(--fill-color);\n",
              "    }\n",
              "    30% {\n",
              "      border-color: transparent;\n",
              "      border-left-color: var(--fill-color);\n",
              "      border-top-color: var(--fill-color);\n",
              "      border-right-color: var(--fill-color);\n",
              "    }\n",
              "    40% {\n",
              "      border-color: transparent;\n",
              "      border-right-color: var(--fill-color);\n",
              "      border-top-color: var(--fill-color);\n",
              "    }\n",
              "    60% {\n",
              "      border-color: transparent;\n",
              "      border-right-color: var(--fill-color);\n",
              "    }\n",
              "    80% {\n",
              "      border-color: transparent;\n",
              "      border-right-color: var(--fill-color);\n",
              "      border-bottom-color: var(--fill-color);\n",
              "    }\n",
              "    90% {\n",
              "      border-color: transparent;\n",
              "      border-bottom-color: var(--fill-color);\n",
              "    }\n",
              "  }\n",
              "</style>\n",
              "\n",
              "  <script>\n",
              "    async function quickchart(key) {\n",
              "      const quickchartButtonEl =\n",
              "        document.querySelector('#' + key + ' button');\n",
              "      quickchartButtonEl.disabled = true;  // To prevent multiple clicks.\n",
              "      quickchartButtonEl.classList.add('colab-df-spinner');\n",
              "      try {\n",
              "        const charts = await google.colab.kernel.invokeFunction(\n",
              "            'suggestCharts', [key], {});\n",
              "      } catch (error) {\n",
              "        console.error('Error during call to suggestCharts:', error);\n",
              "      }\n",
              "      quickchartButtonEl.classList.remove('colab-df-spinner');\n",
              "      quickchartButtonEl.classList.add('colab-df-quickchart-complete');\n",
              "    }\n",
              "    (() => {\n",
              "      let quickchartButtonEl =\n",
              "        document.querySelector('#df-79f3b459-0cea-4425-b1e7-4a0a6220a31c button');\n",
              "      quickchartButtonEl.style.display =\n",
              "        google.colab.kernel.accessAllowed ? 'block' : 'none';\n",
              "    })();\n",
              "  </script>\n",
              "</div>\n",
              "\n",
              "    </div>\n",
              "  </div>\n"
            ],
            "application/vnd.google.colaboratory.intrinsic+json": {
              "type": "dataframe",
              "variable_name": "df",
              "summary": "{\n  \"name\": \"df\",\n  \"rows\": 19579,\n  \"fields\": [\n    {\n      \"column\": \"id\",\n      \"properties\": {\n        \"dtype\": \"string\",\n        \"num_unique_values\": 19579,\n        \"samples\": [\n          \"id15695\",\n          \"id07954\",\n          \"id16303\"\n        ],\n        \"semantic_type\": \"\",\n        \"description\": \"\"\n      }\n    },\n    {\n      \"column\": \"text\",\n      \"properties\": {\n        \"dtype\": \"string\",\n        \"num_unique_values\": 19579,\n        \"samples\": [\n          \"The gigantic magnitude and the immediately available nature of the sum, dazzled and bewildered all who thought upon the topic.\",\n          \"Shall I disturb this calm by mingling in the world?\",\n          \"He had seen so many customs and witnessed so great a variety of moral creeds that he had been obliged to form an independant one for himself which had no relation to the peculiar notions of any one country: his early prejudices of course influenced his judgement in the formation of his principles, and some raw colledge ideas were strangely mingled with the deepest deductions of his penetrating mind.\"\n        ],\n        \"semantic_type\": \"\",\n        \"description\": \"\"\n      }\n    },\n    {\n      \"column\": \"author\",\n      \"properties\": {\n        \"dtype\": \"category\",\n        \"num_unique_values\": 3,\n        \"samples\": [\n          \"EAP\",\n          \"HPL\",\n          \"MWS\"\n        ],\n        \"semantic_type\": \"\",\n        \"description\": \"\"\n      }\n    }\n  ]\n}"
            }
          },
          "metadata": {},
          "execution_count": 59
        }
      ],
      "source": [
        "# Load Data from your path\n",
        "df = pd.read_csv(\"spooky.csv\", index_col = 'id')\n",
        "df.head()"
      ]
    },
    {
      "cell_type": "code",
      "execution_count": 60,
      "id": "02d63540-3c20-4c6a-a8dc-ad51bbaf551a",
      "metadata": {
        "colab": {
          "base_uri": "https://localhost:8080/",
          "height": 238
        },
        "id": "02d63540-3c20-4c6a-a8dc-ad51bbaf551a",
        "outputId": "67e3a383-1da2-45c0-b6b8-188fd14f9c58"
      },
      "outputs": [
        {
          "output_type": "execute_result",
          "data": {
            "text/plain": [
              "                                                      text author  \\\n",
              "id                                                                  \n",
              "id26305  This process, however, afforded me no means of...    EAP   \n",
              "id17569  It never once occurred to me that the fumbling...    HPL   \n",
              "id11008  In his left hand was a gold snuff box, from wh...    EAP   \n",
              "id27763  How lovely is spring As we looked from Windsor...    MWS   \n",
              "id12958  Finding nothing else, not even gold, the Super...    HPL   \n",
              "\n",
              "         sequence_length  \n",
              "id                        \n",
              "id26305               41  \n",
              "id17569               14  \n",
              "id11008               36  \n",
              "id27763               34  \n",
              "id12958               27  "
            ],
            "text/html": [
              "\n",
              "  <div id=\"df-6fe8c4c6-14d8-4a74-b34f-c91b35b5c127\" class=\"colab-df-container\">\n",
              "    <div>\n",
              "<style scoped>\n",
              "    .dataframe tbody tr th:only-of-type {\n",
              "        vertical-align: middle;\n",
              "    }\n",
              "\n",
              "    .dataframe tbody tr th {\n",
              "        vertical-align: top;\n",
              "    }\n",
              "\n",
              "    .dataframe thead th {\n",
              "        text-align: right;\n",
              "    }\n",
              "</style>\n",
              "<table border=\"1\" class=\"dataframe\">\n",
              "  <thead>\n",
              "    <tr style=\"text-align: right;\">\n",
              "      <th></th>\n",
              "      <th>text</th>\n",
              "      <th>author</th>\n",
              "      <th>sequence_length</th>\n",
              "    </tr>\n",
              "    <tr>\n",
              "      <th>id</th>\n",
              "      <th></th>\n",
              "      <th></th>\n",
              "      <th></th>\n",
              "    </tr>\n",
              "  </thead>\n",
              "  <tbody>\n",
              "    <tr>\n",
              "      <th>id26305</th>\n",
              "      <td>This process, however, afforded me no means of...</td>\n",
              "      <td>EAP</td>\n",
              "      <td>41</td>\n",
              "    </tr>\n",
              "    <tr>\n",
              "      <th>id17569</th>\n",
              "      <td>It never once occurred to me that the fumbling...</td>\n",
              "      <td>HPL</td>\n",
              "      <td>14</td>\n",
              "    </tr>\n",
              "    <tr>\n",
              "      <th>id11008</th>\n",
              "      <td>In his left hand was a gold snuff box, from wh...</td>\n",
              "      <td>EAP</td>\n",
              "      <td>36</td>\n",
              "    </tr>\n",
              "    <tr>\n",
              "      <th>id27763</th>\n",
              "      <td>How lovely is spring As we looked from Windsor...</td>\n",
              "      <td>MWS</td>\n",
              "      <td>34</td>\n",
              "    </tr>\n",
              "    <tr>\n",
              "      <th>id12958</th>\n",
              "      <td>Finding nothing else, not even gold, the Super...</td>\n",
              "      <td>HPL</td>\n",
              "      <td>27</td>\n",
              "    </tr>\n",
              "  </tbody>\n",
              "</table>\n",
              "</div>\n",
              "    <div class=\"colab-df-buttons\">\n",
              "\n",
              "  <div class=\"colab-df-container\">\n",
              "    <button class=\"colab-df-convert\" onclick=\"convertToInteractive('df-6fe8c4c6-14d8-4a74-b34f-c91b35b5c127')\"\n",
              "            title=\"Convert this dataframe to an interactive table.\"\n",
              "            style=\"display:none;\">\n",
              "\n",
              "  <svg xmlns=\"http://www.w3.org/2000/svg\" height=\"24px\" viewBox=\"0 -960 960 960\">\n",
              "    <path d=\"M120-120v-720h720v720H120Zm60-500h600v-160H180v160Zm220 220h160v-160H400v160Zm0 220h160v-160H400v160ZM180-400h160v-160H180v160Zm440 0h160v-160H620v160ZM180-180h160v-160H180v160Zm440 0h160v-160H620v160Z\"/>\n",
              "  </svg>\n",
              "    </button>\n",
              "\n",
              "  <style>\n",
              "    .colab-df-container {\n",
              "      display:flex;\n",
              "      gap: 12px;\n",
              "    }\n",
              "\n",
              "    .colab-df-convert {\n",
              "      background-color: #E8F0FE;\n",
              "      border: none;\n",
              "      border-radius: 50%;\n",
              "      cursor: pointer;\n",
              "      display: none;\n",
              "      fill: #1967D2;\n",
              "      height: 32px;\n",
              "      padding: 0 0 0 0;\n",
              "      width: 32px;\n",
              "    }\n",
              "\n",
              "    .colab-df-convert:hover {\n",
              "      background-color: #E2EBFA;\n",
              "      box-shadow: 0px 1px 2px rgba(60, 64, 67, 0.3), 0px 1px 3px 1px rgba(60, 64, 67, 0.15);\n",
              "      fill: #174EA6;\n",
              "    }\n",
              "\n",
              "    .colab-df-buttons div {\n",
              "      margin-bottom: 4px;\n",
              "    }\n",
              "\n",
              "    [theme=dark] .colab-df-convert {\n",
              "      background-color: #3B4455;\n",
              "      fill: #D2E3FC;\n",
              "    }\n",
              "\n",
              "    [theme=dark] .colab-df-convert:hover {\n",
              "      background-color: #434B5C;\n",
              "      box-shadow: 0px 1px 3px 1px rgba(0, 0, 0, 0.15);\n",
              "      filter: drop-shadow(0px 1px 2px rgba(0, 0, 0, 0.3));\n",
              "      fill: #FFFFFF;\n",
              "    }\n",
              "  </style>\n",
              "\n",
              "    <script>\n",
              "      const buttonEl =\n",
              "        document.querySelector('#df-6fe8c4c6-14d8-4a74-b34f-c91b35b5c127 button.colab-df-convert');\n",
              "      buttonEl.style.display =\n",
              "        google.colab.kernel.accessAllowed ? 'block' : 'none';\n",
              "\n",
              "      async function convertToInteractive(key) {\n",
              "        const element = document.querySelector('#df-6fe8c4c6-14d8-4a74-b34f-c91b35b5c127');\n",
              "        const dataTable =\n",
              "          await google.colab.kernel.invokeFunction('convertToInteractive',\n",
              "                                                    [key], {});\n",
              "        if (!dataTable) return;\n",
              "\n",
              "        const docLinkHtml = 'Like what you see? Visit the ' +\n",
              "          '<a target=\"_blank\" href=https://colab.research.google.com/notebooks/data_table.ipynb>data table notebook</a>'\n",
              "          + ' to learn more about interactive tables.';\n",
              "        element.innerHTML = '';\n",
              "        dataTable['output_type'] = 'display_data';\n",
              "        await google.colab.output.renderOutput(dataTable, element);\n",
              "        const docLink = document.createElement('div');\n",
              "        docLink.innerHTML = docLinkHtml;\n",
              "        element.appendChild(docLink);\n",
              "      }\n",
              "    </script>\n",
              "  </div>\n",
              "\n",
              "\n",
              "<div id=\"df-dab7b06e-7551-4dfe-baf8-9ffc8461ad4e\">\n",
              "  <button class=\"colab-df-quickchart\" onclick=\"quickchart('df-dab7b06e-7551-4dfe-baf8-9ffc8461ad4e')\"\n",
              "            title=\"Suggest charts\"\n",
              "            style=\"display:none;\">\n",
              "\n",
              "<svg xmlns=\"http://www.w3.org/2000/svg\" height=\"24px\"viewBox=\"0 0 24 24\"\n",
              "     width=\"24px\">\n",
              "    <g>\n",
              "        <path d=\"M19 3H5c-1.1 0-2 .9-2 2v14c0 1.1.9 2 2 2h14c1.1 0 2-.9 2-2V5c0-1.1-.9-2-2-2zM9 17H7v-7h2v7zm4 0h-2V7h2v10zm4 0h-2v-4h2v4z\"/>\n",
              "    </g>\n",
              "</svg>\n",
              "  </button>\n",
              "\n",
              "<style>\n",
              "  .colab-df-quickchart {\n",
              "      --bg-color: #E8F0FE;\n",
              "      --fill-color: #1967D2;\n",
              "      --hover-bg-color: #E2EBFA;\n",
              "      --hover-fill-color: #174EA6;\n",
              "      --disabled-fill-color: #AAA;\n",
              "      --disabled-bg-color: #DDD;\n",
              "  }\n",
              "\n",
              "  [theme=dark] .colab-df-quickchart {\n",
              "      --bg-color: #3B4455;\n",
              "      --fill-color: #D2E3FC;\n",
              "      --hover-bg-color: #434B5C;\n",
              "      --hover-fill-color: #FFFFFF;\n",
              "      --disabled-bg-color: #3B4455;\n",
              "      --disabled-fill-color: #666;\n",
              "  }\n",
              "\n",
              "  .colab-df-quickchart {\n",
              "    background-color: var(--bg-color);\n",
              "    border: none;\n",
              "    border-radius: 50%;\n",
              "    cursor: pointer;\n",
              "    display: none;\n",
              "    fill: var(--fill-color);\n",
              "    height: 32px;\n",
              "    padding: 0;\n",
              "    width: 32px;\n",
              "  }\n",
              "\n",
              "  .colab-df-quickchart:hover {\n",
              "    background-color: var(--hover-bg-color);\n",
              "    box-shadow: 0 1px 2px rgba(60, 64, 67, 0.3), 0 1px 3px 1px rgba(60, 64, 67, 0.15);\n",
              "    fill: var(--button-hover-fill-color);\n",
              "  }\n",
              "\n",
              "  .colab-df-quickchart-complete:disabled,\n",
              "  .colab-df-quickchart-complete:disabled:hover {\n",
              "    background-color: var(--disabled-bg-color);\n",
              "    fill: var(--disabled-fill-color);\n",
              "    box-shadow: none;\n",
              "  }\n",
              "\n",
              "  .colab-df-spinner {\n",
              "    border: 2px solid var(--fill-color);\n",
              "    border-color: transparent;\n",
              "    border-bottom-color: var(--fill-color);\n",
              "    animation:\n",
              "      spin 1s steps(1) infinite;\n",
              "  }\n",
              "\n",
              "  @keyframes spin {\n",
              "    0% {\n",
              "      border-color: transparent;\n",
              "      border-bottom-color: var(--fill-color);\n",
              "      border-left-color: var(--fill-color);\n",
              "    }\n",
              "    20% {\n",
              "      border-color: transparent;\n",
              "      border-left-color: var(--fill-color);\n",
              "      border-top-color: var(--fill-color);\n",
              "    }\n",
              "    30% {\n",
              "      border-color: transparent;\n",
              "      border-left-color: var(--fill-color);\n",
              "      border-top-color: var(--fill-color);\n",
              "      border-right-color: var(--fill-color);\n",
              "    }\n",
              "    40% {\n",
              "      border-color: transparent;\n",
              "      border-right-color: var(--fill-color);\n",
              "      border-top-color: var(--fill-color);\n",
              "    }\n",
              "    60% {\n",
              "      border-color: transparent;\n",
              "      border-right-color: var(--fill-color);\n",
              "    }\n",
              "    80% {\n",
              "      border-color: transparent;\n",
              "      border-right-color: var(--fill-color);\n",
              "      border-bottom-color: var(--fill-color);\n",
              "    }\n",
              "    90% {\n",
              "      border-color: transparent;\n",
              "      border-bottom-color: var(--fill-color);\n",
              "    }\n",
              "  }\n",
              "</style>\n",
              "\n",
              "  <script>\n",
              "    async function quickchart(key) {\n",
              "      const quickchartButtonEl =\n",
              "        document.querySelector('#' + key + ' button');\n",
              "      quickchartButtonEl.disabled = true;  // To prevent multiple clicks.\n",
              "      quickchartButtonEl.classList.add('colab-df-spinner');\n",
              "      try {\n",
              "        const charts = await google.colab.kernel.invokeFunction(\n",
              "            'suggestCharts', [key], {});\n",
              "      } catch (error) {\n",
              "        console.error('Error during call to suggestCharts:', error);\n",
              "      }\n",
              "      quickchartButtonEl.classList.remove('colab-df-spinner');\n",
              "      quickchartButtonEl.classList.add('colab-df-quickchart-complete');\n",
              "    }\n",
              "    (() => {\n",
              "      let quickchartButtonEl =\n",
              "        document.querySelector('#df-dab7b06e-7551-4dfe-baf8-9ffc8461ad4e button');\n",
              "      quickchartButtonEl.style.display =\n",
              "        google.colab.kernel.accessAllowed ? 'block' : 'none';\n",
              "    })();\n",
              "  </script>\n",
              "</div>\n",
              "\n",
              "    </div>\n",
              "  </div>\n"
            ],
            "application/vnd.google.colaboratory.intrinsic+json": {
              "type": "dataframe",
              "variable_name": "df",
              "summary": "{\n  \"name\": \"df\",\n  \"rows\": 19579,\n  \"fields\": [\n    {\n      \"column\": \"id\",\n      \"properties\": {\n        \"dtype\": \"string\",\n        \"num_unique_values\": 19579,\n        \"samples\": [\n          \"id15695\",\n          \"id07954\",\n          \"id16303\"\n        ],\n        \"semantic_type\": \"\",\n        \"description\": \"\"\n      }\n    },\n    {\n      \"column\": \"text\",\n      \"properties\": {\n        \"dtype\": \"string\",\n        \"num_unique_values\": 19579,\n        \"samples\": [\n          \"The gigantic magnitude and the immediately available nature of the sum, dazzled and bewildered all who thought upon the topic.\",\n          \"Shall I disturb this calm by mingling in the world?\",\n          \"He had seen so many customs and witnessed so great a variety of moral creeds that he had been obliged to form an independant one for himself which had no relation to the peculiar notions of any one country: his early prejudices of course influenced his judgement in the formation of his principles, and some raw colledge ideas were strangely mingled with the deepest deductions of his penetrating mind.\"\n        ],\n        \"semantic_type\": \"\",\n        \"description\": \"\"\n      }\n    },\n    {\n      \"column\": \"author\",\n      \"properties\": {\n        \"dtype\": \"category\",\n        \"num_unique_values\": 3,\n        \"samples\": [\n          \"EAP\",\n          \"HPL\",\n          \"MWS\"\n        ],\n        \"semantic_type\": \"\",\n        \"description\": \"\"\n      }\n    },\n    {\n      \"column\": \"sequence_length\",\n      \"properties\": {\n        \"dtype\": \"number\",\n        \"std\": 19,\n        \"min\": 2,\n        \"max\": 861,\n        \"num_unique_values\": 145,\n        \"samples\": [\n          65,\n          117,\n          7\n        ],\n        \"semantic_type\": \"\",\n        \"description\": \"\"\n      }\n    }\n  ]\n}"
            }
          },
          "metadata": {},
          "execution_count": 60
        }
      ],
      "source": [
        "# Let's take a look at the length of the each text\n",
        "# We will split on each space, and then get the length\n",
        "df['sequence_length'] =df['text'].map( lambda x: len(x.split(\" \")))\n",
        "df.head()"
      ]
    },
    {
      "cell_type": "code",
      "execution_count": 61,
      "id": "e149ccc4-0dee-405e-87dc-da9a20f9060e",
      "metadata": {
        "colab": {
          "base_uri": "https://localhost:8080/"
        },
        "id": "e149ccc4-0dee-405e-87dc-da9a20f9060e",
        "outputId": "8bf1bf0a-c605-4534-ad05-1c03b8f88a85"
      },
      "outputs": [
        {
          "output_type": "execute_result",
          "data": {
            "text/plain": [
              "count    19579.000000\n",
              "mean        26.730477\n",
              "std         19.048353\n",
              "min          2.000000\n",
              "25%         15.000000\n",
              "50%         23.000000\n",
              "75%         34.000000\n",
              "max        861.000000\n",
              "Name: sequence_length, dtype: float64"
            ]
          },
          "metadata": {},
          "execution_count": 61
        }
      ],
      "source": [
        "df['sequence_length'].describe()"
      ]
    },
    {
      "cell_type": "markdown",
      "id": "943ded93-2f64-444e-a47f-efccc45ca90e",
      "metadata": {
        "id": "943ded93-2f64-444e-a47f-efccc45ca90e"
      },
      "source": [
        "The range of sequence length is from 2 to 861 terms.\n",
        "\n",
        "The average length is about 28 words."
      ]
    },
    {
      "cell_type": "code",
      "execution_count": 62,
      "id": "8121b350-0027-4b2e-8cbb-13fd49917dbf",
      "metadata": {
        "colab": {
          "base_uri": "https://localhost:8080/"
        },
        "id": "8121b350-0027-4b2e-8cbb-13fd49917dbf",
        "outputId": "b70cf071-e53c-4bd4-f025-5504bff9e8a4"
      },
      "outputs": [
        {
          "output_type": "execute_result",
          "data": {
            "text/plain": [
              "author\n",
              "EAP    5635\n",
              "HPL    5635\n",
              "MWS    5635\n",
              "Name: count, dtype: int64"
            ]
          },
          "metadata": {},
          "execution_count": 62
        }
      ],
      "source": [
        "# Use RUS to reduce n to match minority group\n",
        "sampler = RandomUnderSampler(random_state=42)\n",
        "df,  _ = sampler.fit_resample(df, df['author'])\n",
        "df['author'].value_counts()"
      ]
    },
    {
      "cell_type": "code",
      "execution_count": 63,
      "id": "b6c48817-2000-4fd3-a413-1e9f183fc0be",
      "metadata": {
        "colab": {
          "base_uri": "https://localhost:8080/"
        },
        "id": "b6c48817-2000-4fd3-a413-1e9f183fc0be",
        "outputId": "8c5bad53-0e70-4ac5-f7ad-df2ec698ceff"
      },
      "outputs": [
        {
          "output_type": "execute_result",
          "data": {
            "text/plain": [
              "0        0\n",
              "1        0\n",
              "2        0\n",
              "3        0\n",
              "4        0\n",
              "        ..\n",
              "16900    2\n",
              "16901    2\n",
              "16902    2\n",
              "16903    2\n",
              "16904    2\n",
              "Name: author, Length: 16905, dtype: int64"
            ]
          },
          "metadata": {},
          "execution_count": 63
        }
      ],
      "source": [
        "# Crate a map for targets\n",
        "target_map = {'EAP':0,\n",
        "             'HPL':1,\n",
        "             'MWS':2}\n",
        "y = df['author'].map(target_map)\n",
        "y"
      ]
    },
    {
      "cell_type": "code",
      "execution_count": 64,
      "id": "9c1d726d-355f-4fe9-9a8e-7271c6879256",
      "metadata": {
        "colab": {
          "base_uri": "https://localhost:8080/"
        },
        "id": "9c1d726d-355f-4fe9-9a8e-7271c6879256",
        "outputId": "21688fcf-b2a2-497c-ddd8-c4359962a37c"
      },
      "outputs": [
        {
          "output_type": "execute_result",
          "data": {
            "text/plain": [
              "array(['He then asked me, suddenly, if I had observed any thing peculiar at the scene of the atrocity.',\n",
              "       'Through the exertions of Beauvais, the matter was industriously hushed up, as far as possible; and several days had elapsed before any public emotion resulted.',\n",
              "       'The cold was intense, and obliged me to wrap up closely in an overcoat.',\n",
              "       ...,\n",
              "       'What I ask of you is reasonable and moderate; I demand a creature of another sex, but as hideous as myself; the gratification is small, but it is all that I can receive, and it shall content me.',\n",
              "       'The birth of her daughter, embryo copy of her Raymond, filled up the measure of her content, and produced a sacred and indissoluble tie between them.',\n",
              "       \"I heard my sister's sobs, and thought, happy are women who can weep, and in a passionate caress disburthen the oppression of their feelings; shame and habitual restraint hold back a man.\"],\n",
              "      dtype=object)"
            ]
          },
          "metadata": {},
          "execution_count": 64
        }
      ],
      "source": [
        "# X and y\n",
        "X = df['text'].values\n",
        "X"
      ]
    },
    {
      "cell_type": "code",
      "source": [
        "y= df['author']"
      ],
      "metadata": {
        "id": "-wf9W-vsdMeA"
      },
      "id": "-wf9W-vsdMeA",
      "execution_count": 65,
      "outputs": []
    },
    {
      "cell_type": "code",
      "execution_count": 66,
      "id": "a46bcfd3-41f3-4eae-a923-ed2d3fc20420",
      "metadata": {
        "colab": {
          "base_uri": "https://localhost:8080/"
        },
        "id": "a46bcfd3-41f3-4eae-a923-ed2d3fc20420",
        "outputId": "b9d6cea9-b544-4aa8-dc17-547fd1584a7f"
      },
      "outputs": [
        {
          "output_type": "execute_result",
          "data": {
            "text/plain": [
              "author\n",
              "EAP    0.333333\n",
              "HPL    0.333333\n",
              "MWS    0.333333\n",
              "Name: proportion, dtype: float64"
            ]
          },
          "metadata": {},
          "execution_count": 66
        }
      ],
      "source": [
        "y.value_counts(normalize = True)"
      ]
    },
    {
      "cell_type": "code",
      "source": [
        "encoder = LabelEncoder()\n",
        "\n",
        "y = pd.Series(encoder.fit_transform(y))\n",
        "y.value_counts()"
      ],
      "metadata": {
        "colab": {
          "base_uri": "https://localhost:8080/"
        },
        "id": "xqBuhWdiaMnJ",
        "outputId": "3590a47e-58a3-46a2-b74b-2bcde2b8573c"
      },
      "id": "xqBuhWdiaMnJ",
      "execution_count": 67,
      "outputs": [
        {
          "output_type": "execute_result",
          "data": {
            "text/plain": [
              "0    5635\n",
              "1    5635\n",
              "2    5635\n",
              "Name: count, dtype: int64"
            ]
          },
          "metadata": {},
          "execution_count": 67
        }
      ]
    },
    {
      "cell_type": "code",
      "execution_count": 68,
      "id": "cfdf2fae-a777-4698-8f03-3f13c3294e09",
      "metadata": {
        "id": "cfdf2fae-a777-4698-8f03-3f13c3294e09"
      },
      "outputs": [],
      "source": [
        "# Convert to Dataset Object\n",
        "ds = tf.data.Dataset.from_tensor_slices((X, y))\n",
        "\n",
        "# Shuffle dataset\n",
        "ds = ds.shuffle(buffer_size=len(ds),reshuffle_each_iteration=False)"
      ]
    },
    {
      "cell_type": "code",
      "execution_count": 69,
      "id": "9e428c9c-23db-4688-b8d3-b62d6c921895",
      "metadata": {
        "colab": {
          "base_uri": "https://localhost:8080/"
        },
        "id": "9e428c9c-23db-4688-b8d3-b62d6c921895",
        "outputId": "147a5b24-e39b-4b9f-dcde-0f445baa3b12"
      },
      "outputs": [
        {
          "output_type": "stream",
          "name": "stdout",
          "text": [
            "    - train:\t11833 samples \t(370 batches)\n",
            "    - val:  \t3381 samples \t(106 batches)\n",
            "    - test: \t1691 samples \t(53 batches)\n"
          ]
        }
      ],
      "source": [
        "# Set the ratio of the train, validation, test split\n",
        "split_train = .7\n",
        "split_val =  .2\n",
        "split_test =  1 -( split_train + split_val )\n",
        "\n",
        "# Calculate the number of samples for training and validation data\n",
        "n_train_samples =  int(len(ds) * split_train)\n",
        "n_val_samples = int(len(ds) * split_val)\n",
        "n_test_samples = len(ds) -(n_train_samples + n_val_samples)\n",
        "\n",
        "# Set the batch size\n",
        "BATCH_SIZE =32\n",
        "\n",
        "\n",
        "import math\n",
        "# math.ceil will round up\n",
        "# How many batches?\n",
        "n_train_batches = math.ceil(n_train_samples/BATCH_SIZE)\n",
        "n_val_batches = math.ceil(n_val_samples/BATCH_SIZE)\n",
        "n_test_batches = math.ceil(n_test_samples/BATCH_SIZE)\n",
        "\n",
        "print(f\"    - train:\\t{n_train_samples} samples \\t({n_train_batches} batches)\")\n",
        "print(f\"    - val:  \\t{n_val_samples} samples \\t({n_val_batches} batches)\")\n",
        "print(f\"    - test: \\t{n_test_samples} samples \\t({n_test_batches} batches)\")"
      ]
    },
    {
      "cell_type": "code",
      "execution_count": 70,
      "id": "6db134c7-e910-4a3e-851c-abaeda49f275",
      "metadata": {
        "id": "6db134c7-e910-4a3e-851c-abaeda49f275"
      },
      "outputs": [],
      "source": [
        "# Use take and skip to define each set\n",
        "train_ds = ds.take(n_train_samples).batch(batch_size=BATCH_SIZE)\n",
        "\n",
        "# Skip over the training batches and take the validation batches\n",
        "val_ds = ds.skip(n_train_samples).take(n_val_samples).batch(batch_size=BATCH_SIZE)\n",
        "\n",
        "# Skipver the train and validation batches, the remaining are the test batches\n",
        "test_ds = ds.skip(n_train_samples + n_val_samples).batch(batch_size=BATCH_SIZE)"
      ]
    },
    {
      "cell_type": "code",
      "execution_count": 71,
      "id": "98e271dc-82f7-4b87-97fa-16d36724fd14",
      "metadata": {
        "colab": {
          "base_uri": "https://localhost:8080/"
        },
        "id": "98e271dc-82f7-4b87-97fa-16d36724fd14",
        "outputId": "b3805f2a-1fea-45fc-8686-9ff0b2b67adb"
      },
      "outputs": [
        {
          "output_type": "stream",
          "name": "stdout",
          "text": [
            " There are 370 training batches.\n",
            " There are 106 validation batches.\n",
            " There are 53 testing batches.\n"
          ]
        }
      ],
      "source": [
        "# Confirm the number of batches in each\n",
        "print (f' There are {len(train_ds)} training batches.')\n",
        "print (f' There are {len(val_ds)} validation batches.')\n",
        "print (f' There are {len(test_ds)} testing batches.')"
      ]
    },
    {
      "cell_type": "markdown",
      "id": "26f7f134-4119-4fae-befd-4b54838e3f19",
      "metadata": {
        "id": "26f7f134-4119-4fae-befd-4b54838e3f19"
      },
      "source": [
        "# Text Vectorization"
      ]
    },
    {
      "cell_type": "code",
      "execution_count": 72,
      "id": "e696975d-d1f6-495f-97fa-1c40d0d75a18",
      "metadata": {
        "id": "e696975d-d1f6-495f-97fa-1c40d0d75a18"
      },
      "outputs": [],
      "source": [
        "SEQUENCE_LENGTH = 100\n",
        "# Create text Vectorization layer\n",
        "sequence_vectorizer = tf.keras.layers.TextVectorization(\n",
        "    standardize=\"lower_and_strip_punctuation\",\n",
        "    output_mode=\"int\",\n",
        "    output_sequence_length=SEQUENCE_LENGTH)"
      ]
    },
    {
      "cell_type": "code",
      "execution_count": 73,
      "id": "33b0f001-68f1-43da-8388-ccc8787827ab",
      "metadata": {
        "colab": {
          "base_uri": "https://localhost:8080/"
        },
        "id": "33b0f001-68f1-43da-8388-ccc8787827ab",
        "outputId": "61b632e7-cb69-48cd-f362-5457a0560b4a"
      },
      "outputs": [
        {
          "output_type": "execute_result",
          "data": {
            "text/plain": [
              "<tf.Tensor: shape=(32,), dtype=string, numpy=\n",
              "array([b'And this was in truth the Death of which these bystanders spoke reverently, in low whispers you, sweet Una, gaspingly, with loud cries.',\n",
              "       b'Had my eyes deceived me?',\n",
              "       b\"For some distance the line kept on along the gorge's brink, but at length I reached the long covered bridge where it crossed the chasm at a dizzy height.\",\n",
              "       b'The two forces mingling, unarmed and hand in hand, talking only how each might assist the other, the adversaries conjoined; each repenting, the one side their former cruelties, the other their late violence, they obeyed the orders of the General to proceed towards London.',\n",
              "       b'I have already put off the carelessness of childhood, the unlined brow, and springy gait of early years, that they may adorn thee.',\n",
              "       b'Idleness had ever been irksome to me, and now that I wished to fly from reflection, and hated my former studies, I felt great relief in being the fellow pupil with my friend, and found not only instruction but consolation in the works of the orientalists.',\n",
              "       b'In this state of mind, wishing to live, yet wearied with life, the treatise at the stall of the bookseller opened a resource to my imagination.',\n",
              "       b'Your objection is answered with an ease which is nearly in the ratio of its apparent unanswerability.',\n",
              "       b'He was very deliberate, and spoke with an air of feeling slightly superior to what he said.',\n",
              "       b'The disorders of the room had, as usual, been suffered to exist.',\n",
              "       b'The old man was pulling at my sleeve, but I was determined to be the last.',\n",
              "       b\"Evadne's feminine prudence perceived how useless any assertion of his resolves would be, till added years gave weight to his power.\",\n",
              "       b'That gland is the great sense organ of organs I have found out.',\n",
              "       b'\"She is innocent, my Elizabeth,\" said I, \"and that shall be proved; fear nothing, but let your spirits be cheered by the assurance of her acquittal.\"',\n",
              "       b'I was glad, for although I disliked to see the moss and the heather and the little streams and lakes depart, I had a growing wish to discern the ancient secrets the deep matted peat might hide.',\n",
              "       b\"It was captured by the private soldier Read 'em and Weep Hopkins, who not long after traded it to Rest in Jehovah Stubbs for a quid of new Virginia weed.\",\n",
              "       b\"Wanderers in that happy valley Through two luminous windows saw Spirits moving musically To a lute's well tun\\xc3\\xa9d law, Round about a throne, where sitting Porphyrogene In state his glory well befitting, The ruler of the realm was seen.\",\n",
              "       b'By some papers of her father which fell into her hands she heard of the exile of her lover and learnt the name of the spot where he then resided.',\n",
              "       b'He beckoned me into a low, candle lit room with massive exposed rafters and dark, stiff, sparse furniture of the seventeenth century.',\n",
              "       b'I had entered the brush grown cut and was struggling along at a very slow pace when that damnable fishy odour again waxed dominant.',\n",
              "       b'With this object in view I had prepared a very strong perfectly air tight, but flexible gum elastic bag.',\n",
              "       b'But sleep did not afford me respite from thought and misery; my dreams presented a thousand objects that scared me.',\n",
              "       b'I had acquired in my harp a companion in rainy days; a sweet soother of my feelings when any untoward accident ruffled them: I often addressed it as my only friend; I could pour forth to it my hopes and loves, and I fancied that its sweet accents answered me.',\n",
              "       b'From the circumstances of her birth and education, Idris would have been better fitted for the formulae of ceremony; but the very ease which accompanied such actions with her, arising from habit, rendered them tedious; while, with every drawback, Perdita evidently enjoyed her situation.',\n",
              "       b\"You call the Salem witchcraft a delusion, but I'll wage my four times great grandmother could have told you things.\",\n",
              "       b'Thus ended my conference with the best of men, and immediately upon its termination, I betook myself with zeal to my poetical labors; as upon these, chiefly, I founded my hopes of ultimate elevation to the editorial chair.',\n",
              "       b'It was a peaceful Arcadian scene, but knowing what it hid I hated it.',\n",
              "       b'No one spoke to me, but I could hear the creaking of signs in the wind outside, and the whir of the wheel as the bonneted old woman continued her silent spinning, spinning.',\n",
              "       b'But you are distant from me, and it is possible that you may dread and yet be pleased with this explanation; and in a probability of this being the case, I dare not any longer postpone writing what, during your absence, I have often wished to express to you but have never had the courage to begin.',\n",
              "       b'I had often heard of this work, with its curious illustrations by the brothers De Bry, hence for a moment forgot my uneasiness in my desire to turn the pages before me.',\n",
              "       b'Finally the air grew thin, and the sky changed colour, and the climbers found it hard to breathe; but still they toiled up and up, marvelling at the strangeness of the scene and thrilling at the thought of what would happen on the summit when the moon was out and the pale vapours spread around.',\n",
              "       b'Now, suppose that I sail from this position a thousand miles east.'],\n",
              "      dtype=object)>"
            ]
          },
          "metadata": {},
          "execution_count": 73
        }
      ],
      "source": [
        "# Get just the text from ds_train\n",
        "ds_texts = train_ds.map(lambda x, y: x)\n",
        "\n",
        "# Preview the text\n",
        "ds_texts.take(1).get_single_element()"
      ]
    },
    {
      "cell_type": "code",
      "execution_count": 74,
      "id": "f138b6e1-6658-4a43-ade0-e83d1d74bf72",
      "metadata": {
        "colab": {
          "base_uri": "https://localhost:8080/"
        },
        "id": "f138b6e1-6658-4a43-ade0-e83d1d74bf72",
        "outputId": "ba45fcf5-405a-4bb7-ef38-026a1b210ff0"
      },
      "outputs": [
        {
          "output_type": "execute_result",
          "data": {
            "text/plain": [
              "20976"
            ]
          },
          "metadata": {},
          "execution_count": 74
        }
      ],
      "source": [
        "# Train (adapt on training text data))\n",
        "sequence_vectorizer.adapt(ds_texts)\n",
        "sequence_vectorizer.vocabulary_size()"
      ]
    },
    {
      "cell_type": "code",
      "execution_count": 75,
      "id": "b2cf2ea5-3a29-4d2c-bcaa-6a47d0d07bba",
      "metadata": {
        "colab": {
          "base_uri": "https://localhost:8080/"
        },
        "id": "b2cf2ea5-3a29-4d2c-bcaa-6a47d0d07bba",
        "outputId": "2727e660-d582-48e4-bd3d-208f598444aa"
      },
      "outputs": [
        {
          "output_type": "execute_result",
          "data": {
            "text/plain": [
              "20976"
            ]
          },
          "metadata": {},
          "execution_count": 75
        }
      ],
      "source": [
        "# Programmatically define size of vocab from vectorization layer\n",
        "VOCAB_SIZE = sequence_vectorizer.vocabulary_size()\n",
        "VOCAB_SIZE"
      ]
    },
    {
      "cell_type": "code",
      "execution_count": 76,
      "id": "543c5de7-c032-46d0-8438-969aa3fc75b5",
      "metadata": {
        "id": "543c5de7-c032-46d0-8438-969aa3fc75b5"
      },
      "outputs": [],
      "source": [
        "# Getting list of vocab\n",
        "vocab = sequence_vectorizer.get_vocabulary()\n",
        "int_to_str = {idx: word for idx, word in enumerate(vocab)}"
      ]
    },
    {
      "cell_type": "code",
      "execution_count": 77,
      "id": "a365ae73-459c-4cbd-ac86-607e130ced59",
      "metadata": {
        "colab": {
          "base_uri": "https://localhost:8080/"
        },
        "id": "a365ae73-459c-4cbd-ac86-607e130ced59",
        "outputId": "c9bc22c1-a7da-4234-ba8d-1a5b3c9e03ae"
      },
      "outputs": [
        {
          "output_type": "execute_result",
          "data": {
            "text/plain": [
              "<tf.Tensor: shape=(1, 100), dtype=int64, numpy=\n",
              "array([[ 6345,     1,    28,    35,  6996, 13401,    18,     1,  6345,\n",
              "           57,     7,     1,    10,   833,  3862, 16160,   122,   521,\n",
              "            0,     0,     0,     0,     0,     0,     0,     0,     0,\n",
              "            0,     0,     0,     0,     0,     0,     0,     0,     0,\n",
              "            0,     0,     0,     0,     0,     0,     0,     0,     0,\n",
              "            0,     0,     0,     0,     0,     0,     0,     0,     0,\n",
              "            0,     0,     0,     0,     0,     0,     0,     0,     0,\n",
              "            0,     0,     0,     0,     0,     0,     0,     0,     0,\n",
              "            0,     0,     0,     0,     0,     0,     0,     0,     0,\n",
              "            0,     0,     0,     0,     0,     0,     0,     0,     0,\n",
              "            0,     0,     0,     0,     0,     0,     0,     0,     0,\n",
              "            0]])>"
            ]
          },
          "metadata": {},
          "execution_count": 77
        }
      ],
      "source": [
        "# Obtain the sequence of sample text with the sequence_vectorizer\n",
        "sequence= sequence_vectorizer(['Text Vectorization is an essential tool for converting text into a format that machine learning models can use.'])\n",
        "sequence"
      ]
    },
    {
      "cell_type": "code",
      "source": [
        "# Define output dimension\n",
        "EMBED_DIM = 150\n",
        "EMBED_DIM"
      ],
      "metadata": {
        "colab": {
          "base_uri": "https://localhost:8080/"
        },
        "id": "r1X2NkvJovP4",
        "outputId": "d1e8d47e-ecd4-4486-ca69-7abeb378b4bd"
      },
      "id": "r1X2NkvJovP4",
      "execution_count": 78,
      "outputs": [
        {
          "output_type": "execute_result",
          "data": {
            "text/plain": [
              "150"
            ]
          },
          "metadata": {},
          "execution_count": 78
        }
      ]
    },
    {
      "cell_type": "code",
      "source": [
        "classes = y.unique()\n",
        "classes"
      ],
      "metadata": {
        "id": "kTcwzJQTvSP-",
        "colab": {
          "base_uri": "https://localhost:8080/"
        },
        "outputId": "260e7903-0151-4eda-d9d1-4f1cf762c92b"
      },
      "id": "kTcwzJQTvSP-",
      "execution_count": 79,
      "outputs": [
        {
          "output_type": "execute_result",
          "data": {
            "text/plain": [
              "array([0, 1, 2])"
            ]
          },
          "metadata": {},
          "execution_count": 79
        }
      ]
    },
    {
      "cell_type": "code",
      "source": [
        "def build_lstm_model(text_vectorization_layer, classes):\n",
        "\n",
        "    lstm_model = Sequential([\n",
        "        text_vectorization_layer,\n",
        "        layers.Embedding(input_dim=VOCAB_SIZE,\n",
        "                                  output_dim=EMBED_DIM,\n",
        "                                  input_length=SEQUENCE_LENGTH)\n",
        "        ])\n",
        "\n",
        "    lstm_model.add(layers.LSTM(128))\n",
        "    lstm_model.add(layers.Dense(len(classes), activation='softmax'))\n",
        "\n",
        "    lstm_model.compile(optimizer=optimizers.legacy.Adam(learning_rate = .01),\n",
        "                  loss='sparse_categorical_crossentropy',\n",
        "                  metrics=['accuracy'])\n",
        "\n",
        "    lstm_model.summary()\n",
        "    return lstm_model\n"
      ],
      "metadata": {
        "id": "jSasJmUOXfv5"
      },
      "id": "jSasJmUOXfv5",
      "execution_count": 80,
      "outputs": []
    },
    {
      "cell_type": "code",
      "source": [
        "# Include callbacks\n",
        "def get_callbacks(patience=3, monitor='val_accuracy'):\n",
        "    early_stop = tf.keras.callbacks.EarlyStopping(patience=patience, monitor=monitor)\n",
        "    return [early_stop]"
      ],
      "metadata": {
        "id": "5tI9faqB43Ua"
      },
      "id": "5tI9faqB43Ua",
      "execution_count": 81,
      "outputs": []
    },
    {
      "cell_type": "code",
      "source": [
        "# Build the lstm model and specify the vectorizer\n",
        "lstm_model = build_lstm_model(sequence_vectorizer, classes)\n",
        "\n",
        "EPOCHS = 2\n",
        "\n",
        "history = lstm_model.fit(\n",
        "    train_ds,\n",
        "    epochs=EPOCHS,\n",
        "    validation_data=val_ds,\n",
        "    callbacks=get_callbacks())\n",
        "\n",
        "results = evaluate_classification_network(\n",
        "    lstm_model, X_train=train_ds,\n",
        "    X_test=test_ds, history=history);"
      ],
      "metadata": {
        "colab": {
          "base_uri": "https://localhost:8080/",
          "height": 1000
        },
        "id": "gDxqd0yvoBG4",
        "outputId": "65133d5a-8b7a-4450-9d30-bc889a335101"
      },
      "id": "gDxqd0yvoBG4",
      "execution_count": 91,
      "outputs": [
        {
          "output_type": "stream",
          "name": "stdout",
          "text": [
            "Model: \"sequential_6\"\n",
            "_________________________________________________________________\n",
            " Layer (type)                Output Shape              Param #   \n",
            "=================================================================\n",
            " text_vectorization_2 (Text  (None, 100)               0         \n",
            " Vectorization)                                                  \n",
            "                                                                 \n",
            " embedding_6 (Embedding)     (None, 100, 150)          3146400   \n",
            "                                                                 \n",
            " lstm_6 (LSTM)               (None, 128)               142848    \n",
            "                                                                 \n",
            " dense_6 (Dense)             (None, 3)                 387       \n",
            "                                                                 \n",
            "=================================================================\n",
            "Total params: 3289635 (12.55 MB)\n",
            "Trainable params: 3289635 (12.55 MB)\n",
            "Non-trainable params: 0 (0.00 Byte)\n",
            "_________________________________________________________________\n",
            "Epoch 1/2\n",
            "370/370 [==============================] - 92s 242ms/step - loss: 1.1086 - accuracy: 0.3320 - val_loss: 1.1050 - val_accuracy: 0.3461\n",
            "Epoch 2/2\n",
            "370/370 [==============================] - 87s 236ms/step - loss: 1.0993 - accuracy: 0.3381 - val_loss: 1.0794 - val_accuracy: 0.4342\n"
          ]
        },
        {
          "output_type": "display_data",
          "data": {
            "text/plain": [
              "<Figure size 600x600 with 2 Axes>"
            ],
            "image/png": "[encoded data removed]"
          },
          "metadata": {}
        },
        {
          "output_type": "stream",
          "name": "stdout",
          "text": [
            "\n",
            "================================================================================\n",
            "- Evaluating Network...\n",
            "================================================================================\n"
          ]
        },
        {
          "output_type": "error",
          "ename": "NameError",
          "evalue": "name 'classification_report' is not defined",
          "traceback": [
            "\u001b[0;31m---------------------------------------------------------------------------\u001b[0m",
            "\u001b[0;31mNameError\u001b[0m                                 Traceback (most recent call last)",
            "\u001b[0;32m<ipython-input-91-08be6c00a6e6>\u001b[0m in \u001b[0;36m<cell line: 12>\u001b[0;34m()\u001b[0m\n\u001b[1;32m     10\u001b[0m     callbacks=get_callbacks())\n\u001b[1;32m     11\u001b[0m \u001b[0;34m\u001b[0m\u001b[0m\n\u001b[0;32m---> 12\u001b[0;31m results = evaluate_classification_network(\n\u001b[0m\u001b[1;32m     13\u001b[0m     \u001b[0mlstm_model\u001b[0m\u001b[0;34m,\u001b[0m \u001b[0mX_train\u001b[0m\u001b[0;34m=\u001b[0m\u001b[0mtrain_ds\u001b[0m\u001b[0;34m,\u001b[0m\u001b[0;34m\u001b[0m\u001b[0;34m\u001b[0m\u001b[0m\n\u001b[1;32m     14\u001b[0m     X_test=test_ds, history=history);\n",
            "\u001b[0;32m<ipython-input-58-18068f0eebbd>\u001b[0m in \u001b[0;36mevaluate_classification_network\u001b[0;34m(model, X_train, y_train, X_test, y_test, history, history_figsize, figsize, normalize, output_dict, cmap_train, cmap_test, values_format, colorbar)\u001b[0m\n\u001b[1;32m     42\u001b[0m \u001b[0;34m\u001b[0m\u001b[0m\n\u001b[1;32m     43\u001b[0m         \u001b[0;31m# Call the helper function to obtain regression metrics for training data\u001b[0m\u001b[0;34m\u001b[0m\u001b[0;34m\u001b[0m\u001b[0m\n\u001b[0;32m---> 44\u001b[0;31m         results_train = classification_metrics(y_train, y_train_pred, \n\u001b[0m\u001b[1;32m     45\u001b[0m                                          \u001b[0moutput_dict\u001b[0m\u001b[0;34m=\u001b[0m\u001b[0;32mTrue\u001b[0m\u001b[0;34m,\u001b[0m \u001b[0mfigsize\u001b[0m\u001b[0;34m=\u001b[0m\u001b[0mfigsize\u001b[0m\u001b[0;34m,\u001b[0m\u001b[0;34m\u001b[0m\u001b[0;34m\u001b[0m\u001b[0m\n\u001b[1;32m     46\u001b[0m                                              \u001b[0mcolorbar\u001b[0m\u001b[0;34m=\u001b[0m\u001b[0mcolorbar\u001b[0m\u001b[0;34m,\u001b[0m \u001b[0mcmap\u001b[0m\u001b[0;34m=\u001b[0m\u001b[0mcmap_train\u001b[0m\u001b[0;34m,\u001b[0m\u001b[0;34m\u001b[0m\u001b[0;34m\u001b[0m\u001b[0m\n",
            "\u001b[0;32m<ipython-input-90-a1192acc7c81>\u001b[0m in \u001b[0;36mclassification_metrics\u001b[0;34m(y_true, y_pred, label, output_dict, figsize, normalize, cmap, colorbar, values_format)\u001b[0m\n\u001b[1;32m      9\u001b[0m     \"\"\"\n\u001b[1;32m     10\u001b[0m     \u001b[0;31m# Get the classification report\u001b[0m\u001b[0;34m\u001b[0m\u001b[0;34m\u001b[0m\u001b[0m\n\u001b[0;32m---> 11\u001b[0;31m     \u001b[0mreport\u001b[0m \u001b[0;34m=\u001b[0m \u001b[0mclassification_report\u001b[0m\u001b[0;34m(\u001b[0m\u001b[0my_true\u001b[0m\u001b[0;34m,\u001b[0m \u001b[0my_pred\u001b[0m\u001b[0;34m)\u001b[0m\u001b[0;34m\u001b[0m\u001b[0;34m\u001b[0m\u001b[0m\n\u001b[0m\u001b[1;32m     12\u001b[0m \u001b[0;34m\u001b[0m\u001b[0m\n\u001b[1;32m     13\u001b[0m     \u001b[0;31m## Print header and report\u001b[0m\u001b[0;34m\u001b[0m\u001b[0;34m\u001b[0m\u001b[0m\n",
            "\u001b[0;31mNameError\u001b[0m: name 'classification_report' is not defined"
          ]
        }
      ]
    },
    {
      "cell_type": "code",
      "source": [
        "lstm_model.add(layers.Dense(len(classes), activation='softmax'))"
      ],
      "metadata": {
        "id": "GRaLm9Q9wROT"
      },
      "id": "GRaLm9Q9wROT",
      "execution_count": 92,
      "outputs": []
    },
    {
      "cell_type": "code",
      "source": [
        "def build_gru_model(text_vectorization_layer):\n",
        "\n",
        "    gru_model = Sequential([\n",
        "        text_vectorization_layer,\n",
        "        tf.keras.layers.Embedding(input_dim=VOCAB_SIZE,\n",
        "                                  output_dim=EMBED_DIM,\n",
        "                                  input_length=SEQUENCE_LENGTH)])\n",
        "    # Add GRU layer *new*\n",
        "    gru_model.add(layers.GRU(128, return_sequences = True))\n",
        "    gru_model.add(layers.GlobalMaxPooling1D())\n",
        "    # Output layer\n",
        "    gru_model.add(layers.Dense(len(classes),\n",
        "                              activation='softmax'))\n",
        "\n",
        "    optimizer = optimizers.legacy.Adam()\n",
        "    gru_model.compile(optimizer=optimizer,\n",
        "                  loss='sparse_categorical_crossentropy', metrics=['accuracy'])\n",
        "    gru_model.summary()\n",
        "    return gru_model"
      ],
      "metadata": {
        "id": "BFT8I-aLuR8y"
      },
      "id": "BFT8I-aLuR8y",
      "execution_count": 93,
      "outputs": []
    },
    {
      "cell_type": "code",
      "source": [
        "# Build the model\n",
        "model = build_gru_model(sequence_vectorizer)\n",
        "# Fit the model\n",
        "EPOCHS = 2\n",
        "history = model.fit(\n",
        "    train_ds,\n",
        "    epochs=EPOCHS,\n",
        "    validation_data=val_ds,\n",
        "    callbacks=get_callbacks(),\n",
        ")\n",
        "# Evaluate the model\n",
        "results = evaluate_classification_network(\n",
        "    model, X_train=train_ds,\n",
        "    X_test=test_ds, history=history);"
      ],
      "metadata": {
        "id": "SKTYF0F7uMlT",
        "colab": {
          "base_uri": "https://localhost:8080/",
          "height": 1000
        },
        "outputId": "d2c9c726-c03b-449b-bc52-ee464d612637"
      },
      "id": "SKTYF0F7uMlT",
      "execution_count": 96,
      "outputs": [
        {
          "output_type": "stream",
          "name": "stdout",
          "text": [
            "Model: \"sequential_9\"\n",
            "_________________________________________________________________\n",
            " Layer (type)                Output Shape              Param #   \n",
            "=================================================================\n",
            " text_vectorization_2 (Text  (None, 100)               0         \n",
            " Vectorization)                                                  \n",
            "                                                                 \n",
            " embedding_9 (Embedding)     (None, 100, 150)          3146400   \n",
            "                                                                 \n",
            " gru_2 (GRU)                 (None, 100, 128)          107520    \n",
            "                                                                 \n",
            " global_max_pooling1d_2 (Gl  (None, 128)               0         \n",
            " obalMaxPooling1D)                                               \n",
            "                                                                 \n",
            " dense_10 (Dense)            (None, 3)                 387       \n",
            "                                                                 \n",
            "=================================================================\n",
            "Total params: 3254307 (12.41 MB)\n",
            "Trainable params: 3254307 (12.41 MB)\n",
            "Non-trainable params: 0 (0.00 Byte)\n",
            "_________________________________________________________________\n",
            "Epoch 1/2\n",
            "370/370 [==============================] - 81s 209ms/step - loss: 0.8369 - accuracy: 0.6290 - val_loss: 0.5444 - val_accuracy: 0.7782\n",
            "Epoch 2/2\n",
            "370/370 [==============================] - 71s 193ms/step - loss: 0.3346 - accuracy: 0.8712 - val_loss: 0.5095 - val_accuracy: 0.8042\n"
          ]
        },
        {
          "output_type": "display_data",
          "data": {
            "text/plain": [
              "<Figure size 600x600 with 2 Axes>"
            ],
            "image/png": "[encoded data removed]"
          },
          "metadata": {}
        },
        {
          "output_type": "stream",
          "name": "stdout",
          "text": [
            "\n",
            "================================================================================\n",
            "- Evaluating Network...\n",
            "================================================================================\n"
          ]
        },
        {
          "output_type": "error",
          "ename": "NameError",
          "evalue": "name 'classification_report' is not defined",
          "traceback": [
            "\u001b[0;31m---------------------------------------------------------------------------\u001b[0m",
            "\u001b[0;31mNameError\u001b[0m                                 Traceback (most recent call last)",
            "\u001b[0;32m<ipython-input-96-df61dd110aff>\u001b[0m in \u001b[0;36m<cell line: 12>\u001b[0;34m()\u001b[0m\n\u001b[1;32m     10\u001b[0m )\n\u001b[1;32m     11\u001b[0m \u001b[0;31m# Evaluate the model\u001b[0m\u001b[0;34m\u001b[0m\u001b[0;34m\u001b[0m\u001b[0m\n\u001b[0;32m---> 12\u001b[0;31m results = evaluate_classification_network(\n\u001b[0m\u001b[1;32m     13\u001b[0m     \u001b[0mmodel\u001b[0m\u001b[0;34m,\u001b[0m \u001b[0mX_train\u001b[0m\u001b[0;34m=\u001b[0m\u001b[0mtrain_ds\u001b[0m\u001b[0;34m,\u001b[0m\u001b[0;34m\u001b[0m\u001b[0;34m\u001b[0m\u001b[0m\n\u001b[1;32m     14\u001b[0m     X_test=test_ds, history=history);\n",
            "\u001b[0;32m<ipython-input-58-18068f0eebbd>\u001b[0m in \u001b[0;36mevaluate_classification_network\u001b[0;34m(model, X_train, y_train, X_test, y_test, history, history_figsize, figsize, normalize, output_dict, cmap_train, cmap_test, values_format, colorbar)\u001b[0m\n\u001b[1;32m     42\u001b[0m \u001b[0;34m\u001b[0m\u001b[0m\n\u001b[1;32m     43\u001b[0m         \u001b[0;31m# Call the helper function to obtain regression metrics for training data\u001b[0m\u001b[0;34m\u001b[0m\u001b[0;34m\u001b[0m\u001b[0m\n\u001b[0;32m---> 44\u001b[0;31m         results_train = classification_metrics(y_train, y_train_pred, \n\u001b[0m\u001b[1;32m     45\u001b[0m                                          \u001b[0moutput_dict\u001b[0m\u001b[0;34m=\u001b[0m\u001b[0;32mTrue\u001b[0m\u001b[0;34m,\u001b[0m \u001b[0mfigsize\u001b[0m\u001b[0;34m=\u001b[0m\u001b[0mfigsize\u001b[0m\u001b[0;34m,\u001b[0m\u001b[0;34m\u001b[0m\u001b[0;34m\u001b[0m\u001b[0m\n\u001b[1;32m     46\u001b[0m                                              \u001b[0mcolorbar\u001b[0m\u001b[0;34m=\u001b[0m\u001b[0mcolorbar\u001b[0m\u001b[0;34m,\u001b[0m \u001b[0mcmap\u001b[0m\u001b[0;34m=\u001b[0m\u001b[0mcmap_train\u001b[0m\u001b[0;34m,\u001b[0m\u001b[0;34m\u001b[0m\u001b[0;34m\u001b[0m\u001b[0m\n",
            "\u001b[0;32m<ipython-input-90-a1192acc7c81>\u001b[0m in \u001b[0;36mclassification_metrics\u001b[0;34m(y_true, y_pred, label, output_dict, figsize, normalize, cmap, colorbar, values_format)\u001b[0m\n\u001b[1;32m      9\u001b[0m     \"\"\"\n\u001b[1;32m     10\u001b[0m     \u001b[0;31m# Get the classification report\u001b[0m\u001b[0;34m\u001b[0m\u001b[0;34m\u001b[0m\u001b[0m\n\u001b[0;32m---> 11\u001b[0;31m     \u001b[0mreport\u001b[0m \u001b[0;34m=\u001b[0m \u001b[0mclassification_report\u001b[0m\u001b[0;34m(\u001b[0m\u001b[0my_true\u001b[0m\u001b[0;34m,\u001b[0m \u001b[0my_pred\u001b[0m\u001b[0;34m)\u001b[0m\u001b[0;34m\u001b[0m\u001b[0;34m\u001b[0m\u001b[0m\n\u001b[0m\u001b[1;32m     12\u001b[0m \u001b[0;34m\u001b[0m\u001b[0m\n\u001b[1;32m     13\u001b[0m     \u001b[0;31m## Print header and report\u001b[0m\u001b[0;34m\u001b[0m\u001b[0;34m\u001b[0m\u001b[0m\n",
            "\u001b[0;31mNameError\u001b[0m: name 'classification_report' is not defined"
          ]
        }
      ]
    }
  ],
  "metadata": {
    "kernelspec": {
      "display_name": "Python 3 (ipykernel)",
      "language": "python",
      "name": "python3"
    },
    "language_info": {
      "codemirror_mode": {
        "name": "ipython",
        "version": 3
      },
      "file_extension": ".py",
      "mimetype": "text/x-python",
      "name": "python",
      "nbconvert_exporter": "python",
      "pygments_lexer": "ipython3",
      "version": "3.10.10"
    },
    "colab": {
      "provenance": []
    }
  },
  "nbformat": 4,
  "nbformat_minor": 5
}