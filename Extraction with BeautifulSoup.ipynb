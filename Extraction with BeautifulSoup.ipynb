{
 "cells": [
  {
   "cell_type": "code",
   "execution_count": 1,
   "id": "e4a4c04a-f81e-449b-a02b-28a71af2b83f",
   "metadata": {},
   "outputs": [],
   "source": [
    "import requests\n",
    "from bs4 import BeautifulSoup\n",
    "import pandas as pd"
   ]
  },
  {
   "cell_type": "code",
   "execution_count": 2,
   "id": "41df2e19-3207-423e-920d-1121b2fd8497",
   "metadata": {},
   "outputs": [
    {
     "name": "stdout",
     "output_type": "stream",
     "text": [
      "200\n"
     ]
    },
    {
     "data": {
      "text/plain": [
       "True"
      ]
     },
     "execution_count": 2,
     "metadata": {},
     "output_type": "execute_result"
    }
   ],
   "source": [
    "# Get the html from the page\n",
    "url = \"https://realpython.github.io/fake-jobs/\"\n",
    "response = requests.get(url)\n",
    "print(response.status_code)\n",
    "response.ok"
   ]
  },
  {
   "cell_type": "code",
   "execution_count": 3,
   "id": "5fc29679-05f1-4a3b-b544-70b25d0f796a",
   "metadata": {},
   "outputs": [
    {
     "name": "stdout",
     "output_type": "stream",
     "text": [
      "<!DOCTYPE html>\n",
      "<html>\n",
      " <head>\n",
      "  <meta charset=\"utf-8\"/>\n",
      "  <meta content=\"width=device-width, initial-scale=1\" name=\"viewport\"/>\n",
      "  <title>\n",
      "   Fake Python\n",
      "  </title>\n",
      "  <link href=\"https://cdn.jsdelivr.net/npm/bulma@0.9.2/css/bulma.min.css\" rel=\"stylesheet\"/>\n",
      " </head>\n",
      " <body>\n",
      "  <section class=\"section\">\n",
      "   <div class=\"container mb-5\">\n",
      "    <h1 class=\"title is-1\">\n",
      "     Fake Python\n",
      "    </h1>\n",
      "    <p class=\"subtitle is-3\">\n",
      "     Fake Jobs for Your Web Scraping Journey\n",
      "    </p>\n",
      "   </div>\n",
      "   <div class=\"c\n"
     ]
    }
   ],
   "source": [
    "# Make a beautiful soup\n",
    "soup = BeautifulSoup(response.content)\n",
    "print(soup.prettify()[:500])"
   ]
  },
  {
   "cell_type": "code",
   "execution_count": 4,
   "id": "abcf43f0-ff61-44ff-a33a-a209cc95a113",
   "metadata": {},
   "outputs": [
    {
     "data": {
      "text/plain": [
       "100"
      ]
     },
     "execution_count": 4,
     "metadata": {},
     "output_type": "execute_result"
    }
   ],
   "source": [
    "# Getting a list of all job listing divs\n",
    "found_job_divs = soup.find_all(\"div\", attrs={'class':'card-content'})\n",
    "len(found_job_divs)"
   ]
  },
  {
   "cell_type": "code",
   "execution_count": 5,
   "id": "f02d1205-14d7-4c7f-8e54-b224c92564a2",
   "metadata": {},
   "outputs": [
    {
     "data": {
      "text/plain": [
       "<div class=\"card-content\">\n",
       "<div class=\"media\">\n",
       "<div class=\"media-left\">\n",
       "<figure class=\"image is-48x48\">\n",
       "<img alt=\"Real Python Logo\" src=\"https://files.realpython.com/media/real-python-logo-thumbnail.7f0db70c2ed2.jpg?__no_cf_polish=1\"/>\n",
       "</figure>\n",
       "</div>\n",
       "<div class=\"media-content\">\n",
       "<h2 class=\"title is-5\">Senior Python Developer</h2>\n",
       "<h3 class=\"subtitle is-6 company\">Payne, Roberts and Davis</h3>\n",
       "</div>\n",
       "</div>\n",
       "<div class=\"content\">\n",
       "<p class=\"location\">\n",
       "        Stewartbury, AA\n",
       "      </p>\n",
       "<p class=\"is-small has-text-grey\">\n",
       "<time datetime=\"2021-04-08\">2021-04-08</time>\n",
       "</p>\n",
       "</div>\n",
       "<footer class=\"card-footer\">\n",
       "<a class=\"card-footer-item\" href=\"https://www.realpython.com\" target=\"_blank\">Learn</a>\n",
       "<a class=\"card-footer-item\" href=\"https://realpython.github.io/fake-jobs/jobs/senior-python-developer-0.html\" target=\"_blank\">Apply</a>\n",
       "</footer>\n",
       "</div>"
      ]
     },
     "execution_count": 5,
     "metadata": {},
     "output_type": "execute_result"
    }
   ],
   "source": [
    "# Slicing a single job to figure out extraction code\n",
    "job_div = found_job_divs[0]\n",
    "job_div"
   ]
  },
  {
   "cell_type": "code",
   "execution_count": 6,
   "id": "0a32d3c1-9023-4fab-9f42-2db7f42b776c",
   "metadata": {},
   "outputs": [
    {
     "data": {
      "text/html": [
       "<div class=\"card-content\">\n",
       "<div class=\"media\">\n",
       "<div class=\"media-left\">\n",
       "<figure class=\"image is-48x48\">\n",
       "<img alt=\"Real Python Logo\" src=\"https://files.realpython.com/media/real-python-logo-thumbnail.7f0db70c2ed2.jpg?__no_cf_polish=1\"/>\n",
       "</figure>\n",
       "</div>\n",
       "<div class=\"media-content\">\n",
       "<h2 class=\"title is-5\">Senior Python Developer</h2>\n",
       "<h3 class=\"subtitle is-6 company\">Payne, Roberts and Davis</h3>\n",
       "</div>\n",
       "</div>\n",
       "<div class=\"content\">\n",
       "<p class=\"location\">\n",
       "        Stewartbury, AA\n",
       "      </p>\n",
       "<p class=\"is-small has-text-grey\">\n",
       "<time datetime=\"2021-04-08\">2021-04-08</time>\n",
       "</p>\n",
       "</div>\n",
       "<footer class=\"card-footer\">\n",
       "<a class=\"card-footer-item\" href=\"https://www.realpython.com\" target=\"_blank\">Learn</a>\n",
       "<a class=\"card-footer-item\" href=\"https://realpython.github.io/fake-jobs/jobs/senior-python-developer-0.html\" target=\"_blank\">Apply</a>\n",
       "</footer>\n",
       "</div>"
      ],
      "text/plain": [
       "<IPython.core.display.HTML object>"
      ]
     },
     "execution_count": 6,
     "metadata": {},
     "output_type": "execute_result"
    }
   ],
   "source": [
    "from IPython.display import HTML\n",
    "HTML(str(job_div))"
   ]
  },
  {
   "cell_type": "code",
   "execution_count": 7,
   "id": "1ceec9cf-3a2c-4365-aae1-4405fce47323",
   "metadata": {},
   "outputs": [
    {
     "data": {
      "text/plain": [
       "<h2 class=\"title is-5\">Senior Python Developer</h2>"
      ]
     },
     "execution_count": 7,
     "metadata": {},
     "output_type": "execute_result"
    }
   ],
   "source": [
    "# Finding the h2 that has title class\n",
    "title_tag = job_div.find('h2',{'class':'title'})\n",
    "title_tag"
   ]
  },
  {
   "cell_type": "code",
   "execution_count": 8,
   "id": "5365b904-f3f6-4281-b17b-ce739b953758",
   "metadata": {},
   "outputs": [
    {
     "data": {
      "text/plain": [
       "'Senior Python Developer'"
      ]
     },
     "execution_count": 8,
     "metadata": {},
     "output_type": "execute_result"
    }
   ],
   "source": [
    "# Getting the job title text\n",
    "title = title_tag.text\n",
    "title"
   ]
  },
  {
   "cell_type": "code",
   "execution_count": 9,
   "id": "7ab5d1c4-b85d-4045-a046-c7db6dada1c6",
   "metadata": {},
   "outputs": [
    {
     "data": {
      "text/plain": [
       "'Payne, Roberts and Davis'"
      ]
     },
     "execution_count": 9,
     "metadata": {},
     "output_type": "execute_result"
    }
   ],
   "source": [
    "# Get the text from the h3 with class=company \n",
    "company_name = job_div.find('h3',{'class':'company'}).text\n",
    "company_name"
   ]
  },
  {
   "cell_type": "code",
   "execution_count": 10,
   "id": "eeeb0d61-d8d1-43fc-a6a3-e6f918d20978",
   "metadata": {},
   "outputs": [
    {
     "data": {
      "text/plain": [
       "'\\n        Stewartbury, AA\\n      '"
      ]
     },
     "execution_count": 10,
     "metadata": {},
     "output_type": "execute_result"
    }
   ],
   "source": [
    "# Get any type of tag that has class=location)\n",
    "location = job_div.find(attrs={'class':'location'})\n",
    "location.text"
   ]
  },
  {
   "cell_type": "code",
   "execution_count": 11,
   "id": "8c72d1f9-8d92-46b9-8425-ae80b9f7e65d",
   "metadata": {},
   "outputs": [
    {
     "data": {
      "text/plain": [
       "'Stewartbury, AA'"
      ]
     },
     "execution_count": 11,
     "metadata": {},
     "output_type": "execute_result"
    }
   ],
   "source": [
    "# Cleaning the location name\n",
    "location_name = location.text.strip()\n",
    "location_name"
   ]
  },
  {
   "cell_type": "code",
   "execution_count": 12,
   "id": "07d0e592-aad2-4093-8907-169f1b2a8252",
   "metadata": {},
   "outputs": [
    {
     "data": {
      "text/plain": [
       "<time datetime=\"2021-04-08\">2021-04-08</time>"
      ]
     },
     "execution_count": 12,
     "metadata": {},
     "output_type": "execute_result"
    }
   ],
   "source": [
    "# Getting time tag of date posted\n",
    "time_tag = job_div.find('time')\n",
    "time_tag"
   ]
  },
  {
   "cell_type": "code",
   "execution_count": 13,
   "id": "460b95e2-3b35-4e0e-872e-ab90125e1bb9",
   "metadata": {},
   "outputs": [
    {
     "data": {
      "text/plain": [
       "'2021-04-08'"
      ]
     },
     "execution_count": 13,
     "metadata": {},
     "output_type": "execute_result"
    }
   ],
   "source": [
    "# Get the date (text from time tag)\n",
    "date_posted = time_tag.text\n",
    "date_posted"
   ]
  },
  {
   "cell_type": "code",
   "execution_count": 14,
   "id": "4bac1031-4883-4d59-806e-00426d23af0b",
   "metadata": {},
   "outputs": [
    {
     "data": {
      "text/plain": [
       "[<a class=\"card-footer-item\" href=\"https://www.realpython.com\" target=\"_blank\">Learn</a>,\n",
       " <a class=\"card-footer-item\" href=\"https://realpython.github.io/fake-jobs/jobs/senior-python-developer-0.html\" target=\"_blank\">Apply</a>]"
      ]
     },
     "execution_count": 14,
     "metadata": {},
     "output_type": "execute_result"
    }
   ],
   "source": [
    "# Getting all of the links \n",
    "links = job_div.find_all('a', href=True)\n",
    "links"
   ]
  },
  {
   "cell_type": "code",
   "execution_count": 17,
   "id": "f8b21869-67b4-4497-9f7e-98f1200de098",
   "metadata": {},
   "outputs": [
    {
     "data": {
      "text/plain": [
       "{'href': 'https://www.realpython.com',\n",
       " 'target': '_blank',\n",
       " 'class': ['card-footer-item']}"
      ]
     },
     "execution_count": 17,
     "metadata": {},
     "output_type": "execute_result"
    }
   ],
   "source": [
    "# First link's attrs\n",
    "links[0].attrs"
   ]
  },
  {
   "cell_type": "code",
   "execution_count": 16,
   "id": "4e372aba-3379-40f7-bfd6-216566cdf938",
   "metadata": {},
   "outputs": [
    {
     "data": {
      "text/plain": [
       "{'href': 'https://realpython.github.io/fake-jobs/jobs/senior-python-developer-0.html',\n",
       " 'target': '_blank',\n",
       " 'class': ['card-footer-item']}"
      ]
     },
     "execution_count": 16,
     "metadata": {},
     "output_type": "execute_result"
    }
   ],
   "source": [
    "# Other link's attrs\n",
    "links[1].attrs"
   ]
  },
  {
   "cell_type": "code",
   "execution_count": 18,
   "id": "943e925e-7d0d-44a3-9a8e-d5138f6b8808",
   "metadata": {},
   "outputs": [
    {
     "name": "stdout",
     "output_type": "stream",
     "text": [
      "Learn\n",
      "Apply\n"
     ]
    }
   ],
   "source": [
    "print(links[0].text)\n",
    "print(links[1].text)"
   ]
  },
  {
   "cell_type": "code",
   "execution_count": 19,
   "id": "13f67b6a-e4ab-4847-bdf8-e91e0af38d19",
   "metadata": {},
   "outputs": [
    {
     "data": {
      "text/plain": [
       "<a class=\"card-footer-item\" href=\"https://www.realpython.com\" target=\"_blank\">Learn</a>"
      ]
     },
     "execution_count": 19,
     "metadata": {},
     "output_type": "execute_result"
    }
   ],
   "source": [
    "# Find the a tag with the Learn string\n",
    "learn_tag = job_div.find(\"a\",string='Learn')\n",
    "learn_tag"
   ]
  },
  {
   "cell_type": "code",
   "execution_count": 20,
   "id": "cb7760cc-fb6b-4d1d-8935-322700bf801a",
   "metadata": {},
   "outputs": [
    {
     "data": {
      "text/plain": [
       "'https://www.realpython.com'"
      ]
     },
     "execution_count": 20,
     "metadata": {},
     "output_type": "execute_result"
    }
   ],
   "source": [
    "# Save the href (link) form the a-tag\n",
    "learn_url = learn_tag.attrs['href']\n",
    "learn_url"
   ]
  },
  {
   "cell_type": "code",
   "execution_count": 21,
   "id": "e835df43-e766-4c6f-b555-43d8c920706b",
   "metadata": {},
   "outputs": [
    {
     "data": {
      "text/plain": [
       "<a class=\"card-footer-item\" href=\"https://realpython.github.io/fake-jobs/jobs/senior-python-developer-0.html\" target=\"_blank\">Apply</a>"
      ]
     },
     "execution_count": 21,
     "metadata": {},
     "output_type": "execute_result"
    }
   ],
   "source": [
    "# Find the a tag with the Apply string\n",
    "apply_tag  = job_div.find(\"a\", string='Apply')\n",
    "apply_tag"
   ]
  },
  {
   "cell_type": "code",
   "execution_count": 23,
   "id": "773948af-d284-49ae-8b1b-97bdd3c6e0cd",
   "metadata": {},
   "outputs": [
    {
     "data": {
      "text/plain": [
       "'https://realpython.github.io/fake-jobs/jobs/senior-python-developer-0.html'"
      ]
     },
     "execution_count": 23,
     "metadata": {},
     "output_type": "execute_result"
    }
   ],
   "source": [
    "# Save the href (link) form the a-tag\n",
    "apply_url = apply_tag.attrs['href']\n",
    "apply_url"
   ]
  },
  {
   "cell_type": "code",
   "execution_count": 25,
   "id": "2c8e1c04-dd5b-4930-b023-5714751cf243",
   "metadata": {},
   "outputs": [
    {
     "data": {
      "text/plain": [
       "{'Title': 'Senior Python Developer',\n",
       " 'Company': 'Payne, Roberts and Davis',\n",
       " 'Location': 'Stewartbury, AA',\n",
       " 'Date Posted': '2021-04-08',\n",
       " 'Learn Link': 'https://www.realpython.com',\n",
       " 'Apply Link': 'https://realpython.github.io/fake-jobs/jobs/senior-python-developer-0.html'}"
      ]
     },
     "execution_count": 25,
     "metadata": {},
     "output_type": "execute_result"
    }
   ],
   "source": [
    "# All the code to define a dictionary of info for one job listing\n",
    "\n",
    "# Finding the h2 that has title class\n",
    "title = job_div.find('h2',{'class':'title'}).text\n",
    "\n",
    "# Get the text from the h3 with class=company \n",
    "company_name = job_div.find('h3',{'class':'company'}).text\n",
    "\n",
    "# Get any type of tag that has class=location)\n",
    "location_name = job_div.find(attrs={'class':'location'}).text.strip()\n",
    "\n",
    "# Get the date (text from time tag)\n",
    "date_posted = job_div.find('time').text\n",
    "\n",
    "\n",
    "# Find the a tag with the Learn string\n",
    "learn_tag = job_div.find(\"a\",string='Learn')\n",
    "\n",
    "# Save the href (link) form the a-tag\n",
    "learn_url = learn_tag.attrs['href']\n",
    "\n",
    "\n",
    "# Find the a tag with the Apply string\n",
    "apply_tag  = job_div.find(\"a\", string='Apply')\n",
    "\n",
    "# Save the href (link) form the a-tag\n",
    "apply_url = apply_tag.attrs['href']\n",
    "\n",
    "# Putting it all together\n",
    "job_info = {'Title':title, \n",
    "            \"Company\":company_name, \n",
    "            \"Location\":location_name,\n",
    "            \"Date Posted\":date_posted,\n",
    "            \"Learn Link\": learn_url,\n",
    "            \"Apply Link\": apply_url}\n",
    "job_info"
   ]
  },
  {
   "cell_type": "code",
   "execution_count": 27,
   "id": "faf0a247-20c6-4117-8ac7-01ec8dc2b536",
   "metadata": {},
   "outputs": [],
   "source": [
    "# Empty list for results (Will end up a list of dictionaries)\n",
    "all_jobs_data = []\n",
    "\n",
    "for job_div in found_job_divs:\n",
    "        \n",
    "    # Finding the h2 that has title class\n",
    "    title = job_div.find('h2',{'class':'title'}).text\n",
    "    \n",
    "    # Get the text from the h3 with class=company \n",
    "    company_name = job_div.find('h3',{'class':'company'}).text\n",
    "    \n",
    "    # Get any type of tag that has class=location)\n",
    "    location_name = job_div.find(attrs={'class':'location'}).text.strip()\n",
    "    \n",
    "    # Get the date (text from time tag)\n",
    "    date_posted = job_div.find('time').text\n",
    "    \n",
    "    \n",
    "    # Find the a tag with the Learn string\n",
    "    learn_tag = job_div.find(\"a\",string='Learn')\n",
    "    \n",
    "    # Save the href (link) form the a-tag\n",
    "    learn_url = learn_tag.attrs['href']\n",
    "    \n",
    "    \n",
    "    # Find the a tag with the Apply string\n",
    "    apply_tag  = job_div.find(\"a\", string='Apply')\n",
    "    \n",
    "    # Save the href (link) form the a-tag\n",
    "    apply_url = apply_tag.attrs['href']\n",
    "    \n",
    "    # Putting it all together\n",
    "    job_info = {'Title':title, \n",
    "                \"Company\":company_name, \n",
    "                \"Location\":location_name,\n",
    "                \"Date Posted\":date_posted,\n",
    "                \"Learn Link\": learn_url,\n",
    "                \"Apply Link\": apply_url}\n",
    "    all_jobs_data.append(job_info)"
   ]
  },
  {
   "cell_type": "code",
   "execution_count": 28,
   "id": "39d403ba-3b43-45be-a18e-1d20b94674d3",
   "metadata": {},
   "outputs": [
    {
     "data": {
      "text/html": [
       "<div>\n",
       "<style scoped>\n",
       "    .dataframe tbody tr th:only-of-type {\n",
       "        vertical-align: middle;\n",
       "    }\n",
       "\n",
       "    .dataframe tbody tr th {\n",
       "        vertical-align: top;\n",
       "    }\n",
       "\n",
       "    .dataframe thead th {\n",
       "        text-align: right;\n",
       "    }\n",
       "</style>\n",
       "<table border=\"1\" class=\"dataframe\">\n",
       "  <thead>\n",
       "    <tr style=\"text-align: right;\">\n",
       "      <th></th>\n",
       "      <th>Title</th>\n",
       "      <th>Company</th>\n",
       "      <th>Location</th>\n",
       "      <th>Date Posted</th>\n",
       "      <th>Learn Link</th>\n",
       "      <th>Apply Link</th>\n",
       "    </tr>\n",
       "  </thead>\n",
       "  <tbody>\n",
       "    <tr>\n",
       "      <th>0</th>\n",
       "      <td>Senior Python Developer</td>\n",
       "      <td>Payne, Roberts and Davis</td>\n",
       "      <td>Stewartbury, AA</td>\n",
       "      <td>2021-04-08</td>\n",
       "      <td>https://www.realpython.com</td>\n",
       "      <td>https://realpython.github.io/fake-jobs/jobs/se...</td>\n",
       "    </tr>\n",
       "    <tr>\n",
       "      <th>1</th>\n",
       "      <td>Energy engineer</td>\n",
       "      <td>Vasquez-Davidson</td>\n",
       "      <td>Christopherville, AA</td>\n",
       "      <td>2021-04-08</td>\n",
       "      <td>https://www.realpython.com</td>\n",
       "      <td>https://realpython.github.io/fake-jobs/jobs/en...</td>\n",
       "    </tr>\n",
       "    <tr>\n",
       "      <th>2</th>\n",
       "      <td>Legal executive</td>\n",
       "      <td>Jackson, Chambers and Levy</td>\n",
       "      <td>Port Ericaburgh, AA</td>\n",
       "      <td>2021-04-08</td>\n",
       "      <td>https://www.realpython.com</td>\n",
       "      <td>https://realpython.github.io/fake-jobs/jobs/le...</td>\n",
       "    </tr>\n",
       "    <tr>\n",
       "      <th>3</th>\n",
       "      <td>Fitness centre manager</td>\n",
       "      <td>Savage-Bradley</td>\n",
       "      <td>East Seanview, AP</td>\n",
       "      <td>2021-04-08</td>\n",
       "      <td>https://www.realpython.com</td>\n",
       "      <td>https://realpython.github.io/fake-jobs/jobs/fi...</td>\n",
       "    </tr>\n",
       "    <tr>\n",
       "      <th>4</th>\n",
       "      <td>Product manager</td>\n",
       "      <td>Ramirez Inc</td>\n",
       "      <td>North Jamieview, AP</td>\n",
       "      <td>2021-04-08</td>\n",
       "      <td>https://www.realpython.com</td>\n",
       "      <td>https://realpython.github.io/fake-jobs/jobs/pr...</td>\n",
       "    </tr>\n",
       "  </tbody>\n",
       "</table>\n",
       "</div>"
      ],
      "text/plain": [
       "                     Title                     Company              Location  \\\n",
       "0  Senior Python Developer    Payne, Roberts and Davis       Stewartbury, AA   \n",
       "1          Energy engineer            Vasquez-Davidson  Christopherville, AA   \n",
       "2          Legal executive  Jackson, Chambers and Levy   Port Ericaburgh, AA   \n",
       "3   Fitness centre manager              Savage-Bradley     East Seanview, AP   \n",
       "4          Product manager                 Ramirez Inc   North Jamieview, AP   \n",
       "\n",
       "  Date Posted                  Learn Link  \\\n",
       "0  2021-04-08  https://www.realpython.com   \n",
       "1  2021-04-08  https://www.realpython.com   \n",
       "2  2021-04-08  https://www.realpython.com   \n",
       "3  2021-04-08  https://www.realpython.com   \n",
       "4  2021-04-08  https://www.realpython.com   \n",
       "\n",
       "                                          Apply Link  \n",
       "0  https://realpython.github.io/fake-jobs/jobs/se...  \n",
       "1  https://realpython.github.io/fake-jobs/jobs/en...  \n",
       "2  https://realpython.github.io/fake-jobs/jobs/le...  \n",
       "3  https://realpython.github.io/fake-jobs/jobs/fi...  \n",
       "4  https://realpython.github.io/fake-jobs/jobs/pr...  "
      ]
     },
     "execution_count": 28,
     "metadata": {},
     "output_type": "execute_result"
    }
   ],
   "source": [
    "# Convert list of dictionaries to a dataframe\n",
    "jobs_df = pd.DataFrame(all_jobs_data)\n",
    "jobs_df.head()"
   ]
  },
  {
   "cell_type": "code",
   "execution_count": 29,
   "id": "caa2a3f3-77d4-4e99-8b78-7b0e4c49eca3",
   "metadata": {},
   "outputs": [],
   "source": [
    "# Saving the Results:\n",
    "jobs_df.to_csv(\"Data/fake-job-listings-scraped.csv\", index=False)"
   ]
  },
  {
   "cell_type": "code",
   "execution_count": null,
   "id": "a679634d-8c98-4760-91f3-13234b44b11c",
   "metadata": {},
   "outputs": [],
   "source": []
  }
 ],
 "metadata": {
  "kernelspec": {
   "display_name": "Python (dojo-env)",
   "language": "python",
   "name": "dojo-env"
  },
  "language_info": {
   "codemirror_mode": {
    "name": "ipython",
    "version": 3
   },
   "file_extension": ".py",
   "mimetype": "text/x-python",
   "name": "python",
   "nbconvert_exporter": "python",
   "pygments_lexer": "ipython3",
   "version": "3.10.10"
  }
 },
 "nbformat": 4,
 "nbformat_minor": 5
}
