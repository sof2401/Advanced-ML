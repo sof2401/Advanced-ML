{
 "cells": [
  {
   "cell_type": "code",
   "execution_count": 1,
   "id": "fcf9f30c-9980-4345-96b5-a9f8ed10fbaf",
   "metadata": {},
   "outputs": [],
   "source": [
    "# Import\n",
    "import re"
   ]
  },
  {
   "cell_type": "code",
   "execution_count": 7,
   "id": "a3869e3a-ceb1-4249-91cd-b77b6d2b791c",
   "metadata": {},
   "outputs": [],
   "source": [
    "# Sample text\n",
    "text = \"Contact us at support@example.com and sales@example2.com for more info.\""
   ]
  },
  {
   "cell_type": "code",
   "execution_count": 3,
   "id": "8789081d-39fe-49bb-b078-9b0e5a59980e",
   "metadata": {},
   "outputs": [
    {
     "name": "stdout",
     "output_type": "stream",
     "text": [
      "['us']\n"
     ]
    }
   ],
   "source": [
    "# Find specific characters\n",
    "pattern = 'us'\n",
    "# Use re.findall() to locate all instances of the pattern\n",
    "result =  re.findall(pattern, text)\n",
    "# Print the result\n",
    "print(result)"
   ]
  },
  {
   "cell_type": "code",
   "execution_count": 4,
   "id": "43fbe33e-be6f-4dd2-979f-6162bb89b33c",
   "metadata": {},
   "outputs": [
    {
     "name": "stdout",
     "output_type": "stream",
     "text": [
      "['o', 'a', 'u', 'a', 'u', 'o', 'e', 'a', 'e', 'o', 'a', 'a', 'e', 'e', 'a', 'e', 'o', 'o', 'o', 'e', 'i', 'o']\n"
     ]
    }
   ],
   "source": [
    "# Find a set of characters (discrete)\n",
    "pattern = r'[aeiou]'\n",
    "# Use re.findall() to locate all instances of the pattern\n",
    "result =  re.findall(pattern, text)\n",
    "# Print the result\n",
    "print(result)"
   ]
  },
  {
   "cell_type": "code",
   "execution_count": 5,
   "id": "7bb3ccdc-b447-4d32-8797-86f80c55d149",
   "metadata": {},
   "outputs": [
    {
     "name": "stdout",
     "output_type": "stream",
     "text": [
      "['c', 'e', 'e', 'c', 'd', 'e', 'e', 'e', 'c', 'f', 'e', 'f']\n"
     ]
    }
   ],
   "source": [
    "# Find a set of characters (continuous)\n",
    "pattern = r'[c-f]'\n",
    "# Use re.findall() to locate all instances of the pattern\n",
    "result =  re.findall(pattern, text)\n",
    "# Print the result\n",
    "print(result)"
   ]
  },
  {
   "cell_type": "code",
   "execution_count": 8,
   "id": "7e7eb66e-cd1b-4acf-91d5-b9883e757c93",
   "metadata": {},
   "outputs": [
    {
     "name": "stdout",
     "output_type": "stream",
     "text": [
      "['C', 'u', 'a', 's', 'e', 'c', 'a', 's', 'e', 'c', 'f', 'm', 'i']\n"
     ]
    }
   ],
   "source": [
    "# Find a character at the beginning of a word\n",
    "pattern = r'\\b[A-Za-z]'\n",
    "# Use re.findall() to locate all instances of the pattern\n",
    "result =  re.findall(pattern, text)\n",
    "# Print the result\n",
    "print(result)"
   ]
  },
  {
   "cell_type": "code",
   "execution_count": 9,
   "id": "2463f0ef-4761-4f9d-b1ef-7ff58ba51012",
   "metadata": {},
   "outputs": [
    {
     "name": "stdout",
     "output_type": "stream",
     "text": [
      "['C', 'u', 'a', 's', 'e', '.', 'c', 'a', 's', 'e', '.', 'c', 'f', 'm', 'i', '.']\n"
     ]
    }
   ],
   "source": [
    "# Define the pattern\n",
    "pattern = r'\\b[A-Za-z._%+-]'\n",
    "# Use re.findall() to locate all instances of the pattern\n",
    "result =  re.findall(pattern, text)\n",
    "# Print the result\n",
    "print(result)"
   ]
  },
  {
   "cell_type": "code",
   "execution_count": 10,
   "id": "e13b6c52-5d1f-4dfc-ba71-358d538ab1f4",
   "metadata": {},
   "outputs": [
    {
     "name": "stdout",
     "output_type": "stream",
     "text": [
      "['Contact', 'us', 'at', 'support', 'example.com', 'and', 'sales', 'example', '.com', 'for', 'more', 'info.']\n"
     ]
    }
   ],
   "source": [
    "# Using the + sign for unlimited occurrences\n",
    "pattern = r'\\b[A-Za-z._%+-]+'\n",
    "# Use re.findall() to locate all instances of the pattern\n",
    "result =  re.findall(pattern, text)\n",
    "# Print the result\n",
    "print(result)"
   ]
  },
  {
   "cell_type": "code",
   "execution_count": 11,
   "id": "88620710-d4d6-46ae-9284-e70f640007d6",
   "metadata": {},
   "outputs": [
    {
     "name": "stdout",
     "output_type": "stream",
     "text": [
      "['support@', 'sales@']\n"
     ]
    }
   ],
   "source": [
    "# Finding text with @ in the middle\n",
    "pattern = r'\\b[A-Za-z]+@'\n",
    "# Use re.findall() to locate all instances of the pattern\n",
    "result =  re.findall(pattern, text)\n",
    "# Print the result\n",
    "print(result)"
   ]
  },
  {
   "cell_type": "code",
   "execution_count": 12,
   "id": "906d2291-1f8c-45e2-9e0f-4b02102c8323",
   "metadata": {},
   "outputs": [
    {
     "name": "stdout",
     "output_type": "stream",
     "text": [
      "['support@example.com', 'sales@example2.com']\n"
     ]
    }
   ],
   "source": [
    "# Define the pattern\n",
    "pattern = r'\\b[A-Za-z._%+-]+@[A-Za-z0-9.-]+'\n",
    "# Use re.findall() to locate all instances of the pattern\n",
    "result =  re.findall(pattern, text)\n",
    "# Print the result\n",
    "print(result)"
   ]
  },
  {
   "cell_type": "code",
   "execution_count": 13,
   "id": "35a3e784-a257-411c-8b13-2d947b9a088f",
   "metadata": {},
   "outputs": [],
   "source": [
    "# Sample text with improper email and non-email \"@\"\n",
    "text = \"Contact us at support@example.com and sales@example2.com and help@tech for more info. We look forward to seeing you@5pm!\""
   ]
  },
  {
   "cell_type": "code",
   "execution_count": 14,
   "id": "69af73bc-5a70-428c-9aec-0d4342f75b8d",
   "metadata": {},
   "outputs": [
    {
     "name": "stdout",
     "output_type": "stream",
     "text": [
      "['support@example.com', 'sales@example2.com', 'help@tech', 'you@5pm']\n"
     ]
    }
   ],
   "source": [
    "# Define the pattern\n",
    "pattern = r'\\b[A-Za-z._%+-]+@[A-Za-z0-9.-]+'\n",
    "# Use re.findall() to locate all instances of the pattern\n",
    "result =  re.findall(pattern, text)\n",
    "# Print the result\n",
    "print(result)"
   ]
  },
  {
   "cell_type": "code",
   "execution_count": 15,
   "id": "d668047a-f385-4555-b612-4014b31defd2",
   "metadata": {},
   "outputs": [
    {
     "name": "stdout",
     "output_type": "stream",
     "text": [
      "['support@example.', 'sales@example2.']\n"
     ]
    }
   ],
   "source": [
    "# Define the pattern\n",
    "pattern = r'\\b[A-Za-z._%+-]+@[A-Za-z0-9.-]+\\.'\n",
    "# Use re.findall() to locate all instances of the pattern\n",
    "result =  re.findall(pattern, text)\n",
    "# Print the result\n",
    "print(result)"
   ]
  },
  {
   "cell_type": "code",
   "execution_count": 16,
   "id": "d1cedb00-9e52-48fd-9f3b-21345b2f82ed",
   "metadata": {},
   "outputs": [
    {
     "name": "stdout",
     "output_type": "stream",
     "text": [
      "['support@example.com', 'sales@example2.com']\n"
     ]
    }
   ],
   "source": [
    "# Define the pattern\n",
    "pattern = r'\\b[A-Za-z._%+-]+@[A-Za-z0-9.-]+\\.[A-Za-z]+'\n",
    "# Use re.findall() to locate all instances of the pattern\n",
    "result =  re.findall(pattern, text)\n",
    "# Print the result\n",
    "print(result)"
   ]
  },
  {
   "cell_type": "code",
   "execution_count": 18,
   "id": "083cf5de-ab05-43e2-9715-6443668f2ab1",
   "metadata": {},
   "outputs": [],
   "source": [
    "# Specifying the number or range of occurrences\n",
    "\n",
    "# Valid and invalid emails\n",
    "email_test = 'ninja@codingdojo.com, ninjacodingdojo.com, ninja@codingdojo, ninja@codingdojo.y'"
   ]
  },
  {
   "cell_type": "code",
   "execution_count": 19,
   "id": "28ffc03b-f2ab-4eb7-964c-63a1dc31dec6",
   "metadata": {},
   "outputs": [
    {
     "name": "stdout",
     "output_type": "stream",
     "text": [
      "['ninja@codingdojo.com', 'ninja@codingdojo.y']\n"
     ]
    }
   ],
   "source": [
    "# Define the pattern\n",
    "pattern = r'\\b[A-Za-z._%+-]+@[A-Za-z0-9.-]+\\.[A-Za-z]+'\n",
    "# Use re.findall() to locate all instances of the pattern\n",
    "result =  re.findall(pattern, email_test)\n",
    "# Print the result\n",
    "print(result)"
   ]
  },
  {
   "cell_type": "code",
   "execution_count": 20,
   "id": "ea8ae674-9f3b-4bdb-81f4-c1edef8f2b7b",
   "metadata": {},
   "outputs": [
    {
     "name": "stdout",
     "output_type": "stream",
     "text": [
      "['ninja@codingdojo.com']\n"
     ]
    }
   ],
   "source": [
    "# Define the pattern\n",
    "pattern = r'\\b[A-Za-z._%+-]+@[A-Za-z0-9.-]+\\.[A-Za-z]{2,4}'\n",
    "# Use re.findall() to locate all instances of the pattern\n",
    "result =  re.findall(pattern, email_test)\n",
    "# Print the result\n",
    "print(result)"
   ]
  }
 ],
 "metadata": {
  "kernelspec": {
   "display_name": "Python (dojo-env)",
   "language": "python",
   "name": "dojo-env"
  },
  "language_info": {
   "codemirror_mode": {
    "name": "ipython",
    "version": 3
   },
   "file_extension": ".py",
   "mimetype": "text/x-python",
   "name": "python",
   "nbconvert_exporter": "python",
   "pygments_lexer": "ipython3",
   "version": "3.10.10"
  }
 },
 "nbformat": 4,
 "nbformat_minor": 5
}
