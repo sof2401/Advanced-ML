{
 "cells": [
  {
   "cell_type": "code",
   "execution_count": 1,
   "id": "6c754563-cbf1-4f06-a6bf-9808943e7bf0",
   "metadata": {},
   "outputs": [
    {
     "data": {
      "text/plain": [
       "'hello, world!'"
      ]
     },
     "execution_count": 1,
     "metadata": {},
     "output_type": "execute_result"
    }
   ],
   "source": [
    "# Example .lower()\n",
    "text = \"Hello, World!\"\n",
    "lower_text = text.lower()\n",
    "lower_text"
   ]
  },
  {
   "cell_type": "code",
   "execution_count": 2,
   "id": "2de9c8db-ffdc-4994-b03b-b89f5c562d5e",
   "metadata": {},
   "outputs": [
    {
     "data": {
      "text/plain": [
       "'HELLO, WORLD!'"
      ]
     },
     "execution_count": 2,
     "metadata": {},
     "output_type": "execute_result"
    }
   ],
   "source": [
    "# Example .upper()\n",
    "text = \"Hello, World!\"\n",
    "upper_text = text.upper()\n",
    "upper_text"
   ]
  },
  {
   "cell_type": "code",
   "execution_count": 3,
   "id": "c05379fb-e366-4b9c-821f-1e5d61e62f1d",
   "metadata": {},
   "outputs": [
    {
     "data": {
      "text/plain": [
       "'extra spaces'"
      ]
     },
     "execution_count": 3,
     "metadata": {},
     "output_type": "execute_result"
    }
   ],
   "source": [
    "# Example .strip() to remove whitespace\n",
    "text = \"  extra spaces  \"\n",
    "stripped_text = text.strip()\n",
    "stripped_text"
   ]
  },
  {
   "cell_type": "code",
   "execution_count": 4,
   "id": "3d4123e7-aedb-45df-a01d-49c2146423cf",
   "metadata": {},
   "outputs": [
    {
     "data": {
      "text/plain": [
       "'  extra spaces'"
      ]
     },
     "execution_count": 4,
     "metadata": {},
     "output_type": "execute_result"
    }
   ],
   "source": [
    "# Example .strip() to remove a string\n",
    "text = \"  extra spaces!?!?\"\n",
    "stripped_text = text.strip(\"!?!?\")\n",
    "stripped_text"
   ]
  },
  {
   "cell_type": "code",
   "execution_count": 5,
   "id": "f46db5b4-cdca-4783-8bc7-6eaa85e0c371",
   "metadata": {},
   "outputs": [
    {
     "data": {
      "text/plain": [
       "['apple,', 'orange,', 'and', 'banana']"
      ]
     },
     "execution_count": 5,
     "metadata": {},
     "output_type": "execute_result"
    }
   ],
   "source": [
    "# Example .split() on whitespaces\n",
    "text = \"apple, orange, and banana\"\n",
    "split_text = text.split()\n",
    "split_text"
   ]
  },
  {
   "cell_type": "code",
   "execution_count": 6,
   "id": "ee705ae3-e416-4dd6-9949-605bae87fe44",
   "metadata": {},
   "outputs": [
    {
     "data": {
      "text/plain": [
       "['apple', ' orange', ' and banana']"
      ]
     },
     "execution_count": 6,
     "metadata": {},
     "output_type": "execute_result"
    }
   ],
   "source": [
    "# Example .split() on whitespaces\n",
    "text = \"apple, orange, and banana\"\n",
    "split_text = text.split(\",\")\n",
    "split_text"
   ]
  },
  {
   "cell_type": "code",
   "execution_count": 7,
   "id": "941ef730-2c0a-4c28-9cf4-72a9155abf57",
   "metadata": {},
   "outputs": [
    {
     "data": {
      "text/plain": [
       "'apple, orange, banana'"
      ]
     },
     "execution_count": 7,
     "metadata": {},
     "output_type": "execute_result"
    }
   ],
   "source": [
    "# Example .join()\n",
    "words = ['apple', 'orange', 'banana']\n",
    "joined_text = \", \".join(words)\n",
    "joined_text"
   ]
  },
  {
   "cell_type": "code",
   "execution_count": 8,
   "id": "33727d0b-5cf8-4de4-9af0-93561eb22312",
   "metadata": {},
   "outputs": [
    {
     "data": {
      "text/plain": [
       "'I like oranges.'"
      ]
     },
     "execution_count": 8,
     "metadata": {},
     "output_type": "execute_result"
    }
   ],
   "source": [
    "# Example .replace()\n",
    "text = \"I like apples.\"\n",
    "new_text = text.replace(\"apples\", \"oranges\")\n",
    "new_text"
   ]
  },
  {
   "cell_type": "code",
   "execution_count": 9,
   "id": "9f7eebbf-c7b5-43e1-89e4-f175ae349188",
   "metadata": {},
   "outputs": [
    {
     "data": {
      "text/plain": [
       "True"
      ]
     },
     "execution_count": 9,
     "metadata": {},
     "output_type": "execute_result"
    }
   ],
   "source": [
    "# Example .startswith()\n",
    "text = \"Hello, World!\"\n",
    "starts_with = text.startswith(\"Hello\")\n",
    "starts_with"
   ]
  },
  {
   "cell_type": "code",
   "execution_count": 10,
   "id": "a04e00f1-985e-4bca-a678-978b85dbb31c",
   "metadata": {},
   "outputs": [
    {
     "data": {
      "text/plain": [
       "True"
      ]
     },
     "execution_count": 10,
     "metadata": {},
     "output_type": "execute_result"
    }
   ],
   "source": [
    "# Example .endswith()\n",
    "text = \"Hello, World!\"\n",
    "ends_with = text.endswith(\"World!\")\n",
    "ends_with"
   ]
  },
  {
   "cell_type": "code",
   "execution_count": null,
   "id": "15324d41-224d-4c65-8f08-96cdd3570ea1",
   "metadata": {},
   "outputs": [],
   "source": []
  }
 ],
 "metadata": {
  "kernelspec": {
   "display_name": "Python (dojo-env)",
   "language": "python",
   "name": "dojo-env"
  },
  "language_info": {
   "codemirror_mode": {
    "name": "ipython",
    "version": 3
   },
   "file_extension": ".py",
   "mimetype": "text/x-python",
   "name": "python",
   "nbconvert_exporter": "python",
   "pygments_lexer": "ipython3",
   "version": "3.10.10"
  }
 },
 "nbformat": 4,
 "nbformat_minor": 5
}
