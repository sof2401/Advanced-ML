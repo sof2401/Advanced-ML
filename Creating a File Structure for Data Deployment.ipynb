{
 "cells": [
  {
   "cell_type": "code",
   "execution_count": 1,
   "id": "f66b894d-5a0d-4b4a-8c5c-74e5341ea6de",
   "metadata": {},
   "outputs": [
    {
     "name": "stdout",
     "output_type": "stream",
     "text": [
      "{'data': {'ml': {'test': 'data/testing-data.joblib',\n",
      "                 'train': 'data/training-data.joblib'},\n",
      "          'raw': {'eda': 'data/ames-housing-dojo-for-ml-eda.csv',\n",
      "                  'full': 'data/ames-housing-dojo-for-ml.csv'}},\n",
      " 'images': {'banner': 'images/app-banner.png'},\n",
      " 'models': {'linear_regression': 'models/linear_regression/linreg.joblib',\n",
      "            'random_forest': 'models/random_forest/rf_reg.joblib'}}\n"
     ]
    }
   ],
   "source": [
    "from pprint import pprint\n",
    "FPATHS = dict(\n",
    "    data={\n",
    "        \"raw\": {\n",
    "            \"full\": \"data/ames-housing-dojo-for-ml.csv\",  # (This is the original full dataframe we already have)\n",
    "            \"eda\": \"data/ames-housing-dojo-for-ml-eda.csv\" # We haven't saved this yet\n",
    "        },\n",
    "        \"ml\": {\n",
    "            \"train\": \"data/training-data.joblib\",  # (X_train,y_train) We haven't saved this yet\n",
    "            \"test\": \"data/testing-data.joblib\",  # (X_test,y_test) We haven't saved this yet\n",
    "        },\n",
    "    },\n",
    "    models={\n",
    "        \"linear_regression\": \"models/linear_regression/linreg.joblib\", # We haven't saved this yet\n",
    "        \"random_forest\": \"models/random_forest/rf_reg.joblib\", # We haven't saved this yet\n",
    "    },\n",
    "    images={\n",
    "        \"banner\": \"images/app-banner.png\", # We haven't saved this yet\n",
    "    },\n",
    ")\n",
    "pprint(FPATHS)"
   ]
  },
  {
   "cell_type": "code",
   "execution_count": 3,
   "id": "76cee8ee-87f2-479f-b385-12cb11c0faf8",
   "metadata": {},
   "outputs": [],
   "source": [
    "## Save the filepaths \n",
    "import os, json\n",
    "os.makedirs('config/', exist_ok=True)\n",
    "FPATHS_FILE = 'config/filepaths.json'\n",
    "with open(FPATHS_FILE, 'w') as f:\n",
    "    json.dump(FPATHS, f)"
   ]
  },
  {
   "cell_type": "code",
   "execution_count": 4,
   "id": "3734f341-8390-4665-8b19-e47a02413614",
   "metadata": {},
   "outputs": [
    {
     "name": "stdout",
     "output_type": "stream",
     "text": [
      "Directory created: models/linear_regression\n",
      "Directory created: models/random_forest\n",
      "Directory created: images\n"
     ]
    }
   ],
   "source": [
    "import os\n",
    "def create_directories_from_paths(nested_dict):\n",
    "    \"\"\"OpenAI. (2023). ChatGPT [Large language model]. https://chat.openai.com \n",
    "    Recursively create directories for file paths in a nested dictionary.\n",
    "    Parameters:\n",
    "    nested_dict (dict): The nested dictionary containing file paths.\n",
    "    \"\"\"\n",
    "    for key, value in nested_dict.items():\n",
    "        if isinstance(value, dict):\n",
    "            # If the value is a dictionary, recurse into it\n",
    "            create_directories_from_paths(value)\n",
    "        elif isinstance(value, str):\n",
    "            # If the value is a string, treat it as a file path and get the directory path\n",
    "            directory_path = os.path.dirname(value)\n",
    "            # If the directory path is not empty and the directory does not exist, create it\n",
    "            if directory_path and not os.path.exists(directory_path):\n",
    "                os.makedirs(directory_path)\n",
    "                print(f\"Directory created: {directory_path}\")\n",
    "\n",
    "# Use the function on your FPATHS dictionary\n",
    "create_directories_from_paths(FPATHS)"
   ]
  },
  {
   "cell_type": "code",
   "execution_count": 5,
   "id": "5489b318-16bf-4a69-ab7e-0fad5a043fd8",
   "metadata": {},
   "outputs": [
    {
     "data": {
      "text/plain": [
       "'data/ames-housing-dojo-for-ml.csv'"
      ]
     },
     "execution_count": 5,
     "metadata": {},
     "output_type": "execute_result"
    }
   ],
   "source": [
    "# We can access a file using our dictionary\n",
    "FPATHS['data']['raw']['full']"
   ]
  },
  {
   "cell_type": "code",
   "execution_count": 6,
   "id": "71e8ccc6-a592-4bc9-9249-a7f4bd6a58dc",
   "metadata": {},
   "outputs": [
    {
     "data": {
      "text/plain": [
       "'models/random_forest/rf_reg.joblib'"
      ]
     },
     "execution_count": 6,
     "metadata": {},
     "output_type": "execute_result"
    }
   ],
   "source": [
    "# We can access a file using our dictionary\n",
    "FPATHS['models']['random_forest']"
   ]
  },
  {
   "cell_type": "code",
   "execution_count": 8,
   "id": "b26292b7-2e80-48ce-b31d-c9859743642b",
   "metadata": {},
   "outputs": [
    {
     "data": {
      "text/markdown": [
       "<img src='images/app-banner.png'>"
      ],
      "text/plain": [
       "<IPython.core.display.Markdown object>"
      ]
     },
     "execution_count": 8,
     "metadata": {},
     "output_type": "execute_result"
    }
   ],
   "source": [
    "# Confirm the images is in the correct location\n",
    "from IPython.display import display, Markdown\n",
    "Markdown(f\"<img src='{FPATHS['images']['banner']}'>\")"
   ]
  },
  {
   "cell_type": "code",
   "execution_count": null,
   "id": "9f433e0f-5336-41c9-a8d1-46124a228553",
   "metadata": {},
   "outputs": [],
   "source": []
  }
 ],
 "metadata": {
  "kernelspec": {
   "display_name": "Python (dojo-env)",
   "language": "python",
   "name": "dojo-env"
  },
  "language_info": {
   "codemirror_mode": {
    "name": "ipython",
    "version": 3
   },
   "file_extension": ".py",
   "mimetype": "text/x-python",
   "name": "python",
   "nbconvert_exporter": "python",
   "pygments_lexer": "ipython3",
   "version": "3.10.10"
  }
 },
 "nbformat": 4,
 "nbformat_minor": 5
}
